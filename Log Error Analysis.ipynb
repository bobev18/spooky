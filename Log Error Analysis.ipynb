{
 "cells": [
  {
   "cell_type": "raw",
   "metadata": {
    "raw_mimetype": "text/html"
   },
   "source": [
    "<script>\n",
    "  function code_toggle() {\n",
    "    if (code_shown){\n",
    "      $('div.input').hide('500');\n",
    "      $('#toggleButton').val('Show Code')\n",
    "    } else {\n",
    "      $('div.input').show('500');\n",
    "      $('#toggleButton').val('Hide Code')\n",
    "    }\n",
    "    code_shown = !code_shown\n",
    "  }\n",
    "\n",
    "  $( document ).ready(function(){\n",
    "    code_shown=false;\n",
    "    $('div.input').hide()\n",
    "  });\n",
    "</script>\n",
    "<form action=\"javascript:code_toggle()\"><input type=\"submit\" id=\"toggleButton\" value=\"Show Code\"></form>"
   ]
  },
  {
   "cell_type": "code",
   "execution_count": 1,
   "metadata": {
    "collapsed": false
   },
   "outputs": [
    {
     "name": "stdout",
     "output_type": "stream",
     "text": [
      "found 1 log files:  ['LocalInjectorCOBAPPSTS03_0.log.1']\n"
     ]
    }
   ],
   "source": [
    "import re, os\n",
    "from logerror import TestError\n",
    "\n",
    "root_folder = \"D:/temp/Performance_Test_Browser-09_40_07.oct.2017\"\n",
    "root_folder = \"D:/temp/Performance_Test_Merged_Mobile-13_31_07.oct.2017\"\n",
    "root_folder = \"/mnt/d/temp/Performance_Test_Merged_Mobile-13_31_07.oct.2017\"\n",
    "\n",
    "test_folder = root_folder #+ '/' + location\n",
    "files = [ f for f in os.listdir(test_folder) if os.path.isfile(os.path.join(test_folder,f)) and f.find('.log.1')>0 ]\n",
    "\n",
    "# print('for ', location, 'found log files: ', files)\n",
    "print('found', len(files), 'log files: ', files)"
   ]
  },
  {
   "cell_type": "code",
   "execution_count": 2,
   "metadata": {
    "collapsed": false
   },
   "outputs": [
    {
     "name": "stdout",
     "output_type": "stream",
     "text": [
      "processing file:  /mnt/d/temp/Performance_Test_Merged_Mobile-13_31_07.oct.2017/LocalInjectorCOBAPPSTS03_0.log.1\n",
      "severe count: 30\n"
     ]
    }
   ],
   "source": [
    "FNAME = \"LocalInjectorCOBAPPSTS03_0.log.1\"\n",
    "print('processing file: ', test_folder + '/' + FNAME)\n",
    "\n",
    "with open(test_folder + '/' + FNAME,'r') as f:\n",
    "    alllog = f.read()\n",
    "\n",
    "errorlog = re.findall(r'(?<=\\n).+?\\[SEVERE\\].+?id \\d+?,[\\w\\s]+?\\):.+?(?=\\n)', alllog)\n",
    "print('severe count:', len(errorlog))"
   ]
  },
  {
   "cell_type": "code",
   "execution_count": 3,
   "metadata": {
    "collapsed": false
   },
   "outputs": [
    {
     "name": "stdout",
     "output_type": "stream",
     "text": [
      "errors: 30\n"
     ]
    }
   ],
   "source": [
    "errors = []\n",
    "vusers = {}\n",
    "for err in errorlog:\n",
    "    time = err[:20]\n",
    "    usr = re.search(r'user.(\\d+?),.cycle', err)\n",
    "    user = usr.group(1)\n",
    "    user = str(user).rjust(4,'0')\n",
    "    cyc = re.search(r'cycle.(\\d+?),.step', err)\n",
    "    cycle = cyc.group(1)\n",
    "    stp = re.search(r'step\\s+?(.+?),\\s+?id', err)\n",
    "    step = stp.group(1)\n",
    "    errtype = re.search(r'status.(.+?)\\)', err)\n",
    "    error_type = errtype.group(1)\n",
    "    message = err[err.find('):'):]\n",
    "    new_record = TestError(time, user, cycle, step, error_type, message, test_folder)\n",
    "    errors.append(new_record)\n",
    "    if user in vusers.keys():\n",
    "        vusers[user].append(new_record)\n",
    "    else:\n",
    "        vusers[user] = [new_record]\n",
    "\n",
    "print('errors:', len(errors))\n"
   ]
  },
  {
   "cell_type": "code",
   "execution_count": 4,
   "metadata": {
    "collapsed": false
   },
   "outputs": [
    {
     "name": "stdout",
     "output_type": "stream",
     "text": [
      ">> user, i, e.time, e.cycleid, e.errortype, etype, \n",
      "erroring users 17\n",
      "\n",
      "user 0001 err count: 2\n",
      "~~ 7-7\n",
      "\n",
      "user 0002 err count: 1\n",
      "\n",
      "user 0003 err count: 2\n",
      "~~ 20-20\n",
      "\n",
      "user 0004 err count: 3\n",
      "~~ 6-6;9-9\n",
      "\n",
      "user 0005 err count: 3\n",
      "~~ 12-13\n",
      "\n",
      "user 0006 err count: 2\n",
      "~~ 3-3\n",
      "\n",
      "user 0007 err count: 2\n",
      "~~ 0-0\n",
      "\n",
      "user 0008 err count: 1\n",
      "\n",
      "user 0009 err count: 1\n",
      "\n",
      "user 0010 err count: 4\n",
      "~~ 1-2;3-3\n",
      "\n",
      "user 0011 err count: 1\n",
      "\n",
      "user 0012 err count: 2\n",
      "~~ 4-4\n",
      "\n",
      "user 0013 err count: 2\n",
      "~~ 3-3\n",
      "\n",
      "user 0014 err count: 1\n",
      "\n",
      "user 0016 err count: 1\n",
      "\n",
      "user 0017 err count: 1\n",
      "\n",
      "user 0019 err count: 1\n",
      "\n",
      "88888888888888888888888888888888888888888888888888888888888888888888888888888888\n",
      "e.time, user, e.cycleid, e.errortype, e.cause\n",
      "07/10/2017 13:45:27  ; 0001 ; 7 ; Success Validation Failure     ; response lacks confirmation of recordid ; 2 ; \n",
      "07/10/2017 13:51:10  ; 0002 ; 9 ; Success Validation Failure     ; response lacks confirmation of recordid ; 1 ; \n",
      "07/10/2017 14:26:53  ; 0003 ; 20 ; Success Validation Failure     ; response lacks confirmation of recordid ; 2 ; \n",
      "07/10/2017 13:51:10  ; 0004 ; 6 ; Success Validation Failure     ; response lacks confirmation of recordid ; 3 ; \n",
      "07/10/2017 14:05:00  ; 0005 ; 12 ; Success Validation Failure     ; response lacks confirmation of recordid ; 3 ; \n",
      "07/10/2017 13:50:41  ; 0006 ; 3 ; Success Validation Failure     ; response lacks confirmation of recordid ; 2 ; \n",
      "07/10/2017 13:48:01  ; 0007 ; 0 ; Success Validation Failure     ; response lacks confirmation of recordid ; 2 ; \n",
      "07/10/2017 13:54:44  ; 0008 ; 3 ; Success Validation Failure     ; response lacks confirmation of recordid ; 1 ; \n",
      "07/10/2017 13:53:48  ; 0009 ; 1 ; Success Validation Failure     ; response lacks confirmation of recordid ; 1 ; \n",
      "07/10/2017 13:56:17  ; 0010 ; 1 ; Success Validation Failure     ; response lacks confirmation of recordid ; 4 ; \n",
      "07/10/2017 14:26:57  ; 0011 ; 13 ; 500                            ; 500 ; 1 ; \n",
      "07/10/2017 14:09:21  ; 0012 ; 4 ; Success Validation Failure     ; response lacks confirmation of recordid ; 2 ; \n",
      "07/10/2017 14:18:20  ; 0013 ; 3 ; Success Validation Failure     ; response lacks confirmation of recordid ; 2 ; \n",
      "07/10/2017 14:08:03  ; 0014 ; 1 ; Success Validation Failure     ; response lacks confirmation of recordid ; 1 ; \n",
      "07/10/2017 14:30:43  ; 0016 ; 8 ; Success Validation Failure     ; response lacks confirmation of recordid ; 1 ; \n",
      "07/10/2017 14:18:20  ; 0017 ; 3 ; Success Validation Failure     ; response lacks confirmation of recordid ; 1 ; \n",
      "07/10/2017 14:18:26  ; 0019 ; 2 ; 500                            ; 500 ; 1 ; \n",
      "count of erroring users: 17\n",
      "cause 500 has count 2\n",
      "cause response lacks confirmation of recordid has count 15\n"
     ]
    }
   ],
   "source": [
    "sorted_keys = sorted(vusers.keys())\n",
    "print(\">> user, i, e.time, e.cycleid, e.errortype, etype, \")\n",
    "print('erroring users', len(sorted_keys))\n",
    "for user in sorted_keys:\n",
    "    print('\\nuser ' + user + ' err count:', len(vusers[user]))\n",
    "    prior_cyc_index = -1\n",
    "    consecutive_count = 0\n",
    "    consecutivness = ''\n",
    "    for i in range(len(vusers[user])-1,-1,-1):\n",
    "        e = vusers[user][i]\n",
    "        try:\n",
    "            etype = e.validation\n",
    "        except AttributeError:\n",
    "            try:\n",
    "                etype = e.dditem\n",
    "            except AttributeError:\n",
    "                etype = '!!!!!!!!!!!!!!!!!!!!!!!!!!!!!!'\n",
    "\n",
    "        # print('pre: cyc', e.cycleid, ' prior', prior_cyc_index, ' consecutive_count', consecutive_count, 'consecutivness', consecutivness )\n",
    "        # determine consecutivness\n",
    "        if prior_cyc_index == -1:\n",
    "            prior_cyc_index = int(e.cycleid)\n",
    "        else:\n",
    "            if prior_cyc_index - int(e.cycleid) <= 1 and i != 0:\n",
    "                consecutive_count += 1\n",
    "                prior_cyc_index = int(e.cycleid)\n",
    "            else:\n",
    "                consecutivness = ';' + str(e.cycleid) + '-' + str(int(e.cycleid) + consecutive_count) + consecutivness\n",
    "                consecutive_count = 0\n",
    "                prior_cyc_index = int(e.cycleid)\n",
    "        cause = e.determine_casuse()\n",
    "    if len(consecutivness):\n",
    "        print('~~', consecutivness[1:])\n",
    "\n",
    "print(end='\\n')\n",
    "print('8'*80)\n",
    "print(\"e.time, user, e.cycleid, e.errortype, e.cause\")\n",
    "causes = {}\n",
    "\n",
    "\n",
    "\n",
    "for user in sorted_keys:\n",
    "    e = vusers[user][0]\n",
    "    print(e.time, user, e.cycleid, e.errortype.ljust(30), e.cause, len(vusers[user]), sep=' ; ', end=' ; ')\n",
    "    if e.cause in ['Warning Message', 'Question Message', 'dynamic response']:\n",
    "        print(e.cause_message, sep=' ; ')\n",
    "    else:\n",
    "        print()\n",
    "    if e.cause in causes.keys():\n",
    "        causes[e.cause] += 1\n",
    "    else:\n",
    "        causes[e.cause] = 1\n",
    "\n",
    "print('count of erroring users:', len(sorted_keys))\n",
    "for k,v in causes.items():\n",
    "    print('cause', k, 'has count', v)\n"
   ]
  }
 ],
 "metadata": {
  "anaconda-cloud": {},
  "celltoolbar": "Raw Cell Format",
  "kernelspec": {
   "display_name": "Python [Root]",
   "language": "python",
   "name": "Python [Root]"
  },
  "language_info": {
   "codemirror_mode": {
    "name": "ipython",
    "version": 3
   },
   "file_extension": ".py",
   "mimetype": "text/x-python",
   "name": "python",
   "nbconvert_exporter": "python",
   "pygments_lexer": "ipython3",
   "version": "3.5.2"
  }
 },
 "nbformat": 4,
 "nbformat_minor": 0
}
