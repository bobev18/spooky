{
 "cells": [
  {
   "cell_type": "code",
   "execution_count": 2,
   "metadata": {
    "collapsed": true
   },
   "outputs": [],
   "source": [
    "import numpy as np\n",
    "import matplotlib.pyplot as plt\n",
    "import pandas as pd\n",
    "import mglearn\n",
    "from IPython.display import display\n",
    "\n",
    "#%matplotlib notebook\n",
    "\n",
    "import sklearn\n",
    "import matplotlib as mpl\n",
    "import seaborn as sns\n",
    "\n",
    "import re\n",
    "\n",
    "%matplotlib inline\n",
    "\n",
    "pd.options.display.max_rows = 10"
   ]
  },
  {
   "cell_type": "code",
   "execution_count": 3,
   "metadata": {
    "collapsed": false,
    "slideshow": {
     "slide_type": "slide"
    }
   },
   "outputs": [
    {
     "name": "stdout",
     "output_type": "stream",
     "text": [
      "(19579, 2) (8392, 1) (8392, 3)\n",
      "{'author'}\n"
     ]
    }
   ],
   "source": [
    "# Dataset\n",
    "\n",
    "# use this if in fmi-hw... repo\n",
    "# train = pd.read_csv(\"data/spooky/train.zip\", index_col=['id'])\n",
    "# test = pd.read_csv(\"data/spooky/test.zip\", index_col=['id'])\n",
    "# sample_submission = pd.read_csv(\"data/spooky/sample_submission.zip\", index_col=['id'])\n",
    "\n",
    "train = pd.read_csv(\"data/train.zip\", index_col=['id'])\n",
    "test = pd.read_csv(\"data/test.zip\", index_col=['id'])\n",
    "sample_submission = pd.read_csv(\"data/sample_submission.zip\", index_col=['id'])\n",
    "\n",
    "\n",
    "print(train.shape, test.shape, sample_submission.shape)\n",
    "print(set(train.columns) - set(test.columns))"
   ]
  },
  {
   "cell_type": "code",
   "execution_count": 4,
   "metadata": {
    "collapsed": false,
    "slideshow": {
     "slide_type": "slide"
    }
   },
   "outputs": [
    {
     "data": {
      "text/html": [
       "<div>\n",
       "<style scoped>\n",
       "    .dataframe tbody tr th:only-of-type {\n",
       "        vertical-align: middle;\n",
       "    }\n",
       "\n",
       "    .dataframe tbody tr th {\n",
       "        vertical-align: top;\n",
       "    }\n",
       "\n",
       "    .dataframe thead th {\n",
       "        text-align: right;\n",
       "    }\n",
       "</style>\n",
       "<table border=\"1\" class=\"dataframe\">\n",
       "  <thead>\n",
       "    <tr style=\"text-align: right;\">\n",
       "      <th></th>\n",
       "      <th>text</th>\n",
       "      <th>author</th>\n",
       "    </tr>\n",
       "    <tr>\n",
       "      <th>id</th>\n",
       "      <th></th>\n",
       "      <th></th>\n",
       "    </tr>\n",
       "  </thead>\n",
       "  <tbody>\n",
       "    <tr>\n",
       "      <th>id26305</th>\n",
       "      <td>This process, however, afforded me no means of...</td>\n",
       "      <td>EAP</td>\n",
       "    </tr>\n",
       "    <tr>\n",
       "      <th>id17569</th>\n",
       "      <td>It never once occurred to me that the fumbling...</td>\n",
       "      <td>HPL</td>\n",
       "    </tr>\n",
       "    <tr>\n",
       "      <th>id11008</th>\n",
       "      <td>In his left hand was a gold snuff box, from wh...</td>\n",
       "      <td>EAP</td>\n",
       "    </tr>\n",
       "    <tr>\n",
       "      <th>id27763</th>\n",
       "      <td>How lovely is spring As we looked from Windsor...</td>\n",
       "      <td>MWS</td>\n",
       "    </tr>\n",
       "    <tr>\n",
       "      <th>id12958</th>\n",
       "      <td>Finding nothing else, not even gold, the Super...</td>\n",
       "      <td>HPL</td>\n",
       "    </tr>\n",
       "  </tbody>\n",
       "</table>\n",
       "</div>"
      ],
      "text/plain": [
       "                                                      text author\n",
       "id                                                               \n",
       "id26305  This process, however, afforded me no means of...    EAP\n",
       "id17569  It never once occurred to me that the fumbling...    HPL\n",
       "id11008  In his left hand was a gold snuff box, from wh...    EAP\n",
       "id27763  How lovely is spring As we looked from Windsor...    MWS\n",
       "id12958  Finding nothing else, not even gold, the Super...    HPL"
      ]
     },
     "execution_count": 4,
     "metadata": {},
     "output_type": "execute_result"
    }
   ],
   "source": [
    "train.head(5)"
   ]
  },
  {
   "cell_type": "markdown",
   "metadata": {
    "slideshow": {
     "slide_type": "slide"
    }
   },
   "source": [
    "# Идеи за фичъри:\n",
    "    \n",
    "* CountVectorizer, Tfidf\n",
    "* Preprocessing - stop words, lematization\n",
    "* Други фичъри - бр. думи , бр. стоп думи, бр. пунктуация, бр. ГЛАВНИ букви и т.н.\n",
    "* Намиране на общи теми чрез LDA\n",
    "* Word Embeddings с невронни мрежи\n"
   ]
  },
  {
   "cell_type": "markdown",
   "metadata": {
    "slideshow": {
     "slide_type": "slide"
    }
   },
   "source": [
    "# Първо - baseline модел"
   ]
  },
  {
   "cell_type": "code",
   "execution_count": 5,
   "metadata": {
    "collapsed": true,
    "slideshow": {
     "slide_type": "skip"
    }
   },
   "outputs": [],
   "source": [
    "from sklearn.pipeline import Pipeline\n",
    "from sklearn.svm import LinearSVC\n",
    "from sklearn.feature_extraction.text import CountVectorizer\n",
    "from sklearn.model_selection import cross_val_score"
   ]
  },
  {
   "cell_type": "code",
   "execution_count": 6,
   "metadata": {
    "collapsed": false,
    "slideshow": {
     "slide_type": "slide"
    }
   },
   "outputs": [
    {
     "data": {
      "text/plain": [
       "array([ 0.78783701,  0.79635305,  0.79509579])"
      ]
     },
     "execution_count": 6,
     "metadata": {},
     "output_type": "execute_result"
    }
   ],
   "source": [
    "pipeline = Pipeline([\n",
    "    ('features', CountVectorizer()),\n",
    "    ('clf', LinearSVC())\n",
    "])\n",
    "\n",
    "cross_val_score(pipeline, train.text, train.author, cv=3, n_jobs=3)"
   ]
  },
  {
   "cell_type": "code",
   "execution_count": 7,
   "metadata": {
    "collapsed": false,
    "slideshow": {
     "slide_type": "slide"
    }
   },
   "outputs": [],
   "source": [
    "from sklearn.model_selection import cross_val_predict\n",
    "prediction = cross_val_predict(pipeline, train.text, train.author, cv=3, n_jobs=3)"
   ]
  },
  {
   "cell_type": "code",
   "execution_count": 8,
   "metadata": {
    "collapsed": true,
    "slideshow": {
     "slide_type": "skip"
    }
   },
   "outputs": [],
   "source": [
    "import itertools\n",
    "from sklearn.metrics import confusion_matrix, accuracy_score\n",
    "\n",
    "def plot_confusion_matrix(y_true, y_pred, classes,\n",
    "                          normalize=False,\n",
    "                          title='Confusion matrix',\n",
    "                          cmap=plt.cm.Blues,\n",
    "                          figsize=(9, 7)):\n",
    "    matrix = confusion_matrix(y_true, y_pred)\n",
    "\n",
    "    if normalize:\n",
    "        matrix = matrix.astype('float') / matrix.sum(axis=1)[:, np.newaxis]\n",
    "\n",
    "    plt.figure(figsize=figsize)\n",
    "    plt.imshow(matrix, interpolation='nearest', cmap=cmap)\n",
    "    plt.title(title)\n",
    "    plt.colorbar()\n",
    "\n",
    "    tick_marks = np.arange(len(classes))\n",
    "    plt.xticks(tick_marks, classes, rotation=45)\n",
    "    plt.yticks(tick_marks, classes)\n",
    "\n",
    "    fmt = '.2f' if normalize else 'd'\n",
    "    thresh = matrix.max() / 2.\n",
    "    for i, j in itertools.product(range(matrix.shape[0]), range(matrix.shape[1])):\n",
    "        plt.text(j, i, format(matrix[i, j], fmt),\n",
    "                 horizontalalignment=\"center\",\n",
    "                 size=int((figsize[0] / 10) * 38),\n",
    "                 color=\"white\" if matrix[i, j] > thresh else \"black\")\n",
    "\n",
    "    plt.tight_layout()\n",
    "    plt.ylabel('True label')\n",
    "    plt.xlabel('Predicted label')"
   ]
  },
  {
   "cell_type": "code",
   "execution_count": 9,
   "metadata": {
    "collapsed": false,
    "slideshow": {
     "slide_type": "slide"
    }
   },
   "outputs": [
    {
     "name": "stdout",
     "output_type": "stream",
     "text": [
      "0.793094642219\n"
     ]
    },
    {
     "data": {
      "image/png": "[encoded data removed]",
      "text/plain": [
       "<matplotlib.figure.Figure at 0x7f603fe06ef0>"
      ]
     },
     "metadata": {},
     "output_type": "display_data"
    }
   ],
   "source": [
    "pipeline.fit(train.text, train.author)\n",
    "authors = pipeline.classes_\n",
    "print(accuracy_score(train.author, prediction))\n",
    "plot_confusion_matrix(train.author, prediction, classes=authors)"
   ]
  },
  {
   "cell_type": "code",
   "execution_count": 10,
   "metadata": {
    "collapsed": false,
    "slideshow": {
     "slide_type": "slide"
    }
   },
   "outputs": [
    {
     "data": {
      "image/png": "[encoded data removed]",
      "text/plain": [
       "<matplotlib.figure.Figure at 0x7f603f585cf8>"
      ]
     },
     "metadata": {},
     "output_type": "display_data"
    }
   ],
   "source": [
    "plot_confusion_matrix(train.author, prediction, classes=authors, normalize=True)"
   ]
  },
  {
   "cell_type": "markdown",
   "metadata": {
    "slideshow": {
     "slide_type": "slide"
    }
   },
   "source": [
    "Да пробваме с RF"
   ]
  },
  {
   "cell_type": "code",
   "execution_count": 11,
   "metadata": {
    "collapsed": false,
    "slideshow": {
     "slide_type": "slide"
    }
   },
   "outputs": [],
   "source": [
    "from sklearn.ensemble import RandomForestClassifier\n",
    "pipeline = Pipeline([\n",
    "    ('features', CountVectorizer()),\n",
    "    ('clf', RandomForestClassifier())\n",
    "])\n",
    "\n",
    "# print(cross_val_score(pipeline, train.text, train.author, cv=3, n_jobs=3))\n",
    "# print(cross_val_score(pipeline, train.text, train.author, \n",
    "#                 cv=3, n_jobs=3, scoring='neg_log_loss'))"
   ]
  },
  {
   "cell_type": "markdown",
   "metadata": {},
   "source": [
    "[ 0.62300858  0.61798958  0.60551724]\n",
    "\n",
    "[-1.36418837 -1.38716468 -1.43783028]"
   ]
  },
  {
   "cell_type": "code",
   "execution_count": 12,
   "metadata": {
    "collapsed": false,
    "slideshow": {
     "slide_type": "slide"
    }
   },
   "outputs": [],
   "source": [
    "from sklearn.linear_model import LogisticRegression\n",
    "\n",
    "pipeline = Pipeline([\n",
    "    ('features', CountVectorizer()),\n",
    "    ('clf', LogisticRegression())\n",
    "])\n",
    "\n",
    "# print(cross_val_score(pipeline, train.text, train.author, cv=3, n_jobs=3))\n",
    "# print(cross_val_score(pipeline, train.text, train.author, cv=3, n_jobs=3, \n",
    "#                       scoring='neg_log_loss'))\n",
    "\n",
    "# Получихме малко по-добри резултати"
   ]
  },
  {
   "cell_type": "markdown",
   "metadata": {},
   "source": [
    "[ 0.81449142  0.81673307  0.81348659]\n",
    "\n",
    "[-0.47678328 -0.47558895 -0.47131481]"
   ]
  },
  {
   "cell_type": "markdown",
   "metadata": {},
   "source": [
    "Следващото е за да имаме \"explore\" датасет"
   ]
  },
  {
   "cell_type": "code",
   "execution_count": 13,
   "metadata": {
    "collapsed": true
   },
   "outputs": [],
   "source": [
    "explore = train.copy()"
   ]
  },
  {
   "cell_type": "code",
   "execution_count": 14,
   "metadata": {
    "collapsed": true
   },
   "outputs": [],
   "source": [
    "# # бр. думи в текста\n",
    "# explore['words'] = explore.text.apply(lambda s: len(str(s).split()))\n",
    "\n",
    "# # бр. уникални думи\n",
    "# explore['unique_words'] = explore.text.apply(lambda s: len(set(str(s).split())))\n",
    "\n",
    "# # бр. символи\n",
    "# explore['symbols'] = explore.text.str.len()\n",
    "\n",
    "# # бр. уникални символи\n",
    "# explore['unique_symbols'] = explore.text.apply(lambda s: len(set(str(s))))\n",
    "\n",
    "# import string\n",
    "\n",
    "# # бр. главни букви\n",
    "# explore['capital_letters'] = explore.text.apply(lambda s: sum([str.isupper(c) for c in str(s)]))\n",
    "\n",
    "# # бр. на думи съдържащи само главни буква\n",
    "# explore['only_capital_letter_words'] = explore.text.apply(lambda s: sum([str.isupper(w) for w in str(s).split()]))\n",
    "\n",
    "# # средна дължина на дума\n",
    "# explore['average_word_lenght'] = explore.text.apply(lambda s: np.mean([len(w) for w in str(s).split()]))\n",
    "\n",
    "# # бр. цифрите\n",
    "# explore['digits'] = explore.text.apply(lambda s: sum([str.isdigit(c) for c in str(s)]))\n",
    "\n",
    "# # бр. на препинателни знаци\n",
    "# explore[\"punctuation\"] = train.text.apply(lambda s: sum([c in string.punctuation for c in str(s)]) )"
   ]
  },
  {
   "cell_type": "code",
   "execution_count": 17,
   "metadata": {
    "collapsed": false
   },
   "outputs": [],
   "source": [
    "import nltk\n",
    "# nltk.download('stopwords')\n",
    "stopwords = nltk.corpus.stopwords.words('english')"
   ]
  },
  {
   "cell_type": "code",
   "execution_count": 18,
   "metadata": {
    "collapsed": true
   },
   "outputs": [],
   "source": [
    "# features_names = list(set(explore.columns) - {'text', 'author'})\n",
    "# print('numeric features', features_names)"
   ]
  },
  {
   "cell_type": "code",
   "execution_count": 19,
   "metadata": {
    "collapsed": false,
    "slideshow": {
     "slide_type": "slide"
    }
   },
   "outputs": [
    {
     "data": {
      "text/html": [
       "<div>\n",
       "<style scoped>\n",
       "    .dataframe tbody tr th:only-of-type {\n",
       "        vertical-align: middle;\n",
       "    }\n",
       "\n",
       "    .dataframe tbody tr th {\n",
       "        vertical-align: top;\n",
       "    }\n",
       "\n",
       "    .dataframe thead th {\n",
       "        text-align: right;\n",
       "    }\n",
       "</style>\n",
       "<table border=\"1\" class=\"dataframe\">\n",
       "  <thead>\n",
       "    <tr style=\"text-align: right;\">\n",
       "      <th></th>\n",
       "      <th>stemmed</th>\n",
       "      <th>text</th>\n",
       "    </tr>\n",
       "    <tr>\n",
       "      <th>id</th>\n",
       "      <th></th>\n",
       "      <th></th>\n",
       "    </tr>\n",
       "  </thead>\n",
       "  <tbody>\n",
       "    <tr>\n",
       "      <th>id26305</th>\n",
       "      <td>thi process, however, afford me no mean of asc...</td>\n",
       "      <td>This process, however, afforded me no means of...</td>\n",
       "    </tr>\n",
       "    <tr>\n",
       "      <th>id17569</th>\n",
       "      <td>It never onc occur to me that the fumbl might ...</td>\n",
       "      <td>It never once occurred to me that the fumbling...</td>\n",
       "    </tr>\n",
       "    <tr>\n",
       "      <th>id11008</th>\n",
       "      <td>In hi left hand wa a gold snuff box, from whic...</td>\n",
       "      <td>In his left hand was a gold snuff box, from wh...</td>\n",
       "    </tr>\n",
       "    <tr>\n",
       "      <th>id27763</th>\n",
       "      <td>how love is spring As we look from windsor ter...</td>\n",
       "      <td>How lovely is spring As we looked from Windsor...</td>\n",
       "    </tr>\n",
       "    <tr>\n",
       "      <th>id12958</th>\n",
       "      <td>find noth else, not even gold, the superintend...</td>\n",
       "      <td>Finding nothing else, not even gold, the Super...</td>\n",
       "    </tr>\n",
       "  </tbody>\n",
       "</table>\n",
       "</div>"
      ],
      "text/plain": [
       "                                                   stemmed  \\\n",
       "id                                                           \n",
       "id26305  thi process, however, afford me no mean of asc...   \n",
       "id17569  It never onc occur to me that the fumbl might ...   \n",
       "id11008  In hi left hand wa a gold snuff box, from whic...   \n",
       "id27763  how love is spring As we look from windsor ter...   \n",
       "id12958  find noth else, not even gold, the superintend...   \n",
       "\n",
       "                                                      text  \n",
       "id                                                          \n",
       "id26305  This process, however, afforded me no means of...  \n",
       "id17569  It never once occurred to me that the fumbling...  \n",
       "id11008  In his left hand was a gold snuff box, from wh...  \n",
       "id27763  How lovely is spring As we looked from Windsor...  \n",
       "id12958  Finding nothing else, not even gold, the Super...  "
      ]
     },
     "execution_count": 19,
     "metadata": {},
     "output_type": "execute_result"
    }
   ],
   "source": [
    "from nltk.stem import WordNetLemmatizer\n",
    "from nltk.stem import PorterStemmer\n",
    "\n",
    "stem = PorterStemmer()\n",
    "\n",
    "explore['stemmed'] = explore.text.apply(lambda t: \" \".join([stem.stem(w) for w in t.split()])) \n",
    "\n",
    "explore[['stemmed', 'text']].head()"
   ]
  },
  {
   "cell_type": "code",
   "execution_count": 20,
   "metadata": {
    "collapsed": false,
    "slideshow": {
     "slide_type": "slide"
    }
   },
   "outputs": [
    {
     "data": {
      "text/plain": [
       "array([ 0.78477328,  0.78562672,  0.78482759])"
      ]
     },
     "execution_count": 20,
     "metadata": {},
     "output_type": "execute_result"
    }
   ],
   "source": [
    "pipeline = Pipeline([\n",
    "    ('features', CountVectorizer()),\n",
    "    ('clf', LinearSVC())\n",
    "])\n",
    "\n",
    "cross_val_score(pipeline, explore.stemmed, train.author, cv=3, n_jobs=3)\n",
    "\n",
    "# Резултати от същия pipeline използвайки колона text:\n",
    "# array([ 0.78783701,  0.79635305,  0.79509579])"
   ]
  },
  {
   "cell_type": "markdown",
   "metadata": {
    "slideshow": {
     "slide_type": "slide"
    }
   },
   "source": [
    "# Допълнителните фичъри не сработиха, стеминга също. \n",
    "\n",
    "Остават да пробвам:\n",
    "\n",
    "* Оптимизиране на модела с CountVectorizer.\n",
    "* Добавяне на още фичъри, от латентни пространства (LDA) - topic modeling.\n",
    "* Word embeddings с невронни мрежи.\n",
    "* Стакинг на класификатори.\n",
    "\n",
    "За сега ще разгледаме само оптимизирането на модела."
   ]
  },
  {
   "cell_type": "markdown",
   "metadata": {
    "slideshow": {
     "slide_type": "slide"
    }
   },
   "source": [
    "Първо да опишем параметрите за търсене в трансфомацията (CountVectorizer)"
   ]
  },
  {
   "cell_type": "code",
   "execution_count": 21,
   "metadata": {
    "collapsed": false,
    "slideshow": {
     "slide_type": "slide"
    }
   },
   "outputs": [],
   "source": [
    "from sklearn.feature_extraction.text import CountVectorizer, TfidfVectorizer, HashingVectorizer\n",
    "\n",
    "params_count_word = {\"features__ngram_range\": [(1,1), (1,2), (1,3)],\n",
    "                      \"features__analyzer\": ['word'],\n",
    "                      \"features__max_df\":[1.0, 0.9, 0.8, 0.7, 0.6, 0.5],\n",
    "                      \"features__min_df\":[2, 3, 5, 10],\n",
    "                      \"features__lowercase\": [False, True],\n",
    "                      \"features__stop_words\": [None, stopwords]}\n",
    "\n",
    "params_count_char = {\"features__ngram_range\": [(1,4), (1,5), (1,6)],\n",
    "                      \"features__analyzer\": ['char'],\n",
    "                      \"features__max_df\":[1.0, 0.9, 0.8, 0.7, 0.6, 0.5],\n",
    "                      \"features__min_df\":[2, 3, 5, 10],\n",
    "                      \"features__lowercase\": [False, True],\n",
    "                      \"features__stop_words\": [None, stopwords]}"
   ]
  },
  {
   "cell_type": "code",
   "execution_count": 22,
   "metadata": {
    "collapsed": true,
    "slideshow": {
     "slide_type": "skip"
    }
   },
   "outputs": [],
   "source": [
    "def report(results, n_top=5):\n",
    "    for i in range(1, n_top + 1):\n",
    "        candidates = np.flatnonzero(results['rank_test_score'] == i)\n",
    "        for candidate in candidates:\n",
    "            print(\"Model with rank: {0}\".format(i))\n",
    "            print(\"Mean validation score: {0:.3f} (std: {1:.3f})\".format(\n",
    "                  results['mean_test_score'][candidate],\n",
    "                  results['std_test_score'][candidate]))\n",
    "            print(\"Parameters: {0}\".format(results['params'][candidate]))\n",
    "            print(\"\")\n"
   ]
  },
  {
   "cell_type": "code",
   "execution_count": 23,
   "metadata": {
    "collapsed": false,
    "slideshow": {
     "slide_type": "slide"
    }
   },
   "outputs": [],
   "source": [
    "from sklearn.model_selection import RandomizedSearchCV\n",
    "from sklearn.metrics import log_loss\n",
    "def random_search():\n",
    "    params = {\n",
    "        \"clf__C\": [0.01, 0.1, 0.3, 1, 3, 10],\n",
    "        \"clf__class_weight\": [None, 'balanced']\n",
    "    }\n",
    "\n",
    "    params.update(params_count_word)\n",
    "\n",
    "    pipeline = Pipeline([\n",
    "        ('features', CountVectorizer()),\n",
    "        ('clf', LogisticRegression())\n",
    "    ])\n",
    "\n",
    "    random_search = RandomizedSearchCV(pipeline, param_distributions=params, \n",
    "                                       scoring='neg_log_loss',\n",
    "                                       n_iter=20, cv=3, n_jobs=2)\n",
    "\n",
    "    random_search.fit(train.text, train.author)\n",
    "    report(random_search.cv_results_)\n",
    "\n",
    "# random_search()"
   ]
  },
  {
   "cell_type": "markdown",
   "metadata": {
    "slideshow": {
     "slide_type": "slide"
    }
   },
   "source": [
    "== original ==\n",
    "\n",
    "Model with rank: 1\n",
    "Mean validation score: -0.475 (std: 0.002)\n",
    "Parameters: {'features__stop_words': None, 'features__ngram_range': (1, 1), 'features__lowercase': True, 'features__analyzer': 'word', 'clf__class_weight': None, 'clf__C': 1}\n",
    "\n",
    "Model with rank: 2\n",
    "Mean validation score: -0.482 (std: 0.002)\n",
    "Parameters: {'features__stop_words': None, 'features__ngram_range': (1, 2), 'features__lowercase': True, 'features__analyzer': 'word', 'clf__class_weight': None, 'clf__C': 1}\n",
    "\n",
    "Model with rank: 3\n",
    "Mean validation score: -0.486 (std: 0.001)\n",
    "Parameters: {'features__stop_words': None, 'features__ngram_range': (1, 1), 'features__lowercase': True, 'features__analyzer': 'word', 'clf__class_weight': 'balanced', 'clf__C': 3}\n",
    "\n",
    "Model with rank: 4\n",
    "Mean validation score: -0.508 (std: 0.004)\n",
    "Parameters: {'features__stop_words': None, 'features__ngram_range': (1, 2), 'features__lowercase': False, 'features__analyzer': 'word', 'clf__class_weight': 'balanced', 'clf__C': 0.3}\n",
    "\n",
    "Model with rank: 5\n",
    "Mean validation score: -0.525 (std: 0.004)\n",
    "Parameters: {'features__stop_words': None, 'features__ngram_range': (1, 3), 'features__lowercase': True, 'features__analyzer': 'word', 'clf__class_weight': 'balanced', 'clf__C': 0.3}\n"
   ]
  },
  {
   "cell_type": "markdown",
   "metadata": {},
   "source": [
    "== local results ==\n",
    "\n",
    "Model with rank: 1\n",
    "Mean validation score: -0.474 (std: 0.002)\n",
    "Parameters: {'features__stop_words': None, 'features__ngram_range': (1, 2), 'features__min_df': 2, 'features__max_df': 0.9, 'features__lowercase': True, 'features__analyzer': 'word', 'clf__class_weight': None, 'clf__C': 1}\n",
    "\n",
    "Model with rank: 2\n",
    "Mean validation score: -0.513 (std: 0.002)\n",
    "Parameters: {'features__stop_words': yes, 'features__ngram_range': (1, 3), 'features__min_df': 2, 'features__max_df': 0.5, 'features__lowercase': True, 'features__analyzer': 'word', 'clf__class_weight': None, 'clf__C': 3}\n",
    "\n",
    "Model with rank: 3\n",
    "Mean validation score: -0.515 (std: 0.004)\n",
    "Parameters: {'features__stop_words': None, 'features__ngram_range': (1, 1), 'features__min_df': 2, 'features__max_df': 0.8, 'features__lowercase': True, 'features__analyzer': 'word', 'clf__class_weight': 'balanced', 'clf__C': 0.3}\n",
    "\n",
    "Model with rank: 4\n",
    "Mean validation score: -0.547 (std: 0.003)\n",
    "Parameters: {'features__stop_words': yes, 'features__ngram_range': (1, 1), 'features__min_df': 2, 'features__max_df': 0.8, 'features__lowercase': False, 'features__analyzer': 'word', 'clf__class_weight': None, 'clf__C': 0.3}\n",
    "\n",
    "Model with rank: 5\n",
    "Mean validation score: -0.547 (std: 0.004)\n",
    "Parameters: {'features__stop_words': yes, 'features__ngram_range': (1, 3), 'features__min_df': 3, 'features__max_df': 0.9, 'features__lowercase': False, 'features__analyzer': 'word', 'clf__class_weight': None, 'clf__C': 0.3}"
   ]
  },
  {
   "cell_type": "markdown",
   "metadata": {
    "slideshow": {
     "slide_type": "slide"
    }
   },
   "source": [
    "# Tfidf = Term-frequency inverse document-frequency\n",
    "\n",
    "* Идеята е да сложи тежести и значимост на всички думи или n-grams.\n",
    "* Напр. \"новина\" е доста често срещана дума и може да бъде в различни контексти. \n",
    "* За разлика от \"електроенцефалограф\", която е много по-рядко срещана и директно дава медицински контекст.\n",
    "\n",
    "\n",
    "* TF брои колко пъти се среща думата в текущия текст (пасаж, изречение, документ, семпъл).\n",
    "* IDF брои колко пъти тази дума се среща изцяло в корпуса с които тренираме."
   ]
  },
  {
   "cell_type": "code",
   "execution_count": 24,
   "metadata": {
    "collapsed": false,
    "slideshow": {
     "slide_type": "slide"
    }
   },
   "outputs": [],
   "source": [
    "tfidf = TfidfVectorizer()"
   ]
  },
  {
   "cell_type": "code",
   "execution_count": 25,
   "metadata": {
    "collapsed": false,
    "slideshow": {
     "slide_type": "slide"
    }
   },
   "outputs": [],
   "source": [
    "def random_search():\n",
    "    params = {\n",
    "        \"clf__C\": [0.01, 0.1, 0.3, 1, 3, 10],\n",
    "        \"clf__class_weight\": [None, 'balanced']\n",
    "    }\n",
    "\n",
    "    params.update(params_count_word)\n",
    "\n",
    "    pipeline = Pipeline([\n",
    "        ('features', TfidfVectorizer()),\n",
    "        ('clf', LogisticRegression())\n",
    "    ])\n",
    "\n",
    "    random_search = RandomizedSearchCV(pipeline, param_distributions=params, \n",
    "                                       scoring='neg_log_loss',\n",
    "                                       n_iter=20, cv=3, n_jobs=2)\n",
    "\n",
    "    random_search.fit(train.text, train.author)\n",
    "    report(random_search.cv_results_)\n",
    "\n",
    "# random_search() # предишния най-добър резултат:  -0.475 "
   ]
  },
  {
   "cell_type": "markdown",
   "metadata": {
    "slideshow": {
     "slide_type": "slide"
    }
   },
   "source": [
    "== original ==\n",
    "\n",
    "Model with rank: 1\n",
    "Mean validation score: -0.469 (std: 0.005)\n",
    "Parameters: {'features__stop_words': None, 'features__ngram_range': (1, 2), 'features__min_df': 2, 'features__max_df': 1.0, 'features__lowercase': True, 'features__analyzer': 'word', 'clf__class_weight': 'balanced', 'clf__C': 10}\n",
    "\n",
    "Model with rank: 2\n",
    "Mean validation score: -0.471 (std: 0.006)\n",
    "Parameters: {'features__stop_words': None, 'features__ngram_range': (1, 2), 'features__min_df': 3, 'features__max_df': 0.5, 'features__lowercase': True, 'features__analyzer': 'word', 'clf__class_weight': None, 'clf__C': 10}\n",
    "\n",
    "Model with rank: 3\n",
    "Mean validation score: -0.483 (std: 0.008)\n",
    "Parameters: {'features__stop_words': None, 'features__ngram_range': (1, 2), 'features__min_df': 5, 'features__max_df': 0.8, 'features__lowercase': False, 'features__analyzer': 'word', 'clf__class_weight': 'balanced', 'clf__C': 10}\n",
    "\n",
    "Model with rank: 4\n",
    "Mean validation score: -0.495 (std: 0.002)\n",
    "Parameters: {'features__stop_words': yes, 'features__ngram_range': (1, 2), 'features__min_df': 2, 'features__max_df': 0.6, 'features__lowercase': True, 'features__analyzer': 'word', 'clf__class_weight': 'balanced', 'clf__C': 10}\n",
    "\n",
    "Model with rank: 5\n",
    "Mean validation score: -0.522 (std: 0.005)\n",
    "Parameters: {'features__stop_words': None, 'features__ngram_range': (1, 3), 'features__min_df': 10, 'features__max_df': 0.5, 'features__lowercase': True, 'features__analyzer': 'word', 'clf__class_weight': 'balanced', 'clf__C': 10}\n"
   ]
  },
  {
   "cell_type": "markdown",
   "metadata": {},
   "source": [
    "== local result ==\n",
    "\n",
    "Model with rank: 1\n",
    "Mean validation score: -0.468 (std: 0.005)\n",
    "Parameters: {'features__stop_words': None, 'features__ngram_range': (1, 2), 'features__min_df': 2, 'features__max_df': 1.0, 'features__lowercase': False, 'features__analyzer': 'word', 'clf__class_weight': None, 'clf__C': 10}\n",
    "\n",
    "Model with rank: 2\n",
    "Mean validation score: -0.484 (std: 0.003)\n",
    "Parameters: {'features__stop_words': yes, 'features__ngram_range': (1, 2), 'features__min_df': 2, 'features__max_df': 0.7, 'features__lowercase': False, 'features__analyzer': 'word', 'clf__class_weight': None, 'clf__C': 10}\n",
    "\n",
    "Model with rank: 3\n",
    "Mean validation score: -0.484 (std: 0.003)\n",
    "Parameters: {'features__stop_words': yes, 'features__ngram_range': (1, 2), 'features__min_df': 2, 'features__max_df': 0.8, 'features__lowercase': False, 'features__analyzer': 'word', 'clf__class_weight': 'balanced', 'clf__C': 10}\n",
    "\n",
    "Model with rank: 4\n",
    "Mean validation score: -0.488 (std: 0.008)\n",
    "Parameters: {'features__stop_words': None, 'features__ngram_range': (1, 1), 'features__min_df': 5, 'features__max_df': 0.7, 'features__lowercase': False, 'features__analyzer': 'word', 'clf__class_weight': None, 'clf__C': 10}\n",
    "\n",
    "Model with rank: 5\n",
    "Mean validation score: -0.495 (std: 0.004)\n",
    "Parameters: {'features__stop_words': yes, 'features__ngram_range': (1, 3), 'features__min_df': 3, 'features__max_df': 1.0, 'features__lowercase': False, 'features__analyzer': 'word', 'clf__class_weight': None, 'clf__C': 10}"
   ]
  },
  {
   "cell_type": "markdown",
   "metadata": {
    "slideshow": {
     "slide_type": "slide"
    }
   },
   "source": [
    "Има леко подобрение в `LogLoss`.\n",
    "\n",
    "Да пробваме да сменим и класификатора с друг класически за класификация на текст: `Naive Bayes`"
   ]
  },
  {
   "cell_type": "code",
   "execution_count": 26,
   "metadata": {
    "collapsed": false,
    "slideshow": {
     "slide_type": "slide"
    }
   },
   "outputs": [],
   "source": [
    "from sklearn.naive_bayes import MultinomialNB\n",
    "\n",
    "def random_search():\n",
    "    params = {\n",
    "        \"clf__alpha\": [0.01, 0.1, 0.5, 1, 2]\n",
    "    }\n",
    "\n",
    "    params.update(params_count_word)\n",
    "\n",
    "    pipeline = Pipeline([\n",
    "        ('features', TfidfVectorizer()),\n",
    "        ('clf', MultinomialNB())\n",
    "    ])\n",
    "\n",
    "    random_search = RandomizedSearchCV(pipeline, param_distributions=params, \n",
    "                                       scoring='neg_log_loss',\n",
    "                                       n_iter=20, cv=3, n_jobs=2)\n",
    "\n",
    "    random_search.fit(train.text, train.author)\n",
    "    report(random_search.cv_results_)\n",
    "\n",
    "# random_search()  # Предишния най-добър резултат: -0.469"
   ]
  },
  {
   "cell_type": "markdown",
   "metadata": {
    "slideshow": {
     "slide_type": "slide"
    }
   },
   "source": [
    "== original ==\n",
    "\n",
    "Model with rank: 1\n",
    "Mean validation score: -0.423 (std: 0.003)\n",
    "Parameters: {'features__stop_words': None, 'features__ngram_range': (1, 2), 'features__min_df': 2, 'features__max_df': 0.8, 'features__lowercase': False, 'features__analyzer': 'word', 'clf__alpha': 0.01}\n",
    "\n",
    "Model with rank: 2\n",
    "Mean validation score: -0.465 (std: 0.003)\n",
    "Parameters: {'features__stop_words': None, 'features__ngram_range': (1, 1), 'features__min_df': 3, 'features__max_df': 0.9, 'features__lowercase': True, 'features__analyzer': 'word', 'clf__alpha': 0.01}\n",
    "\n",
    "Model with rank: 3\n",
    "Mean validation score: -0.469 (std: 0.004)\n",
    "Parameters: {'features__stop_words': None, 'features__ngram_range': (1, 3), 'features__min_df': 5, 'features__max_df': 0.9, 'features__lowercase': True, 'features__analyzer': 'word', 'clf__alpha': 0.1}\n",
    "\n",
    "Model with rank: 4\n",
    "Mean validation score: -0.495 (std: 0.002)\n",
    "Parameters: {'features__stop_words': yes, 'features__ngram_range': (1, 3), 'features__min_df': 5, 'features__max_df': 0.8, 'features__lowercase': False, 'features__analyzer': 'word', 'clf__alpha': 0.1}\n",
    "\n",
    "Model with rank: 5\n",
    "Mean validation score: -0.496 (std: 0.004)\n",
    "Parameters: {'features__stop_words': yes, 'features__ngram_range': (1, 3), 'features__min_df': 5, 'features__max_df': 0.6, 'features__lowercase': False, 'features__analyzer': 'word', 'clf__alpha': 0.01}\n"
   ]
  },
  {
   "cell_type": "markdown",
   "metadata": {},
   "source": [
    "== local ==\n",
    "\n",
    "Model with rank: 1\n",
    "Mean validation score: -0.422 (std: 0.003)\n",
    "Parameters: {'features__stop_words': None, 'features__ngram_range': (1, 3), 'features__min_df': 2, 'features__max_df': 0.5, 'features__lowercase': True, 'features__analyzer': 'word', 'clf__alpha': 0.1}\n",
    "\n",
    "Model with rank: 2\n",
    "Mean validation score: -0.496 (std: 0.004)\n",
    "Parameters: {'features__stop_words': yes, 'features__ngram_range': (1, 2), 'features__min_df': 5, 'features__max_df': 0.7, 'features__lowercase': False, 'features__analyzer': 'word', 'clf__alpha': 0.01}\n",
    "\n",
    "Model with rank: 3\n",
    "Mean validation score: -0.502 (std: 0.003)\n",
    "Parameters: {'features__stop_words': yes, 'features__ngram_range': (1, 2), 'features__min_df': 5, 'features__max_df': 0.5, 'features__lowercase': True, 'features__analyzer': 'word', 'clf__alpha': 0.1}\n",
    "\n",
    "Model with rank: 3\n",
    "Mean validation score: -0.502 (std: 0.003)\n",
    "Parameters: {'features__stop_words': yes, 'features__ngram_range': (1, 2), 'features__min_df': 5, 'features__max_df': 0.9, 'features__lowercase': True, 'features__analyzer': 'word', 'clf__alpha': 0.1}\n",
    "\n",
    "Model with rank: 5\n",
    "Mean validation score: -0.524 (std: 0.003)\n",
    "Parameters: {'features__stop_words': None, 'features__ngram_range': (1, 2), 'features__min_df': 10, 'features__max_df': 0.7, 'features__lowercase': False, 'features__analyzer': 'word', 'clf__alpha': 0.1}"
   ]
  },
  {
   "cell_type": "markdown",
   "metadata": {
    "slideshow": {
     "slide_type": "slide"
    }
   },
   "source": [
    "Тук има още подобрение в метриката.\n",
    "\n",
    "Искам да го пробвам и със stemming.\n",
    "\n",
    "Освен това се вижда, че избира най-ниската предоставена стойност за `alpha`, може би трябва да пробвам с още по-ниски."
   ]
  },
  {
   "cell_type": "code",
   "execution_count": 27,
   "metadata": {
    "collapsed": true,
    "slideshow": {
     "slide_type": "slide"
    }
   },
   "outputs": [],
   "source": [
    "def random_search():\n",
    "    params = {\n",
    "        \"clf__alpha\": [0.001, 0.005, 0.01, 0.05, 0.1, 0.3]\n",
    "    }\n",
    "\n",
    "    params.update(params_count_word)\n",
    "\n",
    "    pipeline = Pipeline([\n",
    "        ('features', TfidfVectorizer()),\n",
    "        ('clf', MultinomialNB())\n",
    "    ])\n",
    "\n",
    "    random_search = RandomizedSearchCV(pipeline, param_distributions=params, \n",
    "                                       scoring='neg_log_loss',\n",
    "                                       n_iter=20, cv=3, n_jobs=4)\n",
    "\n",
    "    random_search.fit(explore.stemmed, train.author)\n",
    "    report(random_search.cv_results_)\n",
    "    \n",
    "# random_search()  # -0.423"
   ]
  },
  {
   "cell_type": "markdown",
   "metadata": {
    "slideshow": {
     "slide_type": "slide"
    }
   },
   "source": [
    "Model with rank: 1\n",
    "Mean validation score: -0.438 (std: 0.002)\n",
    "Parameters: {'features__stop_words': None, 'features__ngram_range': (1, 2), 'features__min_df': 2, 'features__max_df': 0.6, 'features__lowercase': False, 'features__analyzer': 'word', 'clf__alpha': 0.01}\n",
    "\n",
    "Model with rank: 2\n",
    "Mean validation score: -0.443 (std: 0.004)\n",
    "Parameters: {'features__stop_words': None, 'features__ngram_range': (1, 3), 'features__min_df': 3, 'features__max_df': 0.6, 'features__lowercase': True, 'features__analyzer': 'word', 'clf__alpha': 0.05}\n",
    "\n",
    "Model with rank: 3\n",
    "Mean validation score: -0.453 (std: 0.002)\n",
    "Parameters: {'features__stop_words': None, 'features__ngram_range': (1, 3), 'features__min_df': 2, 'features__max_df': 1.0, 'features__lowercase': False, 'features__analyzer': 'word', 'clf__alpha': 0.01}\n",
    "\n",
    "Model with rank: 4\n",
    "Mean validation score: -0.471 (std: 0.003)\n",
    "Parameters: {'features__stop_words': None, 'features__ngram_range': (1, 2), 'features__min_df': 5, 'features__max_df': 1.0, 'features__lowercase': False, 'features__analyzer': 'word', 'clf__alpha': 0.01}\n",
    "\n",
    "Model with rank: 5\n",
    "Mean validation score: -0.472 (std: 0.004)\n",
    "Parameters: {'features__stop_words': None, 'features__ngram_range': (1, 3), 'features__min_df': 5, 'features__max_df': 0.5, 'features__lowercase': False, 'features__analyzer': 'word', 'clf__alpha': 0.05}\n"
   ]
  },
  {
   "cell_type": "code",
   "execution_count": 28,
   "metadata": {
    "collapsed": false
   },
   "outputs": [
    {
     "name": "stderr",
     "output_type": "stream",
     "text": [
      "Using TensorFlow backend.\n",
      "/usr/lib/python3.6/importlib/_bootstrap.py:219: RuntimeWarning: compiletime version 3.5 of module 'tensorflow.python.framework.fast_tensor_util' does not match runtime version 3.6\n",
      "  return f(*args, **kwds)\n"
     ]
    }
   ],
   "source": [
    "import keras\n",
    "from keras.datasets import mnist\n",
    "from keras.models import Sequential\n",
    "from keras.layers import Input, Dense, Conv2D, MaxPooling2D, UpSampling2D, Dropout, Lambda, Concatenate\n",
    "from keras.optimizers import RMSprop, Adam\n",
    "from keras import regularizers, objectives, metrics\n",
    "from keras.models import Model\n",
    "from keras import backend as K\n",
    "\n",
    "from IPython.display import display"
   ]
  },
  {
   "cell_type": "code",
   "execution_count": 29,
   "metadata": {
    "collapsed": false
   },
   "outputs": [],
   "source": [
    "from gensim import corpora\n",
    "\n",
    "documents = train.text"
   ]
  },
  {
   "cell_type": "code",
   "execution_count": 30,
   "metadata": {
    "collapsed": false,
    "scrolled": true
   },
   "outputs": [
    {
     "name": "stdout",
     "output_type": "stream",
     "text": [
      "[['process,',\n",
      "  'however,',\n",
      "  'afforded',\n",
      "  'means',\n",
      "  'ascertaining',\n",
      "  'dimensions',\n",
      "  'might',\n",
      "  'make',\n",
      "  'return',\n",
      "  'point',\n",
      "  'whence',\n",
      "  'set',\n",
      "  'out,',\n",
      "  'without',\n",
      "  'aware',\n",
      "  'perfectly',\n",
      "  'uniform',\n",
      "  'seemed',\n",
      "  'wall.'],\n",
      " ['never', 'occurred', 'fumbling', 'might', 'mere', 'mistake.'],\n",
      " ['left',\n",
      "  'hand',\n",
      "  'gold',\n",
      "  'snuff',\n",
      "  'box,',\n",
      "  'which,',\n",
      "  'hill,',\n",
      "  'cutting',\n",
      "  'manner',\n",
      "  'fantastic',\n",
      "  'steps,',\n",
      "  'took',\n",
      "  'snuff',\n",
      "  'incessantly',\n",
      "  'air',\n",
      "  'greatest',\n",
      "  'possible',\n",
      "  'self',\n",
      "  'satisfaction.'],\n",
      " ['lovely',\n",
      "  'spring',\n",
      "  'looked',\n",
      "  'windsor',\n",
      "  'terrace',\n",
      "  'sixteen',\n",
      "  'fertile',\n",
      "  'counties',\n",
      "  'spread',\n",
      "  'beneath,',\n",
      "  'speckled',\n",
      "  'happy',\n",
      "  'cottages',\n",
      "  'wealthier',\n",
      "  'towns,',\n",
      "  'looked',\n",
      "  'former',\n",
      "  'years,',\n",
      "  'heart',\n",
      "  'cheering',\n",
      "  'fair.'],\n",
      " ['finding',\n",
      "  'nothing',\n",
      "  'else,',\n",
      "  'even',\n",
      "  'gold,',\n",
      "  'superintendent',\n",
      "  'abandoned',\n",
      "  'perplexed',\n",
      "  'look',\n",
      "  'occasionally',\n",
      "  'steals',\n",
      "  'countenance',\n",
      "  'sits',\n",
      "  'thinking',\n",
      "  'desk.'],\n",
      " ['youth',\n",
      "  'passed',\n",
      "  'solitude,',\n",
      "  'best',\n",
      "  'years',\n",
      "  'spent',\n",
      "  'gentle',\n",
      "  'feminine',\n",
      "  'refined',\n",
      "  'groundwork',\n",
      "  'character',\n",
      "  'cannot',\n",
      "  'overcome',\n",
      "  'intense',\n",
      "  'distaste',\n",
      "  'usual',\n",
      "  'brutality',\n",
      "  'exercised',\n",
      "  'board',\n",
      "  'never',\n",
      "  'believed',\n",
      "  'necessary,',\n",
      "  'heard',\n",
      "  'mariner',\n",
      "  'equally',\n",
      "  'noted',\n",
      "  'heart',\n",
      "  'respect',\n",
      "  'obedience',\n",
      "  'paid',\n",
      "  'crew,',\n",
      "  'felt',\n",
      "  'peculiarly',\n",
      "  'fortunate',\n",
      "  'able',\n",
      "  'secure',\n",
      "  'services.'],\n",
      " ['astronomer,',\n",
      "  'perhaps,',\n",
      "  'point,',\n",
      "  'took',\n",
      "  'refuge',\n",
      "  'suggestion',\n",
      "  'non',\n",
      "  'luminosity;',\n",
      "  'analogy',\n",
      "  'suddenly',\n",
      "  'let',\n",
      "  'fall.'],\n",
      " ['surcingle', 'hung', 'body.'],\n",
      " ['knew',\n",
      "  'could',\n",
      "  'say',\n",
      "  'without',\n",
      "  'brought',\n",
      "  'think',\n",
      "  'thus',\n",
      "  'theories',\n",
      "  'since,',\n",
      "  'discussed',\n",
      "  'subject',\n",
      "  'long',\n",
      "  'ago,',\n",
      "  'mentioned',\n",
      "  'singularly,',\n",
      "  'yet',\n",
      "  'little',\n",
      "  'notice,',\n",
      "  'vague',\n",
      "  'guesses',\n",
      "  'noble',\n",
      "  'greek',\n",
      "  'met',\n",
      "  'confirmation',\n",
      "  'late',\n",
      "  'felt',\n",
      "  'could',\n",
      "  'avoid',\n",
      "  'casting',\n",
      "  'eyes',\n",
      "  'upward',\n",
      "  'great',\n",
      "  'orion,',\n",
      "  'certainly',\n",
      "  'expected',\n",
      "  'would',\n",
      "  'so.'],\n",
      " ['confess',\n",
      "  'neither',\n",
      "  'structure',\n",
      "  'languages,',\n",
      "  'code',\n",
      "  'governments,',\n",
      "  'politics',\n",
      "  'various',\n",
      "  'states',\n",
      "  'possessed',\n",
      "  'attractions',\n",
      "  'me.']]\n"
     ]
    }
   ],
   "source": [
    "# remove common words and tokenize\n",
    "# stoplist = set('for a of the and to in'.split())\n",
    "texts = [[word for word in document.lower().split() if word not in stopwords] #was stoplist\n",
    "         for document in documents]\n",
    "\n",
    "# remove words that appear only once\n",
    "from collections import defaultdict\n",
    "frequency = defaultdict(int)\n",
    "for text in texts:\n",
    "    for token in text:\n",
    "        frequency[token] += 1\n",
    "\n",
    "texts = [[token for token in text if frequency[token] > 1] for text in texts]\n",
    "\n",
    "from pprint import pprint  # pretty-printer\n",
    "pprint(texts[:2])"
   ]
  },
  {
   "cell_type": "code",
   "execution_count": 31,
   "metadata": {
    "collapsed": false
   },
   "outputs": [],
   "source": [
    "import pickle\n",
    "\n",
    "FILENAME = \"processed_texts.pickle\"\n",
    "\n",
    "# create pickle\n",
    "# pickle.dump(texts, open(FILENAME, \"wb\" ))\n",
    "\n",
    "# depicke\n",
    "texts = pickle.load(open(FILENAME, \"rb\"))"
   ]
  },
  {
   "cell_type": "code",
   "execution_count": 32,
   "metadata": {
    "collapsed": false
   },
   "outputs": [
    {
     "name": "stdout",
     "output_type": "stream",
     "text": [
      "22328\n"
     ]
    }
   ],
   "source": [
    "dictionary = corpora.Dictionary(texts)\n",
    "dictionary.save('spooky.dict')  # store the dictionary, for future reference\n",
    "print(len(dictionary))"
   ]
  },
  {
   "cell_type": "code",
   "execution_count": 33,
   "metadata": {
    "collapsed": false
   },
   "outputs": [],
   "source": [
    "# corpus = [dictionary.doc2bow(text) for text in texts]\n",
    "# corpora.MmCorpus.serialize('spooky.mm', corpus)  # store to disk, for later use\n",
    "\n",
    "#restore from disk\n",
    "corpus = corpora.mmcorpus.MmCorpus('spooky.mm')"
   ]
  },
  {
   "cell_type": "markdown",
   "metadata": {},
   "source": [
    "## similarities.docsim.Similarity"
   ]
  },
  {
   "cell_type": "code",
   "execution_count": 35,
   "metadata": {
    "collapsed": true
   },
   "outputs": [],
   "source": [
    "from gensim import similarities"
   ]
  },
  {
   "cell_type": "code",
   "execution_count": 36,
   "metadata": {
    "collapsed": false
   },
   "outputs": [],
   "source": [
    "# index = similarities.SparseMatrixSimilarity(tfidf[corpus], num_features=12)\n",
    "index = similarities.docsim.Similarity('/home/bob/tmp', corpus, num_features=len(dictionary)) "
   ]
  },
  {
   "cell_type": "code",
   "execution_count": 69,
   "metadata": {
    "collapsed": false
   },
   "outputs": [
    {
     "data": {
      "text/plain": [
       "[(545, 1.0), (1137, 1.0), (1598, 1.0), (1599, 1.0), (1600, 1.0), (1601, 1.0)]"
      ]
     },
     "execution_count": 69,
     "metadata": {},
     "output_type": "execute_result"
    }
   ],
   "source": [
    "corpus[156]"
   ]
  },
  {
   "cell_type": "code",
   "execution_count": 38,
   "metadata": {
    "collapsed": false
   },
   "outputs": [],
   "source": [
    "# sims = index[tfidf[corpus[0]]]\n",
    "sims = index[corpus[0]]"
   ]
  },
  {
   "cell_type": "code",
   "execution_count": 39,
   "metadata": {
    "collapsed": false
   },
   "outputs": [],
   "source": [
    "results = list(enumerate(sims))"
   ]
  },
  {
   "cell_type": "code",
   "execution_count": 40,
   "metadata": {
    "collapsed": false
   },
   "outputs": [
    {
     "data": {
      "text/plain": [
       "[(0, 0.99999982), (1, 0.093658581), (2, 0.0), (3, 0.0), (4, 0.0)]"
      ]
     },
     "execution_count": 40,
     "metadata": {},
     "output_type": "execute_result"
    }
   ],
   "source": [
    "results[:5]"
   ]
  },
  {
   "cell_type": "code",
   "execution_count": 65,
   "metadata": {
    "collapsed": false
   },
   "outputs": [
    {
     "data": {
      "text/plain": [
       "[(0, 0.99999982),\n",
       " (14771, 0.260133),\n",
       " (8578, 0.22941573),\n",
       " (12208, 0.22941573),\n",
       " (12524, 0.22941573)]"
      ]
     },
     "execution_count": 65,
     "metadata": {},
     "output_type": "execute_result"
    }
   ],
   "source": [
    "from operator import itemgetter\n",
    "    \n",
    "top = sorted(results, key=itemgetter(1), reverse=True)\n",
    "top[:5]"
   ]
  },
  {
   "cell_type": "code",
   "execution_count": 44,
   "metadata": {
    "collapsed": false
   },
   "outputs": [
    {
     "data": {
      "text/plain": [
       "gensim.similarities.docsim.Similarity"
      ]
     },
     "execution_count": 44,
     "metadata": {},
     "output_type": "execute_result"
    }
   ],
   "source": [
    "type(index)"
   ]
  },
  {
   "cell_type": "code",
   "execution_count": 56,
   "metadata": {
    "collapsed": false
   },
   "outputs": [
    {
     "name": "stdout",
     "output_type": "stream",
     "text": [
      "in df:      This process, however, afforded me no means of ascertaining the dimensions of my dungeon; as I might make its circuit, and return to the point whence I set out, without being aware of the fact; so perfectly uniform seemed the wall. \n",
      "\n",
      "as doc:     This process, however, afforded me no means of ascertaining the dimensions of my dungeon; as I might make its circuit, and return to the point whence I set out, without being aware of the fact; so perfectly uniform seemed the wall. \n",
      "\n",
      "as tokens:  ['process,', 'however,', 'afforded', 'means', 'ascertaining', 'dimensions', 'might', 'make', 'return', 'point', 'whence', 'set', 'out,', 'without', 'aware', 'perfectly', 'uniform', 'seemed', 'wall.'] \n",
      "\n",
      "as vec:     [(0, 1.0), (1, 1.0), (2, 1.0), (3, 1.0), (4, 1.0), (5, 1.0), (6, 1.0), (7, 1.0), (8, 1.0), (9, 1.0), (10, 1.0), (11, 1.0), (12, 1.0), (13, 1.0), (14, 1.0), (15, 1.0), (16, 1.0), (17, 1.0), (18, 1.0)] \n",
      "\n"
     ]
    }
   ],
   "source": [
    "print('in df:     ', train.text[0],'\\n')\n",
    "print('as doc:    ', documents[0],'\\n')\n",
    "print('as tokens: ', texts[0],'\\n')\n",
    "print('as vec:    ', corpus[0],'\\n')"
   ]
  },
  {
   "cell_type": "code",
   "execution_count": 61,
   "metadata": {
    "collapsed": false
   },
   "outputs": [
    {
     "name": "stdout",
     "output_type": "stream",
     "text": [
      "unsorted sims to vec[0] [ 0.99999982  0.09365858  0.          0.          0.          0.          0.\n",
      "  0.          0.03673591  0.        ]\n"
     ]
    }
   ],
   "source": [
    "print('unsorted sims to vec[0]', sims[:10])"
   ]
  },
  {
   "cell_type": "code",
   "execution_count": 66,
   "metadata": {
    "collapsed": false
   },
   "outputs": [
    {
     "name": "stdout",
     "output_type": "stream",
     "text": [
      "This process, however, afforded me no means of ascertaining the dimensions of my dungeon; as I might make its circuit, and return to the point whence I set out, without being aware of the fact; so perfectly uniform seemed the wall.\n",
      "1.0 EAP This process, however, afforded me no means of ascertaining the dimensions of my dungeon; as I might make its circuit, and return to the point whence I set out, without being aware of the fact; so perfectly uniform seemed the wall. \n",
      "\n",
      "0.260133 EAP The expression of his smile, however, was by no means unpleasing, as might be supposed; but it had no variation whatever. \n",
      "\n",
      "0.229416 EAP Much, however, might be ascertained. \n",
      "\n",
      "0.229416 EAP I reapproached the wall. \n",
      "\n",
      "0.229416 HPL They seemed to hate and fear him at the same time, and he seemed to return these sentiments. \n",
      "\n",
      "0.229416 EAP There was nothing in this, however, to make him sob. \n",
      "\n",
      "0.216295 EAP At first he stared at me as if he found it impossible to comprehend the witticism of my remark; but as its point seemed slowly to make its way into his brain, his eyes, in the same proportion, seemed protruding from their sockets. \n",
      "\n",
      "0.205196 EAP With my aversion to this cat, however, its partiality for myself seemed to increase. \n",
      "\n",
      "0.205196 EAP For the sisters, however, I could make no excuse. \n",
      "\n",
      "0.205196 EAP I did not care, however, to contest the point with him. \n",
      "\n"
     ]
    }
   ],
   "source": [
    "print(documents[0])\n",
    "for sim in top[:10]:\n",
    "    print(sim[1], train.author[sim[0]], documents[sim[0]],'\\n')"
   ]
  },
  {
   "cell_type": "markdown",
   "metadata": {},
   "source": [
    "Чисто технически може да се направи някакво осредняване на резултати - например резултатите от сравнение към documents[0] и сравнение към documents[2] - като и двата записа са \"EAP\". Но не ми се вижда правилно.\n",
    "\n",
    "Не мисля, че посоката е подходяща за нашия случай, защото сравненията са директни, вместо да се извлича \"пространство\" което да генерализира стила/автора. По-добре да проверим какво друго има в gensim."
   ]
  },
  {
   "cell_type": "code",
   "execution_count": 74,
   "metadata": {
    "collapsed": false,
    "scrolled": true
   },
   "outputs": [
    {
     "name": "stdout",
     "output_type": "stream",
     "text": [
      "JoblibValueError\n",
      "___________________________________________________________________________\n",
      "Multiprocessing exception:\n",
      "...........................................................................\n",
      "/usr/lib/python3.6/runpy.py in _run_module_as_main(mod_name='ipykernel_launcher', alter_argv=1)\n",
      "    188         sys.exit(msg)\n",
      "    189     main_globals = sys.modules[\"__main__\"].__dict__\n",
      "    190     if alter_argv:\n",
      "    191         sys.argv[0] = mod_spec.origin\n",
      "    192     return _run_code(code, main_globals, None,\n",
      "--> 193                      \"__main__\", mod_spec)\n",
      "        mod_spec = ModuleSpec(name='ipykernel_launcher', loader=<_f...b/python3.6/site-packages/ipykernel_launcher.py')\n",
      "    194 \n",
      "    195 def run_module(mod_name, init_globals=None,\n",
      "    196                run_name=None, alter_sys=False):\n",
      "    197     \"\"\"Execute a module's code without importing it\n",
      "\n",
      "...........................................................................\n",
      "/usr/lib/python3.6/runpy.py in _run_code(code=<code object <module> at 0x7f608565f1e0, file \"/...3.6/site-packages/ipykernel_launcher.py\", line 5>, run_globals={'__annotations__': {}, '__builtins__': <module 'builtins' (built-in)>, '__cached__': '/home/bob/.local/lib/python3.6/site-packages/__pycache__/ipykernel_launcher.cpython-36.pyc', '__doc__': 'Entry point for launching an IPython kernel.\\n\\nTh...orts until\\nafter removing the cwd from sys.path.\\n', '__file__': '/home/bob/.local/lib/python3.6/site-packages/ipykernel_launcher.py', '__loader__': <_frozen_importlib_external.SourceFileLoader object>, '__name__': '__main__', '__package__': '', '__spec__': ModuleSpec(name='ipykernel_launcher', loader=<_f...b/python3.6/site-packages/ipykernel_launcher.py'), 'app': <module 'ipykernel.kernelapp' from '/home/bob/.l.../python3.6/site-packages/ipykernel/kernelapp.py'>, ...}, init_globals=None, mod_name='__main__', mod_spec=ModuleSpec(name='ipykernel_launcher', loader=<_f...b/python3.6/site-packages/ipykernel_launcher.py'), pkg_name='', script_name=None)\n",
      "     80                        __cached__ = cached,\n",
      "     81                        __doc__ = None,\n",
      "     82                        __loader__ = loader,\n",
      "     83                        __package__ = pkg_name,\n",
      "     84                        __spec__ = mod_spec)\n",
      "---> 85     exec(code, run_globals)\n",
      "        code = <code object <module> at 0x7f608565f1e0, file \"/...3.6/site-packages/ipykernel_launcher.py\", line 5>\n",
      "        run_globals = {'__annotations__': {}, '__builtins__': <module 'builtins' (built-in)>, '__cached__': '/home/bob/.local/lib/python3.6/site-packages/__pycache__/ipykernel_launcher.cpython-36.pyc', '__doc__': 'Entry point for launching an IPython kernel.\\n\\nTh...orts until\\nafter removing the cwd from sys.path.\\n', '__file__': '/home/bob/.local/lib/python3.6/site-packages/ipykernel_launcher.py', '__loader__': <_frozen_importlib_external.SourceFileLoader object>, '__name__': '__main__', '__package__': '', '__spec__': ModuleSpec(name='ipykernel_launcher', loader=<_f...b/python3.6/site-packages/ipykernel_launcher.py'), 'app': <module 'ipykernel.kernelapp' from '/home/bob/.l.../python3.6/site-packages/ipykernel/kernelapp.py'>, ...}\n",
      "     86     return run_globals\n",
      "     87 \n",
      "     88 def _run_module_code(code, init_globals=None,\n",
      "     89                     mod_name=None, mod_spec=None,\n",
      "\n",
      "...........................................................................\n",
      "/home/bob/.local/lib/python3.6/site-packages/ipykernel_launcher.py in <module>()\n",
      "     11     # This is added back by InteractiveShellApp.init_path()\n",
      "     12     if sys.path[0] == '':\n",
      "     13         del sys.path[0]\n",
      "     14 \n",
      "     15     from ipykernel import kernelapp as app\n",
      "---> 16     app.launch_new_instance()\n",
      "\n",
      "...........................................................................\n",
      "/home/bob/.local/lib/python3.6/site-packages/traitlets/config/application.py in launch_instance(cls=<class 'ipykernel.kernelapp.IPKernelApp'>, argv=None, **kwargs={})\n",
      "    653 \n",
      "    654         If a global instance already exists, this reinitializes and starts it\n",
      "    655         \"\"\"\n",
      "    656         app = cls.instance(**kwargs)\n",
      "    657         app.initialize(argv)\n",
      "--> 658         app.start()\n",
      "        app.start = <bound method IPKernelApp.start of <ipykernel.kernelapp.IPKernelApp object>>\n",
      "    659 \n",
      "    660 #-----------------------------------------------------------------------------\n",
      "    661 # utility functions, for convenience\n",
      "    662 #-----------------------------------------------------------------------------\n",
      "\n",
      "...........................................................................\n",
      "/home/bob/.local/lib/python3.6/site-packages/ipykernel/kernelapp.py in start(self=<ipykernel.kernelapp.IPKernelApp object>)\n",
      "    473         if self.poller is not None:\n",
      "    474             self.poller.start()\n",
      "    475         self.kernel.start()\n",
      "    476         self.io_loop = ioloop.IOLoop.current()\n",
      "    477         try:\n",
      "--> 478             self.io_loop.start()\n",
      "        self.io_loop.start = <bound method ZMQIOLoop.start of <zmq.eventloop.ioloop.ZMQIOLoop object>>\n",
      "    479         except KeyboardInterrupt:\n",
      "    480             pass\n",
      "    481 \n",
      "    482 launch_new_instance = IPKernelApp.launch_instance\n",
      "\n",
      "...........................................................................\n",
      "/home/bob/.local/lib/python3.6/site-packages/zmq/eventloop/ioloop.py in start(self=<zmq.eventloop.ioloop.ZMQIOLoop object>)\n",
      "    172             )\n",
      "    173         return loop\n",
      "    174     \n",
      "    175     def start(self):\n",
      "    176         try:\n",
      "--> 177             super(ZMQIOLoop, self).start()\n",
      "        self.start = <bound method ZMQIOLoop.start of <zmq.eventloop.ioloop.ZMQIOLoop object>>\n",
      "    178         except ZMQError as e:\n",
      "    179             if e.errno == ETERM:\n",
      "    180                 # quietly return on ETERM\n",
      "    181                 pass\n",
      "\n",
      "...........................................................................\n",
      "/home/bob/.local/lib/python3.6/site-packages/tornado/ioloop.py in start(self=<zmq.eventloop.ioloop.ZMQIOLoop object>)\n",
      "    883                 self._events.update(event_pairs)\n",
      "    884                 while self._events:\n",
      "    885                     fd, events = self._events.popitem()\n",
      "    886                     try:\n",
      "    887                         fd_obj, handler_func = self._handlers[fd]\n",
      "--> 888                         handler_func(fd_obj, events)\n",
      "        handler_func = <function wrap.<locals>.null_wrapper>\n",
      "        fd_obj = <zmq.sugar.socket.Socket object>\n",
      "        events = 1\n",
      "    889                     except (OSError, IOError) as e:\n",
      "    890                         if errno_from_exception(e) == errno.EPIPE:\n",
      "    891                             # Happens when the client closes the connection\n",
      "    892                             pass\n",
      "\n",
      "...........................................................................\n",
      "/home/bob/.local/lib/python3.6/site-packages/tornado/stack_context.py in null_wrapper(*args=(<zmq.sugar.socket.Socket object>, 1), **kwargs={})\n",
      "    272         # Fast path when there are no active contexts.\n",
      "    273         def null_wrapper(*args, **kwargs):\n",
      "    274             try:\n",
      "    275                 current_state = _state.contexts\n",
      "    276                 _state.contexts = cap_contexts[0]\n",
      "--> 277                 return fn(*args, **kwargs)\n",
      "        args = (<zmq.sugar.socket.Socket object>, 1)\n",
      "        kwargs = {}\n",
      "    278             finally:\n",
      "    279                 _state.contexts = current_state\n",
      "    280         null_wrapper._wrapped = True\n",
      "    281         return null_wrapper\n",
      "\n",
      "...........................................................................\n",
      "/home/bob/.local/lib/python3.6/site-packages/zmq/eventloop/zmqstream.py in _handle_events(self=<zmq.eventloop.zmqstream.ZMQStream object>, fd=<zmq.sugar.socket.Socket object>, events=1)\n",
      "    435             # dispatch events:\n",
      "    436             if events & IOLoop.ERROR:\n",
      "    437                 gen_log.error(\"got POLLERR event on ZMQStream, which doesn't make sense\")\n",
      "    438                 return\n",
      "    439             if events & IOLoop.READ:\n",
      "--> 440                 self._handle_recv()\n",
      "        self._handle_recv = <bound method ZMQStream._handle_recv of <zmq.eventloop.zmqstream.ZMQStream object>>\n",
      "    441                 if not self.socket:\n",
      "    442                     return\n",
      "    443             if events & IOLoop.WRITE:\n",
      "    444                 self._handle_send()\n",
      "\n",
      "...........................................................................\n",
      "/home/bob/.local/lib/python3.6/site-packages/zmq/eventloop/zmqstream.py in _handle_recv(self=<zmq.eventloop.zmqstream.ZMQStream object>)\n",
      "    467                 gen_log.error(\"RECV Error: %s\"%zmq.strerror(e.errno))\n",
      "    468         else:\n",
      "    469             if self._recv_callback:\n",
      "    470                 callback = self._recv_callback\n",
      "    471                 # self._recv_callback = None\n",
      "--> 472                 self._run_callback(callback, msg)\n",
      "        self._run_callback = <bound method ZMQStream._run_callback of <zmq.eventloop.zmqstream.ZMQStream object>>\n",
      "        callback = <function wrap.<locals>.null_wrapper>\n",
      "        msg = [<zmq.sugar.frame.Frame object>, <zmq.sugar.frame.Frame object>, <zmq.sugar.frame.Frame object>, <zmq.sugar.frame.Frame object>, <zmq.sugar.frame.Frame object>, <zmq.sugar.frame.Frame object>, <zmq.sugar.frame.Frame object>]\n",
      "    473                 \n",
      "    474         # self.update_state()\n",
      "    475         \n",
      "    476 \n",
      "\n",
      "...........................................................................\n",
      "/home/bob/.local/lib/python3.6/site-packages/zmq/eventloop/zmqstream.py in _run_callback(self=<zmq.eventloop.zmqstream.ZMQStream object>, callback=<function wrap.<locals>.null_wrapper>, *args=([<zmq.sugar.frame.Frame object>, <zmq.sugar.frame.Frame object>, <zmq.sugar.frame.Frame object>, <zmq.sugar.frame.Frame object>, <zmq.sugar.frame.Frame object>, <zmq.sugar.frame.Frame object>, <zmq.sugar.frame.Frame object>],), **kwargs={})\n",
      "    409         close our socket.\"\"\"\n",
      "    410         try:\n",
      "    411             # Use a NullContext to ensure that all StackContexts are run\n",
      "    412             # inside our blanket exception handler rather than outside.\n",
      "    413             with stack_context.NullContext():\n",
      "--> 414                 callback(*args, **kwargs)\n",
      "        callback = <function wrap.<locals>.null_wrapper>\n",
      "        args = ([<zmq.sugar.frame.Frame object>, <zmq.sugar.frame.Frame object>, <zmq.sugar.frame.Frame object>, <zmq.sugar.frame.Frame object>, <zmq.sugar.frame.Frame object>, <zmq.sugar.frame.Frame object>, <zmq.sugar.frame.Frame object>],)\n",
      "        kwargs = {}\n",
      "    415         except:\n",
      "    416             gen_log.error(\"Uncaught exception, closing connection.\",\n",
      "    417                           exc_info=True)\n",
      "    418             # Close the socket on an uncaught exception from a user callback\n",
      "\n",
      "...........................................................................\n",
      "/home/bob/.local/lib/python3.6/site-packages/tornado/stack_context.py in null_wrapper(*args=([<zmq.sugar.frame.Frame object>, <zmq.sugar.frame.Frame object>, <zmq.sugar.frame.Frame object>, <zmq.sugar.frame.Frame object>, <zmq.sugar.frame.Frame object>, <zmq.sugar.frame.Frame object>, <zmq.sugar.frame.Frame object>],), **kwargs={})\n",
      "    272         # Fast path when there are no active contexts.\n",
      "    273         def null_wrapper(*args, **kwargs):\n",
      "    274             try:\n",
      "    275                 current_state = _state.contexts\n",
      "    276                 _state.contexts = cap_contexts[0]\n",
      "--> 277                 return fn(*args, **kwargs)\n",
      "        args = ([<zmq.sugar.frame.Frame object>, <zmq.sugar.frame.Frame object>, <zmq.sugar.frame.Frame object>, <zmq.sugar.frame.Frame object>, <zmq.sugar.frame.Frame object>, <zmq.sugar.frame.Frame object>, <zmq.sugar.frame.Frame object>],)\n",
      "        kwargs = {}\n",
      "    278             finally:\n",
      "    279                 _state.contexts = current_state\n",
      "    280         null_wrapper._wrapped = True\n",
      "    281         return null_wrapper\n",
      "\n",
      "...........................................................................\n",
      "/home/bob/.local/lib/python3.6/site-packages/ipykernel/kernelbase.py in dispatcher(msg=[<zmq.sugar.frame.Frame object>, <zmq.sugar.frame.Frame object>, <zmq.sugar.frame.Frame object>, <zmq.sugar.frame.Frame object>, <zmq.sugar.frame.Frame object>, <zmq.sugar.frame.Frame object>, <zmq.sugar.frame.Frame object>])\n",
      "    276         if self.control_stream:\n",
      "    277             self.control_stream.on_recv(self.dispatch_control, copy=False)\n",
      "    278 \n",
      "    279         def make_dispatcher(stream):\n",
      "    280             def dispatcher(msg):\n",
      "--> 281                 return self.dispatch_shell(stream, msg)\n",
      "        msg = [<zmq.sugar.frame.Frame object>, <zmq.sugar.frame.Frame object>, <zmq.sugar.frame.Frame object>, <zmq.sugar.frame.Frame object>, <zmq.sugar.frame.Frame object>, <zmq.sugar.frame.Frame object>, <zmq.sugar.frame.Frame object>]\n",
      "    282             return dispatcher\n",
      "    283 \n",
      "    284         for s in self.shell_streams:\n",
      "    285             s.on_recv(make_dispatcher(s), copy=False)\n",
      "\n",
      "...........................................................................\n",
      "/home/bob/.local/lib/python3.6/site-packages/ipykernel/kernelbase.py in dispatch_shell(self=<ipykernel.ipkernel.IPythonKernel object>, stream=<zmq.eventloop.zmqstream.ZMQStream object>, msg={'buffers': [], 'content': {'allow_stdin': True, 'code': \"from gensim import sklearn_api\\n\\nfrom sklearn.ens..._log_loss'))\\nexcept ValueError as e:\\n    print(e)\", 'silent': False, 'stop_on_error': True, 'store_history': True, 'user_expressions': {}}, 'header': {'date': datetime.datetime(2018, 1, 3, 12, 3, 20, 407993, tzinfo=tzutc()), 'msg_id': '207F737F95354F0BAD382A75B510CD9D', 'msg_type': 'execute_request', 'session': '512E4502520F4C58B500E845BCAB949B', 'username': 'username', 'version': '5.0'}, 'metadata': {}, 'msg_id': '207F737F95354F0BAD382A75B510CD9D', 'msg_type': 'execute_request', 'parent_header': {}})\n",
      "    227             self.log.warn(\"Unknown message type: %r\", msg_type)\n",
      "    228         else:\n",
      "    229             self.log.debug(\"%s: %s\", msg_type, msg)\n",
      "    230             self.pre_handler_hook()\n",
      "    231             try:\n",
      "--> 232                 handler(stream, idents, msg)\n",
      "        handler = <bound method Kernel.execute_request of <ipykernel.ipkernel.IPythonKernel object>>\n",
      "        stream = <zmq.eventloop.zmqstream.ZMQStream object>\n",
      "        idents = [b'512E4502520F4C58B500E845BCAB949B']\n",
      "        msg = {'buffers': [], 'content': {'allow_stdin': True, 'code': \"from gensim import sklearn_api\\n\\nfrom sklearn.ens..._log_loss'))\\nexcept ValueError as e:\\n    print(e)\", 'silent': False, 'stop_on_error': True, 'store_history': True, 'user_expressions': {}}, 'header': {'date': datetime.datetime(2018, 1, 3, 12, 3, 20, 407993, tzinfo=tzutc()), 'msg_id': '207F737F95354F0BAD382A75B510CD9D', 'msg_type': 'execute_request', 'session': '512E4502520F4C58B500E845BCAB949B', 'username': 'username', 'version': '5.0'}, 'metadata': {}, 'msg_id': '207F737F95354F0BAD382A75B510CD9D', 'msg_type': 'execute_request', 'parent_header': {}}\n",
      "    233             except Exception:\n",
      "    234                 self.log.error(\"Exception in message handler:\", exc_info=True)\n",
      "    235             finally:\n",
      "    236                 self.post_handler_hook()\n",
      "\n",
      "...........................................................................\n",
      "/home/bob/.local/lib/python3.6/site-packages/ipykernel/kernelbase.py in execute_request(self=<ipykernel.ipkernel.IPythonKernel object>, stream=<zmq.eventloop.zmqstream.ZMQStream object>, ident=[b'512E4502520F4C58B500E845BCAB949B'], parent={'buffers': [], 'content': {'allow_stdin': True, 'code': \"from gensim import sklearn_api\\n\\nfrom sklearn.ens..._log_loss'))\\nexcept ValueError as e:\\n    print(e)\", 'silent': False, 'stop_on_error': True, 'store_history': True, 'user_expressions': {}}, 'header': {'date': datetime.datetime(2018, 1, 3, 12, 3, 20, 407993, tzinfo=tzutc()), 'msg_id': '207F737F95354F0BAD382A75B510CD9D', 'msg_type': 'execute_request', 'session': '512E4502520F4C58B500E845BCAB949B', 'username': 'username', 'version': '5.0'}, 'metadata': {}, 'msg_id': '207F737F95354F0BAD382A75B510CD9D', 'msg_type': 'execute_request', 'parent_header': {}})\n",
      "    392         if not silent:\n",
      "    393             self.execution_count += 1\n",
      "    394             self._publish_execute_input(code, parent, self.execution_count)\n",
      "    395 \n",
      "    396         reply_content = self.do_execute(code, silent, store_history,\n",
      "--> 397                                         user_expressions, allow_stdin)\n",
      "        user_expressions = {}\n",
      "        allow_stdin = True\n",
      "    398 \n",
      "    399         # Flush output before sending the reply.\n",
      "    400         sys.stdout.flush()\n",
      "    401         sys.stderr.flush()\n",
      "\n",
      "...........................................................................\n",
      "/home/bob/.local/lib/python3.6/site-packages/ipykernel/ipkernel.py in do_execute(self=<ipykernel.ipkernel.IPythonKernel object>, code=\"from gensim import sklearn_api\\n\\nfrom sklearn.ens..._log_loss'))\\nexcept ValueError as e:\\n    print(e)\", silent=False, store_history=True, user_expressions={}, allow_stdin=True)\n",
      "    203 \n",
      "    204         self._forward_input(allow_stdin)\n",
      "    205 \n",
      "    206         reply_content = {}\n",
      "    207         try:\n",
      "--> 208             res = shell.run_cell(code, store_history=store_history, silent=silent)\n",
      "        res = undefined\n",
      "        shell.run_cell = <bound method ZMQInteractiveShell.run_cell of <ipykernel.zmqshell.ZMQInteractiveShell object>>\n",
      "        code = \"from gensim import sklearn_api\\n\\nfrom sklearn.ens..._log_loss'))\\nexcept ValueError as e:\\n    print(e)\"\n",
      "        store_history = True\n",
      "        silent = False\n",
      "    209         finally:\n",
      "    210             self._restore_input()\n",
      "    211 \n",
      "    212         if res.error_before_exec is not None:\n",
      "\n",
      "...........................................................................\n",
      "/home/bob/.local/lib/python3.6/site-packages/ipykernel/zmqshell.py in run_cell(self=<ipykernel.zmqshell.ZMQInteractiveShell object>, *args=(\"from gensim import sklearn_api\\n\\nfrom sklearn.ens..._log_loss'))\\nexcept ValueError as e:\\n    print(e)\",), **kwargs={'silent': False, 'store_history': True})\n",
      "    528             )\n",
      "    529         self.payload_manager.write_payload(payload)\n",
      "    530 \n",
      "    531     def run_cell(self, *args, **kwargs):\n",
      "    532         self._last_traceback = None\n",
      "--> 533         return super(ZMQInteractiveShell, self).run_cell(*args, **kwargs)\n",
      "        self.run_cell = <bound method ZMQInteractiveShell.run_cell of <ipykernel.zmqshell.ZMQInteractiveShell object>>\n",
      "        args = (\"from gensim import sklearn_api\\n\\nfrom sklearn.ens..._log_loss'))\\nexcept ValueError as e:\\n    print(e)\",)\n",
      "        kwargs = {'silent': False, 'store_history': True}\n",
      "    534 \n",
      "    535     def _showtraceback(self, etype, evalue, stb):\n",
      "    536         # try to preserve ordering of tracebacks and print statements\n",
      "    537         sys.stdout.flush()\n",
      "\n",
      "...........................................................................\n",
      "/home/bob/.local/lib/python3.6/site-packages/IPython/core/interactiveshell.py in run_cell(self=<ipykernel.zmqshell.ZMQInteractiveShell object>, raw_cell=\"from gensim import sklearn_api\\n\\nfrom sklearn.ens..._log_loss'))\\nexcept ValueError as e:\\n    print(e)\", store_history=True, silent=False, shell_futures=True)\n",
      "   2723                 self.displayhook.exec_result = result\n",
      "   2724 \n",
      "   2725                 # Execute the user code\n",
      "   2726                 interactivity = \"none\" if silent else self.ast_node_interactivity\n",
      "   2727                 has_raised = self.run_ast_nodes(code_ast.body, cell_name,\n",
      "-> 2728                    interactivity=interactivity, compiler=compiler, result=result)\n",
      "        interactivity = 'last_expr'\n",
      "        compiler = <IPython.core.compilerop.CachingCompiler object>\n",
      "   2729                 \n",
      "   2730                 self.last_execution_succeeded = not has_raised\n",
      "   2731                 self.last_execution_result = result\n",
      "   2732 \n",
      "\n",
      "...........................................................................\n",
      "/home/bob/.local/lib/python3.6/site-packages/IPython/core/interactiveshell.py in run_ast_nodes(self=<ipykernel.zmqshell.ZMQInteractiveShell object>, nodelist=[<_ast.ImportFrom object>, <_ast.ImportFrom object>, <_ast.Assign object>, <_ast.Try object>], cell_name='<ipython-input-74-fc4cc2318033>', interactivity='none', compiler=<IPython.core.compilerop.CachingCompiler object>, result=<ExecutionResult object at 7f60282551d0, executi..._before_exec=None error_in_exec=None result=None>)\n",
      "   2845 \n",
      "   2846         try:\n",
      "   2847             for i, node in enumerate(to_run_exec):\n",
      "   2848                 mod = ast.Module([node])\n",
      "   2849                 code = compiler(mod, cell_name, \"exec\")\n",
      "-> 2850                 if self.run_code(code, result):\n",
      "        self.run_code = <bound method InteractiveShell.run_code of <ipykernel.zmqshell.ZMQInteractiveShell object>>\n",
      "        code = <code object <module> at 0x7f6026d6ae40, file \"<ipython-input-74-fc4cc2318033>\", line 9>\n",
      "        result = <ExecutionResult object at 7f60282551d0, executi..._before_exec=None error_in_exec=None result=None>\n",
      "   2851                     return True\n",
      "   2852 \n",
      "   2853             for i, node in enumerate(to_run_interactive):\n",
      "   2854                 mod = ast.Interactive([node])\n",
      "\n",
      "...........................................................................\n",
      "/home/bob/.local/lib/python3.6/site-packages/IPython/core/interactiveshell.py in run_code(self=<ipykernel.zmqshell.ZMQInteractiveShell object>, code_obj=<code object <module> at 0x7f6026d6ae40, file \"<ipython-input-74-fc4cc2318033>\", line 9>, result=<ExecutionResult object at 7f60282551d0, executi..._before_exec=None error_in_exec=None result=None>)\n",
      "   2905         outflag = True  # happens in more places, so it's easier as default\n",
      "   2906         try:\n",
      "   2907             try:\n",
      "   2908                 self.hooks.pre_run_code_hook()\n",
      "   2909                 #rprint('Running code', repr(code_obj)) # dbg\n",
      "-> 2910                 exec(code_obj, self.user_global_ns, self.user_ns)\n",
      "        code_obj = <code object <module> at 0x7f6026d6ae40, file \"<ipython-input-74-fc4cc2318033>\", line 9>\n",
      "        self.user_global_ns = {'Adam': <class 'keras.optimizers.Adam'>, 'Concatenate': <class 'keras.layers.merge.Concatenate'>, 'Conv2D': <class 'keras.layers.convolutional.Conv2D'>, 'CountVectorizer': <class 'sklearn.feature_extraction.text.CountVectorizer'>, 'Dense': <class 'keras.layers.core.Dense'>, 'Dropout': <class 'keras.layers.core.Dropout'>, 'FILENAME': 'processed_texts.pickle', 'HashingVectorizer': <class 'sklearn.feature_extraction.text.HashingVectorizer'>, 'In': ['', \"# corpus = [dictionary.doc2bow(text) for text in...k\\ncorpus = corpora.mmcorpus.MmCorpus('spooky.mm')\", \"import numpy as np\\nimport matplotlib.pyplot as p...lib', 'inline')\\n\\npd.options.display.max_rows = 10\", '# Dataset\\n\\n# use this if in fmi-hw... repo\\n# tra...pe)\\nprint(set(train.columns) - set(test.columns))', 'train.head(5)', 'from sklearn.pipeline import Pipeline\\nfrom sklea...om sklearn.model_selection import cross_val_score', \"pipeline = Pipeline([\\n    ('features', CountVect...peline, train.text, train.author, cv=3, n_jobs=3)\", 'from sklearn.model_selection import cross_val_pr...peline, train.text, train.author, cv=3, n_jobs=3)', \"import itertools\\nfrom sklearn.metrics import con...l('True label')\\n    plt.xlabel('Predicted label')\", 'pipeline.fit(train.text, train.author)\\nauthors =...matrix(train.author, prediction, classes=authors)', 'plot_confusion_matrix(train.author, prediction, classes=authors, normalize=True)', \"from sklearn.ensemble import RandomForestClassif...         cv=3, n_jobs=3, scoring='neg_log_loss'))\", \"from sklearn.linear_model import LogisticRegress...log_loss'))\\n\\n# Получихме малко по-добри резултати\", 'explore = train.copy()', \"# # бр. думи в текста\\n# explore['words'] = explo... sum([c in string.punctuation for c in str(s)]) )\", \"import nltk\\n# nltk.download('stopwords')\\nstopwords = nltk.corpus.stopwords.words('english')\", \"import nltk\\nnltk.download('stopwords')\\nstopwords = nltk.corpus.stopwords.words('english')\", \"import nltk\\n# nltk.download('stopwords')\\nstopwords = nltk.corpus.stopwords.words('english')\", \"# features_names = list(set(explore.columns) - {...or'})\\n# print('numeric features', features_names)\", \"from nltk.stem import WordNetLemmatizer\\nfrom nlt....split()])) \\n\\nexplore[['stemmed', 'text']].head()\", ...], 'Input': <function Input>, ...}\n",
      "        self.user_ns = {'Adam': <class 'keras.optimizers.Adam'>, 'Concatenate': <class 'keras.layers.merge.Concatenate'>, 'Conv2D': <class 'keras.layers.convolutional.Conv2D'>, 'CountVectorizer': <class 'sklearn.feature_extraction.text.CountVectorizer'>, 'Dense': <class 'keras.layers.core.Dense'>, 'Dropout': <class 'keras.layers.core.Dropout'>, 'FILENAME': 'processed_texts.pickle', 'HashingVectorizer': <class 'sklearn.feature_extraction.text.HashingVectorizer'>, 'In': ['', \"# corpus = [dictionary.doc2bow(text) for text in...k\\ncorpus = corpora.mmcorpus.MmCorpus('spooky.mm')\", \"import numpy as np\\nimport matplotlib.pyplot as p...lib', 'inline')\\n\\npd.options.display.max_rows = 10\", '# Dataset\\n\\n# use this if in fmi-hw... repo\\n# tra...pe)\\nprint(set(train.columns) - set(test.columns))', 'train.head(5)', 'from sklearn.pipeline import Pipeline\\nfrom sklea...om sklearn.model_selection import cross_val_score', \"pipeline = Pipeline([\\n    ('features', CountVect...peline, train.text, train.author, cv=3, n_jobs=3)\", 'from sklearn.model_selection import cross_val_pr...peline, train.text, train.author, cv=3, n_jobs=3)', \"import itertools\\nfrom sklearn.metrics import con...l('True label')\\n    plt.xlabel('Predicted label')\", 'pipeline.fit(train.text, train.author)\\nauthors =...matrix(train.author, prediction, classes=authors)', 'plot_confusion_matrix(train.author, prediction, classes=authors, normalize=True)', \"from sklearn.ensemble import RandomForestClassif...         cv=3, n_jobs=3, scoring='neg_log_loss'))\", \"from sklearn.linear_model import LogisticRegress...log_loss'))\\n\\n# Получихме малко по-добри резултати\", 'explore = train.copy()', \"# # бр. думи в текста\\n# explore['words'] = explo... sum([c in string.punctuation for c in str(s)]) )\", \"import nltk\\n# nltk.download('stopwords')\\nstopwords = nltk.corpus.stopwords.words('english')\", \"import nltk\\nnltk.download('stopwords')\\nstopwords = nltk.corpus.stopwords.words('english')\", \"import nltk\\n# nltk.download('stopwords')\\nstopwords = nltk.corpus.stopwords.words('english')\", \"# features_names = list(set(explore.columns) - {...or'})\\n# print('numeric features', features_names)\", \"from nltk.stem import WordNetLemmatizer\\nfrom nlt....split()])) \\n\\nexplore[['stemmed', 'text']].head()\", ...], 'Input': <function Input>, ...}\n",
      "   2911             finally:\n",
      "   2912                 # Reset our crash handler in place\n",
      "   2913                 sys.excepthook = old_excepthook\n",
      "   2914         except SystemExit as e:\n",
      "\n",
      "...........................................................................\n",
      "/home/bob/gits/spooky/<ipython-input-74-fc4cc2318033> in <module>()\n",
      "      5     ('features', sklearn_api.text2bow.Text2BowTransformer()),\n",
      "      6     ('clf', RandomForestClassifier())\n",
      "      7 ])\n",
      "      8 \n",
      "      9 try:\n",
      "---> 10     print(cross_val_score(pipeline, train.text, train.author, cv=3, n_jobs=3))\n",
      "     11     print(cross_val_score(pipeline, train.text, train.author, \n",
      "     12                     cv=3, n_jobs=3, scoring='neg_log_loss'))\n",
      "     13 except ValueError as e:\n",
      "     14     print(e)\n",
      "\n",
      "...........................................................................\n",
      "/home/bob/.local/lib/python3.6/site-packages/sklearn/model_selection/_validation.py in cross_val_score(estimator=Pipeline(memory=None,\n",
      "     steps=[('features', T...None, verbose=0,\n",
      "            warm_start=False))]), X=id\n",
      "id26305    This process, however, afforded me...d it ...\n",
      "Name: text, Length: 19579, dtype: object, y=id\n",
      "id26305    EAP\n",
      "id17569    HPL\n",
      "id11008    EAP\n",
      "...   HPL\n",
      "Name: author, Length: 19579, dtype: object, groups=None, scoring=None, cv=3, n_jobs=3, verbose=0, fit_params=None, pre_dispatch='2*n_jobs')\n",
      "    337     cv_results = cross_validate(estimator=estimator, X=X, y=y, groups=groups,\n",
      "    338                                 scoring={'score': scorer}, cv=cv,\n",
      "    339                                 return_train_score=False,\n",
      "    340                                 n_jobs=n_jobs, verbose=verbose,\n",
      "    341                                 fit_params=fit_params,\n",
      "--> 342                                 pre_dispatch=pre_dispatch)\n",
      "        pre_dispatch = '2*n_jobs'\n",
      "    343     return cv_results['test_score']\n",
      "    344 \n",
      "    345 \n",
      "    346 def _fit_and_score(estimator, X, y, scorer, train, test, verbose,\n",
      "\n",
      "...........................................................................\n",
      "/home/bob/.local/lib/python3.6/site-packages/sklearn/model_selection/_validation.py in cross_validate(estimator=Pipeline(memory=None,\n",
      "     steps=[('features', T...None, verbose=0,\n",
      "            warm_start=False))]), X=id\n",
      "id26305    This process, however, afforded me...d it ...\n",
      "Name: text, Length: 19579, dtype: object, y=id\n",
      "id26305    EAP\n",
      "id17569    HPL\n",
      "id11008    EAP\n",
      "...   HPL\n",
      "Name: author, Length: 19579, dtype: object, groups=None, scoring={'score': <function _passthrough_scorer>}, cv=StratifiedKFold(n_splits=3, random_state=None, shuffle=False), n_jobs=3, verbose=0, fit_params=None, pre_dispatch='2*n_jobs', return_train_score=False)\n",
      "    201     scores = parallel(\n",
      "    202         delayed(_fit_and_score)(\n",
      "    203             clone(estimator), X, y, scorers, train, test, verbose, None,\n",
      "    204             fit_params, return_train_score=return_train_score,\n",
      "    205             return_times=True)\n",
      "--> 206         for train, test in cv.split(X, y, groups))\n",
      "        cv.split = <bound method StratifiedKFold.split of Stratifie...ld(n_splits=3, random_state=None, shuffle=False)>\n",
      "        X = id\n",
      "id26305    This process, however, afforded me...d it ...\n",
      "Name: text, Length: 19579, dtype: object\n",
      "        y = id\n",
      "id26305    EAP\n",
      "id17569    HPL\n",
      "id11008    EAP\n",
      "...   HPL\n",
      "Name: author, Length: 19579, dtype: object\n",
      "        groups = None\n",
      "    207 \n",
      "    208     if return_train_score:\n",
      "    209         train_scores, test_scores, fit_times, score_times = zip(*scores)\n",
      "    210         train_scores = _aggregate_score_dicts(train_scores)\n",
      "\n",
      "...........................................................................\n",
      "/home/bob/.local/lib/python3.6/site-packages/sklearn/externals/joblib/parallel.py in __call__(self=Parallel(n_jobs=3), iterable=<generator object cross_validate.<locals>.<genexpr>>)\n",
      "    784             if pre_dispatch == \"all\" or n_jobs == 1:\n",
      "    785                 # The iterable was consumed all at once by the above for loop.\n",
      "    786                 # No need to wait for async callbacks to trigger to\n",
      "    787                 # consumption.\n",
      "    788                 self._iterating = False\n",
      "--> 789             self.retrieve()\n",
      "        self.retrieve = <bound method Parallel.retrieve of Parallel(n_jobs=3)>\n",
      "    790             # Make sure that we get a last message telling us we are done\n",
      "    791             elapsed_time = time.time() - self._start_time\n",
      "    792             self._print('Done %3i out of %3i | elapsed: %s finished',\n",
      "    793                         (len(self._output), len(self._output),\n",
      "\n",
      "---------------------------------------------------------------------------\n",
      "Sub-process traceback:\n",
      "---------------------------------------------------------------------------\n",
      "ValueError                                         Wed Jan  3 04:03:23 2018\n",
      "PID: 18552                                   Python 3.6.3: /usr/bin/python3\n",
      "...........................................................................\n",
      "/home/bob/.local/lib/python3.6/site-packages/sklearn/externals/joblib/parallel.py in __call__(self=<sklearn.externals.joblib.parallel.BatchedCalls object>)\n",
      "    126     def __init__(self, iterator_slice):\n",
      "    127         self.items = list(iterator_slice)\n",
      "    128         self._size = len(self.items)\n",
      "    129 \n",
      "    130     def __call__(self):\n",
      "--> 131         return [func(*args, **kwargs) for func, args, kwargs in self.items]\n",
      "        self.items = [(<function _fit_and_score>, (Pipeline(memory=None,\n",
      "     steps=[('features', T...None, verbose=0,\n",
      "            warm_start=False))]), id\n",
      "id26305    This process, however, afforded me...d it ...\n",
      "Name: text, Length: 19579, dtype: object, id\n",
      "id26305    EAP\n",
      "id17569    HPL\n",
      "id11008    EAP\n",
      "...   HPL\n",
      "Name: author, Length: 19579, dtype: object, {'score': <function _passthrough_scorer>}, array([ 6475,  6476,  6478, ..., 19576, 19577, 19578]), array([   0,    1,    2, ..., 6604, 6605, 6606]), 0, None, None), {'return_times': True, 'return_train_score': False})]\n",
      "    132 \n",
      "    133     def __len__(self):\n",
      "    134         return self._size\n",
      "    135 \n",
      "\n",
      "...........................................................................\n",
      "/home/bob/.local/lib/python3.6/site-packages/sklearn/externals/joblib/parallel.py in <listcomp>(.0=<list_iterator object>)\n",
      "    126     def __init__(self, iterator_slice):\n",
      "    127         self.items = list(iterator_slice)\n",
      "    128         self._size = len(self.items)\n",
      "    129 \n",
      "    130     def __call__(self):\n",
      "--> 131         return [func(*args, **kwargs) for func, args, kwargs in self.items]\n",
      "        func = <function _fit_and_score>\n",
      "        args = (Pipeline(memory=None,\n",
      "     steps=[('features', T...None, verbose=0,\n",
      "            warm_start=False))]), id\n",
      "id26305    This process, however, afforded me...d it ...\n",
      "Name: text, Length: 19579, dtype: object, id\n",
      "id26305    EAP\n",
      "id17569    HPL\n",
      "id11008    EAP\n",
      "...   HPL\n",
      "Name: author, Length: 19579, dtype: object, {'score': <function _passthrough_scorer>}, array([ 6475,  6476,  6478, ..., 19576, 19577, 19578]), array([   0,    1,    2, ..., 6604, 6605, 6606]), 0, None, None)\n",
      "        kwargs = {'return_times': True, 'return_train_score': False}\n",
      "    132 \n",
      "    133     def __len__(self):\n",
      "    134         return self._size\n",
      "    135 \n",
      "\n",
      "...........................................................................\n",
      "/home/bob/.local/lib/python3.6/site-packages/sklearn/model_selection/_validation.py in _fit_and_score(estimator=Pipeline(memory=None,\n",
      "     steps=[('features', T...None, verbose=0,\n",
      "            warm_start=False))]), X=id\n",
      "id26305    This process, however, afforded me...d it ...\n",
      "Name: text, Length: 19579, dtype: object, y=id\n",
      "id26305    EAP\n",
      "id17569    HPL\n",
      "id11008    EAP\n",
      "...   HPL\n",
      "Name: author, Length: 19579, dtype: object, scorer={'score': <function _passthrough_scorer>}, train=array([ 6475,  6476,  6478, ..., 19576, 19577, 19578]), test=array([   0,    1,    2, ..., 6604, 6605, 6606]), verbose=0, parameters=None, fit_params={}, return_train_score=False, return_parameters=False, return_n_test_samples=False, return_times=True, error_score='raise')\n",
      "    453 \n",
      "    454     try:\n",
      "    455         if y_train is None:\n",
      "    456             estimator.fit(X_train, **fit_params)\n",
      "    457         else:\n",
      "--> 458             estimator.fit(X_train, y_train, **fit_params)\n",
      "        estimator.fit = <bound method Pipeline.fit of Pipeline(memory=No...one, verbose=0,\n",
      "            warm_start=False))])>\n",
      "        X_train = id\n",
      "id15739    Its close resemblance to the medic...d it ...\n",
      "Name: text, Length: 13051, dtype: object\n",
      "        y_train = id\n",
      "id15739    EAP\n",
      "id19588    EAP\n",
      "id11059    EAP\n",
      "...   HPL\n",
      "Name: author, Length: 13051, dtype: object\n",
      "        fit_params = {}\n",
      "    459 \n",
      "    460     except Exception as e:\n",
      "    461         # Note fit time as time until error\n",
      "    462         fit_time = time.time() - start_time\n",
      "\n",
      "...........................................................................\n",
      "/home/bob/.local/lib/python3.6/site-packages/sklearn/pipeline.py in fit(self=Pipeline(memory=None,\n",
      "     steps=[('features', T...None, verbose=0,\n",
      "            warm_start=False))]), X=id\n",
      "id15739    Its close resemblance to the medic...d it ...\n",
      "Name: text, Length: 13051, dtype: object, y=id\n",
      "id15739    EAP\n",
      "id19588    EAP\n",
      "id11059    EAP\n",
      "...   HPL\n",
      "Name: author, Length: 13051, dtype: object, **fit_params={})\n",
      "    245         self : Pipeline\n",
      "    246             This estimator\n",
      "    247         \"\"\"\n",
      "    248         Xt, fit_params = self._fit(X, y, **fit_params)\n",
      "    249         if self._final_estimator is not None:\n",
      "--> 250             self._final_estimator.fit(Xt, y, **fit_params)\n",
      "        self._final_estimator.fit = <bound method BaseForest.fit of RandomForestClas...e=None, verbose=0,\n",
      "            warm_start=False)>\n",
      "        Xt = [[(0, 1), (1, 1), (2, 1), (3, 1), (4, 1), (5, 1), (6, 1), (7, 1), (8, 1), (9, 1), (10, 2), (11, 2), (12, 1), (13, 1)], [(10, 1), (11, 1), (14, 1), (15, 1), (16, 1), (17, 1), (18, 1), (19, 1), (20, 1), (21, 1), (22, 1), (23, 1), (24, 1)], [(1, 1), (10, 5), (14, 1), (18, 1), (19, 1), (22, 1), (25, 1), (26, 1), (27, 1), (28, 1), (29, 1), (30, 1), (31, 1), (32, 1), (33, 2), (34, 1), (35, 1), (36, 1), (37, 2), (38, 1), ...], [(10, 1), (19, 2), (23, 1), (30, 1), (47, 1), (48, 1), (49, 1), (50, 1), (51, 1), (52, 1), (53, 1), (54, 1), (55, 2), (56, 1), (57, 2), (58, 1), (59, 1)], [(10, 2), (36, 1), (47, 2), (60, 1), (61, 1), (62, 1), (63, 1), (64, 1), (65, 2), (66, 1), (67, 2), (68, 1), (69, 2), (70, 1)], [(47, 1), (53, 1), (61, 1), (71, 1), (72, 1), (73, 1), (74, 1), (75, 1), (76, 1), (77, 1)], [(10, 7), (11, 3), (18, 1), (22, 1), (31, 2), (37, 3), (46, 1), (64, 1), (65, 1), (78, 1), (79, 1), (80, 1), (81, 1), (82, 1), (83, 1), (84, 1), (85, 1), (86, 1), (87, 2), (88, 2), ...], [(10, 1), (19, 1), (22, 1), (24, 1), (29, 1), (30, 1), (47, 1), (51, 1), (53, 1), (56, 1), (61, 1), (102, 1), (113, 1), (115, 1), (116, 1), (117, 1), (118, 1), (119, 1), (120, 1), (121, 1), ...], [(10, 1), (11, 1), (30, 1), (31, 1), (47, 2), (52, 2), (61, 1), (91, 1), (98, 1), (103, 2), (124, 1), (125, 1), (126, 1), (127, 1), (128, 1), (129, 1), (130, 2), (131, 1), (132, 1)], [(10, 5), (19, 3), (22, 2), (49, 1), (53, 1), (61, 2), (104, 1), (133, 1), (134, 1), (135, 1), (136, 1), (137, 1), (138, 1), (139, 1), (140, 1), (141, 1), (142, 1), (143, 1), (144, 1), (145, 1), ...], [(10, 1), (11, 2), (61, 1), (72, 1), (155, 1), (156, 1), (157, 1), (158, 1), (159, 1), (160, 1), (161, 1), (162, 1), (163, 1), (164, 1), (165, 1), (166, 1)], [(10, 4), (11, 1), (19, 1), (22, 2), (29, 2), (53, 1), (57, 1), (61, 1), (167, 1), (168, 1), (169, 1), (170, 1), (171, 1), (172, 1), (173, 1), (174, 1), (175, 1), (176, 1), (177, 1), (178, 1), ...], [(10, 1), (15, 1), (19, 3), (24, 3), (29, 4), (41, 1), (49, 1), (56, 1), (57, 2), (61, 1), (165, 1), (190, 1), (191, 1), (192, 1), (193, 1), (194, 1), (195, 1), (196, 1), (197, 1), (198, 1), ...], [(10, 5), (11, 1), (19, 3), (22, 2), (24, 1), (30, 1), (47, 2), (61, 2), (65, 1), (66, 1), (71, 1), (72, 1), (103, 1), (111, 1), (124, 1), (131, 1), (217, 1), (218, 1), (219, 1), (220, 1), ...], [(10, 4), (11, 2), (19, 4), (22, 1), (24, 2), (29, 2), (36, 1), (45, 2), (47, 1), (53, 3), (56, 2), (61, 2), (69, 2), (112, 1), (127, 1), (241, 1), (242, 1), (243, 1), (244, 1), (245, 2), ...], [(10, 1), (11, 2), (19, 1), (24, 1), (30, 1), (45, 1), (47, 2), (53, 1), (56, 1), (69, 1), (104, 1), (112, 1), (131, 1), (182, 1), (185, 1), (270, 1), (271, 1), (277, 1), (278, 1), (279, 1), ...], [(10, 3), (11, 2), (22, 1), (29, 3), (36, 2), (53, 1), (64, 1), (65, 1), (91, 1), (105, 2), (141, 1), (145, 1), (213, 1), (219, 1), (222, 1), (290, 1), (291, 1), (292, 1), (293, 1), (294, 1), ...], [(10, 1), (29, 2), (37, 1), (53, 1), (61, 1), (64, 1), (237, 1), (305, 1), (306, 1), (307, 1), (308, 1), (309, 1), (310, 1), (311, 1), (312, 1), (313, 1), (314, 1), (315, 1)], [(10, 1), (316, 1), (317, 1), (318, 1)], [(18, 2), (36, 1), (52, 1), (92, 1), (130, 1), (319, 1), (320, 1), (321, 1), (322, 1)], ...]\n",
      "        y = id\n",
      "id15739    EAP\n",
      "id19588    EAP\n",
      "id11059    EAP\n",
      "...   HPL\n",
      "Name: author, Length: 13051, dtype: object\n",
      "        fit_params = {}\n",
      "    251         return self\n",
      "    252 \n",
      "    253     def fit_transform(self, X, y=None, **fit_params):\n",
      "    254         \"\"\"Fit the model and transform with the final estimator\n",
      "\n",
      "...........................................................................\n",
      "/home/bob/.local/lib/python3.6/site-packages/sklearn/ensemble/forest.py in fit(self=RandomForestClassifier(bootstrap=True, class_wei...te=None, verbose=0,\n",
      "            warm_start=False), X=[[(0, 1), (1, 1), (2, 1), (3, 1), (4, 1), (5, 1), (6, 1), (7, 1), (8, 1), (9, 1), (10, 2), (11, 2), (12, 1), (13, 1)], [(10, 1), (11, 1), (14, 1), (15, 1), (16, 1), (17, 1), (18, 1), (19, 1), (20, 1), (21, 1), (22, 1), (23, 1), (24, 1)], [(1, 1), (10, 5), (14, 1), (18, 1), (19, 1), (22, 1), (25, 1), (26, 1), (27, 1), (28, 1), (29, 1), (30, 1), (31, 1), (32, 1), (33, 2), (34, 1), (35, 1), (36, 1), (37, 2), (38, 1), ...], [(10, 1), (19, 2), (23, 1), (30, 1), (47, 1), (48, 1), (49, 1), (50, 1), (51, 1), (52, 1), (53, 1), (54, 1), (55, 2), (56, 1), (57, 2), (58, 1), (59, 1)], [(10, 2), (36, 1), (47, 2), (60, 1), (61, 1), (62, 1), (63, 1), (64, 1), (65, 2), (66, 1), (67, 2), (68, 1), (69, 2), (70, 1)], [(47, 1), (53, 1), (61, 1), (71, 1), (72, 1), (73, 1), (74, 1), (75, 1), (76, 1), (77, 1)], [(10, 7), (11, 3), (18, 1), (22, 1), (31, 2), (37, 3), (46, 1), (64, 1), (65, 1), (78, 1), (79, 1), (80, 1), (81, 1), (82, 1), (83, 1), (84, 1), (85, 1), (86, 1), (87, 2), (88, 2), ...], [(10, 1), (19, 1), (22, 1), (24, 1), (29, 1), (30, 1), (47, 1), (51, 1), (53, 1), (56, 1), (61, 1), (102, 1), (113, 1), (115, 1), (116, 1), (117, 1), (118, 1), (119, 1), (120, 1), (121, 1), ...], [(10, 1), (11, 1), (30, 1), (31, 1), (47, 2), (52, 2), (61, 1), (91, 1), (98, 1), (103, 2), (124, 1), (125, 1), (126, 1), (127, 1), (128, 1), (129, 1), (130, 2), (131, 1), (132, 1)], [(10, 5), (19, 3), (22, 2), (49, 1), (53, 1), (61, 2), (104, 1), (133, 1), (134, 1), (135, 1), (136, 1), (137, 1), (138, 1), (139, 1), (140, 1), (141, 1), (142, 1), (143, 1), (144, 1), (145, 1), ...], [(10, 1), (11, 2), (61, 1), (72, 1), (155, 1), (156, 1), (157, 1), (158, 1), (159, 1), (160, 1), (161, 1), (162, 1), (163, 1), (164, 1), (165, 1), (166, 1)], [(10, 4), (11, 1), (19, 1), (22, 2), (29, 2), (53, 1), (57, 1), (61, 1), (167, 1), (168, 1), (169, 1), (170, 1), (171, 1), (172, 1), (173, 1), (174, 1), (175, 1), (176, 1), (177, 1), (178, 1), ...], [(10, 1), (15, 1), (19, 3), (24, 3), (29, 4), (41, 1), (49, 1), (56, 1), (57, 2), (61, 1), (165, 1), (190, 1), (191, 1), (192, 1), (193, 1), (194, 1), (195, 1), (196, 1), (197, 1), (198, 1), ...], [(10, 5), (11, 1), (19, 3), (22, 2), (24, 1), (30, 1), (47, 2), (61, 2), (65, 1), (66, 1), (71, 1), (72, 1), (103, 1), (111, 1), (124, 1), (131, 1), (217, 1), (218, 1), (219, 1), (220, 1), ...], [(10, 4), (11, 2), (19, 4), (22, 1), (24, 2), (29, 2), (36, 1), (45, 2), (47, 1), (53, 3), (56, 2), (61, 2), (69, 2), (112, 1), (127, 1), (241, 1), (242, 1), (243, 1), (244, 1), (245, 2), ...], [(10, 1), (11, 2), (19, 1), (24, 1), (30, 1), (45, 1), (47, 2), (53, 1), (56, 1), (69, 1), (104, 1), (112, 1), (131, 1), (182, 1), (185, 1), (270, 1), (271, 1), (277, 1), (278, 1), (279, 1), ...], [(10, 3), (11, 2), (22, 1), (29, 3), (36, 2), (53, 1), (64, 1), (65, 1), (91, 1), (105, 2), (141, 1), (145, 1), (213, 1), (219, 1), (222, 1), (290, 1), (291, 1), (292, 1), (293, 1), (294, 1), ...], [(10, 1), (29, 2), (37, 1), (53, 1), (61, 1), (64, 1), (237, 1), (305, 1), (306, 1), (307, 1), (308, 1), (309, 1), (310, 1), (311, 1), (312, 1), (313, 1), (314, 1), (315, 1)], [(10, 1), (316, 1), (317, 1), (318, 1)], [(18, 2), (36, 1), (52, 1), (92, 1), (130, 1), (319, 1), (320, 1), (321, 1), (322, 1)], ...], y=id\n",
      "id15739    EAP\n",
      "id19588    EAP\n",
      "id11059    EAP\n",
      "...   HPL\n",
      "Name: author, Length: 13051, dtype: object, sample_weight=None)\n",
      "    242         -------\n",
      "    243         self : object\n",
      "    244             Returns self.\n",
      "    245         \"\"\"\n",
      "    246         # Validate or convert input data\n",
      "--> 247         X = check_array(X, accept_sparse=\"csc\", dtype=DTYPE)\n",
      "        X = [[(0, 1), (1, 1), (2, 1), (3, 1), (4, 1), (5, 1), (6, 1), (7, 1), (8, 1), (9, 1), (10, 2), (11, 2), (12, 1), (13, 1)], [(10, 1), (11, 1), (14, 1), (15, 1), (16, 1), (17, 1), (18, 1), (19, 1), (20, 1), (21, 1), (22, 1), (23, 1), (24, 1)], [(1, 1), (10, 5), (14, 1), (18, 1), (19, 1), (22, 1), (25, 1), (26, 1), (27, 1), (28, 1), (29, 1), (30, 1), (31, 1), (32, 1), (33, 2), (34, 1), (35, 1), (36, 1), (37, 2), (38, 1), ...], [(10, 1), (19, 2), (23, 1), (30, 1), (47, 1), (48, 1), (49, 1), (50, 1), (51, 1), (52, 1), (53, 1), (54, 1), (55, 2), (56, 1), (57, 2), (58, 1), (59, 1)], [(10, 2), (36, 1), (47, 2), (60, 1), (61, 1), (62, 1), (63, 1), (64, 1), (65, 2), (66, 1), (67, 2), (68, 1), (69, 2), (70, 1)], [(47, 1), (53, 1), (61, 1), (71, 1), (72, 1), (73, 1), (74, 1), (75, 1), (76, 1), (77, 1)], [(10, 7), (11, 3), (18, 1), (22, 1), (31, 2), (37, 3), (46, 1), (64, 1), (65, 1), (78, 1), (79, 1), (80, 1), (81, 1), (82, 1), (83, 1), (84, 1), (85, 1), (86, 1), (87, 2), (88, 2), ...], [(10, 1), (19, 1), (22, 1), (24, 1), (29, 1), (30, 1), (47, 1), (51, 1), (53, 1), (56, 1), (61, 1), (102, 1), (113, 1), (115, 1), (116, 1), (117, 1), (118, 1), (119, 1), (120, 1), (121, 1), ...], [(10, 1), (11, 1), (30, 1), (31, 1), (47, 2), (52, 2), (61, 1), (91, 1), (98, 1), (103, 2), (124, 1), (125, 1), (126, 1), (127, 1), (128, 1), (129, 1), (130, 2), (131, 1), (132, 1)], [(10, 5), (19, 3), (22, 2), (49, 1), (53, 1), (61, 2), (104, 1), (133, 1), (134, 1), (135, 1), (136, 1), (137, 1), (138, 1), (139, 1), (140, 1), (141, 1), (142, 1), (143, 1), (144, 1), (145, 1), ...], [(10, 1), (11, 2), (61, 1), (72, 1), (155, 1), (156, 1), (157, 1), (158, 1), (159, 1), (160, 1), (161, 1), (162, 1), (163, 1), (164, 1), (165, 1), (166, 1)], [(10, 4), (11, 1), (19, 1), (22, 2), (29, 2), (53, 1), (57, 1), (61, 1), (167, 1), (168, 1), (169, 1), (170, 1), (171, 1), (172, 1), (173, 1), (174, 1), (175, 1), (176, 1), (177, 1), (178, 1), ...], [(10, 1), (15, 1), (19, 3), (24, 3), (29, 4), (41, 1), (49, 1), (56, 1), (57, 2), (61, 1), (165, 1), (190, 1), (191, 1), (192, 1), (193, 1), (194, 1), (195, 1), (196, 1), (197, 1), (198, 1), ...], [(10, 5), (11, 1), (19, 3), (22, 2), (24, 1), (30, 1), (47, 2), (61, 2), (65, 1), (66, 1), (71, 1), (72, 1), (103, 1), (111, 1), (124, 1), (131, 1), (217, 1), (218, 1), (219, 1), (220, 1), ...], [(10, 4), (11, 2), (19, 4), (22, 1), (24, 2), (29, 2), (36, 1), (45, 2), (47, 1), (53, 3), (56, 2), (61, 2), (69, 2), (112, 1), (127, 1), (241, 1), (242, 1), (243, 1), (244, 1), (245, 2), ...], [(10, 1), (11, 2), (19, 1), (24, 1), (30, 1), (45, 1), (47, 2), (53, 1), (56, 1), (69, 1), (104, 1), (112, 1), (131, 1), (182, 1), (185, 1), (270, 1), (271, 1), (277, 1), (278, 1), (279, 1), ...], [(10, 3), (11, 2), (22, 1), (29, 3), (36, 2), (53, 1), (64, 1), (65, 1), (91, 1), (105, 2), (141, 1), (145, 1), (213, 1), (219, 1), (222, 1), (290, 1), (291, 1), (292, 1), (293, 1), (294, 1), ...], [(10, 1), (29, 2), (37, 1), (53, 1), (61, 1), (64, 1), (237, 1), (305, 1), (306, 1), (307, 1), (308, 1), (309, 1), (310, 1), (311, 1), (312, 1), (313, 1), (314, 1), (315, 1)], [(10, 1), (316, 1), (317, 1), (318, 1)], [(18, 2), (36, 1), (52, 1), (92, 1), (130, 1), (319, 1), (320, 1), (321, 1), (322, 1)], ...]\n",
      "    248         y = check_array(y, accept_sparse='csc', ensure_2d=False, dtype=None)\n",
      "    249         if sample_weight is not None:\n",
      "    250             sample_weight = check_array(sample_weight, ensure_2d=False)\n",
      "    251         if issparse(X):\n",
      "\n",
      "...........................................................................\n",
      "/home/bob/.local/lib/python3.6/site-packages/sklearn/utils/validation.py in check_array(array=[[(0, 1), (1, 1), (2, 1), (3, 1), (4, 1), (5, 1), (6, 1), (7, 1), (8, 1), (9, 1), (10, 2), (11, 2), (12, 1), (13, 1)], [(10, 1), (11, 1), (14, 1), (15, 1), (16, 1), (17, 1), (18, 1), (19, 1), (20, 1), (21, 1), (22, 1), (23, 1), (24, 1)], [(1, 1), (10, 5), (14, 1), (18, 1), (19, 1), (22, 1), (25, 1), (26, 1), (27, 1), (28, 1), (29, 1), (30, 1), (31, 1), (32, 1), (33, 2), (34, 1), (35, 1), (36, 1), (37, 2), (38, 1), ...], [(10, 1), (19, 2), (23, 1), (30, 1), (47, 1), (48, 1), (49, 1), (50, 1), (51, 1), (52, 1), (53, 1), (54, 1), (55, 2), (56, 1), (57, 2), (58, 1), (59, 1)], [(10, 2), (36, 1), (47, 2), (60, 1), (61, 1), (62, 1), (63, 1), (64, 1), (65, 2), (66, 1), (67, 2), (68, 1), (69, 2), (70, 1)], [(47, 1), (53, 1), (61, 1), (71, 1), (72, 1), (73, 1), (74, 1), (75, 1), (76, 1), (77, 1)], [(10, 7), (11, 3), (18, 1), (22, 1), (31, 2), (37, 3), (46, 1), (64, 1), (65, 1), (78, 1), (79, 1), (80, 1), (81, 1), (82, 1), (83, 1), (84, 1), (85, 1), (86, 1), (87, 2), (88, 2), ...], [(10, 1), (19, 1), (22, 1), (24, 1), (29, 1), (30, 1), (47, 1), (51, 1), (53, 1), (56, 1), (61, 1), (102, 1), (113, 1), (115, 1), (116, 1), (117, 1), (118, 1), (119, 1), (120, 1), (121, 1), ...], [(10, 1), (11, 1), (30, 1), (31, 1), (47, 2), (52, 2), (61, 1), (91, 1), (98, 1), (103, 2), (124, 1), (125, 1), (126, 1), (127, 1), (128, 1), (129, 1), (130, 2), (131, 1), (132, 1)], [(10, 5), (19, 3), (22, 2), (49, 1), (53, 1), (61, 2), (104, 1), (133, 1), (134, 1), (135, 1), (136, 1), (137, 1), (138, 1), (139, 1), (140, 1), (141, 1), (142, 1), (143, 1), (144, 1), (145, 1), ...], [(10, 1), (11, 2), (61, 1), (72, 1), (155, 1), (156, 1), (157, 1), (158, 1), (159, 1), (160, 1), (161, 1), (162, 1), (163, 1), (164, 1), (165, 1), (166, 1)], [(10, 4), (11, 1), (19, 1), (22, 2), (29, 2), (53, 1), (57, 1), (61, 1), (167, 1), (168, 1), (169, 1), (170, 1), (171, 1), (172, 1), (173, 1), (174, 1), (175, 1), (176, 1), (177, 1), (178, 1), ...], [(10, 1), (15, 1), (19, 3), (24, 3), (29, 4), (41, 1), (49, 1), (56, 1), (57, 2), (61, 1), (165, 1), (190, 1), (191, 1), (192, 1), (193, 1), (194, 1), (195, 1), (196, 1), (197, 1), (198, 1), ...], [(10, 5), (11, 1), (19, 3), (22, 2), (24, 1), (30, 1), (47, 2), (61, 2), (65, 1), (66, 1), (71, 1), (72, 1), (103, 1), (111, 1), (124, 1), (131, 1), (217, 1), (218, 1), (219, 1), (220, 1), ...], [(10, 4), (11, 2), (19, 4), (22, 1), (24, 2), (29, 2), (36, 1), (45, 2), (47, 1), (53, 3), (56, 2), (61, 2), (69, 2), (112, 1), (127, 1), (241, 1), (242, 1), (243, 1), (244, 1), (245, 2), ...], [(10, 1), (11, 2), (19, 1), (24, 1), (30, 1), (45, 1), (47, 2), (53, 1), (56, 1), (69, 1), (104, 1), (112, 1), (131, 1), (182, 1), (185, 1), (270, 1), (271, 1), (277, 1), (278, 1), (279, 1), ...], [(10, 3), (11, 2), (22, 1), (29, 3), (36, 2), (53, 1), (64, 1), (65, 1), (91, 1), (105, 2), (141, 1), (145, 1), (213, 1), (219, 1), (222, 1), (290, 1), (291, 1), (292, 1), (293, 1), (294, 1), ...], [(10, 1), (29, 2), (37, 1), (53, 1), (61, 1), (64, 1), (237, 1), (305, 1), (306, 1), (307, 1), (308, 1), (309, 1), (310, 1), (311, 1), (312, 1), (313, 1), (314, 1), (315, 1)], [(10, 1), (316, 1), (317, 1), (318, 1)], [(18, 2), (36, 1), (52, 1), (92, 1), (130, 1), (319, 1), (320, 1), (321, 1), (322, 1)], ...], accept_sparse='csc', dtype=<class 'numpy.float32'>, order=None, copy=False, force_all_finite=True, ensure_2d=True, allow_nd=False, ensure_min_samples=1, ensure_min_features=1, warn_on_dtype=False, estimator=None)\n",
      "    428 \n",
      "    429     if sp.issparse(array):\n",
      "    430         array = _ensure_sparse_format(array, accept_sparse, dtype, copy,\n",
      "    431                                       force_all_finite)\n",
      "    432     else:\n",
      "--> 433         array = np.array(array, dtype=dtype, order=order, copy=copy)\n",
      "        array = [[(0, 1), (1, 1), (2, 1), (3, 1), (4, 1), (5, 1), (6, 1), (7, 1), (8, 1), (9, 1), (10, 2), (11, 2), (12, 1), (13, 1)], [(10, 1), (11, 1), (14, 1), (15, 1), (16, 1), (17, 1), (18, 1), (19, 1), (20, 1), (21, 1), (22, 1), (23, 1), (24, 1)], [(1, 1), (10, 5), (14, 1), (18, 1), (19, 1), (22, 1), (25, 1), (26, 1), (27, 1), (28, 1), (29, 1), (30, 1), (31, 1), (32, 1), (33, 2), (34, 1), (35, 1), (36, 1), (37, 2), (38, 1), ...], [(10, 1), (19, 2), (23, 1), (30, 1), (47, 1), (48, 1), (49, 1), (50, 1), (51, 1), (52, 1), (53, 1), (54, 1), (55, 2), (56, 1), (57, 2), (58, 1), (59, 1)], [(10, 2), (36, 1), (47, 2), (60, 1), (61, 1), (62, 1), (63, 1), (64, 1), (65, 2), (66, 1), (67, 2), (68, 1), (69, 2), (70, 1)], [(47, 1), (53, 1), (61, 1), (71, 1), (72, 1), (73, 1), (74, 1), (75, 1), (76, 1), (77, 1)], [(10, 7), (11, 3), (18, 1), (22, 1), (31, 2), (37, 3), (46, 1), (64, 1), (65, 1), (78, 1), (79, 1), (80, 1), (81, 1), (82, 1), (83, 1), (84, 1), (85, 1), (86, 1), (87, 2), (88, 2), ...], [(10, 1), (19, 1), (22, 1), (24, 1), (29, 1), (30, 1), (47, 1), (51, 1), (53, 1), (56, 1), (61, 1), (102, 1), (113, 1), (115, 1), (116, 1), (117, 1), (118, 1), (119, 1), (120, 1), (121, 1), ...], [(10, 1), (11, 1), (30, 1), (31, 1), (47, 2), (52, 2), (61, 1), (91, 1), (98, 1), (103, 2), (124, 1), (125, 1), (126, 1), (127, 1), (128, 1), (129, 1), (130, 2), (131, 1), (132, 1)], [(10, 5), (19, 3), (22, 2), (49, 1), (53, 1), (61, 2), (104, 1), (133, 1), (134, 1), (135, 1), (136, 1), (137, 1), (138, 1), (139, 1), (140, 1), (141, 1), (142, 1), (143, 1), (144, 1), (145, 1), ...], [(10, 1), (11, 2), (61, 1), (72, 1), (155, 1), (156, 1), (157, 1), (158, 1), (159, 1), (160, 1), (161, 1), (162, 1), (163, 1), (164, 1), (165, 1), (166, 1)], [(10, 4), (11, 1), (19, 1), (22, 2), (29, 2), (53, 1), (57, 1), (61, 1), (167, 1), (168, 1), (169, 1), (170, 1), (171, 1), (172, 1), (173, 1), (174, 1), (175, 1), (176, 1), (177, 1), (178, 1), ...], [(10, 1), (15, 1), (19, 3), (24, 3), (29, 4), (41, 1), (49, 1), (56, 1), (57, 2), (61, 1), (165, 1), (190, 1), (191, 1), (192, 1), (193, 1), (194, 1), (195, 1), (196, 1), (197, 1), (198, 1), ...], [(10, 5), (11, 1), (19, 3), (22, 2), (24, 1), (30, 1), (47, 2), (61, 2), (65, 1), (66, 1), (71, 1), (72, 1), (103, 1), (111, 1), (124, 1), (131, 1), (217, 1), (218, 1), (219, 1), (220, 1), ...], [(10, 4), (11, 2), (19, 4), (22, 1), (24, 2), (29, 2), (36, 1), (45, 2), (47, 1), (53, 3), (56, 2), (61, 2), (69, 2), (112, 1), (127, 1), (241, 1), (242, 1), (243, 1), (244, 1), (245, 2), ...], [(10, 1), (11, 2), (19, 1), (24, 1), (30, 1), (45, 1), (47, 2), (53, 1), (56, 1), (69, 1), (104, 1), (112, 1), (131, 1), (182, 1), (185, 1), (270, 1), (271, 1), (277, 1), (278, 1), (279, 1), ...], [(10, 3), (11, 2), (22, 1), (29, 3), (36, 2), (53, 1), (64, 1), (65, 1), (91, 1), (105, 2), (141, 1), (145, 1), (213, 1), (219, 1), (222, 1), (290, 1), (291, 1), (292, 1), (293, 1), (294, 1), ...], [(10, 1), (29, 2), (37, 1), (53, 1), (61, 1), (64, 1), (237, 1), (305, 1), (306, 1), (307, 1), (308, 1), (309, 1), (310, 1), (311, 1), (312, 1), (313, 1), (314, 1), (315, 1)], [(10, 1), (316, 1), (317, 1), (318, 1)], [(18, 2), (36, 1), (52, 1), (92, 1), (130, 1), (319, 1), (320, 1), (321, 1), (322, 1)], ...]\n",
      "        dtype = <class 'numpy.float32'>\n",
      "        order = None\n",
      "        copy = False\n",
      "    434 \n",
      "    435         if ensure_2d:\n",
      "    436             if array.ndim == 1:\n",
      "    437                 raise ValueError(\n",
      "\n",
      "ValueError: setting an array element with a sequence.\n",
      "___________________________________________________________________________\n"
     ]
    }
   ],
   "source": [
    "from gensim import sklearn_api\n",
    "\n",
    "from sklearn.ensemble import RandomForestClassifier\n",
    "pipeline = Pipeline([\n",
    "    ('features', sklearn_api.text2bow.Text2BowTransformer()),\n",
    "    ('clf', RandomForestClassifier())\n",
    "])\n",
    "\n",
    "try:\n",
    "    print(cross_val_score(pipeline, train.text, train.author, cv=3, n_jobs=3))\n",
    "    print(cross_val_score(pipeline, train.text, train.author, \n",
    "                    cv=3, n_jobs=3, scoring='neg_log_loss'))\n",
    "except ValueError as e:\n",
    "#     print(e)\n",
    "    pass"
   ]
  },
  {
   "cell_type": "markdown",
   "metadata": {},
   "source": [
    "ValueError: setting an array element with a sequence."
   ]
  },
  {
   "cell_type": "code",
   "execution_count": 79,
   "metadata": {
    "collapsed": false
   },
   "outputs": [
    {
     "name": "stdout",
     "output_type": "stream",
     "text": [
      "<class 'gensim.sklearn_api.text2bow.Text2BowTransformer'>\n",
      "<class 'list'>\n",
      "This process, however, afforded me no means of ascertaining the dimensions of my dungeon; as I might make its circuit, and return to the point whence I set out, without being aware of the fact; so perfectly uniform seemed the wall. [(0, 2), (1, 1), (2, 1), (3, 1), (4, 1), (5, 1), (6, 1), (7, 1), (8, 1), (9, 1), (10, 1), (11, 1), (12, 1), (13, 1), (14, 1), (15, 1), (16, 1), (17, 1), (18, 1), (19, 1), (20, 3), (21, 1), (22, 1), (23, 1), (24, 1), (25, 1), (26, 1), (27, 1), (28, 1), (29, 4), (30, 1), (31, 1), (32, 1), (33, 1), (34, 1)] \n",
      " Dropping of its own accord upon his exit or perhaps purposely closed, it had become fastened by the spring; and it was the retention of this spring which had been mistaken by the police for that of the nail, farther inquiry being thus considered unnecessary. [(3, 1), (7, 1), (13, 1), (20, 3), (29, 4), (44, 1), (60, 1), (70, 1), (71, 1), (78, 2), (95, 2), (133, 1), (143, 2), (174, 1), (178, 1), (201, 2), (220, 1), (321, 1), (323, 1), (352, 1), (403, 1), (542, 1), (1485, 1), (1779, 1), (1798, 1), (1873, 1), (2219, 1), (2889, 1), (4672, 1), (4673, 1), (4674, 1), (4675, 1), (4676, 1), (4677, 1), (4678, 1), (4679, 1)]\n"
     ]
    }
   ],
   "source": [
    "something = sklearn_api.text2bow.Text2BowTransformer()\n",
    "print(type(something))\n",
    "other = something.fit_transform(train.text)\n",
    "print(type(other))\n",
    "print(train.text[0], other[0], '\\n', train.text[656], other[656])"
   ]
  },
  {
   "cell_type": "markdown",
   "metadata": {},
   "source": [
    "How is this supposed to work?!?\n",
    "\n",
    "`tfidf.fit_transform(corpus)` returns matrix, while the `sklearn_api.text2bow.Text2BowTransformer().fit_transform(corpus)` returns some \"BOW\" format\n",
    "\n",
    "OK - this might work"
   ]
  },
  {
   "cell_type": "code",
   "execution_count": null,
   "metadata": {
    "collapsed": true
   },
   "outputs": [],
   "source": [
    "pipeline = Pipeline([\n",
    "    ('features', sklearn_api.text2bow.Text2BowTransformer()),\n",
    "    ('lda', sklearn_api.ldamodel.LdaTransformer()),\n",
    "    ('clf', RandomForestClassifier())\n",
    "])\n",
    "\n",
    "# print(cross_val_score(pipeline, train.text, train.author, cv=3, n_jobs=3))\n",
    "# print(cross_val_score(pipeline, train.text, train.author, \n",
    "#                 cv=3, n_jobs=3, scoring='neg_log_loss'))"
   ]
  },
  {
   "cell_type": "markdown",
   "metadata": {},
   "source": [
    "[ 0.48360907  0.48850751  0.48613027]<br>\n",
    "[-2.1033608  -2.09791398 -2.30065565]"
   ]
  },
  {
   "cell_type": "markdown",
   "metadata": {},
   "source": [
    "Преди да пообработим текста да видим Logistic Regression"
   ]
  },
  {
   "cell_type": "code",
   "execution_count": 81,
   "metadata": {
    "collapsed": true
   },
   "outputs": [],
   "source": [
    "pipeline = Pipeline([\n",
    "    ('features', sklearn_api.text2bow.Text2BowTransformer()),\n",
    "    ('lda', sklearn_api.ldamodel.LdaTransformer()),\n",
    "    ('clf', LogisticRegression())\n",
    "])\n"
   ]
  },
  {
   "cell_type": "code",
   "execution_count": 82,
   "metadata": {
    "collapsed": false
   },
   "outputs": [
    {
     "name": "stderr",
     "output_type": "stream",
     "text": [
      "/home/bob/.local/lib/python3.6/site-packages/gensim/models/ldamodel.py:802: RuntimeWarning: divide by zero encountered in log\n",
      "  diff = np.log(self.expElogbeta)\n",
      "/home/bob/.local/lib/python3.6/site-packages/gensim/models/ldamodel.py:802: RuntimeWarning: divide by zero encountered in log\n",
      "  diff = np.log(self.expElogbeta)\n",
      "/home/bob/.local/lib/python3.6/site-packages/gensim/models/ldamodel.py:802: RuntimeWarning: divide by zero encountered in log\n",
      "  diff = np.log(self.expElogbeta)\n"
     ]
    },
    {
     "name": "stdout",
     "output_type": "stream",
     "text": [
      "[ 0.53722426  0.53463071  0.53563218]\n",
      "CPU times: user 430 ms, sys: 169 ms, total: 599 ms\n",
      "Wall time: 3min 41s\n"
     ]
    }
   ],
   "source": [
    "# %%time\n",
    "# print(cross_val_score(pipeline, train.text, train.author, cv=3, n_jobs=3))"
   ]
  },
  {
   "cell_type": "markdown",
   "metadata": {},
   "source": [
    "[ 0.53722426  0.53463071  0.53563218]<br>\n",
    "CPU times: user 430 ms, sys: 169 ms, total: 599 ms<br>\n",
    "Wall time: 3min 41s"
   ]
  },
  {
   "cell_type": "code",
   "execution_count": 83,
   "metadata": {
    "collapsed": false
   },
   "outputs": [
    {
     "name": "stderr",
     "output_type": "stream",
     "text": [
      "/home/bob/.local/lib/python3.6/site-packages/gensim/models/ldamodel.py:802: RuntimeWarning: divide by zero encountered in log\n",
      "  diff = np.log(self.expElogbeta)\n",
      "/home/bob/.local/lib/python3.6/site-packages/gensim/models/ldamodel.py:802: RuntimeWarning: divide by zero encountered in log\n",
      "  diff = np.log(self.expElogbeta)\n",
      "/home/bob/.local/lib/python3.6/site-packages/gensim/models/ldamodel.py:802: RuntimeWarning: divide by zero encountered in log\n",
      "  diff = np.log(self.expElogbeta)\n"
     ]
    },
    {
     "name": "stdout",
     "output_type": "stream",
     "text": [
      "[-0.96678405 -0.97080789 -0.97363342]\n",
      "CPU times: user 453 ms, sys: 121 ms, total: 573 ms\n",
      "Wall time: 3min 39s\n"
     ]
    }
   ],
   "source": [
    "# %%time\n",
    "# print(cross_val_score(pipeline, train.text, train.author, \n",
    "#                 cv=3, n_jobs=3, scoring='neg_log_loss'))"
   ]
  },
  {
   "cell_type": "markdown",
   "metadata": {},
   "source": [
    "[-0.96678405 -0.97080789 -0.97363342]<br>\n",
    "CPU times: user 453 ms, sys: 121 ms, total: 573 ms<br>\n",
    "Wall time: 3min 39s"
   ]
  },
  {
   "cell_type": "markdown",
   "metadata": {},
   "source": [
    "Още един опит преди да окастрим текста"
   ]
  },
  {
   "cell_type": "code",
   "execution_count": 84,
   "metadata": {
    "collapsed": true
   },
   "outputs": [],
   "source": [
    "pipeline = Pipeline([\n",
    "    ('features', sklearn_api.text2bow.Text2BowTransformer()),\n",
    "    ('lda', sklearn_api.ldamodel.LdaTransformer(num_topics=21)),\n",
    "    ('clf', LogisticRegression())\n",
    "])"
   ]
  },
  {
   "cell_type": "code",
   "execution_count": 85,
   "metadata": {
    "collapsed": false
   },
   "outputs": [
    {
     "name": "stdout",
     "output_type": "stream",
     "text": [
      "[-0.98861154 -0.97565475 -0.99821168]\n",
      "CPU times: user 381 ms, sys: 99.9 ms, total: 481 ms\n",
      "Wall time: 2min 8s\n"
     ]
    }
   ],
   "source": [
    "# %%time\n",
    "# print(cross_val_score(pipeline, train.text, train.author, \n",
    "#                 cv=3, n_jobs=3, scoring='neg_log_loss'))"
   ]
  },
  {
   "cell_type": "markdown",
   "metadata": {},
   "source": [
    "[-0.98861154 -0.97565475 -0.99821168]<br>\n",
    "CPU times: user 381 ms, sys: 99.9 ms, total: 481 ms<br>\n",
    "Wall time: 2min 8s"
   ]
  },
  {
   "cell_type": "code",
   "execution_count": 86,
   "metadata": {
    "collapsed": false
   },
   "outputs": [
    {
     "data": {
      "text/plain": [
       "id\n",
       "id26305    thi process, however, afford me no mean of asc...\n",
       "id17569    It never onc occur to me that the fumbl might ...\n",
       "id11008    In hi left hand wa a gold snuff box, from whic...\n",
       "id27763    how love is spring As we look from windsor ter...\n",
       "id12958    find noth else, not even gold, the superintend...\n",
       "                                 ...                        \n",
       "id17718    I could have fancied, while I look at it, that...\n",
       "id08973     the lid clench themselv togeth as if in a spasm.\n",
       "id05267    mai il faut agir that is to say, a frenchman n...\n",
       "id17513    for an item of news like this, it strike us it...\n",
       "id00393    He laid a gnarl claw on my shoulder, and it se...\n",
       "Name: stemmed, Length: 19579, dtype: object"
      ]
     },
     "execution_count": 86,
     "metadata": {},
     "output_type": "execute_result"
    }
   ],
   "source": [
    "explore.stemmed"
   ]
  },
  {
   "cell_type": "code",
   "execution_count": 101,
   "metadata": {
    "collapsed": false
   },
   "outputs": [
    {
     "data": {
      "text/plain": [
       "id\n",
       "id26305    thi process  however  afford mean ascertain di...\n",
       "id17569                        onc occur fumbl mere mistake \n",
       "id11008    hi left hand wa gold snuff box  which  caper h...\n",
       "id27763    love spring look windsor terrac sixteen fertil...\n",
       "id12958    noth else  gold  superintend abandon hi attemp...\n",
       "                                 ...                        \n",
       "id17718    fancied  look it  emin landscap painter built ...\n",
       "id08973                    lid clench themselv togeth spasm \n",
       "id05267      mai il faut agir say  frenchman faint outright \n",
       "id17513    item news like this  strike wa veri coolli rec...\n",
       "id00393    laid gnarl claw shoulder  shake wa altogeth mi...\n",
       "Name: stemmed2, Length: 19579, dtype: object"
      ]
     },
     "execution_count": 101,
     "metadata": {},
     "output_type": "execute_result"
    }
   ],
   "source": [
    "from gensim.parsing.preprocessing import preprocess_string, strip_punctuation, remove_stopwords\n",
    "\n",
    "# CUSTOM_FILTERS = [strip_punctuation, remove_stopwords]\n",
    "# explore['stemmed2'] = [ preprocess_string(s, CUSTOM_FILTERS) for s in explore.stemmed]\n",
    "# explore.stemmed2\n",
    "\n",
    "explore['stemmed2'] = [ strip_punctuation(remove_stopwords(s.lower())) for s in explore.stemmed]\n",
    "explore.stemmed2"
   ]
  },
  {
   "cell_type": "code",
   "execution_count": 104,
   "metadata": {
    "collapsed": false
   },
   "outputs": [
    {
     "name": "stdout",
     "output_type": "stream",
     "text": [
      "It never onc occur to me that the fumbl might be a mere mistake. ||| onc occur fumbl mere mistake \n"
     ]
    }
   ],
   "source": [
    "print(explore.loc['id17569'].stemmed, '|||', explore.loc['id17569'].stemmed2)"
   ]
  },
  {
   "cell_type": "markdown",
   "metadata": {},
   "source": [
    "Pipeline-a си е същия"
   ]
  },
  {
   "cell_type": "code",
   "execution_count": 105,
   "metadata": {
    "collapsed": false
   },
   "outputs": [
    {
     "name": "stdout",
     "output_type": "stream",
     "text": [
      "[-1.05550683 -1.02313271 -1.02899542]\n",
      "CPU times: user 347 ms, sys: 92.8 ms, total: 440 ms\n",
      "Wall time: 1min 27s\n"
     ]
    }
   ],
   "source": [
    "# %%time\n",
    "# print(cross_val_score(pipeline, explore.stemmed2, train.author, \n",
    "#                 cv=3, n_jobs=3, scoring='neg_log_loss'))"
   ]
  },
  {
   "cell_type": "markdown",
   "metadata": {},
   "source": [
    "[-1.05550683 -1.02313271 -1.02899542]<br>\n",
    "CPU times: user 347 ms, sys: 92.8 ms, total: 440 ms<br>\n",
    "Wall time: 1min 27s"
   ]
  },
  {
   "cell_type": "markdown",
   "metadata": {},
   "source": [
    "Поне е по-бързо. Да видим tfidf и повече фичъри."
   ]
  },
  {
   "cell_type": "code",
   "execution_count": 108,
   "metadata": {
    "collapsed": true
   },
   "outputs": [],
   "source": [
    "pipeline = Pipeline([\n",
    "    ('bow', sklearn_api.text2bow.Text2BowTransformer()),\n",
    "    ('features', sklearn_api.tfidf.TfIdfTransformer()),\n",
    "    ('lda', sklearn_api.ldamodel.LdaTransformer(num_topics=501)),\n",
    "    ('clf', LogisticRegression())\n",
    "])"
   ]
  },
  {
   "cell_type": "code",
   "execution_count": 109,
   "metadata": {
    "collapsed": false
   },
   "outputs": [
    {
     "name": "stderr",
     "output_type": "stream",
     "text": [
      "/home/bob/.local/lib/python3.6/site-packages/gensim/models/ldamodel.py:802: RuntimeWarning: divide by zero encountered in log\n",
      "  diff = np.log(self.expElogbeta)\n",
      "/home/bob/.local/lib/python3.6/site-packages/gensim/models/ldamodel.py:802: RuntimeWarning: divide by zero encountered in log\n",
      "  diff = np.log(self.expElogbeta)\n",
      "/home/bob/.local/lib/python3.6/site-packages/gensim/models/ldamodel.py:802: RuntimeWarning: divide by zero encountered in log\n",
      "  diff = np.log(self.expElogbeta)\n"
     ]
    },
    {
     "name": "stdout",
     "output_type": "stream",
     "text": [
      "[-0.94941507 -0.95248997 -0.95026712]\n",
      "CPU times: user 1.18 s, sys: 223 ms, total: 1.4 s\n",
      "Wall time: 19min 4s\n"
     ]
    }
   ],
   "source": [
    "# %%time\n",
    "# print(cross_val_score(pipeline, train.text, train.author, \n",
    "#                 cv=3, n_jobs=3, scoring='neg_log_loss'))"
   ]
  },
  {
   "cell_type": "markdown",
   "metadata": {},
   "source": [
    "[-0.94941507 -0.95248997 -0.95026712]<br>\n",
    "CPU times: user 1.18 s, sys: 223 ms, total: 1.4 s<br>\n",
    "Wall time: 19min 4s"
   ]
  },
  {
   "cell_type": "markdown",
   "metadata": {},
   "source": [
    "This is frustrating"
   ]
  },
  {
   "cell_type": "code",
   "execution_count": 113,
   "metadata": {
    "collapsed": true
   },
   "outputs": [],
   "source": [
    "pipeline = Pipeline([\n",
    "    ('bow', sklearn_api.text2bow.Text2BowTransformer()),\n",
    "    ('features', sklearn_api.tfidf.TfIdfTransformer()),\n",
    "    ('lda', sklearn_api.ldamodel.LdaTransformer()),\n",
    "    ('clf', LogisticRegression())\n",
    "])"
   ]
  },
  {
   "cell_type": "code",
   "execution_count": 114,
   "metadata": {
    "collapsed": false
   },
   "outputs": [
    {
     "name": "stderr",
     "output_type": "stream",
     "text": [
      "/home/bob/.local/lib/python3.6/site-packages/gensim/models/ldamodel.py:802: RuntimeWarning: divide by zero encountered in log\n",
      "  diff = np.log(self.expElogbeta)\n",
      "/home/bob/.local/lib/python3.6/site-packages/gensim/models/ldamodel.py:802: RuntimeWarning: divide by zero encountered in log\n",
      "  diff = np.log(self.expElogbeta)\n",
      "/home/bob/.local/lib/python3.6/site-packages/gensim/models/ldamodel.py:802: RuntimeWarning: divide by zero encountered in log\n",
      "  diff = np.log(self.expElogbeta)\n"
     ]
    },
    {
     "name": "stdout",
     "output_type": "stream",
     "text": [
      "[-1.03061917 -1.03984701 -1.03884094]\n",
      "CPU times: user 387 ms, sys: 124 ms, total: 511 ms\n",
      "Wall time: 2min 33s\n"
     ]
    }
   ],
   "source": [
    "# %%time\n",
    "# print(cross_val_score(pipeline, train.text, train.author, \n",
    "#                 cv=3, n_jobs=3, scoring='neg_log_loss'))"
   ]
  },
  {
   "cell_type": "markdown",
   "metadata": {},
   "source": [
    "[-1.03061917 -1.03984701 -1.03884094]<br>\n",
    "CPU times: user 387 ms, sys: 124 ms, total: 511 ms<br>\n",
    "Wall time: 2min 33s"
   ]
  },
  {
   "cell_type": "code",
   "execution_count": 115,
   "metadata": {
    "collapsed": true
   },
   "outputs": [],
   "source": [
    "pipeline = Pipeline([\n",
    "    ('bow', sklearn_api.text2bow.Text2BowTransformer()),\n",
    "    ('features', sklearn_api.tfidf.TfIdfTransformer()),\n",
    "    ('lda', sklearn_api.ldamodel.LdaTransformer()),\n",
    "    ('clf', MultinomialNB())\n",
    "])"
   ]
  },
  {
   "cell_type": "code",
   "execution_count": 116,
   "metadata": {
    "collapsed": false
   },
   "outputs": [
    {
     "name": "stderr",
     "output_type": "stream",
     "text": [
      "/home/bob/.local/lib/python3.6/site-packages/gensim/models/ldamodel.py:802: RuntimeWarning: divide by zero encountered in log\n",
      "  diff = np.log(self.expElogbeta)\n",
      "/home/bob/.local/lib/python3.6/site-packages/gensim/models/ldamodel.py:802: RuntimeWarning: divide by zero encountered in log\n",
      "  diff = np.log(self.expElogbeta)\n",
      "/home/bob/.local/lib/python3.6/site-packages/gensim/models/ldamodel.py:802: RuntimeWarning: divide by zero encountered in log\n",
      "  diff = np.log(self.expElogbeta)\n"
     ]
    },
    {
     "name": "stdout",
     "output_type": "stream",
     "text": [
      "[-1.06731359 -1.07019065 -1.07019197]\n",
      "CPU times: user 377 ms, sys: 142 ms, total: 519 ms\n",
      "Wall time: 2min 29s\n"
     ]
    }
   ],
   "source": [
    "# %%time\n",
    "# print(cross_val_score(pipeline, train.text, train.author, \n",
    "#                 cv=3, n_jobs=3, scoring='neg_log_loss'))"
   ]
  },
  {
   "cell_type": "markdown",
   "metadata": {},
   "source": [
    "[-1.06731359 -1.07019065 -1.07019197]<br>\n",
    "CPU times: user 377 ms, sys: 142 ms, total: 519 ms<br>\n",
    "Wall time: 2min 29s"
   ]
  },
  {
   "cell_type": "markdown",
   "metadata": {},
   "source": [
    "От къде е тая разлика? Може ли text2bow да чупи? Или е от липсата на хипер парамерти?"
   ]
  },
  {
   "cell_type": "code",
   "execution_count": 122,
   "metadata": {
    "collapsed": false
   },
   "outputs": [
    {
     "data": {
      "text/plain": [
       "[(56, 1.0),\n",
       " (155, 1.0),\n",
       " (299, 1.0),\n",
       " (421, 1.0),\n",
       " (1309, 1.0),\n",
       " (1603, 1.0),\n",
       " (1621, 1.0),\n",
       " (1686, 1.0),\n",
       " (1988, 1.0),\n",
       " (2038, 1.0),\n",
       " (2728, 1.0),\n",
       " (4607, 1.0),\n",
       " (4608, 1.0),\n",
       " (4609, 1.0),\n",
       " (4610, 1.0),\n",
       " (4611, 1.0)]"
      ]
     },
     "execution_count": 122,
     "metadata": {},
     "output_type": "execute_result"
    }
   ],
   "source": [
    "corpus[656]"
   ]
  },
  {
   "cell_type": "code",
   "execution_count": 142,
   "metadata": {
    "collapsed": false
   },
   "outputs": [
    {
     "name": "stdout",
     "output_type": "stream",
     "text": [
      "MmCorpus(19579 documents, 22328 features, 240166 non-zero entries)\n"
     ]
    }
   ],
   "source": [
    "print(corpus)"
   ]
  },
  {
   "cell_type": "markdown",
   "metadata": {},
   "source": [
    "corpus е минат с word2vec; ще прескоча tfidf за момента и ще пусна LdaModel"
   ]
  },
  {
   "cell_type": "code",
   "execution_count": 154,
   "metadata": {
    "collapsed": false
   },
   "outputs": [
    {
     "name": "stdout",
     "output_type": "stream",
     "text": [
      "[0, 1, 2, 3, 4, 5, 6, 7, 8, 9]\n",
      "[(0, 0), (1, 1), (2, 2), (3, 3), (4, 4), (5, 5), (6, 6), (7, 7), (8, 8), (9, 9)]\n",
      "[(0, 0), (1, 1), (2, 2), (3, 3), (4, 4), (5, 5), (6, 6), (7, 7), (8, 8), (9, 9)]\n",
      "[0, 1, 2, 3, 4, 5, 6, 7, 8, 9]\n",
      "<class 'gensim.corpora.dictionary.Dictionary'>\n"
     ]
    }
   ],
   "source": [
    "id2word=dict([(i, s) for i, s in enumerate(dictionary)])\n",
    "print([ id2word[z] for z in range(10) ])\n",
    "print(list(id2word.items())[:10])\n",
    "what = list(enumerate(dictionary))\n",
    "print(what[:10])\n",
    "print(list(dictionary)[:10])\n",
    "print(type(dictionary))\n"
   ]
  },
  {
   "cell_type": "code",
   "execution_count": 143,
   "metadata": {
    "collapsed": false
   },
   "outputs": [
    {
     "name": "stderr",
     "output_type": "stream",
     "text": [
      "/home/bob/.local/lib/python3.6/site-packages/gensim/models/ldamodel.py:802: RuntimeWarning: divide by zero encountered in log\n",
      "  diff = np.log(self.expElogbeta)\n"
     ]
    }
   ],
   "source": [
    "from gensim.models.ldamodel import LdaModel\n",
    "\n",
    "# lda = LdaModel(corpus=corpus, id2word=dict([(i, s) for i, s in enumerate(dictionary)]))\n",
    "lda = LdaModel(corpus=corpus)"
   ]
  },
  {
   "cell_type": "code",
   "execution_count": 131,
   "metadata": {
    "collapsed": false
   },
   "outputs": [
    {
     "name": "stdout",
     "output_type": "stream",
     "text": [
      "['afforded', 'ascertaining', 'aware', 'dimensions', 'however,', 'make', 'means', 'might', 'out,', 'perfectly']\n"
     ]
    }
   ],
   "source": [
    "print([dictionary[z] for z in range(10)])"
   ]
  },
  {
   "cell_type": "code",
   "execution_count": 144,
   "metadata": {
    "collapsed": false
   },
   "outputs": [
    {
     "data": {
      "text/plain": [
       "'0.071*\"886\" + 0.065*\"3256\" + 0.059*\"1937\" + 0.034*\"3007\" + 0.025*\"270\" + 0.024*\"439\" + 0.019*\"1858\" + 0.018*\"1318\" + 0.017*\"269\" + 0.017*\"9126\"'"
      ]
     },
     "execution_count": 144,
     "metadata": {},
     "output_type": "execute_result"
    }
   ],
   "source": [
    "lda.print_topic(0)"
   ]
  },
  {
   "cell_type": "code",
   "execution_count": 145,
   "metadata": {
    "collapsed": false
   },
   "outputs": [
    {
     "data": {
      "text/plain": [
       "[(44,\n",
       "  '0.110*\"920\" + 0.038*\"4810\" + 0.035*\"1451\" + 0.025*\"56\" + 0.023*\"2802\" + 0.021*\"774\" + 0.021*\"916\" + 0.017*\"9134\" + 0.017*\"1225\" + 0.016*\"5671\"'),\n",
       " (42,\n",
       "  '0.053*\"79\" + 0.050*\"898\" + 0.048*\"496\" + 0.035*\"716\" + 0.034*\"655\" + 0.030*\"258\" + 0.022*\"3557\" + 0.018*\"122\" + 0.017*\"158\" + 0.015*\"66\"'),\n",
       " (2,\n",
       "  '0.066*\"1071\" + 0.058*\"173\" + 0.047*\"1857\" + 0.040*\"986\" + 0.039*\"2374\" + 0.026*\"108\" + 0.025*\"4934\" + 0.022*\"1716\" + 0.017*\"2976\" + 0.017*\"1714\"'),\n",
       " (55,\n",
       "  '0.092*\"377\" + 0.084*\"194\" + 0.071*\"2414\" + 0.019*\"2417\" + 0.018*\"7153\" + 0.018*\"3047\" + 0.017*\"1944\" + 0.017*\"2451\" + 0.016*\"2669\" + 0.015*\"3657\"'),\n",
       " (84,\n",
       "  '0.081*\"1125\" + 0.037*\"144\" + 0.037*\"1956\" + 0.033*\"1957\" + 0.033*\"1955\" + 0.031*\"3278\" + 0.031*\"5937\" + 0.030*\"3938\" + 0.027*\"3534\" + 0.024*\"2604\"'),\n",
       " (6,\n",
       "  '0.122*\"608\" + 0.079*\"70\" + 0.073*\"662\" + 0.042*\"970\" + 0.036*\"442\" + 0.032*\"2710\" + 0.028*\"3227\" + 0.024*\"136\" + 0.022*\"132\" + 0.020*\"6632\"'),\n",
       " (91,\n",
       "  '0.057*\"3860\" + 0.036*\"992\" + 0.035*\"1086\" + 0.035*\"4358\" + 0.026*\"2506\" + 0.024*\"5236\" + 0.023*\"2062\" + 0.022*\"7006\" + 0.021*\"3095\" + 0.020*\"265\"'),\n",
       " (94,\n",
       "  '0.126*\"1006\" + 0.062*\"5033\" + 0.052*\"2383\" + 0.050*\"1325\" + 0.048*\"531\" + 0.045*\"646\" + 0.043*\"273\" + 0.041*\"762\" + 0.034*\"2420\" + 0.033*\"991\"'),\n",
       " (17,\n",
       "  '0.093*\"1136\" + 0.066*\"1401\" + 0.048*\"729\" + 0.040*\"1100\" + 0.036*\"191\" + 0.036*\"930\" + 0.034*\"182\" + 0.030*\"945\" + 0.028*\"728\" + 0.028*\"2568\"'),\n",
       " (12,\n",
       "  '0.046*\"121\" + 0.039*\"1084\" + 0.037*\"8816\" + 0.033*\"1082\" + 0.033*\"611\" + 0.033*\"3140\" + 0.025*\"514\" + 0.025*\"565\" + 0.024*\"1077\" + 0.023*\"6291\"')]"
      ]
     },
     "execution_count": 145,
     "metadata": {},
     "output_type": "execute_result"
    }
   ],
   "source": [
    "lda.show_topics(num_topics=10, num_words=10)"
   ]
  },
  {
   "cell_type": "markdown",
   "metadata": {},
   "source": [
    "Wait, if the output is like x*\"\\d+?\" does this mean that the training took numbers instead of words?"
   ]
  },
  {
   "cell_type": "code",
   "execution_count": 136,
   "metadata": {
    "collapsed": false
   },
   "outputs": [
    {
     "ename": "ValueError",
     "evalue": "too many values to unpack (expected 2)",
     "output_type": "error",
     "traceback": [
      "\u001b[0;31m---------------------------------------------------------------------------\u001b[0m",
      "\u001b[0;31mValueError\u001b[0m                                Traceback (most recent call last)",
      "\u001b[0;32m<ipython-input-136-9cd9ec4e9499>\u001b[0m in \u001b[0;36m<module>\u001b[0;34m()\u001b[0m\n\u001b[0;32m----> 1\u001b[0;31m \u001b[0mlda\u001b[0m \u001b[0;34m=\u001b[0m \u001b[0mLdaModel\u001b[0m\u001b[0;34m(\u001b[0m\u001b[0mtexts\u001b[0m\u001b[0;34m,\u001b[0m \u001b[0mid2word\u001b[0m\u001b[0;34m=\u001b[0m\u001b[0mdict\u001b[0m\u001b[0;34m(\u001b[0m\u001b[0;34m[\u001b[0m\u001b[0;34m(\u001b[0m\u001b[0mi\u001b[0m\u001b[0;34m,\u001b[0m \u001b[0ms\u001b[0m\u001b[0;34m)\u001b[0m \u001b[0;32mfor\u001b[0m \u001b[0mi\u001b[0m\u001b[0;34m,\u001b[0m \u001b[0ms\u001b[0m \u001b[0;32min\u001b[0m \u001b[0menumerate\u001b[0m\u001b[0;34m(\u001b[0m\u001b[0mdictionary\u001b[0m\u001b[0;34m)\u001b[0m\u001b[0;34m]\u001b[0m\u001b[0;34m)\u001b[0m\u001b[0;34m)\u001b[0m\u001b[0;34m\u001b[0m\u001b[0m\n\u001b[0m\u001b[1;32m      2\u001b[0m \u001b[0mlda\u001b[0m\u001b[0;34m.\u001b[0m\u001b[0mshow_topics\u001b[0m\u001b[0;34m(\u001b[0m\u001b[0mnum_topics\u001b[0m\u001b[0;34m=\u001b[0m\u001b[0;36m10\u001b[0m\u001b[0;34m,\u001b[0m \u001b[0mnum_words\u001b[0m\u001b[0;34m=\u001b[0m\u001b[0;36m10\u001b[0m\u001b[0;34m)\u001b[0m\u001b[0;34m\u001b[0m\u001b[0m\n",
      "\u001b[0;32m~/.local/lib/python3.6/site-packages/gensim/models/ldamodel.py\u001b[0m in \u001b[0;36m__init__\u001b[0;34m(self, corpus, num_topics, id2word, distributed, chunksize, passes, update_every, alpha, eta, decay, offset, eval_every, iterations, gamma_threshold, minimum_probability, random_state, ns_conf, minimum_phi_value, per_word_topics, callbacks, dtype)\u001b[0m\n\u001b[1;32m    396\u001b[0m         \u001b[0;32mif\u001b[0m \u001b[0mcorpus\u001b[0m \u001b[0;32mis\u001b[0m \u001b[0;32mnot\u001b[0m \u001b[0;32mNone\u001b[0m\u001b[0;34m:\u001b[0m\u001b[0;34m\u001b[0m\u001b[0m\n\u001b[1;32m    397\u001b[0m             \u001b[0muse_numpy\u001b[0m \u001b[0;34m=\u001b[0m \u001b[0mself\u001b[0m\u001b[0;34m.\u001b[0m\u001b[0mdispatcher\u001b[0m \u001b[0;32mis\u001b[0m \u001b[0;32mnot\u001b[0m \u001b[0;32mNone\u001b[0m\u001b[0;34m\u001b[0m\u001b[0m\n\u001b[0;32m--> 398\u001b[0;31m             \u001b[0mself\u001b[0m\u001b[0;34m.\u001b[0m\u001b[0mupdate\u001b[0m\u001b[0;34m(\u001b[0m\u001b[0mcorpus\u001b[0m\u001b[0;34m,\u001b[0m \u001b[0mchunks_as_numpy\u001b[0m\u001b[0;34m=\u001b[0m\u001b[0muse_numpy\u001b[0m\u001b[0;34m)\u001b[0m\u001b[0;34m\u001b[0m\u001b[0m\n\u001b[0m\u001b[1;32m    399\u001b[0m \u001b[0;34m\u001b[0m\u001b[0m\n\u001b[1;32m    400\u001b[0m     \u001b[0;32mdef\u001b[0m \u001b[0minit_dir_prior\u001b[0m\u001b[0;34m(\u001b[0m\u001b[0mself\u001b[0m\u001b[0;34m,\u001b[0m \u001b[0mprior\u001b[0m\u001b[0;34m,\u001b[0m \u001b[0mname\u001b[0m\u001b[0;34m)\u001b[0m\u001b[0;34m:\u001b[0m\u001b[0;34m\u001b[0m\u001b[0m\n",
      "\u001b[0;32m~/.local/lib/python3.6/site-packages/gensim/models/ldamodel.py\u001b[0m in \u001b[0;36mupdate\u001b[0;34m(self, corpus, chunksize, decay, offset, passes, update_every, eval_every, iterations, gamma_threshold, chunks_as_numpy)\u001b[0m\n\u001b[1;32m    745\u001b[0m                         \u001b[0mpass_\u001b[0m\u001b[0;34m,\u001b[0m \u001b[0mchunk_no\u001b[0m \u001b[0;34m*\u001b[0m \u001b[0mchunksize\u001b[0m \u001b[0;34m+\u001b[0m \u001b[0mlen\u001b[0m\u001b[0;34m(\u001b[0m\u001b[0mchunk\u001b[0m\u001b[0;34m)\u001b[0m\u001b[0;34m,\u001b[0m \u001b[0mlencorpus\u001b[0m\u001b[0;34m\u001b[0m\u001b[0m\n\u001b[1;32m    746\u001b[0m                     )\n\u001b[0;32m--> 747\u001b[0;31m                     \u001b[0mgammat\u001b[0m \u001b[0;34m=\u001b[0m \u001b[0mself\u001b[0m\u001b[0;34m.\u001b[0m\u001b[0mdo_estep\u001b[0m\u001b[0;34m(\u001b[0m\u001b[0mchunk\u001b[0m\u001b[0;34m,\u001b[0m \u001b[0mother\u001b[0m\u001b[0;34m)\u001b[0m\u001b[0;34m\u001b[0m\u001b[0m\n\u001b[0m\u001b[1;32m    748\u001b[0m \u001b[0;34m\u001b[0m\u001b[0m\n\u001b[1;32m    749\u001b[0m                     \u001b[0;32mif\u001b[0m \u001b[0mself\u001b[0m\u001b[0;34m.\u001b[0m\u001b[0moptimize_alpha\u001b[0m\u001b[0;34m:\u001b[0m\u001b[0;34m\u001b[0m\u001b[0m\n",
      "\u001b[0;32m~/.local/lib/python3.6/site-packages/gensim/models/ldamodel.py\u001b[0m in \u001b[0;36mdo_estep\u001b[0;34m(self, chunk, state)\u001b[0m\n\u001b[1;32m    558\u001b[0m         \u001b[0;32mif\u001b[0m \u001b[0mstate\u001b[0m \u001b[0;32mis\u001b[0m \u001b[0;32mNone\u001b[0m\u001b[0;34m:\u001b[0m\u001b[0;34m\u001b[0m\u001b[0m\n\u001b[1;32m    559\u001b[0m             \u001b[0mstate\u001b[0m \u001b[0;34m=\u001b[0m \u001b[0mself\u001b[0m\u001b[0;34m.\u001b[0m\u001b[0mstate\u001b[0m\u001b[0;34m\u001b[0m\u001b[0m\n\u001b[0;32m--> 560\u001b[0;31m         \u001b[0mgamma\u001b[0m\u001b[0;34m,\u001b[0m \u001b[0msstats\u001b[0m \u001b[0;34m=\u001b[0m \u001b[0mself\u001b[0m\u001b[0;34m.\u001b[0m\u001b[0minference\u001b[0m\u001b[0;34m(\u001b[0m\u001b[0mchunk\u001b[0m\u001b[0;34m,\u001b[0m \u001b[0mcollect_sstats\u001b[0m\u001b[0;34m=\u001b[0m\u001b[0;32mTrue\u001b[0m\u001b[0;34m)\u001b[0m\u001b[0;34m\u001b[0m\u001b[0m\n\u001b[0m\u001b[1;32m    561\u001b[0m         \u001b[0mstate\u001b[0m\u001b[0;34m.\u001b[0m\u001b[0msstats\u001b[0m \u001b[0;34m+=\u001b[0m \u001b[0msstats\u001b[0m\u001b[0;34m\u001b[0m\u001b[0m\n\u001b[1;32m    562\u001b[0m         \u001b[0mstate\u001b[0m\u001b[0;34m.\u001b[0m\u001b[0mnumdocs\u001b[0m \u001b[0;34m+=\u001b[0m \u001b[0mgamma\u001b[0m\u001b[0;34m.\u001b[0m\u001b[0mshape\u001b[0m\u001b[0;34m[\u001b[0m\u001b[0;36m0\u001b[0m\u001b[0;34m]\u001b[0m  \u001b[0;31m# avoids calling len(chunk) on a generator\u001b[0m\u001b[0;34m\u001b[0m\u001b[0m\n",
      "\u001b[0;32m~/.local/lib/python3.6/site-packages/gensim/models/ldamodel.py\u001b[0m in \u001b[0;36minference\u001b[0;34m(self, chunk, collect_sstats)\u001b[0m\n\u001b[1;32m    499\u001b[0m             \u001b[0;32mif\u001b[0m \u001b[0mlen\u001b[0m\u001b[0;34m(\u001b[0m\u001b[0mdoc\u001b[0m\u001b[0;34m)\u001b[0m \u001b[0;34m>\u001b[0m \u001b[0;36m0\u001b[0m \u001b[0;32mand\u001b[0m \u001b[0;32mnot\u001b[0m \u001b[0misinstance\u001b[0m\u001b[0;34m(\u001b[0m\u001b[0mdoc\u001b[0m\u001b[0;34m[\u001b[0m\u001b[0;36m0\u001b[0m\u001b[0;34m]\u001b[0m\u001b[0;34m[\u001b[0m\u001b[0;36m0\u001b[0m\u001b[0;34m]\u001b[0m\u001b[0;34m,\u001b[0m \u001b[0msix\u001b[0m\u001b[0;34m.\u001b[0m\u001b[0minteger_types\u001b[0m \u001b[0;34m+\u001b[0m \u001b[0;34m(\u001b[0m\u001b[0mnp\u001b[0m\u001b[0;34m.\u001b[0m\u001b[0minteger\u001b[0m\u001b[0;34m,\u001b[0m\u001b[0;34m)\u001b[0m\u001b[0;34m)\u001b[0m\u001b[0;34m:\u001b[0m\u001b[0;34m\u001b[0m\u001b[0m\n\u001b[1;32m    500\u001b[0m                 \u001b[0;31m# make sure the term IDs are ints, otherwise np will get upset\u001b[0m\u001b[0;34m\u001b[0m\u001b[0;34m\u001b[0m\u001b[0m\n\u001b[0;32m--> 501\u001b[0;31m                 \u001b[0mids\u001b[0m \u001b[0;34m=\u001b[0m \u001b[0;34m[\u001b[0m\u001b[0mint\u001b[0m\u001b[0;34m(\u001b[0m\u001b[0midx\u001b[0m\u001b[0;34m)\u001b[0m \u001b[0;32mfor\u001b[0m \u001b[0midx\u001b[0m\u001b[0;34m,\u001b[0m \u001b[0m_\u001b[0m \u001b[0;32min\u001b[0m \u001b[0mdoc\u001b[0m\u001b[0;34m]\u001b[0m\u001b[0;34m\u001b[0m\u001b[0m\n\u001b[0m\u001b[1;32m    502\u001b[0m             \u001b[0;32melse\u001b[0m\u001b[0;34m:\u001b[0m\u001b[0;34m\u001b[0m\u001b[0m\n\u001b[1;32m    503\u001b[0m                 \u001b[0mids\u001b[0m \u001b[0;34m=\u001b[0m \u001b[0;34m[\u001b[0m\u001b[0midx\u001b[0m \u001b[0;32mfor\u001b[0m \u001b[0midx\u001b[0m\u001b[0;34m,\u001b[0m \u001b[0m_\u001b[0m \u001b[0;32min\u001b[0m \u001b[0mdoc\u001b[0m\u001b[0;34m]\u001b[0m\u001b[0;34m\u001b[0m\u001b[0m\n",
      "\u001b[0;32m~/.local/lib/python3.6/site-packages/gensim/models/ldamodel.py\u001b[0m in \u001b[0;36m<listcomp>\u001b[0;34m(.0)\u001b[0m\n\u001b[1;32m    499\u001b[0m             \u001b[0;32mif\u001b[0m \u001b[0mlen\u001b[0m\u001b[0;34m(\u001b[0m\u001b[0mdoc\u001b[0m\u001b[0;34m)\u001b[0m \u001b[0;34m>\u001b[0m \u001b[0;36m0\u001b[0m \u001b[0;32mand\u001b[0m \u001b[0;32mnot\u001b[0m \u001b[0misinstance\u001b[0m\u001b[0;34m(\u001b[0m\u001b[0mdoc\u001b[0m\u001b[0;34m[\u001b[0m\u001b[0;36m0\u001b[0m\u001b[0;34m]\u001b[0m\u001b[0;34m[\u001b[0m\u001b[0;36m0\u001b[0m\u001b[0;34m]\u001b[0m\u001b[0;34m,\u001b[0m \u001b[0msix\u001b[0m\u001b[0;34m.\u001b[0m\u001b[0minteger_types\u001b[0m \u001b[0;34m+\u001b[0m \u001b[0;34m(\u001b[0m\u001b[0mnp\u001b[0m\u001b[0;34m.\u001b[0m\u001b[0minteger\u001b[0m\u001b[0;34m,\u001b[0m\u001b[0;34m)\u001b[0m\u001b[0;34m)\u001b[0m\u001b[0;34m:\u001b[0m\u001b[0;34m\u001b[0m\u001b[0m\n\u001b[1;32m    500\u001b[0m                 \u001b[0;31m# make sure the term IDs are ints, otherwise np will get upset\u001b[0m\u001b[0;34m\u001b[0m\u001b[0;34m\u001b[0m\u001b[0m\n\u001b[0;32m--> 501\u001b[0;31m                 \u001b[0mids\u001b[0m \u001b[0;34m=\u001b[0m \u001b[0;34m[\u001b[0m\u001b[0mint\u001b[0m\u001b[0;34m(\u001b[0m\u001b[0midx\u001b[0m\u001b[0;34m)\u001b[0m \u001b[0;32mfor\u001b[0m \u001b[0midx\u001b[0m\u001b[0;34m,\u001b[0m \u001b[0m_\u001b[0m \u001b[0;32min\u001b[0m \u001b[0mdoc\u001b[0m\u001b[0;34m]\u001b[0m\u001b[0;34m\u001b[0m\u001b[0m\n\u001b[0m\u001b[1;32m    502\u001b[0m             \u001b[0;32melse\u001b[0m\u001b[0;34m:\u001b[0m\u001b[0;34m\u001b[0m\u001b[0m\n\u001b[1;32m    503\u001b[0m                 \u001b[0mids\u001b[0m \u001b[0;34m=\u001b[0m \u001b[0;34m[\u001b[0m\u001b[0midx\u001b[0m \u001b[0;32mfor\u001b[0m \u001b[0midx\u001b[0m\u001b[0;34m,\u001b[0m \u001b[0m_\u001b[0m \u001b[0;32min\u001b[0m \u001b[0mdoc\u001b[0m\u001b[0;34m]\u001b[0m\u001b[0;34m\u001b[0m\u001b[0m\n",
      "\u001b[0;31mValueError\u001b[0m: too many values to unpack (expected 2)"
     ]
    }
   ],
   "source": [
    "try:\n",
    "    lda = LdaModel(texts, id2word=dict([(i, s) for i, s in enumerate(dictionary)]))\n",
    "    lda.show_topics(num_topics=10, num_words=10)\n",
    "except ValueError as e:\n",
    "    print(e)"
   ]
  },
  {
   "cell_type": "code",
   "execution_count": 138,
   "metadata": {
    "collapsed": false
   },
   "outputs": [
    {
     "data": {
      "text/plain": [
       "['process,',\n",
       " 'however,',\n",
       " 'afforded',\n",
       " 'means',\n",
       " 'ascertaining',\n",
       " 'dimensions',\n",
       " 'might',\n",
       " 'make',\n",
       " 'return',\n",
       " 'point',\n",
       " 'whence',\n",
       " 'set',\n",
       " 'out,',\n",
       " 'without',\n",
       " 'aware',\n",
       " 'perfectly',\n",
       " 'uniform',\n",
       " 'seemed',\n",
       " 'wall.']"
      ]
     },
     "execution_count": 138,
     "metadata": {},
     "output_type": "execute_result"
    }
   ],
   "source": [
    "texts[0]"
   ]
  },
  {
   "cell_type": "code",
   "execution_count": 125,
   "metadata": {
    "collapsed": false
   },
   "outputs": [
    {
     "ename": "TypeError",
     "evalue": "show_topics() got an unexpected keyword argument 'topics'",
     "output_type": "error",
     "traceback": [
      "\u001b[0;31m---------------------------------------------------------------------------\u001b[0m",
      "\u001b[0;31mTypeError\u001b[0m                                 Traceback (most recent call last)",
      "\u001b[0;32m<ipython-input-125-b27671ccfa85>\u001b[0m in \u001b[0;36m<module>\u001b[0;34m()\u001b[0m\n\u001b[0;32m----> 1\u001b[0;31m \u001b[0mtopics\u001b[0m \u001b[0;34m=\u001b[0m \u001b[0mlda\u001b[0m\u001b[0;34m.\u001b[0m\u001b[0mshow_topics\u001b[0m\u001b[0;34m(\u001b[0m\u001b[0mtopics\u001b[0m\u001b[0;34m=\u001b[0m\u001b[0;34m-\u001b[0m\u001b[0;36m1\u001b[0m\u001b[0;34m,\u001b[0m \u001b[0mtopn\u001b[0m\u001b[0;34m=\u001b[0m\u001b[0;36m10\u001b[0m\u001b[0;34m,\u001b[0m \u001b[0mformatted\u001b[0m\u001b[0;34m=\u001b[0m\u001b[0;32mFalse\u001b[0m\u001b[0;34m)\u001b[0m\u001b[0;34m\u001b[0m\u001b[0m\n\u001b[0m\u001b[1;32m      2\u001b[0m \u001b[0;32mfor\u001b[0m \u001b[0mti\u001b[0m\u001b[0;34m,\u001b[0m \u001b[0mtopic\u001b[0m \u001b[0;32min\u001b[0m \u001b[0menumerate\u001b[0m\u001b[0;34m(\u001b[0m\u001b[0mtopics\u001b[0m\u001b[0;34m)\u001b[0m\u001b[0;34m:\u001b[0m\u001b[0;34m\u001b[0m\u001b[0m\n\u001b[1;32m      3\u001b[0m     \u001b[0mprint\u001b[0m\u001b[0;34m(\u001b[0m\u001b[0;34m'topic %d: %s'\u001b[0m \u001b[0;34m%\u001b[0m \u001b[0;34m(\u001b[0m\u001b[0mti\u001b[0m\u001b[0;34m,\u001b[0m \u001b[0;34m' '\u001b[0m\u001b[0;34m.\u001b[0m\u001b[0mjoin\u001b[0m\u001b[0;34m(\u001b[0m\u001b[0;34m'%s/%.2f'\u001b[0m \u001b[0;34m%\u001b[0m \u001b[0;34m(\u001b[0m\u001b[0mt\u001b[0m\u001b[0;34m[\u001b[0m\u001b[0;36m1\u001b[0m\u001b[0;34m]\u001b[0m\u001b[0;34m,\u001b[0m \u001b[0mt\u001b[0m\u001b[0;34m[\u001b[0m\u001b[0;36m0\u001b[0m\u001b[0;34m]\u001b[0m\u001b[0;34m)\u001b[0m \u001b[0;32mfor\u001b[0m \u001b[0mt\u001b[0m \u001b[0;32min\u001b[0m \u001b[0mtopic\u001b[0m\u001b[0;34m)\u001b[0m\u001b[0;34m)\u001b[0m\u001b[0;34m)\u001b[0m\u001b[0;34m\u001b[0m\u001b[0m\n",
      "\u001b[0;31mTypeError\u001b[0m: show_topics() got an unexpected keyword argument 'topics'"
     ]
    }
   ],
   "source": [
    "topics = lda.show_topics(topics=-1, topn=10, formatted=False)\n",
    "for ti, topic in enumerate(topics):\n",
    "    print('topic %d: %s' % (ti, ' '.join('%s/%.2f' % (t[1], t[0]) for t in topic)))"
   ]
  },
  {
   "cell_type": "code",
   "execution_count": 118,
   "metadata": {
    "collapsed": false
   },
   "outputs": [
    {
     "ename": "JoblibValueError",
     "evalue": "JoblibValueError\n___________________________________________________________________________\nMultiprocessing exception:\n...........................................................................\n/usr/lib/python3.6/runpy.py in _run_module_as_main(mod_name='ipykernel_launcher', alter_argv=1)\n    188         sys.exit(msg)\n    189     main_globals = sys.modules[\"__main__\"].__dict__\n    190     if alter_argv:\n    191         sys.argv[0] = mod_spec.origin\n    192     return _run_code(code, main_globals, None,\n--> 193                      \"__main__\", mod_spec)\n        mod_spec = ModuleSpec(name='ipykernel_launcher', loader=<_f...b/python3.6/site-packages/ipykernel_launcher.py')\n    194 \n    195 def run_module(mod_name, init_globals=None,\n    196                run_name=None, alter_sys=False):\n    197     \"\"\"Execute a module's code without importing it\n\n...........................................................................\n/usr/lib/python3.6/runpy.py in _run_code(code=<code object <module> at 0x7f608565f1e0, file \"/...3.6/site-packages/ipykernel_launcher.py\", line 5>, run_globals={'__annotations__': {}, '__builtins__': <module 'builtins' (built-in)>, '__cached__': '/home/bob/.local/lib/python3.6/site-packages/__pycache__/ipykernel_launcher.cpython-36.pyc', '__doc__': 'Entry point for launching an IPython kernel.\\n\\nTh...orts until\\nafter removing the cwd from sys.path.\\n', '__file__': '/home/bob/.local/lib/python3.6/site-packages/ipykernel_launcher.py', '__loader__': <_frozen_importlib_external.SourceFileLoader object>, '__name__': '__main__', '__package__': '', '__spec__': ModuleSpec(name='ipykernel_launcher', loader=<_f...b/python3.6/site-packages/ipykernel_launcher.py'), 'app': <module 'ipykernel.kernelapp' from '/home/bob/.l.../python3.6/site-packages/ipykernel/kernelapp.py'>, ...}, init_globals=None, mod_name='__main__', mod_spec=ModuleSpec(name='ipykernel_launcher', loader=<_f...b/python3.6/site-packages/ipykernel_launcher.py'), pkg_name='', script_name=None)\n     80                        __cached__ = cached,\n     81                        __doc__ = None,\n     82                        __loader__ = loader,\n     83                        __package__ = pkg_name,\n     84                        __spec__ = mod_spec)\n---> 85     exec(code, run_globals)\n        code = <code object <module> at 0x7f608565f1e0, file \"/...3.6/site-packages/ipykernel_launcher.py\", line 5>\n        run_globals = {'__annotations__': {}, '__builtins__': <module 'builtins' (built-in)>, '__cached__': '/home/bob/.local/lib/python3.6/site-packages/__pycache__/ipykernel_launcher.cpython-36.pyc', '__doc__': 'Entry point for launching an IPython kernel.\\n\\nTh...orts until\\nafter removing the cwd from sys.path.\\n', '__file__': '/home/bob/.local/lib/python3.6/site-packages/ipykernel_launcher.py', '__loader__': <_frozen_importlib_external.SourceFileLoader object>, '__name__': '__main__', '__package__': '', '__spec__': ModuleSpec(name='ipykernel_launcher', loader=<_f...b/python3.6/site-packages/ipykernel_launcher.py'), 'app': <module 'ipykernel.kernelapp' from '/home/bob/.l.../python3.6/site-packages/ipykernel/kernelapp.py'>, ...}\n     86     return run_globals\n     87 \n     88 def _run_module_code(code, init_globals=None,\n     89                     mod_name=None, mod_spec=None,\n\n...........................................................................\n/home/bob/.local/lib/python3.6/site-packages/ipykernel_launcher.py in <module>()\n     11     # This is added back by InteractiveShellApp.init_path()\n     12     if sys.path[0] == '':\n     13         del sys.path[0]\n     14 \n     15     from ipykernel import kernelapp as app\n---> 16     app.launch_new_instance()\n\n...........................................................................\n/home/bob/.local/lib/python3.6/site-packages/traitlets/config/application.py in launch_instance(cls=<class 'ipykernel.kernelapp.IPKernelApp'>, argv=None, **kwargs={})\n    653 \n    654         If a global instance already exists, this reinitializes and starts it\n    655         \"\"\"\n    656         app = cls.instance(**kwargs)\n    657         app.initialize(argv)\n--> 658         app.start()\n        app.start = <bound method IPKernelApp.start of <ipykernel.kernelapp.IPKernelApp object>>\n    659 \n    660 #-----------------------------------------------------------------------------\n    661 # utility functions, for convenience\n    662 #-----------------------------------------------------------------------------\n\n...........................................................................\n/home/bob/.local/lib/python3.6/site-packages/ipykernel/kernelapp.py in start(self=<ipykernel.kernelapp.IPKernelApp object>)\n    473         if self.poller is not None:\n    474             self.poller.start()\n    475         self.kernel.start()\n    476         self.io_loop = ioloop.IOLoop.current()\n    477         try:\n--> 478             self.io_loop.start()\n        self.io_loop.start = <bound method ZMQIOLoop.start of <zmq.eventloop.ioloop.ZMQIOLoop object>>\n    479         except KeyboardInterrupt:\n    480             pass\n    481 \n    482 launch_new_instance = IPKernelApp.launch_instance\n\n...........................................................................\n/home/bob/.local/lib/python3.6/site-packages/zmq/eventloop/ioloop.py in start(self=<zmq.eventloop.ioloop.ZMQIOLoop object>)\n    172             )\n    173         return loop\n    174     \n    175     def start(self):\n    176         try:\n--> 177             super(ZMQIOLoop, self).start()\n        self.start = <bound method ZMQIOLoop.start of <zmq.eventloop.ioloop.ZMQIOLoop object>>\n    178         except ZMQError as e:\n    179             if e.errno == ETERM:\n    180                 # quietly return on ETERM\n    181                 pass\n\n...........................................................................\n/home/bob/.local/lib/python3.6/site-packages/tornado/ioloop.py in start(self=<zmq.eventloop.ioloop.ZMQIOLoop object>)\n    883                 self._events.update(event_pairs)\n    884                 while self._events:\n    885                     fd, events = self._events.popitem()\n    886                     try:\n    887                         fd_obj, handler_func = self._handlers[fd]\n--> 888                         handler_func(fd_obj, events)\n        handler_func = <function wrap.<locals>.null_wrapper>\n        fd_obj = <zmq.sugar.socket.Socket object>\n        events = 1\n    889                     except (OSError, IOError) as e:\n    890                         if errno_from_exception(e) == errno.EPIPE:\n    891                             # Happens when the client closes the connection\n    892                             pass\n\n...........................................................................\n/home/bob/.local/lib/python3.6/site-packages/tornado/stack_context.py in null_wrapper(*args=(<zmq.sugar.socket.Socket object>, 1), **kwargs={})\n    272         # Fast path when there are no active contexts.\n    273         def null_wrapper(*args, **kwargs):\n    274             try:\n    275                 current_state = _state.contexts\n    276                 _state.contexts = cap_contexts[0]\n--> 277                 return fn(*args, **kwargs)\n        args = (<zmq.sugar.socket.Socket object>, 1)\n        kwargs = {}\n    278             finally:\n    279                 _state.contexts = current_state\n    280         null_wrapper._wrapped = True\n    281         return null_wrapper\n\n...........................................................................\n/home/bob/.local/lib/python3.6/site-packages/zmq/eventloop/zmqstream.py in _handle_events(self=<zmq.eventloop.zmqstream.ZMQStream object>, fd=<zmq.sugar.socket.Socket object>, events=1)\n    435             # dispatch events:\n    436             if events & IOLoop.ERROR:\n    437                 gen_log.error(\"got POLLERR event on ZMQStream, which doesn't make sense\")\n    438                 return\n    439             if events & IOLoop.READ:\n--> 440                 self._handle_recv()\n        self._handle_recv = <bound method ZMQStream._handle_recv of <zmq.eventloop.zmqstream.ZMQStream object>>\n    441                 if not self.socket:\n    442                     return\n    443             if events & IOLoop.WRITE:\n    444                 self._handle_send()\n\n...........................................................................\n/home/bob/.local/lib/python3.6/site-packages/zmq/eventloop/zmqstream.py in _handle_recv(self=<zmq.eventloop.zmqstream.ZMQStream object>)\n    467                 gen_log.error(\"RECV Error: %s\"%zmq.strerror(e.errno))\n    468         else:\n    469             if self._recv_callback:\n    470                 callback = self._recv_callback\n    471                 # self._recv_callback = None\n--> 472                 self._run_callback(callback, msg)\n        self._run_callback = <bound method ZMQStream._run_callback of <zmq.eventloop.zmqstream.ZMQStream object>>\n        callback = <function wrap.<locals>.null_wrapper>\n        msg = [<zmq.sugar.frame.Frame object>, <zmq.sugar.frame.Frame object>, <zmq.sugar.frame.Frame object>, <zmq.sugar.frame.Frame object>, <zmq.sugar.frame.Frame object>, <zmq.sugar.frame.Frame object>, <zmq.sugar.frame.Frame object>]\n    473                 \n    474         # self.update_state()\n    475         \n    476 \n\n...........................................................................\n/home/bob/.local/lib/python3.6/site-packages/zmq/eventloop/zmqstream.py in _run_callback(self=<zmq.eventloop.zmqstream.ZMQStream object>, callback=<function wrap.<locals>.null_wrapper>, *args=([<zmq.sugar.frame.Frame object>, <zmq.sugar.frame.Frame object>, <zmq.sugar.frame.Frame object>, <zmq.sugar.frame.Frame object>, <zmq.sugar.frame.Frame object>, <zmq.sugar.frame.Frame object>, <zmq.sugar.frame.Frame object>],), **kwargs={})\n    409         close our socket.\"\"\"\n    410         try:\n    411             # Use a NullContext to ensure that all StackContexts are run\n    412             # inside our blanket exception handler rather than outside.\n    413             with stack_context.NullContext():\n--> 414                 callback(*args, **kwargs)\n        callback = <function wrap.<locals>.null_wrapper>\n        args = ([<zmq.sugar.frame.Frame object>, <zmq.sugar.frame.Frame object>, <zmq.sugar.frame.Frame object>, <zmq.sugar.frame.Frame object>, <zmq.sugar.frame.Frame object>, <zmq.sugar.frame.Frame object>, <zmq.sugar.frame.Frame object>],)\n        kwargs = {}\n    415         except:\n    416             gen_log.error(\"Uncaught exception, closing connection.\",\n    417                           exc_info=True)\n    418             # Close the socket on an uncaught exception from a user callback\n\n...........................................................................\n/home/bob/.local/lib/python3.6/site-packages/tornado/stack_context.py in null_wrapper(*args=([<zmq.sugar.frame.Frame object>, <zmq.sugar.frame.Frame object>, <zmq.sugar.frame.Frame object>, <zmq.sugar.frame.Frame object>, <zmq.sugar.frame.Frame object>, <zmq.sugar.frame.Frame object>, <zmq.sugar.frame.Frame object>],), **kwargs={})\n    272         # Fast path when there are no active contexts.\n    273         def null_wrapper(*args, **kwargs):\n    274             try:\n    275                 current_state = _state.contexts\n    276                 _state.contexts = cap_contexts[0]\n--> 277                 return fn(*args, **kwargs)\n        args = ([<zmq.sugar.frame.Frame object>, <zmq.sugar.frame.Frame object>, <zmq.sugar.frame.Frame object>, <zmq.sugar.frame.Frame object>, <zmq.sugar.frame.Frame object>, <zmq.sugar.frame.Frame object>, <zmq.sugar.frame.Frame object>],)\n        kwargs = {}\n    278             finally:\n    279                 _state.contexts = current_state\n    280         null_wrapper._wrapped = True\n    281         return null_wrapper\n\n...........................................................................\n/home/bob/.local/lib/python3.6/site-packages/ipykernel/kernelbase.py in dispatcher(msg=[<zmq.sugar.frame.Frame object>, <zmq.sugar.frame.Frame object>, <zmq.sugar.frame.Frame object>, <zmq.sugar.frame.Frame object>, <zmq.sugar.frame.Frame object>, <zmq.sugar.frame.Frame object>, <zmq.sugar.frame.Frame object>])\n    276         if self.control_stream:\n    277             self.control_stream.on_recv(self.dispatch_control, copy=False)\n    278 \n    279         def make_dispatcher(stream):\n    280             def dispatcher(msg):\n--> 281                 return self.dispatch_shell(stream, msg)\n        msg = [<zmq.sugar.frame.Frame object>, <zmq.sugar.frame.Frame object>, <zmq.sugar.frame.Frame object>, <zmq.sugar.frame.Frame object>, <zmq.sugar.frame.Frame object>, <zmq.sugar.frame.Frame object>, <zmq.sugar.frame.Frame object>]\n    282             return dispatcher\n    283 \n    284         for s in self.shell_streams:\n    285             s.on_recv(make_dispatcher(s), copy=False)\n\n...........................................................................\n/home/bob/.local/lib/python3.6/site-packages/ipykernel/kernelbase.py in dispatch_shell(self=<ipykernel.ipkernel.IPythonKernel object>, stream=<zmq.eventloop.zmqstream.ZMQStream object>, msg={'buffers': [], 'content': {'allow_stdin': True, 'code': \"%%time\\nprint(cross_val_score(pipeline, train.tex...         cv=3, n_jobs=3, scoring='neg_log_loss'))\", 'silent': False, 'stop_on_error': True, 'store_history': True, 'user_expressions': {}}, 'header': {'date': datetime.datetime(2018, 1, 3, 14, 40, 37, 109981, tzinfo=tzutc()), 'msg_id': '8D23B63CFDE24DCC8A42E9FBCF10A1A6', 'msg_type': 'execute_request', 'session': '512E4502520F4C58B500E845BCAB949B', 'username': 'username', 'version': '5.0'}, 'metadata': {}, 'msg_id': '8D23B63CFDE24DCC8A42E9FBCF10A1A6', 'msg_type': 'execute_request', 'parent_header': {}})\n    227             self.log.warn(\"Unknown message type: %r\", msg_type)\n    228         else:\n    229             self.log.debug(\"%s: %s\", msg_type, msg)\n    230             self.pre_handler_hook()\n    231             try:\n--> 232                 handler(stream, idents, msg)\n        handler = <bound method Kernel.execute_request of <ipykernel.ipkernel.IPythonKernel object>>\n        stream = <zmq.eventloop.zmqstream.ZMQStream object>\n        idents = [b'512E4502520F4C58B500E845BCAB949B']\n        msg = {'buffers': [], 'content': {'allow_stdin': True, 'code': \"%%time\\nprint(cross_val_score(pipeline, train.tex...         cv=3, n_jobs=3, scoring='neg_log_loss'))\", 'silent': False, 'stop_on_error': True, 'store_history': True, 'user_expressions': {}}, 'header': {'date': datetime.datetime(2018, 1, 3, 14, 40, 37, 109981, tzinfo=tzutc()), 'msg_id': '8D23B63CFDE24DCC8A42E9FBCF10A1A6', 'msg_type': 'execute_request', 'session': '512E4502520F4C58B500E845BCAB949B', 'username': 'username', 'version': '5.0'}, 'metadata': {}, 'msg_id': '8D23B63CFDE24DCC8A42E9FBCF10A1A6', 'msg_type': 'execute_request', 'parent_header': {}}\n    233             except Exception:\n    234                 self.log.error(\"Exception in message handler:\", exc_info=True)\n    235             finally:\n    236                 self.post_handler_hook()\n\n...........................................................................\n/home/bob/.local/lib/python3.6/site-packages/ipykernel/kernelbase.py in execute_request(self=<ipykernel.ipkernel.IPythonKernel object>, stream=<zmq.eventloop.zmqstream.ZMQStream object>, ident=[b'512E4502520F4C58B500E845BCAB949B'], parent={'buffers': [], 'content': {'allow_stdin': True, 'code': \"%%time\\nprint(cross_val_score(pipeline, train.tex...         cv=3, n_jobs=3, scoring='neg_log_loss'))\", 'silent': False, 'stop_on_error': True, 'store_history': True, 'user_expressions': {}}, 'header': {'date': datetime.datetime(2018, 1, 3, 14, 40, 37, 109981, tzinfo=tzutc()), 'msg_id': '8D23B63CFDE24DCC8A42E9FBCF10A1A6', 'msg_type': 'execute_request', 'session': '512E4502520F4C58B500E845BCAB949B', 'username': 'username', 'version': '5.0'}, 'metadata': {}, 'msg_id': '8D23B63CFDE24DCC8A42E9FBCF10A1A6', 'msg_type': 'execute_request', 'parent_header': {}})\n    392         if not silent:\n    393             self.execution_count += 1\n    394             self._publish_execute_input(code, parent, self.execution_count)\n    395 \n    396         reply_content = self.do_execute(code, silent, store_history,\n--> 397                                         user_expressions, allow_stdin)\n        user_expressions = {}\n        allow_stdin = True\n    398 \n    399         # Flush output before sending the reply.\n    400         sys.stdout.flush()\n    401         sys.stderr.flush()\n\n...........................................................................\n/home/bob/.local/lib/python3.6/site-packages/ipykernel/ipkernel.py in do_execute(self=<ipykernel.ipkernel.IPythonKernel object>, code=\"%%time\\nprint(cross_val_score(pipeline, train.tex...         cv=3, n_jobs=3, scoring='neg_log_loss'))\", silent=False, store_history=True, user_expressions={}, allow_stdin=True)\n    203 \n    204         self._forward_input(allow_stdin)\n    205 \n    206         reply_content = {}\n    207         try:\n--> 208             res = shell.run_cell(code, store_history=store_history, silent=silent)\n        res = undefined\n        shell.run_cell = <bound method ZMQInteractiveShell.run_cell of <ipykernel.zmqshell.ZMQInteractiveShell object>>\n        code = \"%%time\\nprint(cross_val_score(pipeline, train.tex...         cv=3, n_jobs=3, scoring='neg_log_loss'))\"\n        store_history = True\n        silent = False\n    209         finally:\n    210             self._restore_input()\n    211 \n    212         if res.error_before_exec is not None:\n\n...........................................................................\n/home/bob/.local/lib/python3.6/site-packages/ipykernel/zmqshell.py in run_cell(self=<ipykernel.zmqshell.ZMQInteractiveShell object>, *args=(\"%%time\\nprint(cross_val_score(pipeline, train.tex...         cv=3, n_jobs=3, scoring='neg_log_loss'))\",), **kwargs={'silent': False, 'store_history': True})\n    528             )\n    529         self.payload_manager.write_payload(payload)\n    530 \n    531     def run_cell(self, *args, **kwargs):\n    532         self._last_traceback = None\n--> 533         return super(ZMQInteractiveShell, self).run_cell(*args, **kwargs)\n        self.run_cell = <bound method ZMQInteractiveShell.run_cell of <ipykernel.zmqshell.ZMQInteractiveShell object>>\n        args = (\"%%time\\nprint(cross_val_score(pipeline, train.tex...         cv=3, n_jobs=3, scoring='neg_log_loss'))\",)\n        kwargs = {'silent': False, 'store_history': True}\n    534 \n    535     def _showtraceback(self, etype, evalue, stb):\n    536         # try to preserve ordering of tracebacks and print statements\n    537         sys.stdout.flush()\n\n...........................................................................\n/home/bob/.local/lib/python3.6/site-packages/IPython/core/interactiveshell.py in run_cell(self=<ipykernel.zmqshell.ZMQInteractiveShell object>, raw_cell=\"%%time\\nprint(cross_val_score(pipeline, train.tex...         cv=3, n_jobs=3, scoring='neg_log_loss'))\", store_history=True, silent=False, shell_futures=True)\n   2723                 self.displayhook.exec_result = result\n   2724 \n   2725                 # Execute the user code\n   2726                 interactivity = \"none\" if silent else self.ast_node_interactivity\n   2727                 has_raised = self.run_ast_nodes(code_ast.body, cell_name,\n-> 2728                    interactivity=interactivity, compiler=compiler, result=result)\n        interactivity = 'last_expr'\n        compiler = <IPython.core.compilerop.CachingCompiler object>\n   2729                 \n   2730                 self.last_execution_succeeded = not has_raised\n   2731                 self.last_execution_result = result\n   2732 \n\n...........................................................................\n/home/bob/.local/lib/python3.6/site-packages/IPython/core/interactiveshell.py in run_ast_nodes(self=<ipykernel.zmqshell.ZMQInteractiveShell object>, nodelist=[<_ast.Expr object>], cell_name='<ipython-input-118-3fa43c63eb93>', interactivity='last', compiler=<IPython.core.compilerop.CachingCompiler object>, result=<ExecutionResult object at 7f602820e198, executi..._before_exec=None error_in_exec=None result=None>)\n   2851                     return True\n   2852 \n   2853             for i, node in enumerate(to_run_interactive):\n   2854                 mod = ast.Interactive([node])\n   2855                 code = compiler(mod, cell_name, \"single\")\n-> 2856                 if self.run_code(code, result):\n        self.run_code = <bound method InteractiveShell.run_code of <ipykernel.zmqshell.ZMQInteractiveShell object>>\n        code = <code object <module> at 0x7f6026d6aed0, file \"<ipython-input-118-3fa43c63eb93>\", line 1>\n        result = <ExecutionResult object at 7f602820e198, executi..._before_exec=None error_in_exec=None result=None>\n   2857                     return True\n   2858 \n   2859             # Flush softspace\n   2860             if softspace(sys.stdout, 0):\n\n...........................................................................\n/home/bob/.local/lib/python3.6/site-packages/IPython/core/interactiveshell.py in run_code(self=<ipykernel.zmqshell.ZMQInteractiveShell object>, code_obj=<code object <module> at 0x7f6026d6aed0, file \"<ipython-input-118-3fa43c63eb93>\", line 1>, result=<ExecutionResult object at 7f602820e198, executi..._before_exec=None error_in_exec=None result=None>)\n   2905         outflag = True  # happens in more places, so it's easier as default\n   2906         try:\n   2907             try:\n   2908                 self.hooks.pre_run_code_hook()\n   2909                 #rprint('Running code', repr(code_obj)) # dbg\n-> 2910                 exec(code_obj, self.user_global_ns, self.user_ns)\n        code_obj = <code object <module> at 0x7f6026d6aed0, file \"<ipython-input-118-3fa43c63eb93>\", line 1>\n        self.user_global_ns = {'Adam': <class 'keras.optimizers.Adam'>, 'CUSTOM_FILTERS': [<function strip_punctuation>, <function remove_stopwords>], 'Concatenate': <class 'keras.layers.merge.Concatenate'>, 'Conv2D': <class 'keras.layers.convolutional.Conv2D'>, 'CountVectorizer': <class 'sklearn.feature_extraction.text.CountVectorizer'>, 'Dense': <class 'keras.layers.core.Dense'>, 'Dropout': <class 'keras.layers.core.Dropout'>, 'FILENAME': 'processed_texts.pickle', 'HashingVectorizer': <class 'sklearn.feature_extraction.text.HashingVectorizer'>, 'In': ['', \"# corpus = [dictionary.doc2bow(text) for text in...k\\ncorpus = corpora.mmcorpus.MmCorpus('spooky.mm')\", \"import numpy as np\\nimport matplotlib.pyplot as p...lib', 'inline')\\n\\npd.options.display.max_rows = 10\", '# Dataset\\n\\n# use this if in fmi-hw... repo\\n# tra...pe)\\nprint(set(train.columns) - set(test.columns))', 'train.head(5)', 'from sklearn.pipeline import Pipeline\\nfrom sklea...om sklearn.model_selection import cross_val_score', \"pipeline = Pipeline([\\n    ('features', CountVect...peline, train.text, train.author, cv=3, n_jobs=3)\", 'from sklearn.model_selection import cross_val_pr...peline, train.text, train.author, cv=3, n_jobs=3)', \"import itertools\\nfrom sklearn.metrics import con...l('True label')\\n    plt.xlabel('Predicted label')\", 'pipeline.fit(train.text, train.author)\\nauthors =...matrix(train.author, prediction, classes=authors)', 'plot_confusion_matrix(train.author, prediction, classes=authors, normalize=True)', \"from sklearn.ensemble import RandomForestClassif...         cv=3, n_jobs=3, scoring='neg_log_loss'))\", \"from sklearn.linear_model import LogisticRegress...log_loss'))\\n\\n# Получихме малко по-добри резултати\", 'explore = train.copy()', \"# # бр. думи в текста\\n# explore['words'] = explo... sum([c in string.punctuation for c in str(s)]) )\", \"import nltk\\n# nltk.download('stopwords')\\nstopwords = nltk.corpus.stopwords.words('english')\", \"import nltk\\nnltk.download('stopwords')\\nstopwords = nltk.corpus.stopwords.words('english')\", \"import nltk\\n# nltk.download('stopwords')\\nstopwords = nltk.corpus.stopwords.words('english')\", \"# features_names = list(set(explore.columns) - {...or'})\\n# print('numeric features', features_names)\", \"from nltk.stem import WordNetLemmatizer\\nfrom nlt....split()])) \\n\\nexplore[['stemmed', 'text']].head()\", ...], ...}\n        self.user_ns = {'Adam': <class 'keras.optimizers.Adam'>, 'CUSTOM_FILTERS': [<function strip_punctuation>, <function remove_stopwords>], 'Concatenate': <class 'keras.layers.merge.Concatenate'>, 'Conv2D': <class 'keras.layers.convolutional.Conv2D'>, 'CountVectorizer': <class 'sklearn.feature_extraction.text.CountVectorizer'>, 'Dense': <class 'keras.layers.core.Dense'>, 'Dropout': <class 'keras.layers.core.Dropout'>, 'FILENAME': 'processed_texts.pickle', 'HashingVectorizer': <class 'sklearn.feature_extraction.text.HashingVectorizer'>, 'In': ['', \"# corpus = [dictionary.doc2bow(text) for text in...k\\ncorpus = corpora.mmcorpus.MmCorpus('spooky.mm')\", \"import numpy as np\\nimport matplotlib.pyplot as p...lib', 'inline')\\n\\npd.options.display.max_rows = 10\", '# Dataset\\n\\n# use this if in fmi-hw... repo\\n# tra...pe)\\nprint(set(train.columns) - set(test.columns))', 'train.head(5)', 'from sklearn.pipeline import Pipeline\\nfrom sklea...om sklearn.model_selection import cross_val_score', \"pipeline = Pipeline([\\n    ('features', CountVect...peline, train.text, train.author, cv=3, n_jobs=3)\", 'from sklearn.model_selection import cross_val_pr...peline, train.text, train.author, cv=3, n_jobs=3)', \"import itertools\\nfrom sklearn.metrics import con...l('True label')\\n    plt.xlabel('Predicted label')\", 'pipeline.fit(train.text, train.author)\\nauthors =...matrix(train.author, prediction, classes=authors)', 'plot_confusion_matrix(train.author, prediction, classes=authors, normalize=True)', \"from sklearn.ensemble import RandomForestClassif...         cv=3, n_jobs=3, scoring='neg_log_loss'))\", \"from sklearn.linear_model import LogisticRegress...log_loss'))\\n\\n# Получихме малко по-добри резултати\", 'explore = train.copy()', \"# # бр. думи в текста\\n# explore['words'] = explo... sum([c in string.punctuation for c in str(s)]) )\", \"import nltk\\n# nltk.download('stopwords')\\nstopwords = nltk.corpus.stopwords.words('english')\", \"import nltk\\nnltk.download('stopwords')\\nstopwords = nltk.corpus.stopwords.words('english')\", \"import nltk\\n# nltk.download('stopwords')\\nstopwords = nltk.corpus.stopwords.words('english')\", \"# features_names = list(set(explore.columns) - {...or'})\\n# print('numeric features', features_names)\", \"from nltk.stem import WordNetLemmatizer\\nfrom nlt....split()])) \\n\\nexplore[['stemmed', 'text']].head()\", ...], ...}\n   2911             finally:\n   2912                 # Reset our crash handler in place\n   2913                 sys.excepthook = old_excepthook\n   2914         except SystemExit as e:\n\n...........................................................................\n/home/bob/gits/spooky/<ipython-input-118-3fa43c63eb93> in <module>()\n----> 1 get_ipython().run_cell_magic('time', '', \"print(cross_val_score(pipeline, train.text, train.author, \\n                cv=3, n_jobs=3, scoring='neg_log_loss'))\")\n\n...........................................................................\n/home/bob/.local/lib/python3.6/site-packages/IPython/core/interactiveshell.py in run_cell_magic(self=<ipykernel.zmqshell.ZMQInteractiveShell object>, magic_name='time', line='', cell=\"print(cross_val_score(pipeline, train.text, trai...         cv=3, n_jobs=3, scoring='neg_log_loss'))\")\n   2126             # This will need to be updated if the internal calling logic gets\n   2127             # refactored, or else we'll be expanding the wrong variables.\n   2128             stack_depth = 2\n   2129             magic_arg_s = self.var_expand(line, stack_depth)\n   2130             with self.builtin_trap:\n-> 2131                 result = fn(magic_arg_s, cell)\n        result = undefined\n        fn = <bound method ExecutionMagics.time of <IPython.core.magics.execution.ExecutionMagics object>>\n        magic_arg_s = ''\n        cell = \"print(cross_val_score(pipeline, train.text, trai...         cv=3, n_jobs=3, scoring='neg_log_loss'))\"\n   2132             return result\n   2133 \n   2134     def find_line_magic(self, magic_name):\n   2135         \"\"\"Find and return a line magic by name.\n\n...........................................................................\n/home/bob/gits/spooky/<decorator-gen-62> in time(self=<IPython.core.magics.execution.ExecutionMagics object>, line='', cell=\"print(cross_val_score(pipeline, train.text, trai...         cv=3, n_jobs=3, scoring='neg_log_loss'))\", local_ns=None)\n\n...........................................................................\n/home/bob/.local/lib/python3.6/site-packages/IPython/core/magic.py in <lambda>(f=<function ExecutionMagics.time>, *a=(<IPython.core.magics.execution.ExecutionMagics object>, '', \"print(cross_val_score(pipeline, train.text, trai...         cv=3, n_jobs=3, scoring='neg_log_loss'))\", None), **k={})\n    182     validate_type(magic_kind)\n    183 \n    184     # This is a closure to capture the magic_kind.  We could also use a class,\n    185     # but it's overkill for just that one bit of state.\n    186     def magic_deco(arg):\n--> 187         call = lambda f, *a, **k: f(*a, **k)\n        f = <function ExecutionMagics.time>\n        a = (<IPython.core.magics.execution.ExecutionMagics object>, '', \"print(cross_val_score(pipeline, train.text, trai...         cv=3, n_jobs=3, scoring='neg_log_loss'))\", None)\n        k = {}\n    188 \n    189         if callable(arg):\n    190             # \"Naked\" decorator call (just @foo, no args)\n    191             func = arg\n\n...........................................................................\n/home/bob/.local/lib/python3.6/site-packages/IPython/core/magics/execution.py in time(self=<IPython.core.magics.execution.ExecutionMagics object>, line='', cell=\"print(cross_val_score(pipeline, train.text, trai...         cv=3, n_jobs=3, scoring='neg_log_loss'))\", local_ns=None)\n   1225         # time execution\n   1226         wall_st = wtime()\n   1227         if mode=='eval':\n   1228             st = clock2()\n   1229             try:\n-> 1230                 out = eval(code, glob, local_ns)\n        out = undefined\n        code = <code object <module> at 0x7f6025716ed0, file \"<timed eval>\", line 1>\n        glob = {'Adam': <class 'keras.optimizers.Adam'>, 'CUSTOM_FILTERS': [<function strip_punctuation>, <function remove_stopwords>], 'Concatenate': <class 'keras.layers.merge.Concatenate'>, 'Conv2D': <class 'keras.layers.convolutional.Conv2D'>, 'CountVectorizer': <class 'sklearn.feature_extraction.text.CountVectorizer'>, 'Dense': <class 'keras.layers.core.Dense'>, 'Dropout': <class 'keras.layers.core.Dropout'>, 'FILENAME': 'processed_texts.pickle', 'HashingVectorizer': <class 'sklearn.feature_extraction.text.HashingVectorizer'>, 'In': ['', \"# corpus = [dictionary.doc2bow(text) for text in...k\\ncorpus = corpora.mmcorpus.MmCorpus('spooky.mm')\", \"import numpy as np\\nimport matplotlib.pyplot as p...lib', 'inline')\\n\\npd.options.display.max_rows = 10\", '# Dataset\\n\\n# use this if in fmi-hw... repo\\n# tra...pe)\\nprint(set(train.columns) - set(test.columns))', 'train.head(5)', 'from sklearn.pipeline import Pipeline\\nfrom sklea...om sklearn.model_selection import cross_val_score', \"pipeline = Pipeline([\\n    ('features', CountVect...peline, train.text, train.author, cv=3, n_jobs=3)\", 'from sklearn.model_selection import cross_val_pr...peline, train.text, train.author, cv=3, n_jobs=3)', \"import itertools\\nfrom sklearn.metrics import con...l('True label')\\n    plt.xlabel('Predicted label')\", 'pipeline.fit(train.text, train.author)\\nauthors =...matrix(train.author, prediction, classes=authors)', 'plot_confusion_matrix(train.author, prediction, classes=authors, normalize=True)', \"from sklearn.ensemble import RandomForestClassif...         cv=3, n_jobs=3, scoring='neg_log_loss'))\", \"from sklearn.linear_model import LogisticRegress...log_loss'))\\n\\n# Получихме малко по-добри резултати\", 'explore = train.copy()', \"# # бр. думи в текста\\n# explore['words'] = explo... sum([c in string.punctuation for c in str(s)]) )\", \"import nltk\\n# nltk.download('stopwords')\\nstopwords = nltk.corpus.stopwords.words('english')\", \"import nltk\\nnltk.download('stopwords')\\nstopwords = nltk.corpus.stopwords.words('english')\", \"import nltk\\n# nltk.download('stopwords')\\nstopwords = nltk.corpus.stopwords.words('english')\", \"# features_names = list(set(explore.columns) - {...or'})\\n# print('numeric features', features_names)\", \"from nltk.stem import WordNetLemmatizer\\nfrom nlt....split()])) \\n\\nexplore[['stemmed', 'text']].head()\", ...], ...}\n        local_ns = None\n   1231             except:\n   1232                 self.shell.showtraceback()\n   1233                 return\n   1234             end = clock2()\n\n...........................................................................\n/home/bob/gits/spooky/<timed eval> in <module>()\n\n...........................................................................\n/home/bob/.local/lib/python3.6/site-packages/sklearn/model_selection/_validation.py in cross_val_score(estimator=Pipeline(memory=None,\n     steps=[('bow', Text2B...B(alpha=1.0, class_prior=None, fit_prior=True))]), X=id\nid26305    This process, however, afforded me...d it ...\nName: text, Length: 19579, dtype: object, y=id\nid26305    EAP\nid17569    HPL\nid11008    EAP\n...   HPL\nName: author, Length: 19579, dtype: object, groups=None, scoring='neg_log_loss', cv=3, n_jobs=3, verbose=0, fit_params=None, pre_dispatch='2*n_jobs')\n    337     cv_results = cross_validate(estimator=estimator, X=X, y=y, groups=groups,\n    338                                 scoring={'score': scorer}, cv=cv,\n    339                                 return_train_score=False,\n    340                                 n_jobs=n_jobs, verbose=verbose,\n    341                                 fit_params=fit_params,\n--> 342                                 pre_dispatch=pre_dispatch)\n        pre_dispatch = '2*n_jobs'\n    343     return cv_results['test_score']\n    344 \n    345 \n    346 def _fit_and_score(estimator, X, y, scorer, train, test, verbose,\n\n...........................................................................\n/home/bob/.local/lib/python3.6/site-packages/sklearn/model_selection/_validation.py in cross_validate(estimator=Pipeline(memory=None,\n     steps=[('bow', Text2B...B(alpha=1.0, class_prior=None, fit_prior=True))]), X=id\nid26305    This process, however, afforded me...d it ...\nName: text, Length: 19579, dtype: object, y=id\nid26305    EAP\nid17569    HPL\nid11008    EAP\n...   HPL\nName: author, Length: 19579, dtype: object, groups=None, scoring={'score': make_scorer(log_loss, greater_is_better=False, needs_proba=True)}, cv=StratifiedKFold(n_splits=3, random_state=None, shuffle=False), n_jobs=3, verbose=0, fit_params=None, pre_dispatch='2*n_jobs', return_train_score=False)\n    201     scores = parallel(\n    202         delayed(_fit_and_score)(\n    203             clone(estimator), X, y, scorers, train, test, verbose, None,\n    204             fit_params, return_train_score=return_train_score,\n    205             return_times=True)\n--> 206         for train, test in cv.split(X, y, groups))\n        cv.split = <bound method StratifiedKFold.split of Stratifie...ld(n_splits=3, random_state=None, shuffle=False)>\n        X = id\nid26305    This process, however, afforded me...d it ...\nName: text, Length: 19579, dtype: object\n        y = id\nid26305    EAP\nid17569    HPL\nid11008    EAP\n...   HPL\nName: author, Length: 19579, dtype: object\n        groups = None\n    207 \n    208     if return_train_score:\n    209         train_scores, test_scores, fit_times, score_times = zip(*scores)\n    210         train_scores = _aggregate_score_dicts(train_scores)\n\n...........................................................................\n/home/bob/.local/lib/python3.6/site-packages/sklearn/externals/joblib/parallel.py in __call__(self=Parallel(n_jobs=3), iterable=<generator object cross_validate.<locals>.<genexpr>>)\n    784             if pre_dispatch == \"all\" or n_jobs == 1:\n    785                 # The iterable was consumed all at once by the above for loop.\n    786                 # No need to wait for async callbacks to trigger to\n    787                 # consumption.\n    788                 self._iterating = False\n--> 789             self.retrieve()\n        self.retrieve = <bound method Parallel.retrieve of Parallel(n_jobs=3)>\n    790             # Make sure that we get a last message telling us we are done\n    791             elapsed_time = time.time() - self._start_time\n    792             self._print('Done %3i out of %3i | elapsed: %s finished',\n    793                         (len(self._output), len(self._output),\n\n---------------------------------------------------------------------------\nSub-process traceback:\n---------------------------------------------------------------------------\nValueError                                         Wed Jan  3 06:40:41 2018\nPID: 18886                                   Python 3.6.3: /usr/bin/python3\n...........................................................................\n/home/bob/.local/lib/python3.6/site-packages/sklearn/externals/joblib/parallel.py in __call__(self=<sklearn.externals.joblib.parallel.BatchedCalls object>)\n    126     def __init__(self, iterator_slice):\n    127         self.items = list(iterator_slice)\n    128         self._size = len(self.items)\n    129 \n    130     def __call__(self):\n--> 131         return [func(*args, **kwargs) for func, args, kwargs in self.items]\n        self.items = [(<function _fit_and_score>, (Pipeline(memory=None,\n     steps=[('bow', Text2B...B(alpha=1.0, class_prior=None, fit_prior=True))]), id\nid26305    This process, however, afforded me...d it ...\nName: text, Length: 19579, dtype: object, id\nid26305    EAP\nid17569    HPL\nid11008    EAP\n...   HPL\nName: author, Length: 19579, dtype: object, {'score': make_scorer(log_loss, greater_is_better=False, needs_proba=True)}, array([ 6475,  6476,  6478, ..., 19576, 19577, 19578]), array([   0,    1,    2, ..., 6604, 6605, 6606]), 0, None, None), {'return_times': True, 'return_train_score': False})]\n    132 \n    133     def __len__(self):\n    134         return self._size\n    135 \n\n...........................................................................\n/home/bob/.local/lib/python3.6/site-packages/sklearn/externals/joblib/parallel.py in <listcomp>(.0=<list_iterator object>)\n    126     def __init__(self, iterator_slice):\n    127         self.items = list(iterator_slice)\n    128         self._size = len(self.items)\n    129 \n    130     def __call__(self):\n--> 131         return [func(*args, **kwargs) for func, args, kwargs in self.items]\n        func = <function _fit_and_score>\n        args = (Pipeline(memory=None,\n     steps=[('bow', Text2B...B(alpha=1.0, class_prior=None, fit_prior=True))]), id\nid26305    This process, however, afforded me...d it ...\nName: text, Length: 19579, dtype: object, id\nid26305    EAP\nid17569    HPL\nid11008    EAP\n...   HPL\nName: author, Length: 19579, dtype: object, {'score': make_scorer(log_loss, greater_is_better=False, needs_proba=True)}, array([ 6475,  6476,  6478, ..., 19576, 19577, 19578]), array([   0,    1,    2, ..., 6604, 6605, 6606]), 0, None, None)\n        kwargs = {'return_times': True, 'return_train_score': False}\n    132 \n    133     def __len__(self):\n    134         return self._size\n    135 \n\n...........................................................................\n/home/bob/.local/lib/python3.6/site-packages/sklearn/model_selection/_validation.py in _fit_and_score(estimator=Pipeline(memory=None,\n     steps=[('bow', Text2B...B(alpha=1.0, class_prior=None, fit_prior=True))]), X=id\nid26305    This process, however, afforded me...d it ...\nName: text, Length: 19579, dtype: object, y=id\nid26305    EAP\nid17569    HPL\nid11008    EAP\n...   HPL\nName: author, Length: 19579, dtype: object, scorer={'score': make_scorer(log_loss, greater_is_better=False, needs_proba=True)}, train=array([ 6475,  6476,  6478, ..., 19576, 19577, 19578]), test=array([   0,    1,    2, ..., 6604, 6605, 6606]), verbose=0, parameters=None, fit_params={}, return_train_score=False, return_parameters=False, return_n_test_samples=False, return_times=True, error_score='raise')\n    453 \n    454     try:\n    455         if y_train is None:\n    456             estimator.fit(X_train, **fit_params)\n    457         else:\n--> 458             estimator.fit(X_train, y_train, **fit_params)\n        estimator.fit = <bound method Pipeline.fit of Pipeline(memory=No...(alpha=1.0, class_prior=None, fit_prior=True))])>\n        X_train = id\nid15739    Its close resemblance to the medic...d it ...\nName: text, Length: 13051, dtype: object\n        y_train = id\nid15739    EAP\nid19588    EAP\nid11059    EAP\n...   HPL\nName: author, Length: 13051, dtype: object\n        fit_params = {}\n    459 \n    460     except Exception as e:\n    461         # Note fit time as time until error\n    462         fit_time = time.time() - start_time\n\n...........................................................................\n/home/bob/.local/lib/python3.6/site-packages/sklearn/pipeline.py in fit(self=Pipeline(memory=None,\n     steps=[('bow', Text2B...B(alpha=1.0, class_prior=None, fit_prior=True))]), X=id\nid15739    Its close resemblance to the medic...d it ...\nName: text, Length: 13051, dtype: object, y=id\nid15739    EAP\nid19588    EAP\nid11059    EAP\n...   HPL\nName: author, Length: 13051, dtype: object, **fit_params={})\n    245         self : Pipeline\n    246             This estimator\n    247         \"\"\"\n    248         Xt, fit_params = self._fit(X, y, **fit_params)\n    249         if self._final_estimator is not None:\n--> 250             self._final_estimator.fit(Xt, y, **fit_params)\n        self._final_estimator.fit = <bound method BaseDiscreteNB.fit of MultinomialNB(alpha=1.0, class_prior=None, fit_prior=True)>\n        Xt = [[(0, 0.2664714100608566), (1, 0.10480362539462479), (2, 0.2604873336049293), (3, 0.2319432706761858), (4, 0.24213524135011738), (5, 0.41116785474457307), (6, 0.39218741029198784), (7, 0.32007681200061067), (8, 0.35974012618542445), (9, 0.3057814279583449), (10, 0.033103432446463785), (11, 0.07685359149299217), (12, 0.19308643986019788), (13, 0.2126248353265933)], [(10, 0.024133907128526488), (11, 0.056029761946444906), (14, 0.2713402113709543), (15, 0.3420085240826053), (16, 0.5718449017195636), (17, 0.2614985439879363), (18, 0.1808821162765368), (19, 0.036987739317106506), (20, 0.42712530611518384), (21, 0.3189304655793621), (22, 0.09341436285112015), (23, 0.27476798475726655), (24, 0.088498637497393)], [(1, 0.07932158066320133), (10, 0.06263658764531839), (14, 0.14084602912179758), (18, 0.09389145710463107), (19, 0.01919942563133236), (22, 0.048489097889497096), (25, 0.2722725986774012), (26, 0.2620800981425273), (27, 0.24487868329638712), (28, 0.2722725986774012), (29, 0.03505679663903942), (30, 0.08624781176709262), (31, 0.07149215764800944), (32, 0.31119614453633054), (33, 0.2729933988114348), (34, 0.1733099699406774), (35, 0.17712329620393766), (36, 0.06842298368233549), (37, 0.1420511395070622), (38, 0.14386314798381059), ...], [(10, 0.015973364734577944), (19, 0.0489617074991789), (23, 0.18185904232327854), (30, 0.1099730849576353), (47, 0.046070957177769906), (48, 0.2975393193706599), (49, 0.11089059498724518), (50, 0.3968007922798119), (51, 0.19827784646150795), (52, 0.07722160044388235), (53, 0.04857698480295758), (54, 0.42811430060066746), (55, 0.3236593651896635), (56, 0.07556909941755309), (57, 0.24915443219781466), (58, 0.42811430060066746), (59, 0.3240930775601281)], [(10, 0.03745602951273969), (36, 0.10229058576225049), (47, 0.10803203710707177), (60, 0.23619581984220353), (61, 0.03133470722492), (62, 0.385564388719468), (63, 0.3015083410363086), (64, 0.11103716027435812), (65, 0.1905968735808948), (66, 0.24536394387695537), (67, 0.5308001436909793), (68, 0.3703268648059433), (69, 0.23994513095105036), (70, 0.3078975881412962)], [(47, 0.07100101906724518), (53, 0.07486311627769447), (61, 0.04118771069619043), (71, 0.15202575486829917), (72, 0.14256352538466183), (73, 0.4667449719251434), (74, 0.2503651118140704), (75, 0.37022902619505615), (76, 0.5477253203876611), (77, 0.4760416328690717)], [(10, 0.06462580383426865), (11, 0.06430138284840814), (18, 0.06919519082403108), (22, 0.03573501237295617), (31, 0.10537515645034605), (37, 0.15703115077885102), (46, 0.07518496273136628), (64, 0.0547374449573064), (65, 0.04697880354149405), (78, 0.1734637042645781), (79, 0.21124370752304877), (80, 0.1237755155749664), (81, 0.15694812556791132), (82, 0.14377383733539228), (83, 0.21875527504189865), (84, 0.24744076215980707), (85, 0.10989353196818279), (86, 0.20541728310317606), (87, 0.1788334923026323), (88, 0.3009539216891794), ...], [(10, 0.01715833256303342), (19, 0.026296941004117013), (22, 0.06641422358292039), (24, 0.06291932116373902), (29, 0.0480163589636599), (30, 0.11813132649510569), (47, 0.049488684312218235), (51, 0.21298688698342833), (53, 0.052180619049802826), (56, 0.08117511625389999), (61, 0.028708399385876993), (102, 0.23403001292583833), (113, 0.20423929132245422), (115, 0.4262370557703321), (116, 0.2690731650842324), (117, 0.3589641175494357), (118, 0.17450791755009787), (119, 0.2001630105211242), (120, 0.303670599600059), (121, 0.4262370557703321), ...], [(10, 0.021322122227474257), (11, 0.04950186582869004), (30, 0.14679809784366432), (31, 0.12168323506929181), (47, 0.12299607457840946), (52, 0.20615924454556003), (61, 0.035675028352090576), (91, 0.14487860845275446), (98, 0.27840822828588596), (103, 0.23291869434274284), (124, 0.13839751535552838), (125, 0.3007913272538198), (126, 0.39081820673094264), (127, 0.2462174723129556), (128, 0.4123268436706392), (129, 0.22158417220596172), (130, 0.3435567610008015), (131, 0.18912652719692835), (132, 0.2306072899995085)], [(10, 0.060204206982548865), (19, 0.055361550083157234), (22, 0.09321221974181244), (49, 0.08359015703908927), (53, 0.036617693219445066), (61, 0.04029217669993592), (104, 0.0754428098308278), (133, 0.26790813350704007), (134, 0.18687533762152778), (135, 0.24430377753540683), (136, 0.23809501978731895), (137, 0.2755070388560312), (138, 0.21903792681162104), (139, 0.12747319308243932), (140, 0.12362178362577428), (141, 0.14439454632496657), (142, 0.22244615763028036), (143, 0.21903792681162104), (144, 0.23809501978731895), (145, 0.07431384829899074), ...], [(10, 0.017868951261395715), (11, 0.08296982996385277), (61, 0.02989736837972952), (72, 0.10348412582038423), (155, 0.31426513521849647), (156, 0.1699525813091037), (157, 0.1701766922652076), (158, 0.27640100939491724), (159, 0.2978192836150871), (160, 0.24276889717607655), (161, 0.33880121349699616), (162, 0.23450847942150704), (163, 0.3625537576651779), (164, 0.3183102485560416), (165, 0.24137147345766863), (166, 0.3738307494342447)], [(10, 0.04520429241093692), (11, 0.02623679756093562), (19, 0.017320077669206606), (22, 0.08748542354155527), (29, 0.06325047970506475), (53, 0.034367966016593844), (57, 0.08813773738110729), (61, 0.018908347820537255), (167, 0.10458059386108247), (168, 0.19113441661345087), (169, 0.3028886579507455), (170, 0.25858036692787534), (171, 0.13969408373222703), (172, 0.16532352454213142), (173, 0.16532352454213142), (174, 0.3028886579507455), (175, 0.19313267199821985), (176, 0.17097852648678477), (177, 0.2807345124393104), (178, 0.09429094471794976), ...], [(10, 0.009856156567640691), (15, 0.13967442332789326), (19, 0.04531677542111343), (24, 0.10842708839707535), (29, 0.11032697962119518), (41, 0.07260064341795866), (49, 0.06842359667072355), (56, 0.04662892808818644), (57, 0.1537374957667718), (61, 0.016490791171816524), (165, 0.13313568315005253), (190, 0.16755438923335436), (191, 0.13904086957076212), (192, 0.2448407583411407), (193, 0.12430484550933028), (194, 0.18687598151030094), (195, 0.15050032010750405), (196, 0.09143544591163232), (197, 0.12269104128755341), (198, 0.2641623506180873), ...], [(10, 0.05128666371555671), (11, 0.02381362904652451), (19, 0.047161308888427914), (22, 0.07940547692065152), (24, 0.037613469186254155), (30, 0.07061946834251158), (47, 0.05916914130722203), (61, 0.03432403515216796), (65, 0.05219494905222182), (66, 0.13438581975978053), (71, 0.06334580468218413), (72, 0.05940310075515709), (103, 0.05602454869351825), (111, 0.08056360687311669), (124, 0.0665782397585325), (131, 0.09098220614776903), (217, 0.13014327126494443), (218, 0.14707666165679775), (219, 0.1425038820600952), (220, 0.27491457850702283), ...], [(10, 0.03373914624704608), (11, 0.03916473868965497), (19, 0.05170877386415411), (22, 0.03264826570583768), (24, 0.06186044508432571), (29, 0.047208286451325736), (36, 0.046069979621768835), (45, 0.08087235171979418), (47, 0.024327916938460356), (53, 0.07695369862930257), (56, 0.07980901141908836), (61, 0.028225262619209712), (69, 0.1080672987732272), (112, 0.04557089762967087), (127, 0.09740080300544345), (241, 0.1796469603779444), (242, 0.08992259466649655), (243, 0.11166235358548782), (244, 0.15848012162533082), (245, 0.26548969682262125), ...], [(10, 0.014878436612043862), (11, 0.0690841526047578), (19, 0.022802761770881638), (24, 0.05455898049349969), (30, 0.10243474689030971), (45, 0.071326888352145), (47, 0.08582585164937677), (53, 0.045247172477722745), (56, 0.07038905541794807), (69, 0.09531198228070385), (104, 0.09322197900786375), (112, 0.08038421681121939), (131, 0.13197124641419022), (182, 0.17819993890438107), (185, 0.13080027223004068), (270, 0.18048741343046848), (271, 0.12834700317270165), (277, 0.21653463756000216), (278, 0.15765046010508932), (279, 0.3696012414193431), ...], [(10, 0.03791716652108541), (11, 0.05868616859386632), (22, 0.04892159860155609), (29, 0.1061084619891196), (36, 0.13806657118911214), (53, 0.03843693658103161), (64, 0.07493612378605678), (65, 0.06431446407942601), (91, 0.08587929261825251), (105, 0.3574063109864729), (141, 0.15156836850641137), (145, 0.07800591525639525), (213, 0.12076867033953673), (219, 0.17559286809079885), (222, 0.09905080713055688), (290, 0.17634543810717943), (291, 0.2354304202988956), (292, 0.23747359098140175), (293, 0.21838240905413028), (294, 0.2068871594723075), ...], [(10, 0.01568731468793941), (29, 0.08779964258937602), (37, 0.0889416637703053), (53, 0.04770707110604152), (61, 0.02624717137862027), (64, 0.09300905076906602), (237, 0.1379113333775812), (305, 0.30664896585612444), (306, 0.2833078792717857), (307, 0.20730843748050645), (308, 0.2233412719391391), (309, 0.38969490776368737), (310, 0.2695472861513626), (311, 0.21271630313917306), (312, 0.4204476556771751), (313, 0.20658700960294096), (314, 0.4204476556771751), (315, 0.14264507531499204)], [(10, 0.027389551203659726), (316, 0.7340881994597976), (317, 0.37735752159971553), (318, 0.5638844108421996)], [(18, 0.35789169848754704), (36, 0.13040599539512807), (52, 0.11542397475108049), (92, 0.1830990480525225), (130, 0.19234978763494665), (319, 0.37310009228736857), (320, 0.5931025045589059), (321, 0.2808020052524273), (322, 0.44859490237601146)], ...]\n        y = id\nid15739    EAP\nid19588    EAP\nid11059    EAP\n...   HPL\nName: author, Length: 13051, dtype: object\n        fit_params = {}\n    251         return self\n    252 \n    253     def fit_transform(self, X, y=None, **fit_params):\n    254         \"\"\"Fit the model and transform with the final estimator\n\n...........................................................................\n/home/bob/.local/lib/python3.6/site-packages/sklearn/naive_bayes.py in fit(self=MultinomialNB(alpha=1.0, class_prior=None, fit_prior=True), X=[[(0, 0.2664714100608566), (1, 0.10480362539462479), (2, 0.2604873336049293), (3, 0.2319432706761858), (4, 0.24213524135011738), (5, 0.41116785474457307), (6, 0.39218741029198784), (7, 0.32007681200061067), (8, 0.35974012618542445), (9, 0.3057814279583449), (10, 0.033103432446463785), (11, 0.07685359149299217), (12, 0.19308643986019788), (13, 0.2126248353265933)], [(10, 0.024133907128526488), (11, 0.056029761946444906), (14, 0.2713402113709543), (15, 0.3420085240826053), (16, 0.5718449017195636), (17, 0.2614985439879363), (18, 0.1808821162765368), (19, 0.036987739317106506), (20, 0.42712530611518384), (21, 0.3189304655793621), (22, 0.09341436285112015), (23, 0.27476798475726655), (24, 0.088498637497393)], [(1, 0.07932158066320133), (10, 0.06263658764531839), (14, 0.14084602912179758), (18, 0.09389145710463107), (19, 0.01919942563133236), (22, 0.048489097889497096), (25, 0.2722725986774012), (26, 0.2620800981425273), (27, 0.24487868329638712), (28, 0.2722725986774012), (29, 0.03505679663903942), (30, 0.08624781176709262), (31, 0.07149215764800944), (32, 0.31119614453633054), (33, 0.2729933988114348), (34, 0.1733099699406774), (35, 0.17712329620393766), (36, 0.06842298368233549), (37, 0.1420511395070622), (38, 0.14386314798381059), ...], [(10, 0.015973364734577944), (19, 0.0489617074991789), (23, 0.18185904232327854), (30, 0.1099730849576353), (47, 0.046070957177769906), (48, 0.2975393193706599), (49, 0.11089059498724518), (50, 0.3968007922798119), (51, 0.19827784646150795), (52, 0.07722160044388235), (53, 0.04857698480295758), (54, 0.42811430060066746), (55, 0.3236593651896635), (56, 0.07556909941755309), (57, 0.24915443219781466), (58, 0.42811430060066746), (59, 0.3240930775601281)], [(10, 0.03745602951273969), (36, 0.10229058576225049), (47, 0.10803203710707177), (60, 0.23619581984220353), (61, 0.03133470722492), (62, 0.385564388719468), (63, 0.3015083410363086), (64, 0.11103716027435812), (65, 0.1905968735808948), (66, 0.24536394387695537), (67, 0.5308001436909793), (68, 0.3703268648059433), (69, 0.23994513095105036), (70, 0.3078975881412962)], [(47, 0.07100101906724518), (53, 0.07486311627769447), (61, 0.04118771069619043), (71, 0.15202575486829917), (72, 0.14256352538466183), (73, 0.4667449719251434), (74, 0.2503651118140704), (75, 0.37022902619505615), (76, 0.5477253203876611), (77, 0.4760416328690717)], [(10, 0.06462580383426865), (11, 0.06430138284840814), (18, 0.06919519082403108), (22, 0.03573501237295617), (31, 0.10537515645034605), (37, 0.15703115077885102), (46, 0.07518496273136628), (64, 0.0547374449573064), (65, 0.04697880354149405), (78, 0.1734637042645781), (79, 0.21124370752304877), (80, 0.1237755155749664), (81, 0.15694812556791132), (82, 0.14377383733539228), (83, 0.21875527504189865), (84, 0.24744076215980707), (85, 0.10989353196818279), (86, 0.20541728310317606), (87, 0.1788334923026323), (88, 0.3009539216891794), ...], [(10, 0.01715833256303342), (19, 0.026296941004117013), (22, 0.06641422358292039), (24, 0.06291932116373902), (29, 0.0480163589636599), (30, 0.11813132649510569), (47, 0.049488684312218235), (51, 0.21298688698342833), (53, 0.052180619049802826), (56, 0.08117511625389999), (61, 0.028708399385876993), (102, 0.23403001292583833), (113, 0.20423929132245422), (115, 0.4262370557703321), (116, 0.2690731650842324), (117, 0.3589641175494357), (118, 0.17450791755009787), (119, 0.2001630105211242), (120, 0.303670599600059), (121, 0.4262370557703321), ...], [(10, 0.021322122227474257), (11, 0.04950186582869004), (30, 0.14679809784366432), (31, 0.12168323506929181), (47, 0.12299607457840946), (52, 0.20615924454556003), (61, 0.035675028352090576), (91, 0.14487860845275446), (98, 0.27840822828588596), (103, 0.23291869434274284), (124, 0.13839751535552838), (125, 0.3007913272538198), (126, 0.39081820673094264), (127, 0.2462174723129556), (128, 0.4123268436706392), (129, 0.22158417220596172), (130, 0.3435567610008015), (131, 0.18912652719692835), (132, 0.2306072899995085)], [(10, 0.060204206982548865), (19, 0.055361550083157234), (22, 0.09321221974181244), (49, 0.08359015703908927), (53, 0.036617693219445066), (61, 0.04029217669993592), (104, 0.0754428098308278), (133, 0.26790813350704007), (134, 0.18687533762152778), (135, 0.24430377753540683), (136, 0.23809501978731895), (137, 0.2755070388560312), (138, 0.21903792681162104), (139, 0.12747319308243932), (140, 0.12362178362577428), (141, 0.14439454632496657), (142, 0.22244615763028036), (143, 0.21903792681162104), (144, 0.23809501978731895), (145, 0.07431384829899074), ...], [(10, 0.017868951261395715), (11, 0.08296982996385277), (61, 0.02989736837972952), (72, 0.10348412582038423), (155, 0.31426513521849647), (156, 0.1699525813091037), (157, 0.1701766922652076), (158, 0.27640100939491724), (159, 0.2978192836150871), (160, 0.24276889717607655), (161, 0.33880121349699616), (162, 0.23450847942150704), (163, 0.3625537576651779), (164, 0.3183102485560416), (165, 0.24137147345766863), (166, 0.3738307494342447)], [(10, 0.04520429241093692), (11, 0.02623679756093562), (19, 0.017320077669206606), (22, 0.08748542354155527), (29, 0.06325047970506475), (53, 0.034367966016593844), (57, 0.08813773738110729), (61, 0.018908347820537255), (167, 0.10458059386108247), (168, 0.19113441661345087), (169, 0.3028886579507455), (170, 0.25858036692787534), (171, 0.13969408373222703), (172, 0.16532352454213142), (173, 0.16532352454213142), (174, 0.3028886579507455), (175, 0.19313267199821985), (176, 0.17097852648678477), (177, 0.2807345124393104), (178, 0.09429094471794976), ...], [(10, 0.009856156567640691), (15, 0.13967442332789326), (19, 0.04531677542111343), (24, 0.10842708839707535), (29, 0.11032697962119518), (41, 0.07260064341795866), (49, 0.06842359667072355), (56, 0.04662892808818644), (57, 0.1537374957667718), (61, 0.016490791171816524), (165, 0.13313568315005253), (190, 0.16755438923335436), (191, 0.13904086957076212), (192, 0.2448407583411407), (193, 0.12430484550933028), (194, 0.18687598151030094), (195, 0.15050032010750405), (196, 0.09143544591163232), (197, 0.12269104128755341), (198, 0.2641623506180873), ...], [(10, 0.05128666371555671), (11, 0.02381362904652451), (19, 0.047161308888427914), (22, 0.07940547692065152), (24, 0.037613469186254155), (30, 0.07061946834251158), (47, 0.05916914130722203), (61, 0.03432403515216796), (65, 0.05219494905222182), (66, 0.13438581975978053), (71, 0.06334580468218413), (72, 0.05940310075515709), (103, 0.05602454869351825), (111, 0.08056360687311669), (124, 0.0665782397585325), (131, 0.09098220614776903), (217, 0.13014327126494443), (218, 0.14707666165679775), (219, 0.1425038820600952), (220, 0.27491457850702283), ...], [(10, 0.03373914624704608), (11, 0.03916473868965497), (19, 0.05170877386415411), (22, 0.03264826570583768), (24, 0.06186044508432571), (29, 0.047208286451325736), (36, 0.046069979621768835), (45, 0.08087235171979418), (47, 0.024327916938460356), (53, 0.07695369862930257), (56, 0.07980901141908836), (61, 0.028225262619209712), (69, 0.1080672987732272), (112, 0.04557089762967087), (127, 0.09740080300544345), (241, 0.1796469603779444), (242, 0.08992259466649655), (243, 0.11166235358548782), (244, 0.15848012162533082), (245, 0.26548969682262125), ...], [(10, 0.014878436612043862), (11, 0.0690841526047578), (19, 0.022802761770881638), (24, 0.05455898049349969), (30, 0.10243474689030971), (45, 0.071326888352145), (47, 0.08582585164937677), (53, 0.045247172477722745), (56, 0.07038905541794807), (69, 0.09531198228070385), (104, 0.09322197900786375), (112, 0.08038421681121939), (131, 0.13197124641419022), (182, 0.17819993890438107), (185, 0.13080027223004068), (270, 0.18048741343046848), (271, 0.12834700317270165), (277, 0.21653463756000216), (278, 0.15765046010508932), (279, 0.3696012414193431), ...], [(10, 0.03791716652108541), (11, 0.05868616859386632), (22, 0.04892159860155609), (29, 0.1061084619891196), (36, 0.13806657118911214), (53, 0.03843693658103161), (64, 0.07493612378605678), (65, 0.06431446407942601), (91, 0.08587929261825251), (105, 0.3574063109864729), (141, 0.15156836850641137), (145, 0.07800591525639525), (213, 0.12076867033953673), (219, 0.17559286809079885), (222, 0.09905080713055688), (290, 0.17634543810717943), (291, 0.2354304202988956), (292, 0.23747359098140175), (293, 0.21838240905413028), (294, 0.2068871594723075), ...], [(10, 0.01568731468793941), (29, 0.08779964258937602), (37, 0.0889416637703053), (53, 0.04770707110604152), (61, 0.02624717137862027), (64, 0.09300905076906602), (237, 0.1379113333775812), (305, 0.30664896585612444), (306, 0.2833078792717857), (307, 0.20730843748050645), (308, 0.2233412719391391), (309, 0.38969490776368737), (310, 0.2695472861513626), (311, 0.21271630313917306), (312, 0.4204476556771751), (313, 0.20658700960294096), (314, 0.4204476556771751), (315, 0.14264507531499204)], [(10, 0.027389551203659726), (316, 0.7340881994597976), (317, 0.37735752159971553), (318, 0.5638844108421996)], [(18, 0.35789169848754704), (36, 0.13040599539512807), (52, 0.11542397475108049), (92, 0.1830990480525225), (130, 0.19234978763494665), (319, 0.37310009228736857), (320, 0.5931025045589059), (321, 0.2808020052524273), (322, 0.44859490237601146)], ...], y=id\nid15739    EAP\nid19588    EAP\nid11059    EAP\n...   HPL\nName: author, Length: 13051, dtype: object, sample_weight=None)\n    574         Returns\n    575         -------\n    576         self : object\n    577             Returns self.\n    578         \"\"\"\n--> 579         X, y = check_X_y(X, y, 'csr')\n        X = [[(0, 0.2664714100608566), (1, 0.10480362539462479), (2, 0.2604873336049293), (3, 0.2319432706761858), (4, 0.24213524135011738), (5, 0.41116785474457307), (6, 0.39218741029198784), (7, 0.32007681200061067), (8, 0.35974012618542445), (9, 0.3057814279583449), (10, 0.033103432446463785), (11, 0.07685359149299217), (12, 0.19308643986019788), (13, 0.2126248353265933)], [(10, 0.024133907128526488), (11, 0.056029761946444906), (14, 0.2713402113709543), (15, 0.3420085240826053), (16, 0.5718449017195636), (17, 0.2614985439879363), (18, 0.1808821162765368), (19, 0.036987739317106506), (20, 0.42712530611518384), (21, 0.3189304655793621), (22, 0.09341436285112015), (23, 0.27476798475726655), (24, 0.088498637497393)], [(1, 0.07932158066320133), (10, 0.06263658764531839), (14, 0.14084602912179758), (18, 0.09389145710463107), (19, 0.01919942563133236), (22, 0.048489097889497096), (25, 0.2722725986774012), (26, 0.2620800981425273), (27, 0.24487868329638712), (28, 0.2722725986774012), (29, 0.03505679663903942), (30, 0.08624781176709262), (31, 0.07149215764800944), (32, 0.31119614453633054), (33, 0.2729933988114348), (34, 0.1733099699406774), (35, 0.17712329620393766), (36, 0.06842298368233549), (37, 0.1420511395070622), (38, 0.14386314798381059), ...], [(10, 0.015973364734577944), (19, 0.0489617074991789), (23, 0.18185904232327854), (30, 0.1099730849576353), (47, 0.046070957177769906), (48, 0.2975393193706599), (49, 0.11089059498724518), (50, 0.3968007922798119), (51, 0.19827784646150795), (52, 0.07722160044388235), (53, 0.04857698480295758), (54, 0.42811430060066746), (55, 0.3236593651896635), (56, 0.07556909941755309), (57, 0.24915443219781466), (58, 0.42811430060066746), (59, 0.3240930775601281)], [(10, 0.03745602951273969), (36, 0.10229058576225049), (47, 0.10803203710707177), (60, 0.23619581984220353), (61, 0.03133470722492), (62, 0.385564388719468), (63, 0.3015083410363086), (64, 0.11103716027435812), (65, 0.1905968735808948), (66, 0.24536394387695537), (67, 0.5308001436909793), (68, 0.3703268648059433), (69, 0.23994513095105036), (70, 0.3078975881412962)], [(47, 0.07100101906724518), (53, 0.07486311627769447), (61, 0.04118771069619043), (71, 0.15202575486829917), (72, 0.14256352538466183), (73, 0.4667449719251434), (74, 0.2503651118140704), (75, 0.37022902619505615), (76, 0.5477253203876611), (77, 0.4760416328690717)], [(10, 0.06462580383426865), (11, 0.06430138284840814), (18, 0.06919519082403108), (22, 0.03573501237295617), (31, 0.10537515645034605), (37, 0.15703115077885102), (46, 0.07518496273136628), (64, 0.0547374449573064), (65, 0.04697880354149405), (78, 0.1734637042645781), (79, 0.21124370752304877), (80, 0.1237755155749664), (81, 0.15694812556791132), (82, 0.14377383733539228), (83, 0.21875527504189865), (84, 0.24744076215980707), (85, 0.10989353196818279), (86, 0.20541728310317606), (87, 0.1788334923026323), (88, 0.3009539216891794), ...], [(10, 0.01715833256303342), (19, 0.026296941004117013), (22, 0.06641422358292039), (24, 0.06291932116373902), (29, 0.0480163589636599), (30, 0.11813132649510569), (47, 0.049488684312218235), (51, 0.21298688698342833), (53, 0.052180619049802826), (56, 0.08117511625389999), (61, 0.028708399385876993), (102, 0.23403001292583833), (113, 0.20423929132245422), (115, 0.4262370557703321), (116, 0.2690731650842324), (117, 0.3589641175494357), (118, 0.17450791755009787), (119, 0.2001630105211242), (120, 0.303670599600059), (121, 0.4262370557703321), ...], [(10, 0.021322122227474257), (11, 0.04950186582869004), (30, 0.14679809784366432), (31, 0.12168323506929181), (47, 0.12299607457840946), (52, 0.20615924454556003), (61, 0.035675028352090576), (91, 0.14487860845275446), (98, 0.27840822828588596), (103, 0.23291869434274284), (124, 0.13839751535552838), (125, 0.3007913272538198), (126, 0.39081820673094264), (127, 0.2462174723129556), (128, 0.4123268436706392), (129, 0.22158417220596172), (130, 0.3435567610008015), (131, 0.18912652719692835), (132, 0.2306072899995085)], [(10, 0.060204206982548865), (19, 0.055361550083157234), (22, 0.09321221974181244), (49, 0.08359015703908927), (53, 0.036617693219445066), (61, 0.04029217669993592), (104, 0.0754428098308278), (133, 0.26790813350704007), (134, 0.18687533762152778), (135, 0.24430377753540683), (136, 0.23809501978731895), (137, 0.2755070388560312), (138, 0.21903792681162104), (139, 0.12747319308243932), (140, 0.12362178362577428), (141, 0.14439454632496657), (142, 0.22244615763028036), (143, 0.21903792681162104), (144, 0.23809501978731895), (145, 0.07431384829899074), ...], [(10, 0.017868951261395715), (11, 0.08296982996385277), (61, 0.02989736837972952), (72, 0.10348412582038423), (155, 0.31426513521849647), (156, 0.1699525813091037), (157, 0.1701766922652076), (158, 0.27640100939491724), (159, 0.2978192836150871), (160, 0.24276889717607655), (161, 0.33880121349699616), (162, 0.23450847942150704), (163, 0.3625537576651779), (164, 0.3183102485560416), (165, 0.24137147345766863), (166, 0.3738307494342447)], [(10, 0.04520429241093692), (11, 0.02623679756093562), (19, 0.017320077669206606), (22, 0.08748542354155527), (29, 0.06325047970506475), (53, 0.034367966016593844), (57, 0.08813773738110729), (61, 0.018908347820537255), (167, 0.10458059386108247), (168, 0.19113441661345087), (169, 0.3028886579507455), (170, 0.25858036692787534), (171, 0.13969408373222703), (172, 0.16532352454213142), (173, 0.16532352454213142), (174, 0.3028886579507455), (175, 0.19313267199821985), (176, 0.17097852648678477), (177, 0.2807345124393104), (178, 0.09429094471794976), ...], [(10, 0.009856156567640691), (15, 0.13967442332789326), (19, 0.04531677542111343), (24, 0.10842708839707535), (29, 0.11032697962119518), (41, 0.07260064341795866), (49, 0.06842359667072355), (56, 0.04662892808818644), (57, 0.1537374957667718), (61, 0.016490791171816524), (165, 0.13313568315005253), (190, 0.16755438923335436), (191, 0.13904086957076212), (192, 0.2448407583411407), (193, 0.12430484550933028), (194, 0.18687598151030094), (195, 0.15050032010750405), (196, 0.09143544591163232), (197, 0.12269104128755341), (198, 0.2641623506180873), ...], [(10, 0.05128666371555671), (11, 0.02381362904652451), (19, 0.047161308888427914), (22, 0.07940547692065152), (24, 0.037613469186254155), (30, 0.07061946834251158), (47, 0.05916914130722203), (61, 0.03432403515216796), (65, 0.05219494905222182), (66, 0.13438581975978053), (71, 0.06334580468218413), (72, 0.05940310075515709), (103, 0.05602454869351825), (111, 0.08056360687311669), (124, 0.0665782397585325), (131, 0.09098220614776903), (217, 0.13014327126494443), (218, 0.14707666165679775), (219, 0.1425038820600952), (220, 0.27491457850702283), ...], [(10, 0.03373914624704608), (11, 0.03916473868965497), (19, 0.05170877386415411), (22, 0.03264826570583768), (24, 0.06186044508432571), (29, 0.047208286451325736), (36, 0.046069979621768835), (45, 0.08087235171979418), (47, 0.024327916938460356), (53, 0.07695369862930257), (56, 0.07980901141908836), (61, 0.028225262619209712), (69, 0.1080672987732272), (112, 0.04557089762967087), (127, 0.09740080300544345), (241, 0.1796469603779444), (242, 0.08992259466649655), (243, 0.11166235358548782), (244, 0.15848012162533082), (245, 0.26548969682262125), ...], [(10, 0.014878436612043862), (11, 0.0690841526047578), (19, 0.022802761770881638), (24, 0.05455898049349969), (30, 0.10243474689030971), (45, 0.071326888352145), (47, 0.08582585164937677), (53, 0.045247172477722745), (56, 0.07038905541794807), (69, 0.09531198228070385), (104, 0.09322197900786375), (112, 0.08038421681121939), (131, 0.13197124641419022), (182, 0.17819993890438107), (185, 0.13080027223004068), (270, 0.18048741343046848), (271, 0.12834700317270165), (277, 0.21653463756000216), (278, 0.15765046010508932), (279, 0.3696012414193431), ...], [(10, 0.03791716652108541), (11, 0.05868616859386632), (22, 0.04892159860155609), (29, 0.1061084619891196), (36, 0.13806657118911214), (53, 0.03843693658103161), (64, 0.07493612378605678), (65, 0.06431446407942601), (91, 0.08587929261825251), (105, 0.3574063109864729), (141, 0.15156836850641137), (145, 0.07800591525639525), (213, 0.12076867033953673), (219, 0.17559286809079885), (222, 0.09905080713055688), (290, 0.17634543810717943), (291, 0.2354304202988956), (292, 0.23747359098140175), (293, 0.21838240905413028), (294, 0.2068871594723075), ...], [(10, 0.01568731468793941), (29, 0.08779964258937602), (37, 0.0889416637703053), (53, 0.04770707110604152), (61, 0.02624717137862027), (64, 0.09300905076906602), (237, 0.1379113333775812), (305, 0.30664896585612444), (306, 0.2833078792717857), (307, 0.20730843748050645), (308, 0.2233412719391391), (309, 0.38969490776368737), (310, 0.2695472861513626), (311, 0.21271630313917306), (312, 0.4204476556771751), (313, 0.20658700960294096), (314, 0.4204476556771751), (315, 0.14264507531499204)], [(10, 0.027389551203659726), (316, 0.7340881994597976), (317, 0.37735752159971553), (318, 0.5638844108421996)], [(18, 0.35789169848754704), (36, 0.13040599539512807), (52, 0.11542397475108049), (92, 0.1830990480525225), (130, 0.19234978763494665), (319, 0.37310009228736857), (320, 0.5931025045589059), (321, 0.2808020052524273), (322, 0.44859490237601146)], ...]\n        y = id\nid15739    EAP\nid19588    EAP\nid11059    EAP\n...   HPL\nName: author, Length: 13051, dtype: object\n    580         _, n_features = X.shape\n    581 \n    582         labelbin = LabelBinarizer()\n    583         Y = labelbin.fit_transform(y)\n\n...........................................................................\n/home/bob/.local/lib/python3.6/site-packages/sklearn/utils/validation.py in check_X_y(X=[[(0, 0.2664714100608566), (1, 0.10480362539462479), (2, 0.2604873336049293), (3, 0.2319432706761858), (4, 0.24213524135011738), (5, 0.41116785474457307), (6, 0.39218741029198784), (7, 0.32007681200061067), (8, 0.35974012618542445), (9, 0.3057814279583449), (10, 0.033103432446463785), (11, 0.07685359149299217), (12, 0.19308643986019788), (13, 0.2126248353265933)], [(10, 0.024133907128526488), (11, 0.056029761946444906), (14, 0.2713402113709543), (15, 0.3420085240826053), (16, 0.5718449017195636), (17, 0.2614985439879363), (18, 0.1808821162765368), (19, 0.036987739317106506), (20, 0.42712530611518384), (21, 0.3189304655793621), (22, 0.09341436285112015), (23, 0.27476798475726655), (24, 0.088498637497393)], [(1, 0.07932158066320133), (10, 0.06263658764531839), (14, 0.14084602912179758), (18, 0.09389145710463107), (19, 0.01919942563133236), (22, 0.048489097889497096), (25, 0.2722725986774012), (26, 0.2620800981425273), (27, 0.24487868329638712), (28, 0.2722725986774012), (29, 0.03505679663903942), (30, 0.08624781176709262), (31, 0.07149215764800944), (32, 0.31119614453633054), (33, 0.2729933988114348), (34, 0.1733099699406774), (35, 0.17712329620393766), (36, 0.06842298368233549), (37, 0.1420511395070622), (38, 0.14386314798381059), ...], [(10, 0.015973364734577944), (19, 0.0489617074991789), (23, 0.18185904232327854), (30, 0.1099730849576353), (47, 0.046070957177769906), (48, 0.2975393193706599), (49, 0.11089059498724518), (50, 0.3968007922798119), (51, 0.19827784646150795), (52, 0.07722160044388235), (53, 0.04857698480295758), (54, 0.42811430060066746), (55, 0.3236593651896635), (56, 0.07556909941755309), (57, 0.24915443219781466), (58, 0.42811430060066746), (59, 0.3240930775601281)], [(10, 0.03745602951273969), (36, 0.10229058576225049), (47, 0.10803203710707177), (60, 0.23619581984220353), (61, 0.03133470722492), (62, 0.385564388719468), (63, 0.3015083410363086), (64, 0.11103716027435812), (65, 0.1905968735808948), (66, 0.24536394387695537), (67, 0.5308001436909793), (68, 0.3703268648059433), (69, 0.23994513095105036), (70, 0.3078975881412962)], [(47, 0.07100101906724518), (53, 0.07486311627769447), (61, 0.04118771069619043), (71, 0.15202575486829917), (72, 0.14256352538466183), (73, 0.4667449719251434), (74, 0.2503651118140704), (75, 0.37022902619505615), (76, 0.5477253203876611), (77, 0.4760416328690717)], [(10, 0.06462580383426865), (11, 0.06430138284840814), (18, 0.06919519082403108), (22, 0.03573501237295617), (31, 0.10537515645034605), (37, 0.15703115077885102), (46, 0.07518496273136628), (64, 0.0547374449573064), (65, 0.04697880354149405), (78, 0.1734637042645781), (79, 0.21124370752304877), (80, 0.1237755155749664), (81, 0.15694812556791132), (82, 0.14377383733539228), (83, 0.21875527504189865), (84, 0.24744076215980707), (85, 0.10989353196818279), (86, 0.20541728310317606), (87, 0.1788334923026323), (88, 0.3009539216891794), ...], [(10, 0.01715833256303342), (19, 0.026296941004117013), (22, 0.06641422358292039), (24, 0.06291932116373902), (29, 0.0480163589636599), (30, 0.11813132649510569), (47, 0.049488684312218235), (51, 0.21298688698342833), (53, 0.052180619049802826), (56, 0.08117511625389999), (61, 0.028708399385876993), (102, 0.23403001292583833), (113, 0.20423929132245422), (115, 0.4262370557703321), (116, 0.2690731650842324), (117, 0.3589641175494357), (118, 0.17450791755009787), (119, 0.2001630105211242), (120, 0.303670599600059), (121, 0.4262370557703321), ...], [(10, 0.021322122227474257), (11, 0.04950186582869004), (30, 0.14679809784366432), (31, 0.12168323506929181), (47, 0.12299607457840946), (52, 0.20615924454556003), (61, 0.035675028352090576), (91, 0.14487860845275446), (98, 0.27840822828588596), (103, 0.23291869434274284), (124, 0.13839751535552838), (125, 0.3007913272538198), (126, 0.39081820673094264), (127, 0.2462174723129556), (128, 0.4123268436706392), (129, 0.22158417220596172), (130, 0.3435567610008015), (131, 0.18912652719692835), (132, 0.2306072899995085)], [(10, 0.060204206982548865), (19, 0.055361550083157234), (22, 0.09321221974181244), (49, 0.08359015703908927), (53, 0.036617693219445066), (61, 0.04029217669993592), (104, 0.0754428098308278), (133, 0.26790813350704007), (134, 0.18687533762152778), (135, 0.24430377753540683), (136, 0.23809501978731895), (137, 0.2755070388560312), (138, 0.21903792681162104), (139, 0.12747319308243932), (140, 0.12362178362577428), (141, 0.14439454632496657), (142, 0.22244615763028036), (143, 0.21903792681162104), (144, 0.23809501978731895), (145, 0.07431384829899074), ...], [(10, 0.017868951261395715), (11, 0.08296982996385277), (61, 0.02989736837972952), (72, 0.10348412582038423), (155, 0.31426513521849647), (156, 0.1699525813091037), (157, 0.1701766922652076), (158, 0.27640100939491724), (159, 0.2978192836150871), (160, 0.24276889717607655), (161, 0.33880121349699616), (162, 0.23450847942150704), (163, 0.3625537576651779), (164, 0.3183102485560416), (165, 0.24137147345766863), (166, 0.3738307494342447)], [(10, 0.04520429241093692), (11, 0.02623679756093562), (19, 0.017320077669206606), (22, 0.08748542354155527), (29, 0.06325047970506475), (53, 0.034367966016593844), (57, 0.08813773738110729), (61, 0.018908347820537255), (167, 0.10458059386108247), (168, 0.19113441661345087), (169, 0.3028886579507455), (170, 0.25858036692787534), (171, 0.13969408373222703), (172, 0.16532352454213142), (173, 0.16532352454213142), (174, 0.3028886579507455), (175, 0.19313267199821985), (176, 0.17097852648678477), (177, 0.2807345124393104), (178, 0.09429094471794976), ...], [(10, 0.009856156567640691), (15, 0.13967442332789326), (19, 0.04531677542111343), (24, 0.10842708839707535), (29, 0.11032697962119518), (41, 0.07260064341795866), (49, 0.06842359667072355), (56, 0.04662892808818644), (57, 0.1537374957667718), (61, 0.016490791171816524), (165, 0.13313568315005253), (190, 0.16755438923335436), (191, 0.13904086957076212), (192, 0.2448407583411407), (193, 0.12430484550933028), (194, 0.18687598151030094), (195, 0.15050032010750405), (196, 0.09143544591163232), (197, 0.12269104128755341), (198, 0.2641623506180873), ...], [(10, 0.05128666371555671), (11, 0.02381362904652451), (19, 0.047161308888427914), (22, 0.07940547692065152), (24, 0.037613469186254155), (30, 0.07061946834251158), (47, 0.05916914130722203), (61, 0.03432403515216796), (65, 0.05219494905222182), (66, 0.13438581975978053), (71, 0.06334580468218413), (72, 0.05940310075515709), (103, 0.05602454869351825), (111, 0.08056360687311669), (124, 0.0665782397585325), (131, 0.09098220614776903), (217, 0.13014327126494443), (218, 0.14707666165679775), (219, 0.1425038820600952), (220, 0.27491457850702283), ...], [(10, 0.03373914624704608), (11, 0.03916473868965497), (19, 0.05170877386415411), (22, 0.03264826570583768), (24, 0.06186044508432571), (29, 0.047208286451325736), (36, 0.046069979621768835), (45, 0.08087235171979418), (47, 0.024327916938460356), (53, 0.07695369862930257), (56, 0.07980901141908836), (61, 0.028225262619209712), (69, 0.1080672987732272), (112, 0.04557089762967087), (127, 0.09740080300544345), (241, 0.1796469603779444), (242, 0.08992259466649655), (243, 0.11166235358548782), (244, 0.15848012162533082), (245, 0.26548969682262125), ...], [(10, 0.014878436612043862), (11, 0.0690841526047578), (19, 0.022802761770881638), (24, 0.05455898049349969), (30, 0.10243474689030971), (45, 0.071326888352145), (47, 0.08582585164937677), (53, 0.045247172477722745), (56, 0.07038905541794807), (69, 0.09531198228070385), (104, 0.09322197900786375), (112, 0.08038421681121939), (131, 0.13197124641419022), (182, 0.17819993890438107), (185, 0.13080027223004068), (270, 0.18048741343046848), (271, 0.12834700317270165), (277, 0.21653463756000216), (278, 0.15765046010508932), (279, 0.3696012414193431), ...], [(10, 0.03791716652108541), (11, 0.05868616859386632), (22, 0.04892159860155609), (29, 0.1061084619891196), (36, 0.13806657118911214), (53, 0.03843693658103161), (64, 0.07493612378605678), (65, 0.06431446407942601), (91, 0.08587929261825251), (105, 0.3574063109864729), (141, 0.15156836850641137), (145, 0.07800591525639525), (213, 0.12076867033953673), (219, 0.17559286809079885), (222, 0.09905080713055688), (290, 0.17634543810717943), (291, 0.2354304202988956), (292, 0.23747359098140175), (293, 0.21838240905413028), (294, 0.2068871594723075), ...], [(10, 0.01568731468793941), (29, 0.08779964258937602), (37, 0.0889416637703053), (53, 0.04770707110604152), (61, 0.02624717137862027), (64, 0.09300905076906602), (237, 0.1379113333775812), (305, 0.30664896585612444), (306, 0.2833078792717857), (307, 0.20730843748050645), (308, 0.2233412719391391), (309, 0.38969490776368737), (310, 0.2695472861513626), (311, 0.21271630313917306), (312, 0.4204476556771751), (313, 0.20658700960294096), (314, 0.4204476556771751), (315, 0.14264507531499204)], [(10, 0.027389551203659726), (316, 0.7340881994597976), (317, 0.37735752159971553), (318, 0.5638844108421996)], [(18, 0.35789169848754704), (36, 0.13040599539512807), (52, 0.11542397475108049), (92, 0.1830990480525225), (130, 0.19234978763494665), (319, 0.37310009228736857), (320, 0.5931025045589059), (321, 0.2808020052524273), (322, 0.44859490237601146)], ...], y=id\nid15739    EAP\nid19588    EAP\nid11059    EAP\n...   HPL\nName: author, Length: 13051, dtype: object, accept_sparse='csr', dtype='numeric', order=None, copy=False, force_all_finite=True, ensure_2d=True, allow_nd=False, multi_output=False, ensure_min_samples=1, ensure_min_features=1, y_numeric=False, warn_on_dtype=False, estimator=None)\n    568     y_converted : object\n    569         The converted and validated y.\n    570     \"\"\"\n    571     X = check_array(X, accept_sparse, dtype, order, copy, force_all_finite,\n    572                     ensure_2d, allow_nd, ensure_min_samples,\n--> 573                     ensure_min_features, warn_on_dtype, estimator)\n        ensure_min_features = 1\n        warn_on_dtype = False\n        estimator = None\n    574     if multi_output:\n    575         y = check_array(y, 'csr', force_all_finite=True, ensure_2d=False,\n    576                         dtype=None)\n    577     else:\n\n...........................................................................\n/home/bob/.local/lib/python3.6/site-packages/sklearn/utils/validation.py in check_array(array=array([ list([(0, 0.2664714100608566), (1, 0.104...), (11075, 0.41154013028457553)])], dtype=object), accept_sparse='csr', dtype=None, order=None, copy=False, force_all_finite=True, ensure_2d=True, allow_nd=False, ensure_min_samples=1, ensure_min_features=1, warn_on_dtype=False, estimator=None)\n    436             if array.ndim == 1:\n    437                 raise ValueError(\n    438                     \"Expected 2D array, got 1D array instead:\\narray={}.\\n\"\n    439                     \"Reshape your data either using array.reshape(-1, 1) if \"\n    440                     \"your data has a single feature or array.reshape(1, -1) \"\n--> 441                     \"if it contains a single sample.\".format(array))\n        array = array([ list([(0, 0.2664714100608566), (1, 0.104...), (11075, 0.41154013028457553)])], dtype=object)\n    442             array = np.atleast_2d(array)\n    443             # To ensure that array flags are maintained\n    444             array = np.array(array, dtype=dtype, order=order, copy=copy)\n    445 \n\nValueError: Expected 2D array, got 1D array instead:\narray=[ list([(0, 0.2664714100608566), (1, 0.10480362539462479), (2, 0.2604873336049293), (3, 0.2319432706761858), (4, 0.24213524135011738), (5, 0.41116785474457307), (6, 0.39218741029198784), (7, 0.32007681200061067), (8, 0.35974012618542445), (9, 0.3057814279583449), (10, 0.033103432446463785), (11, 0.07685359149299217), (12, 0.19308643986019788), (13, 0.2126248353265933)])\n list([(10, 0.024133907128526488), (11, 0.056029761946444906), (14, 0.2713402113709543), (15, 0.3420085240826053), (16, 0.5718449017195636), (17, 0.2614985439879363), (18, 0.1808821162765368), (19, 0.036987739317106506), (20, 0.42712530611518384), (21, 0.3189304655793621), (22, 0.09341436285112015), (23, 0.27476798475726655), (24, 0.088498637497393)])\n list([(1, 0.07932158066320133), (10, 0.06263658764531839), (14, 0.14084602912179758), (18, 0.09389145710463107), (19, 0.01919942563133236), (22, 0.048489097889497096), (25, 0.2722725986774012), (26, 0.2620800981425273), (27, 0.24487868329638712), (28, 0.2722725986774012), (29, 0.03505679663903942), (30, 0.08624781176709262), (31, 0.07149215764800944), (32, 0.31119614453633054), (33, 0.2729933988114348), (34, 0.1733099699406774), (35, 0.17712329620393766), (36, 0.06842298368233549), (37, 0.1420511395070622), (38, 0.14386314798381059), (39, 0.2050581341267459), (40, 0.23334905281847185), (41, 0.09227646767474229), (42, 0.21187381993571314), (43, 0.3357541677332322), (44, 0.3357541677332322), (45, 0.06005567668474601), (46, 0.10201902211900157)])\n ...,\n list([(11, 0.03483379824389391), (22, 0.05807586817427632), (29, 0.041987869208477496), (145, 0.09260247785729721), (208, 0.1530751157324031), (1037, 0.16584589431194527), (6507, 0.28722118181246425), (8178, 0.3338402944907435), (16710, 0.37272267484996136), (20408, 0.37272267484996136), (20543, 0.37272267484996136), (23339, 0.4021360601237881), (23340, 0.4021360601237881)])\n list([(19, 0.028810064274408482), (24, 0.06893234032603549), (49, 0.13050056185493572), (60, 0.2370797936612917), (65, 0.19131019122706705), (69, 0.12042156837049621), (154, 0.19044775173097933), (237, 0.16525911588786907), (1154, 0.18801448431613588), (3699, 0.28355351691441877), (8329, 0.4085638403294151), (8330, 0.35641827923263075), (11702, 0.44541485037215933), (15323, 0.44541485037215933)])\n list([(11, 0.04032298873683362), (19, 0.02661899933307242), (22, 0.13445519560495678), (24, 0.06368989335423944), (29, 0.048604414750374345), (56, 0.08216926695338246), (61, 0.029059990817433712), (65, 0.08838032786353116), (103, 0.09486488773052526), (104, 0.10882347594433836), (178, 0.14491451149923437), (230, 0.10170684012562291), (360, 0.15235494384947212), (395, 0.363360346899261), (988, 0.17705848089319678), (1512, 0.2984337453903016), (3656, 0.39740876145355286), (3947, 0.3699196063748875), (8512, 0.25681322148061364), (10438, 0.3159541460973265), (11075, 0.41154013028457553)])].\nReshape your data either using array.reshape(-1, 1) if your data has a single feature or array.reshape(1, -1) if it contains a single sample.\n___________________________________________________________________________",
     "output_type": "error",
     "traceback": [
      "\u001b[0;31m---------------------------------------------------------------------------\u001b[0m",
      "\u001b[0;31mRemoteTraceback\u001b[0m                           Traceback (most recent call last)",
      "\u001b[0;31mRemoteTraceback\u001b[0m: \n\"\"\"\nTraceback (most recent call last):\n  File \"/home/bob/.local/lib/python3.6/site-packages/sklearn/externals/joblib/_parallel_backends.py\", line 350, in __call__\n    return self.func(*args, **kwargs)\n  File \"/home/bob/.local/lib/python3.6/site-packages/sklearn/externals/joblib/parallel.py\", line 131, in __call__\n    return [func(*args, **kwargs) for func, args, kwargs in self.items]\n  File \"/home/bob/.local/lib/python3.6/site-packages/sklearn/externals/joblib/parallel.py\", line 131, in <listcomp>\n    return [func(*args, **kwargs) for func, args, kwargs in self.items]\n  File \"/home/bob/.local/lib/python3.6/site-packages/sklearn/model_selection/_validation.py\", line 458, in _fit_and_score\n    estimator.fit(X_train, y_train, **fit_params)\n  File \"/home/bob/.local/lib/python3.6/site-packages/sklearn/pipeline.py\", line 250, in fit\n    self._final_estimator.fit(Xt, y, **fit_params)\n  File \"/home/bob/.local/lib/python3.6/site-packages/sklearn/naive_bayes.py\", line 579, in fit\n    X, y = check_X_y(X, y, 'csr')\n  File \"/home/bob/.local/lib/python3.6/site-packages/sklearn/utils/validation.py\", line 573, in check_X_y\n    ensure_min_features, warn_on_dtype, estimator)\n  File \"/home/bob/.local/lib/python3.6/site-packages/sklearn/utils/validation.py\", line 441, in check_array\n    \"if it contains a single sample.\".format(array))\nValueError: Expected 2D array, got 1D array instead:\narray=[ list([(0, 0.2664714100608566), (1, 0.10480362539462479), (2, 0.2604873336049293), (3, 0.2319432706761858), (4, 0.24213524135011738), (5, 0.41116785474457307), (6, 0.39218741029198784), (7, 0.32007681200061067), (8, 0.35974012618542445), (9, 0.3057814279583449), (10, 0.033103432446463785), (11, 0.07685359149299217), (12, 0.19308643986019788), (13, 0.2126248353265933)])\n list([(10, 0.024133907128526488), (11, 0.056029761946444906), (14, 0.2713402113709543), (15, 0.3420085240826053), (16, 0.5718449017195636), (17, 0.2614985439879363), (18, 0.1808821162765368), (19, 0.036987739317106506), (20, 0.42712530611518384), (21, 0.3189304655793621), (22, 0.09341436285112015), (23, 0.27476798475726655), (24, 0.088498637497393)])\n list([(1, 0.07932158066320133), (10, 0.06263658764531839), (14, 0.14084602912179758), (18, 0.09389145710463107), (19, 0.01919942563133236), (22, 0.048489097889497096), (25, 0.2722725986774012), (26, 0.2620800981425273), (27, 0.24487868329638712), (28, 0.2722725986774012), (29, 0.03505679663903942), (30, 0.08624781176709262), (31, 0.07149215764800944), (32, 0.31119614453633054), (33, 0.2729933988114348), (34, 0.1733099699406774), (35, 0.17712329620393766), (36, 0.06842298368233549), (37, 0.1420511395070622), (38, 0.14386314798381059), (39, 0.2050581341267459), (40, 0.23334905281847185), (41, 0.09227646767474229), (42, 0.21187381993571314), (43, 0.3357541677332322), (44, 0.3357541677332322), (45, 0.06005567668474601), (46, 0.10201902211900157)])\n ...,\n list([(11, 0.03483379824389391), (22, 0.05807586817427632), (29, 0.041987869208477496), (145, 0.09260247785729721), (208, 0.1530751157324031), (1037, 0.16584589431194527), (6507, 0.28722118181246425), (8178, 0.3338402944907435), (16710, 0.37272267484996136), (20408, 0.37272267484996136), (20543, 0.37272267484996136), (23339, 0.4021360601237881), (23340, 0.4021360601237881)])\n list([(19, 0.028810064274408482), (24, 0.06893234032603549), (49, 0.13050056185493572), (60, 0.2370797936612917), (65, 0.19131019122706705), (69, 0.12042156837049621), (154, 0.19044775173097933), (237, 0.16525911588786907), (1154, 0.18801448431613588), (3699, 0.28355351691441877), (8329, 0.4085638403294151), (8330, 0.35641827923263075), (11702, 0.44541485037215933), (15323, 0.44541485037215933)])\n list([(11, 0.04032298873683362), (19, 0.02661899933307242), (22, 0.13445519560495678), (24, 0.06368989335423944), (29, 0.048604414750374345), (56, 0.08216926695338246), (61, 0.029059990817433712), (65, 0.08838032786353116), (103, 0.09486488773052526), (104, 0.10882347594433836), (178, 0.14491451149923437), (230, 0.10170684012562291), (360, 0.15235494384947212), (395, 0.363360346899261), (988, 0.17705848089319678), (1512, 0.2984337453903016), (3656, 0.39740876145355286), (3947, 0.3699196063748875), (8512, 0.25681322148061364), (10438, 0.3159541460973265), (11075, 0.41154013028457553)])].\nReshape your data either using array.reshape(-1, 1) if your data has a single feature or array.reshape(1, -1) if it contains a single sample.\n\nDuring handling of the above exception, another exception occurred:\n\nTraceback (most recent call last):\n  File \"/usr/lib/python3.6/multiprocessing/pool.py\", line 119, in worker\n    result = (True, func(*args, **kwds))\n  File \"/home/bob/.local/lib/python3.6/site-packages/sklearn/externals/joblib/_parallel_backends.py\", line 359, in __call__\n    raise TransportableException(text, e_type)\nsklearn.externals.joblib.my_exceptions.TransportableException: TransportableException\n___________________________________________________________________________\nValueError                                         Wed Jan  3 06:40:41 2018\nPID: 18886                                   Python 3.6.3: /usr/bin/python3\n...........................................................................\n/home/bob/.local/lib/python3.6/site-packages/sklearn/externals/joblib/parallel.py in __call__(self=<sklearn.externals.joblib.parallel.BatchedCalls object>)\n    126     def __init__(self, iterator_slice):\n    127         self.items = list(iterator_slice)\n    128         self._size = len(self.items)\n    129 \n    130     def __call__(self):\n--> 131         return [func(*args, **kwargs) for func, args, kwargs in self.items]\n        self.items = [(<function _fit_and_score>, (Pipeline(memory=None,\n     steps=[('bow', Text2B...B(alpha=1.0, class_prior=None, fit_prior=True))]), id\nid26305    This process, however, afforded me...d it ...\nName: text, Length: 19579, dtype: object, id\nid26305    EAP\nid17569    HPL\nid11008    EAP\n...   HPL\nName: author, Length: 19579, dtype: object, {'score': make_scorer(log_loss, greater_is_better=False, needs_proba=True)}, array([ 6475,  6476,  6478, ..., 19576, 19577, 19578]), array([   0,    1,    2, ..., 6604, 6605, 6606]), 0, None, None), {'return_times': True, 'return_train_score': False})]\n    132 \n    133     def __len__(self):\n    134         return self._size\n    135 \n\n...........................................................................\n/home/bob/.local/lib/python3.6/site-packages/sklearn/externals/joblib/parallel.py in <listcomp>(.0=<list_iterator object>)\n    126     def __init__(self, iterator_slice):\n    127         self.items = list(iterator_slice)\n    128         self._size = len(self.items)\n    129 \n    130     def __call__(self):\n--> 131         return [func(*args, **kwargs) for func, args, kwargs in self.items]\n        func = <function _fit_and_score>\n        args = (Pipeline(memory=None,\n     steps=[('bow', Text2B...B(alpha=1.0, class_prior=None, fit_prior=True))]), id\nid26305    This process, however, afforded me...d it ...\nName: text, Length: 19579, dtype: object, id\nid26305    EAP\nid17569    HPL\nid11008    EAP\n...   HPL\nName: author, Length: 19579, dtype: object, {'score': make_scorer(log_loss, greater_is_better=False, needs_proba=True)}, array([ 6475,  6476,  6478, ..., 19576, 19577, 19578]), array([   0,    1,    2, ..., 6604, 6605, 6606]), 0, None, None)\n        kwargs = {'return_times': True, 'return_train_score': False}\n    132 \n    133     def __len__(self):\n    134         return self._size\n    135 \n\n...........................................................................\n/home/bob/.local/lib/python3.6/site-packages/sklearn/model_selection/_validation.py in _fit_and_score(estimator=Pipeline(memory=None,\n     steps=[('bow', Text2B...B(alpha=1.0, class_prior=None, fit_prior=True))]), X=id\nid26305    This process, however, afforded me...d it ...\nName: text, Length: 19579, dtype: object, y=id\nid26305    EAP\nid17569    HPL\nid11008    EAP\n...   HPL\nName: author, Length: 19579, dtype: object, scorer={'score': make_scorer(log_loss, greater_is_better=False, needs_proba=True)}, train=array([ 6475,  6476,  6478, ..., 19576, 19577, 19578]), test=array([   0,    1,    2, ..., 6604, 6605, 6606]), verbose=0, parameters=None, fit_params={}, return_train_score=False, return_parameters=False, return_n_test_samples=False, return_times=True, error_score='raise')\n    453 \n    454     try:\n    455         if y_train is None:\n    456             estimator.fit(X_train, **fit_params)\n    457         else:\n--> 458             estimator.fit(X_train, y_train, **fit_params)\n        estimator.fit = <bound method Pipeline.fit of Pipeline(memory=No...(alpha=1.0, class_prior=None, fit_prior=True))])>\n        X_train = id\nid15739    Its close resemblance to the medic...d it ...\nName: text, Length: 13051, dtype: object\n        y_train = id\nid15739    EAP\nid19588    EAP\nid11059    EAP\n...   HPL\nName: author, Length: 13051, dtype: object\n        fit_params = {}\n    459 \n    460     except Exception as e:\n    461         # Note fit time as time until error\n    462         fit_time = time.time() - start_time\n\n...........................................................................\n/home/bob/.local/lib/python3.6/site-packages/sklearn/pipeline.py in fit(self=Pipeline(memory=None,\n     steps=[('bow', Text2B...B(alpha=1.0, class_prior=None, fit_prior=True))]), X=id\nid15739    Its close resemblance to the medic...d it ...\nName: text, Length: 13051, dtype: object, y=id\nid15739    EAP\nid19588    EAP\nid11059    EAP\n...   HPL\nName: author, Length: 13051, dtype: object, **fit_params={})\n    245         self : Pipeline\n    246             This estimator\n    247         \"\"\"\n    248         Xt, fit_params = self._fit(X, y, **fit_params)\n    249         if self._final_estimator is not None:\n--> 250             self._final_estimator.fit(Xt, y, **fit_params)\n        self._final_estimator.fit = <bound method BaseDiscreteNB.fit of MultinomialNB(alpha=1.0, class_prior=None, fit_prior=True)>\n        Xt = [[(0, 0.2664714100608566), (1, 0.10480362539462479), (2, 0.2604873336049293), (3, 0.2319432706761858), (4, 0.24213524135011738), (5, 0.41116785474457307), (6, 0.39218741029198784), (7, 0.32007681200061067), (8, 0.35974012618542445), (9, 0.3057814279583449), (10, 0.033103432446463785), (11, 0.07685359149299217), (12, 0.19308643986019788), (13, 0.2126248353265933)], [(10, 0.024133907128526488), (11, 0.056029761946444906), (14, 0.2713402113709543), (15, 0.3420085240826053), (16, 0.5718449017195636), (17, 0.2614985439879363), (18, 0.1808821162765368), (19, 0.036987739317106506), (20, 0.42712530611518384), (21, 0.3189304655793621), (22, 0.09341436285112015), (23, 0.27476798475726655), (24, 0.088498637497393)], [(1, 0.07932158066320133), (10, 0.06263658764531839), (14, 0.14084602912179758), (18, 0.09389145710463107), (19, 0.01919942563133236), (22, 0.048489097889497096), (25, 0.2722725986774012), (26, 0.2620800981425273), (27, 0.24487868329638712), (28, 0.2722725986774012), (29, 0.03505679663903942), (30, 0.08624781176709262), (31, 0.07149215764800944), (32, 0.31119614453633054), (33, 0.2729933988114348), (34, 0.1733099699406774), (35, 0.17712329620393766), (36, 0.06842298368233549), (37, 0.1420511395070622), (38, 0.14386314798381059), ...], [(10, 0.015973364734577944), (19, 0.0489617074991789), (23, 0.18185904232327854), (30, 0.1099730849576353), (47, 0.046070957177769906), (48, 0.2975393193706599), (49, 0.11089059498724518), (50, 0.3968007922798119), (51, 0.19827784646150795), (52, 0.07722160044388235), (53, 0.04857698480295758), (54, 0.42811430060066746), (55, 0.3236593651896635), (56, 0.07556909941755309), (57, 0.24915443219781466), (58, 0.42811430060066746), (59, 0.3240930775601281)], [(10, 0.03745602951273969), (36, 0.10229058576225049), (47, 0.10803203710707177), (60, 0.23619581984220353), (61, 0.03133470722492), (62, 0.385564388719468), (63, 0.3015083410363086), (64, 0.11103716027435812), (65, 0.1905968735808948), (66, 0.24536394387695537), (67, 0.5308001436909793), (68, 0.3703268648059433), (69, 0.23994513095105036), (70, 0.3078975881412962)], [(47, 0.07100101906724518), (53, 0.07486311627769447), (61, 0.04118771069619043), (71, 0.15202575486829917), (72, 0.14256352538466183), (73, 0.4667449719251434), (74, 0.2503651118140704), (75, 0.37022902619505615), (76, 0.5477253203876611), (77, 0.4760416328690717)], [(10, 0.06462580383426865), (11, 0.06430138284840814), (18, 0.06919519082403108), (22, 0.03573501237295617), (31, 0.10537515645034605), (37, 0.15703115077885102), (46, 0.07518496273136628), (64, 0.0547374449573064), (65, 0.04697880354149405), (78, 0.1734637042645781), (79, 0.21124370752304877), (80, 0.1237755155749664), (81, 0.15694812556791132), (82, 0.14377383733539228), (83, 0.21875527504189865), (84, 0.24744076215980707), (85, 0.10989353196818279), (86, 0.20541728310317606), (87, 0.1788334923026323), (88, 0.3009539216891794), ...], [(10, 0.01715833256303342), (19, 0.026296941004117013), (22, 0.06641422358292039), (24, 0.06291932116373902), (29, 0.0480163589636599), (30, 0.11813132649510569), (47, 0.049488684312218235), (51, 0.21298688698342833), (53, 0.052180619049802826), (56, 0.08117511625389999), (61, 0.028708399385876993), (102, 0.23403001292583833), (113, 0.20423929132245422), (115, 0.4262370557703321), (116, 0.2690731650842324), (117, 0.3589641175494357), (118, 0.17450791755009787), (119, 0.2001630105211242), (120, 0.303670599600059), (121, 0.4262370557703321), ...], [(10, 0.021322122227474257), (11, 0.04950186582869004), (30, 0.14679809784366432), (31, 0.12168323506929181), (47, 0.12299607457840946), (52, 0.20615924454556003), (61, 0.035675028352090576), (91, 0.14487860845275446), (98, 0.27840822828588596), (103, 0.23291869434274284), (124, 0.13839751535552838), (125, 0.3007913272538198), (126, 0.39081820673094264), (127, 0.2462174723129556), (128, 0.4123268436706392), (129, 0.22158417220596172), (130, 0.3435567610008015), (131, 0.18912652719692835), (132, 0.2306072899995085)], [(10, 0.060204206982548865), (19, 0.055361550083157234), (22, 0.09321221974181244), (49, 0.08359015703908927), (53, 0.036617693219445066), (61, 0.04029217669993592), (104, 0.0754428098308278), (133, 0.26790813350704007), (134, 0.18687533762152778), (135, 0.24430377753540683), (136, 0.23809501978731895), (137, 0.2755070388560312), (138, 0.21903792681162104), (139, 0.12747319308243932), (140, 0.12362178362577428), (141, 0.14439454632496657), (142, 0.22244615763028036), (143, 0.21903792681162104), (144, 0.23809501978731895), (145, 0.07431384829899074), ...], [(10, 0.017868951261395715), (11, 0.08296982996385277), (61, 0.02989736837972952), (72, 0.10348412582038423), (155, 0.31426513521849647), (156, 0.1699525813091037), (157, 0.1701766922652076), (158, 0.27640100939491724), (159, 0.2978192836150871), (160, 0.24276889717607655), (161, 0.33880121349699616), (162, 0.23450847942150704), (163, 0.3625537576651779), (164, 0.3183102485560416), (165, 0.24137147345766863), (166, 0.3738307494342447)], [(10, 0.04520429241093692), (11, 0.02623679756093562), (19, 0.017320077669206606), (22, 0.08748542354155527), (29, 0.06325047970506475), (53, 0.034367966016593844), (57, 0.08813773738110729), (61, 0.018908347820537255), (167, 0.10458059386108247), (168, 0.19113441661345087), (169, 0.3028886579507455), (170, 0.25858036692787534), (171, 0.13969408373222703), (172, 0.16532352454213142), (173, 0.16532352454213142), (174, 0.3028886579507455), (175, 0.19313267199821985), (176, 0.17097852648678477), (177, 0.2807345124393104), (178, 0.09429094471794976), ...], [(10, 0.009856156567640691), (15, 0.13967442332789326), (19, 0.04531677542111343), (24, 0.10842708839707535), (29, 0.11032697962119518), (41, 0.07260064341795866), (49, 0.06842359667072355), (56, 0.04662892808818644), (57, 0.1537374957667718), (61, 0.016490791171816524), (165, 0.13313568315005253), (190, 0.16755438923335436), (191, 0.13904086957076212), (192, 0.2448407583411407), (193, 0.12430484550933028), (194, 0.18687598151030094), (195, 0.15050032010750405), (196, 0.09143544591163232), (197, 0.12269104128755341), (198, 0.2641623506180873), ...], [(10, 0.05128666371555671), (11, 0.02381362904652451), (19, 0.047161308888427914), (22, 0.07940547692065152), (24, 0.037613469186254155), (30, 0.07061946834251158), (47, 0.05916914130722203), (61, 0.03432403515216796), (65, 0.05219494905222182), (66, 0.13438581975978053), (71, 0.06334580468218413), (72, 0.05940310075515709), (103, 0.05602454869351825), (111, 0.08056360687311669), (124, 0.0665782397585325), (131, 0.09098220614776903), (217, 0.13014327126494443), (218, 0.14707666165679775), (219, 0.1425038820600952), (220, 0.27491457850702283), ...], [(10, 0.03373914624704608), (11, 0.03916473868965497), (19, 0.05170877386415411), (22, 0.03264826570583768), (24, 0.06186044508432571), (29, 0.047208286451325736), (36, 0.046069979621768835), (45, 0.08087235171979418), (47, 0.024327916938460356), (53, 0.07695369862930257), (56, 0.07980901141908836), (61, 0.028225262619209712), (69, 0.1080672987732272), (112, 0.04557089762967087), (127, 0.09740080300544345), (241, 0.1796469603779444), (242, 0.08992259466649655), (243, 0.11166235358548782), (244, 0.15848012162533082), (245, 0.26548969682262125), ...], [(10, 0.014878436612043862), (11, 0.0690841526047578), (19, 0.022802761770881638), (24, 0.05455898049349969), (30, 0.10243474689030971), (45, 0.071326888352145), (47, 0.08582585164937677), (53, 0.045247172477722745), (56, 0.07038905541794807), (69, 0.09531198228070385), (104, 0.09322197900786375), (112, 0.08038421681121939), (131, 0.13197124641419022), (182, 0.17819993890438107), (185, 0.13080027223004068), (270, 0.18048741343046848), (271, 0.12834700317270165), (277, 0.21653463756000216), (278, 0.15765046010508932), (279, 0.3696012414193431), ...], [(10, 0.03791716652108541), (11, 0.05868616859386632), (22, 0.04892159860155609), (29, 0.1061084619891196), (36, 0.13806657118911214), (53, 0.03843693658103161), (64, 0.07493612378605678), (65, 0.06431446407942601), (91, 0.08587929261825251), (105, 0.3574063109864729), (141, 0.15156836850641137), (145, 0.07800591525639525), (213, 0.12076867033953673), (219, 0.17559286809079885), (222, 0.09905080713055688), (290, 0.17634543810717943), (291, 0.2354304202988956), (292, 0.23747359098140175), (293, 0.21838240905413028), (294, 0.2068871594723075), ...], [(10, 0.01568731468793941), (29, 0.08779964258937602), (37, 0.0889416637703053), (53, 0.04770707110604152), (61, 0.02624717137862027), (64, 0.09300905076906602), (237, 0.1379113333775812), (305, 0.30664896585612444), (306, 0.2833078792717857), (307, 0.20730843748050645), (308, 0.2233412719391391), (309, 0.38969490776368737), (310, 0.2695472861513626), (311, 0.21271630313917306), (312, 0.4204476556771751), (313, 0.20658700960294096), (314, 0.4204476556771751), (315, 0.14264507531499204)], [(10, 0.027389551203659726), (316, 0.7340881994597976), (317, 0.37735752159971553), (318, 0.5638844108421996)], [(18, 0.35789169848754704), (36, 0.13040599539512807), (52, 0.11542397475108049), (92, 0.1830990480525225), (130, 0.19234978763494665), (319, 0.37310009228736857), (320, 0.5931025045589059), (321, 0.2808020052524273), (322, 0.44859490237601146)], ...]\n        y = id\nid15739    EAP\nid19588    EAP\nid11059    EAP\n...   HPL\nName: author, Length: 13051, dtype: object\n        fit_params = {}\n    251         return self\n    252 \n    253     def fit_transform(self, X, y=None, **fit_params):\n    254         \"\"\"Fit the model and transform with the final estimator\n\n...........................................................................\n/home/bob/.local/lib/python3.6/site-packages/sklearn/naive_bayes.py in fit(self=MultinomialNB(alpha=1.0, class_prior=None, fit_prior=True), X=[[(0, 0.2664714100608566), (1, 0.10480362539462479), (2, 0.2604873336049293), (3, 0.2319432706761858), (4, 0.24213524135011738), (5, 0.41116785474457307), (6, 0.39218741029198784), (7, 0.32007681200061067), (8, 0.35974012618542445), (9, 0.3057814279583449), (10, 0.033103432446463785), (11, 0.07685359149299217), (12, 0.19308643986019788), (13, 0.2126248353265933)], [(10, 0.024133907128526488), (11, 0.056029761946444906), (14, 0.2713402113709543), (15, 0.3420085240826053), (16, 0.5718449017195636), (17, 0.2614985439879363), (18, 0.1808821162765368), (19, 0.036987739317106506), (20, 0.42712530611518384), (21, 0.3189304655793621), (22, 0.09341436285112015), (23, 0.27476798475726655), (24, 0.088498637497393)], [(1, 0.07932158066320133), (10, 0.06263658764531839), (14, 0.14084602912179758), (18, 0.09389145710463107), (19, 0.01919942563133236), (22, 0.048489097889497096), (25, 0.2722725986774012), (26, 0.2620800981425273), (27, 0.24487868329638712), (28, 0.2722725986774012), (29, 0.03505679663903942), (30, 0.08624781176709262), (31, 0.07149215764800944), (32, 0.31119614453633054), (33, 0.2729933988114348), (34, 0.1733099699406774), (35, 0.17712329620393766), (36, 0.06842298368233549), (37, 0.1420511395070622), (38, 0.14386314798381059), ...], [(10, 0.015973364734577944), (19, 0.0489617074991789), (23, 0.18185904232327854), (30, 0.1099730849576353), (47, 0.046070957177769906), (48, 0.2975393193706599), (49, 0.11089059498724518), (50, 0.3968007922798119), (51, 0.19827784646150795), (52, 0.07722160044388235), (53, 0.04857698480295758), (54, 0.42811430060066746), (55, 0.3236593651896635), (56, 0.07556909941755309), (57, 0.24915443219781466), (58, 0.42811430060066746), (59, 0.3240930775601281)], [(10, 0.03745602951273969), (36, 0.10229058576225049), (47, 0.10803203710707177), (60, 0.23619581984220353), (61, 0.03133470722492), (62, 0.385564388719468), (63, 0.3015083410363086), (64, 0.11103716027435812), (65, 0.1905968735808948), (66, 0.24536394387695537), (67, 0.5308001436909793), (68, 0.3703268648059433), (69, 0.23994513095105036), (70, 0.3078975881412962)], [(47, 0.07100101906724518), (53, 0.07486311627769447), (61, 0.04118771069619043), (71, 0.15202575486829917), (72, 0.14256352538466183), (73, 0.4667449719251434), (74, 0.2503651118140704), (75, 0.37022902619505615), (76, 0.5477253203876611), (77, 0.4760416328690717)], [(10, 0.06462580383426865), (11, 0.06430138284840814), (18, 0.06919519082403108), (22, 0.03573501237295617), (31, 0.10537515645034605), (37, 0.15703115077885102), (46, 0.07518496273136628), (64, 0.0547374449573064), (65, 0.04697880354149405), (78, 0.1734637042645781), (79, 0.21124370752304877), (80, 0.1237755155749664), (81, 0.15694812556791132), (82, 0.14377383733539228), (83, 0.21875527504189865), (84, 0.24744076215980707), (85, 0.10989353196818279), (86, 0.20541728310317606), (87, 0.1788334923026323), (88, 0.3009539216891794), ...], [(10, 0.01715833256303342), (19, 0.026296941004117013), (22, 0.06641422358292039), (24, 0.06291932116373902), (29, 0.0480163589636599), (30, 0.11813132649510569), (47, 0.049488684312218235), (51, 0.21298688698342833), (53, 0.052180619049802826), (56, 0.08117511625389999), (61, 0.028708399385876993), (102, 0.23403001292583833), (113, 0.20423929132245422), (115, 0.4262370557703321), (116, 0.2690731650842324), (117, 0.3589641175494357), (118, 0.17450791755009787), (119, 0.2001630105211242), (120, 0.303670599600059), (121, 0.4262370557703321), ...], [(10, 0.021322122227474257), (11, 0.04950186582869004), (30, 0.14679809784366432), (31, 0.12168323506929181), (47, 0.12299607457840946), (52, 0.20615924454556003), (61, 0.035675028352090576), (91, 0.14487860845275446), (98, 0.27840822828588596), (103, 0.23291869434274284), (124, 0.13839751535552838), (125, 0.3007913272538198), (126, 0.39081820673094264), (127, 0.2462174723129556), (128, 0.4123268436706392), (129, 0.22158417220596172), (130, 0.3435567610008015), (131, 0.18912652719692835), (132, 0.2306072899995085)], [(10, 0.060204206982548865), (19, 0.055361550083157234), (22, 0.09321221974181244), (49, 0.08359015703908927), (53, 0.036617693219445066), (61, 0.04029217669993592), (104, 0.0754428098308278), (133, 0.26790813350704007), (134, 0.18687533762152778), (135, 0.24430377753540683), (136, 0.23809501978731895), (137, 0.2755070388560312), (138, 0.21903792681162104), (139, 0.12747319308243932), (140, 0.12362178362577428), (141, 0.14439454632496657), (142, 0.22244615763028036), (143, 0.21903792681162104), (144, 0.23809501978731895), (145, 0.07431384829899074), ...], [(10, 0.017868951261395715), (11, 0.08296982996385277), (61, 0.02989736837972952), (72, 0.10348412582038423), (155, 0.31426513521849647), (156, 0.1699525813091037), (157, 0.1701766922652076), (158, 0.27640100939491724), (159, 0.2978192836150871), (160, 0.24276889717607655), (161, 0.33880121349699616), (162, 0.23450847942150704), (163, 0.3625537576651779), (164, 0.3183102485560416), (165, 0.24137147345766863), (166, 0.3738307494342447)], [(10, 0.04520429241093692), (11, 0.02623679756093562), (19, 0.017320077669206606), (22, 0.08748542354155527), (29, 0.06325047970506475), (53, 0.034367966016593844), (57, 0.08813773738110729), (61, 0.018908347820537255), (167, 0.10458059386108247), (168, 0.19113441661345087), (169, 0.3028886579507455), (170, 0.25858036692787534), (171, 0.13969408373222703), (172, 0.16532352454213142), (173, 0.16532352454213142), (174, 0.3028886579507455), (175, 0.19313267199821985), (176, 0.17097852648678477), (177, 0.2807345124393104), (178, 0.09429094471794976), ...], [(10, 0.009856156567640691), (15, 0.13967442332789326), (19, 0.04531677542111343), (24, 0.10842708839707535), (29, 0.11032697962119518), (41, 0.07260064341795866), (49, 0.06842359667072355), (56, 0.04662892808818644), (57, 0.1537374957667718), (61, 0.016490791171816524), (165, 0.13313568315005253), (190, 0.16755438923335436), (191, 0.13904086957076212), (192, 0.2448407583411407), (193, 0.12430484550933028), (194, 0.18687598151030094), (195, 0.15050032010750405), (196, 0.09143544591163232), (197, 0.12269104128755341), (198, 0.2641623506180873), ...], [(10, 0.05128666371555671), (11, 0.02381362904652451), (19, 0.047161308888427914), (22, 0.07940547692065152), (24, 0.037613469186254155), (30, 0.07061946834251158), (47, 0.05916914130722203), (61, 0.03432403515216796), (65, 0.05219494905222182), (66, 0.13438581975978053), (71, 0.06334580468218413), (72, 0.05940310075515709), (103, 0.05602454869351825), (111, 0.08056360687311669), (124, 0.0665782397585325), (131, 0.09098220614776903), (217, 0.13014327126494443), (218, 0.14707666165679775), (219, 0.1425038820600952), (220, 0.27491457850702283), ...], [(10, 0.03373914624704608), (11, 0.03916473868965497), (19, 0.05170877386415411), (22, 0.03264826570583768), (24, 0.06186044508432571), (29, 0.047208286451325736), (36, 0.046069979621768835), (45, 0.08087235171979418), (47, 0.024327916938460356), (53, 0.07695369862930257), (56, 0.07980901141908836), (61, 0.028225262619209712), (69, 0.1080672987732272), (112, 0.04557089762967087), (127, 0.09740080300544345), (241, 0.1796469603779444), (242, 0.08992259466649655), (243, 0.11166235358548782), (244, 0.15848012162533082), (245, 0.26548969682262125), ...], [(10, 0.014878436612043862), (11, 0.0690841526047578), (19, 0.022802761770881638), (24, 0.05455898049349969), (30, 0.10243474689030971), (45, 0.071326888352145), (47, 0.08582585164937677), (53, 0.045247172477722745), (56, 0.07038905541794807), (69, 0.09531198228070385), (104, 0.09322197900786375), (112, 0.08038421681121939), (131, 0.13197124641419022), (182, 0.17819993890438107), (185, 0.13080027223004068), (270, 0.18048741343046848), (271, 0.12834700317270165), (277, 0.21653463756000216), (278, 0.15765046010508932), (279, 0.3696012414193431), ...], [(10, 0.03791716652108541), (11, 0.05868616859386632), (22, 0.04892159860155609), (29, 0.1061084619891196), (36, 0.13806657118911214), (53, 0.03843693658103161), (64, 0.07493612378605678), (65, 0.06431446407942601), (91, 0.08587929261825251), (105, 0.3574063109864729), (141, 0.15156836850641137), (145, 0.07800591525639525), (213, 0.12076867033953673), (219, 0.17559286809079885), (222, 0.09905080713055688), (290, 0.17634543810717943), (291, 0.2354304202988956), (292, 0.23747359098140175), (293, 0.21838240905413028), (294, 0.2068871594723075), ...], [(10, 0.01568731468793941), (29, 0.08779964258937602), (37, 0.0889416637703053), (53, 0.04770707110604152), (61, 0.02624717137862027), (64, 0.09300905076906602), (237, 0.1379113333775812), (305, 0.30664896585612444), (306, 0.2833078792717857), (307, 0.20730843748050645), (308, 0.2233412719391391), (309, 0.38969490776368737), (310, 0.2695472861513626), (311, 0.21271630313917306), (312, 0.4204476556771751), (313, 0.20658700960294096), (314, 0.4204476556771751), (315, 0.14264507531499204)], [(10, 0.027389551203659726), (316, 0.7340881994597976), (317, 0.37735752159971553), (318, 0.5638844108421996)], [(18, 0.35789169848754704), (36, 0.13040599539512807), (52, 0.11542397475108049), (92, 0.1830990480525225), (130, 0.19234978763494665), (319, 0.37310009228736857), (320, 0.5931025045589059), (321, 0.2808020052524273), (322, 0.44859490237601146)], ...], y=id\nid15739    EAP\nid19588    EAP\nid11059    EAP\n...   HPL\nName: author, Length: 13051, dtype: object, sample_weight=None)\n    574         Returns\n    575         -------\n    576         self : object\n    577             Returns self.\n    578         \"\"\"\n--> 579         X, y = check_X_y(X, y, 'csr')\n        X = [[(0, 0.2664714100608566), (1, 0.10480362539462479), (2, 0.2604873336049293), (3, 0.2319432706761858), (4, 0.24213524135011738), (5, 0.41116785474457307), (6, 0.39218741029198784), (7, 0.32007681200061067), (8, 0.35974012618542445), (9, 0.3057814279583449), (10, 0.033103432446463785), (11, 0.07685359149299217), (12, 0.19308643986019788), (13, 0.2126248353265933)], [(10, 0.024133907128526488), (11, 0.056029761946444906), (14, 0.2713402113709543), (15, 0.3420085240826053), (16, 0.5718449017195636), (17, 0.2614985439879363), (18, 0.1808821162765368), (19, 0.036987739317106506), (20, 0.42712530611518384), (21, 0.3189304655793621), (22, 0.09341436285112015), (23, 0.27476798475726655), (24, 0.088498637497393)], [(1, 0.07932158066320133), (10, 0.06263658764531839), (14, 0.14084602912179758), (18, 0.09389145710463107), (19, 0.01919942563133236), (22, 0.048489097889497096), (25, 0.2722725986774012), (26, 0.2620800981425273), (27, 0.24487868329638712), (28, 0.2722725986774012), (29, 0.03505679663903942), (30, 0.08624781176709262), (31, 0.07149215764800944), (32, 0.31119614453633054), (33, 0.2729933988114348), (34, 0.1733099699406774), (35, 0.17712329620393766), (36, 0.06842298368233549), (37, 0.1420511395070622), (38, 0.14386314798381059), ...], [(10, 0.015973364734577944), (19, 0.0489617074991789), (23, 0.18185904232327854), (30, 0.1099730849576353), (47, 0.046070957177769906), (48, 0.2975393193706599), (49, 0.11089059498724518), (50, 0.3968007922798119), (51, 0.19827784646150795), (52, 0.07722160044388235), (53, 0.04857698480295758), (54, 0.42811430060066746), (55, 0.3236593651896635), (56, 0.07556909941755309), (57, 0.24915443219781466), (58, 0.42811430060066746), (59, 0.3240930775601281)], [(10, 0.03745602951273969), (36, 0.10229058576225049), (47, 0.10803203710707177), (60, 0.23619581984220353), (61, 0.03133470722492), (62, 0.385564388719468), (63, 0.3015083410363086), (64, 0.11103716027435812), (65, 0.1905968735808948), (66, 0.24536394387695537), (67, 0.5308001436909793), (68, 0.3703268648059433), (69, 0.23994513095105036), (70, 0.3078975881412962)], [(47, 0.07100101906724518), (53, 0.07486311627769447), (61, 0.04118771069619043), (71, 0.15202575486829917), (72, 0.14256352538466183), (73, 0.4667449719251434), (74, 0.2503651118140704), (75, 0.37022902619505615), (76, 0.5477253203876611), (77, 0.4760416328690717)], [(10, 0.06462580383426865), (11, 0.06430138284840814), (18, 0.06919519082403108), (22, 0.03573501237295617), (31, 0.10537515645034605), (37, 0.15703115077885102), (46, 0.07518496273136628), (64, 0.0547374449573064), (65, 0.04697880354149405), (78, 0.1734637042645781), (79, 0.21124370752304877), (80, 0.1237755155749664), (81, 0.15694812556791132), (82, 0.14377383733539228), (83, 0.21875527504189865), (84, 0.24744076215980707), (85, 0.10989353196818279), (86, 0.20541728310317606), (87, 0.1788334923026323), (88, 0.3009539216891794), ...], [(10, 0.01715833256303342), (19, 0.026296941004117013), (22, 0.06641422358292039), (24, 0.06291932116373902), (29, 0.0480163589636599), (30, 0.11813132649510569), (47, 0.049488684312218235), (51, 0.21298688698342833), (53, 0.052180619049802826), (56, 0.08117511625389999), (61, 0.028708399385876993), (102, 0.23403001292583833), (113, 0.20423929132245422), (115, 0.4262370557703321), (116, 0.2690731650842324), (117, 0.3589641175494357), (118, 0.17450791755009787), (119, 0.2001630105211242), (120, 0.303670599600059), (121, 0.4262370557703321), ...], [(10, 0.021322122227474257), (11, 0.04950186582869004), (30, 0.14679809784366432), (31, 0.12168323506929181), (47, 0.12299607457840946), (52, 0.20615924454556003), (61, 0.035675028352090576), (91, 0.14487860845275446), (98, 0.27840822828588596), (103, 0.23291869434274284), (124, 0.13839751535552838), (125, 0.3007913272538198), (126, 0.39081820673094264), (127, 0.2462174723129556), (128, 0.4123268436706392), (129, 0.22158417220596172), (130, 0.3435567610008015), (131, 0.18912652719692835), (132, 0.2306072899995085)], [(10, 0.060204206982548865), (19, 0.055361550083157234), (22, 0.09321221974181244), (49, 0.08359015703908927), (53, 0.036617693219445066), (61, 0.04029217669993592), (104, 0.0754428098308278), (133, 0.26790813350704007), (134, 0.18687533762152778), (135, 0.24430377753540683), (136, 0.23809501978731895), (137, 0.2755070388560312), (138, 0.21903792681162104), (139, 0.12747319308243932), (140, 0.12362178362577428), (141, 0.14439454632496657), (142, 0.22244615763028036), (143, 0.21903792681162104), (144, 0.23809501978731895), (145, 0.07431384829899074), ...], [(10, 0.017868951261395715), (11, 0.08296982996385277), (61, 0.02989736837972952), (72, 0.10348412582038423), (155, 0.31426513521849647), (156, 0.1699525813091037), (157, 0.1701766922652076), (158, 0.27640100939491724), (159, 0.2978192836150871), (160, 0.24276889717607655), (161, 0.33880121349699616), (162, 0.23450847942150704), (163, 0.3625537576651779), (164, 0.3183102485560416), (165, 0.24137147345766863), (166, 0.3738307494342447)], [(10, 0.04520429241093692), (11, 0.02623679756093562), (19, 0.017320077669206606), (22, 0.08748542354155527), (29, 0.06325047970506475), (53, 0.034367966016593844), (57, 0.08813773738110729), (61, 0.018908347820537255), (167, 0.10458059386108247), (168, 0.19113441661345087), (169, 0.3028886579507455), (170, 0.25858036692787534), (171, 0.13969408373222703), (172, 0.16532352454213142), (173, 0.16532352454213142), (174, 0.3028886579507455), (175, 0.19313267199821985), (176, 0.17097852648678477), (177, 0.2807345124393104), (178, 0.09429094471794976), ...], [(10, 0.009856156567640691), (15, 0.13967442332789326), (19, 0.04531677542111343), (24, 0.10842708839707535), (29, 0.11032697962119518), (41, 0.07260064341795866), (49, 0.06842359667072355), (56, 0.04662892808818644), (57, 0.1537374957667718), (61, 0.016490791171816524), (165, 0.13313568315005253), (190, 0.16755438923335436), (191, 0.13904086957076212), (192, 0.2448407583411407), (193, 0.12430484550933028), (194, 0.18687598151030094), (195, 0.15050032010750405), (196, 0.09143544591163232), (197, 0.12269104128755341), (198, 0.2641623506180873), ...], [(10, 0.05128666371555671), (11, 0.02381362904652451), (19, 0.047161308888427914), (22, 0.07940547692065152), (24, 0.037613469186254155), (30, 0.07061946834251158), (47, 0.05916914130722203), (61, 0.03432403515216796), (65, 0.05219494905222182), (66, 0.13438581975978053), (71, 0.06334580468218413), (72, 0.05940310075515709), (103, 0.05602454869351825), (111, 0.08056360687311669), (124, 0.0665782397585325), (131, 0.09098220614776903), (217, 0.13014327126494443), (218, 0.14707666165679775), (219, 0.1425038820600952), (220, 0.27491457850702283), ...], [(10, 0.03373914624704608), (11, 0.03916473868965497), (19, 0.05170877386415411), (22, 0.03264826570583768), (24, 0.06186044508432571), (29, 0.047208286451325736), (36, 0.046069979621768835), (45, 0.08087235171979418), (47, 0.024327916938460356), (53, 0.07695369862930257), (56, 0.07980901141908836), (61, 0.028225262619209712), (69, 0.1080672987732272), (112, 0.04557089762967087), (127, 0.09740080300544345), (241, 0.1796469603779444), (242, 0.08992259466649655), (243, 0.11166235358548782), (244, 0.15848012162533082), (245, 0.26548969682262125), ...], [(10, 0.014878436612043862), (11, 0.0690841526047578), (19, 0.022802761770881638), (24, 0.05455898049349969), (30, 0.10243474689030971), (45, 0.071326888352145), (47, 0.08582585164937677), (53, 0.045247172477722745), (56, 0.07038905541794807), (69, 0.09531198228070385), (104, 0.09322197900786375), (112, 0.08038421681121939), (131, 0.13197124641419022), (182, 0.17819993890438107), (185, 0.13080027223004068), (270, 0.18048741343046848), (271, 0.12834700317270165), (277, 0.21653463756000216), (278, 0.15765046010508932), (279, 0.3696012414193431), ...], [(10, 0.03791716652108541), (11, 0.05868616859386632), (22, 0.04892159860155609), (29, 0.1061084619891196), (36, 0.13806657118911214), (53, 0.03843693658103161), (64, 0.07493612378605678), (65, 0.06431446407942601), (91, 0.08587929261825251), (105, 0.3574063109864729), (141, 0.15156836850641137), (145, 0.07800591525639525), (213, 0.12076867033953673), (219, 0.17559286809079885), (222, 0.09905080713055688), (290, 0.17634543810717943), (291, 0.2354304202988956), (292, 0.23747359098140175), (293, 0.21838240905413028), (294, 0.2068871594723075), ...], [(10, 0.01568731468793941), (29, 0.08779964258937602), (37, 0.0889416637703053), (53, 0.04770707110604152), (61, 0.02624717137862027), (64, 0.09300905076906602), (237, 0.1379113333775812), (305, 0.30664896585612444), (306, 0.2833078792717857), (307, 0.20730843748050645), (308, 0.2233412719391391), (309, 0.38969490776368737), (310, 0.2695472861513626), (311, 0.21271630313917306), (312, 0.4204476556771751), (313, 0.20658700960294096), (314, 0.4204476556771751), (315, 0.14264507531499204)], [(10, 0.027389551203659726), (316, 0.7340881994597976), (317, 0.37735752159971553), (318, 0.5638844108421996)], [(18, 0.35789169848754704), (36, 0.13040599539512807), (52, 0.11542397475108049), (92, 0.1830990480525225), (130, 0.19234978763494665), (319, 0.37310009228736857), (320, 0.5931025045589059), (321, 0.2808020052524273), (322, 0.44859490237601146)], ...]\n        y = id\nid15739    EAP\nid19588    EAP\nid11059    EAP\n...   HPL\nName: author, Length: 13051, dtype: object\n    580         _, n_features = X.shape\n    581 \n    582         labelbin = LabelBinarizer()\n    583         Y = labelbin.fit_transform(y)\n\n...........................................................................\n/home/bob/.local/lib/python3.6/site-packages/sklearn/utils/validation.py in check_X_y(X=[[(0, 0.2664714100608566), (1, 0.10480362539462479), (2, 0.2604873336049293), (3, 0.2319432706761858), (4, 0.24213524135011738), (5, 0.41116785474457307), (6, 0.39218741029198784), (7, 0.32007681200061067), (8, 0.35974012618542445), (9, 0.3057814279583449), (10, 0.033103432446463785), (11, 0.07685359149299217), (12, 0.19308643986019788), (13, 0.2126248353265933)], [(10, 0.024133907128526488), (11, 0.056029761946444906), (14, 0.2713402113709543), (15, 0.3420085240826053), (16, 0.5718449017195636), (17, 0.2614985439879363), (18, 0.1808821162765368), (19, 0.036987739317106506), (20, 0.42712530611518384), (21, 0.3189304655793621), (22, 0.09341436285112015), (23, 0.27476798475726655), (24, 0.088498637497393)], [(1, 0.07932158066320133), (10, 0.06263658764531839), (14, 0.14084602912179758), (18, 0.09389145710463107), (19, 0.01919942563133236), (22, 0.048489097889497096), (25, 0.2722725986774012), (26, 0.2620800981425273), (27, 0.24487868329638712), (28, 0.2722725986774012), (29, 0.03505679663903942), (30, 0.08624781176709262), (31, 0.07149215764800944), (32, 0.31119614453633054), (33, 0.2729933988114348), (34, 0.1733099699406774), (35, 0.17712329620393766), (36, 0.06842298368233549), (37, 0.1420511395070622), (38, 0.14386314798381059), ...], [(10, 0.015973364734577944), (19, 0.0489617074991789), (23, 0.18185904232327854), (30, 0.1099730849576353), (47, 0.046070957177769906), (48, 0.2975393193706599), (49, 0.11089059498724518), (50, 0.3968007922798119), (51, 0.19827784646150795), (52, 0.07722160044388235), (53, 0.04857698480295758), (54, 0.42811430060066746), (55, 0.3236593651896635), (56, 0.07556909941755309), (57, 0.24915443219781466), (58, 0.42811430060066746), (59, 0.3240930775601281)], [(10, 0.03745602951273969), (36, 0.10229058576225049), (47, 0.10803203710707177), (60, 0.23619581984220353), (61, 0.03133470722492), (62, 0.385564388719468), (63, 0.3015083410363086), (64, 0.11103716027435812), (65, 0.1905968735808948), (66, 0.24536394387695537), (67, 0.5308001436909793), (68, 0.3703268648059433), (69, 0.23994513095105036), (70, 0.3078975881412962)], [(47, 0.07100101906724518), (53, 0.07486311627769447), (61, 0.04118771069619043), (71, 0.15202575486829917), (72, 0.14256352538466183), (73, 0.4667449719251434), (74, 0.2503651118140704), (75, 0.37022902619505615), (76, 0.5477253203876611), (77, 0.4760416328690717)], [(10, 0.06462580383426865), (11, 0.06430138284840814), (18, 0.06919519082403108), (22, 0.03573501237295617), (31, 0.10537515645034605), (37, 0.15703115077885102), (46, 0.07518496273136628), (64, 0.0547374449573064), (65, 0.04697880354149405), (78, 0.1734637042645781), (79, 0.21124370752304877), (80, 0.1237755155749664), (81, 0.15694812556791132), (82, 0.14377383733539228), (83, 0.21875527504189865), (84, 0.24744076215980707), (85, 0.10989353196818279), (86, 0.20541728310317606), (87, 0.1788334923026323), (88, 0.3009539216891794), ...], [(10, 0.01715833256303342), (19, 0.026296941004117013), (22, 0.06641422358292039), (24, 0.06291932116373902), (29, 0.0480163589636599), (30, 0.11813132649510569), (47, 0.049488684312218235), (51, 0.21298688698342833), (53, 0.052180619049802826), (56, 0.08117511625389999), (61, 0.028708399385876993), (102, 0.23403001292583833), (113, 0.20423929132245422), (115, 0.4262370557703321), (116, 0.2690731650842324), (117, 0.3589641175494357), (118, 0.17450791755009787), (119, 0.2001630105211242), (120, 0.303670599600059), (121, 0.4262370557703321), ...], [(10, 0.021322122227474257), (11, 0.04950186582869004), (30, 0.14679809784366432), (31, 0.12168323506929181), (47, 0.12299607457840946), (52, 0.20615924454556003), (61, 0.035675028352090576), (91, 0.14487860845275446), (98, 0.27840822828588596), (103, 0.23291869434274284), (124, 0.13839751535552838), (125, 0.3007913272538198), (126, 0.39081820673094264), (127, 0.2462174723129556), (128, 0.4123268436706392), (129, 0.22158417220596172), (130, 0.3435567610008015), (131, 0.18912652719692835), (132, 0.2306072899995085)], [(10, 0.060204206982548865), (19, 0.055361550083157234), (22, 0.09321221974181244), (49, 0.08359015703908927), (53, 0.036617693219445066), (61, 0.04029217669993592), (104, 0.0754428098308278), (133, 0.26790813350704007), (134, 0.18687533762152778), (135, 0.24430377753540683), (136, 0.23809501978731895), (137, 0.2755070388560312), (138, 0.21903792681162104), (139, 0.12747319308243932), (140, 0.12362178362577428), (141, 0.14439454632496657), (142, 0.22244615763028036), (143, 0.21903792681162104), (144, 0.23809501978731895), (145, 0.07431384829899074), ...], [(10, 0.017868951261395715), (11, 0.08296982996385277), (61, 0.02989736837972952), (72, 0.10348412582038423), (155, 0.31426513521849647), (156, 0.1699525813091037), (157, 0.1701766922652076), (158, 0.27640100939491724), (159, 0.2978192836150871), (160, 0.24276889717607655), (161, 0.33880121349699616), (162, 0.23450847942150704), (163, 0.3625537576651779), (164, 0.3183102485560416), (165, 0.24137147345766863), (166, 0.3738307494342447)], [(10, 0.04520429241093692), (11, 0.02623679756093562), (19, 0.017320077669206606), (22, 0.08748542354155527), (29, 0.06325047970506475), (53, 0.034367966016593844), (57, 0.08813773738110729), (61, 0.018908347820537255), (167, 0.10458059386108247), (168, 0.19113441661345087), (169, 0.3028886579507455), (170, 0.25858036692787534), (171, 0.13969408373222703), (172, 0.16532352454213142), (173, 0.16532352454213142), (174, 0.3028886579507455), (175, 0.19313267199821985), (176, 0.17097852648678477), (177, 0.2807345124393104), (178, 0.09429094471794976), ...], [(10, 0.009856156567640691), (15, 0.13967442332789326), (19, 0.04531677542111343), (24, 0.10842708839707535), (29, 0.11032697962119518), (41, 0.07260064341795866), (49, 0.06842359667072355), (56, 0.04662892808818644), (57, 0.1537374957667718), (61, 0.016490791171816524), (165, 0.13313568315005253), (190, 0.16755438923335436), (191, 0.13904086957076212), (192, 0.2448407583411407), (193, 0.12430484550933028), (194, 0.18687598151030094), (195, 0.15050032010750405), (196, 0.09143544591163232), (197, 0.12269104128755341), (198, 0.2641623506180873), ...], [(10, 0.05128666371555671), (11, 0.02381362904652451), (19, 0.047161308888427914), (22, 0.07940547692065152), (24, 0.037613469186254155), (30, 0.07061946834251158), (47, 0.05916914130722203), (61, 0.03432403515216796), (65, 0.05219494905222182), (66, 0.13438581975978053), (71, 0.06334580468218413), (72, 0.05940310075515709), (103, 0.05602454869351825), (111, 0.08056360687311669), (124, 0.0665782397585325), (131, 0.09098220614776903), (217, 0.13014327126494443), (218, 0.14707666165679775), (219, 0.1425038820600952), (220, 0.27491457850702283), ...], [(10, 0.03373914624704608), (11, 0.03916473868965497), (19, 0.05170877386415411), (22, 0.03264826570583768), (24, 0.06186044508432571), (29, 0.047208286451325736), (36, 0.046069979621768835), (45, 0.08087235171979418), (47, 0.024327916938460356), (53, 0.07695369862930257), (56, 0.07980901141908836), (61, 0.028225262619209712), (69, 0.1080672987732272), (112, 0.04557089762967087), (127, 0.09740080300544345), (241, 0.1796469603779444), (242, 0.08992259466649655), (243, 0.11166235358548782), (244, 0.15848012162533082), (245, 0.26548969682262125), ...], [(10, 0.014878436612043862), (11, 0.0690841526047578), (19, 0.022802761770881638), (24, 0.05455898049349969), (30, 0.10243474689030971), (45, 0.071326888352145), (47, 0.08582585164937677), (53, 0.045247172477722745), (56, 0.07038905541794807), (69, 0.09531198228070385), (104, 0.09322197900786375), (112, 0.08038421681121939), (131, 0.13197124641419022), (182, 0.17819993890438107), (185, 0.13080027223004068), (270, 0.18048741343046848), (271, 0.12834700317270165), (277, 0.21653463756000216), (278, 0.15765046010508932), (279, 0.3696012414193431), ...], [(10, 0.03791716652108541), (11, 0.05868616859386632), (22, 0.04892159860155609), (29, 0.1061084619891196), (36, 0.13806657118911214), (53, 0.03843693658103161), (64, 0.07493612378605678), (65, 0.06431446407942601), (91, 0.08587929261825251), (105, 0.3574063109864729), (141, 0.15156836850641137), (145, 0.07800591525639525), (213, 0.12076867033953673), (219, 0.17559286809079885), (222, 0.09905080713055688), (290, 0.17634543810717943), (291, 0.2354304202988956), (292, 0.23747359098140175), (293, 0.21838240905413028), (294, 0.2068871594723075), ...], [(10, 0.01568731468793941), (29, 0.08779964258937602), (37, 0.0889416637703053), (53, 0.04770707110604152), (61, 0.02624717137862027), (64, 0.09300905076906602), (237, 0.1379113333775812), (305, 0.30664896585612444), (306, 0.2833078792717857), (307, 0.20730843748050645), (308, 0.2233412719391391), (309, 0.38969490776368737), (310, 0.2695472861513626), (311, 0.21271630313917306), (312, 0.4204476556771751), (313, 0.20658700960294096), (314, 0.4204476556771751), (315, 0.14264507531499204)], [(10, 0.027389551203659726), (316, 0.7340881994597976), (317, 0.37735752159971553), (318, 0.5638844108421996)], [(18, 0.35789169848754704), (36, 0.13040599539512807), (52, 0.11542397475108049), (92, 0.1830990480525225), (130, 0.19234978763494665), (319, 0.37310009228736857), (320, 0.5931025045589059), (321, 0.2808020052524273), (322, 0.44859490237601146)], ...], y=id\nid15739    EAP\nid19588    EAP\nid11059    EAP\n...   HPL\nName: author, Length: 13051, dtype: object, accept_sparse='csr', dtype='numeric', order=None, copy=False, force_all_finite=True, ensure_2d=True, allow_nd=False, multi_output=False, ensure_min_samples=1, ensure_min_features=1, y_numeric=False, warn_on_dtype=False, estimator=None)\n    568     y_converted : object\n    569         The converted and validated y.\n    570     \"\"\"\n    571     X = check_array(X, accept_sparse, dtype, order, copy, force_all_finite,\n    572                     ensure_2d, allow_nd, ensure_min_samples,\n--> 573                     ensure_min_features, warn_on_dtype, estimator)\n        ensure_min_features = 1\n        warn_on_dtype = False\n        estimator = None\n    574     if multi_output:\n    575         y = check_array(y, 'csr', force_all_finite=True, ensure_2d=False,\n    576                         dtype=None)\n    577     else:\n\n...........................................................................\n/home/bob/.local/lib/python3.6/site-packages/sklearn/utils/validation.py in check_array(array=array([ list([(0, 0.2664714100608566), (1, 0.104...), (11075, 0.41154013028457553)])], dtype=object), accept_sparse='csr', dtype=None, order=None, copy=False, force_all_finite=True, ensure_2d=True, allow_nd=False, ensure_min_samples=1, ensure_min_features=1, warn_on_dtype=False, estimator=None)\n    436             if array.ndim == 1:\n    437                 raise ValueError(\n    438                     \"Expected 2D array, got 1D array instead:\\narray={}.\\n\"\n    439                     \"Reshape your data either using array.reshape(-1, 1) if \"\n    440                     \"your data has a single feature or array.reshape(1, -1) \"\n--> 441                     \"if it contains a single sample.\".format(array))\n        array = array([ list([(0, 0.2664714100608566), (1, 0.104...), (11075, 0.41154013028457553)])], dtype=object)\n    442             array = np.atleast_2d(array)\n    443             # To ensure that array flags are maintained\n    444             array = np.array(array, dtype=dtype, order=order, copy=copy)\n    445 \n\nValueError: Expected 2D array, got 1D array instead:\narray=[ list([(0, 0.2664714100608566), (1, 0.10480362539462479), (2, 0.2604873336049293), (3, 0.2319432706761858), (4, 0.24213524135011738), (5, 0.41116785474457307), (6, 0.39218741029198784), (7, 0.32007681200061067), (8, 0.35974012618542445), (9, 0.3057814279583449), (10, 0.033103432446463785), (11, 0.07685359149299217), (12, 0.19308643986019788), (13, 0.2126248353265933)])\n list([(10, 0.024133907128526488), (11, 0.056029761946444906), (14, 0.2713402113709543), (15, 0.3420085240826053), (16, 0.5718449017195636), (17, 0.2614985439879363), (18, 0.1808821162765368), (19, 0.036987739317106506), (20, 0.42712530611518384), (21, 0.3189304655793621), (22, 0.09341436285112015), (23, 0.27476798475726655), (24, 0.088498637497393)])\n list([(1, 0.07932158066320133), (10, 0.06263658764531839), (14, 0.14084602912179758), (18, 0.09389145710463107), (19, 0.01919942563133236), (22, 0.048489097889497096), (25, 0.2722725986774012), (26, 0.2620800981425273), (27, 0.24487868329638712), (28, 0.2722725986774012), (29, 0.03505679663903942), (30, 0.08624781176709262), (31, 0.07149215764800944), (32, 0.31119614453633054), (33, 0.2729933988114348), (34, 0.1733099699406774), (35, 0.17712329620393766), (36, 0.06842298368233549), (37, 0.1420511395070622), (38, 0.14386314798381059), (39, 0.2050581341267459), (40, 0.23334905281847185), (41, 0.09227646767474229), (42, 0.21187381993571314), (43, 0.3357541677332322), (44, 0.3357541677332322), (45, 0.06005567668474601), (46, 0.10201902211900157)])\n ...,\n list([(11, 0.03483379824389391), (22, 0.05807586817427632), (29, 0.041987869208477496), (145, 0.09260247785729721), (208, 0.1530751157324031), (1037, 0.16584589431194527), (6507, 0.28722118181246425), (8178, 0.3338402944907435), (16710, 0.37272267484996136), (20408, 0.37272267484996136), (20543, 0.37272267484996136), (23339, 0.4021360601237881), (23340, 0.4021360601237881)])\n list([(19, 0.028810064274408482), (24, 0.06893234032603549), (49, 0.13050056185493572), (60, 0.2370797936612917), (65, 0.19131019122706705), (69, 0.12042156837049621), (154, 0.19044775173097933), (237, 0.16525911588786907), (1154, 0.18801448431613588), (3699, 0.28355351691441877), (8329, 0.4085638403294151), (8330, 0.35641827923263075), (11702, 0.44541485037215933), (15323, 0.44541485037215933)])\n list([(11, 0.04032298873683362), (19, 0.02661899933307242), (22, 0.13445519560495678), (24, 0.06368989335423944), (29, 0.048604414750374345), (56, 0.08216926695338246), (61, 0.029059990817433712), (65, 0.08838032786353116), (103, 0.09486488773052526), (104, 0.10882347594433836), (178, 0.14491451149923437), (230, 0.10170684012562291), (360, 0.15235494384947212), (395, 0.363360346899261), (988, 0.17705848089319678), (1512, 0.2984337453903016), (3656, 0.39740876145355286), (3947, 0.3699196063748875), (8512, 0.25681322148061364), (10438, 0.3159541460973265), (11075, 0.41154013028457553)])].\nReshape your data either using array.reshape(-1, 1) if your data has a single feature or array.reshape(1, -1) if it contains a single sample.\n___________________________________________________________________________\n\"\"\"",
      "\nThe above exception was the direct cause of the following exception:\n",
      "\u001b[0;31mTransportableException\u001b[0m                    Traceback (most recent call last)",
      "\u001b[0;32m~/.local/lib/python3.6/site-packages/sklearn/externals/joblib/parallel.py\u001b[0m in \u001b[0;36mretrieve\u001b[0;34m(self)\u001b[0m\n\u001b[1;32m    698\u001b[0m                 \u001b[0;32mif\u001b[0m \u001b[0mgetattr\u001b[0m\u001b[0;34m(\u001b[0m\u001b[0mself\u001b[0m\u001b[0;34m.\u001b[0m\u001b[0m_backend\u001b[0m\u001b[0;34m,\u001b[0m \u001b[0;34m'supports_timeout'\u001b[0m\u001b[0;34m,\u001b[0m \u001b[0;32mFalse\u001b[0m\u001b[0;34m)\u001b[0m\u001b[0;34m:\u001b[0m\u001b[0;34m\u001b[0m\u001b[0m\n\u001b[0;32m--> 699\u001b[0;31m                     \u001b[0mself\u001b[0m\u001b[0;34m.\u001b[0m\u001b[0m_output\u001b[0m\u001b[0;34m.\u001b[0m\u001b[0mextend\u001b[0m\u001b[0;34m(\u001b[0m\u001b[0mjob\u001b[0m\u001b[0;34m.\u001b[0m\u001b[0mget\u001b[0m\u001b[0;34m(\u001b[0m\u001b[0mtimeout\u001b[0m\u001b[0;34m=\u001b[0m\u001b[0mself\u001b[0m\u001b[0;34m.\u001b[0m\u001b[0mtimeout\u001b[0m\u001b[0;34m)\u001b[0m\u001b[0;34m)\u001b[0m\u001b[0;34m\u001b[0m\u001b[0m\n\u001b[0m\u001b[1;32m    700\u001b[0m                 \u001b[0;32melse\u001b[0m\u001b[0;34m:\u001b[0m\u001b[0;34m\u001b[0m\u001b[0m\n",
      "\u001b[0;32m/usr/lib/python3.6/multiprocessing/pool.py\u001b[0m in \u001b[0;36mget\u001b[0;34m(self, timeout)\u001b[0m\n\u001b[1;32m    643\u001b[0m         \u001b[0;32melse\u001b[0m\u001b[0;34m:\u001b[0m\u001b[0;34m\u001b[0m\u001b[0m\n\u001b[0;32m--> 644\u001b[0;31m             \u001b[0;32mraise\u001b[0m \u001b[0mself\u001b[0m\u001b[0;34m.\u001b[0m\u001b[0m_value\u001b[0m\u001b[0;34m\u001b[0m\u001b[0m\n\u001b[0m\u001b[1;32m    645\u001b[0m \u001b[0;34m\u001b[0m\u001b[0m\n",
      "\u001b[0;31mTransportableException\u001b[0m: TransportableException\n___________________________________________________________________________\nValueError                                         Wed Jan  3 06:40:41 2018\nPID: 18886                                   Python 3.6.3: /usr/bin/python3\n...........................................................................\n/home/bob/.local/lib/python3.6/site-packages/sklearn/externals/joblib/parallel.py in __call__(self=<sklearn.externals.joblib.parallel.BatchedCalls object>)\n    126     def __init__(self, iterator_slice):\n    127         self.items = list(iterator_slice)\n    128         self._size = len(self.items)\n    129 \n    130     def __call__(self):\n--> 131         return [func(*args, **kwargs) for func, args, kwargs in self.items]\n        self.items = [(<function _fit_and_score>, (Pipeline(memory=None,\n     steps=[('bow', Text2B...B(alpha=1.0, class_prior=None, fit_prior=True))]), id\nid26305    This process, however, afforded me...d it ...\nName: text, Length: 19579, dtype: object, id\nid26305    EAP\nid17569    HPL\nid11008    EAP\n...   HPL\nName: author, Length: 19579, dtype: object, {'score': make_scorer(log_loss, greater_is_better=False, needs_proba=True)}, array([ 6475,  6476,  6478, ..., 19576, 19577, 19578]), array([   0,    1,    2, ..., 6604, 6605, 6606]), 0, None, None), {'return_times': True, 'return_train_score': False})]\n    132 \n    133     def __len__(self):\n    134         return self._size\n    135 \n\n...........................................................................\n/home/bob/.local/lib/python3.6/site-packages/sklearn/externals/joblib/parallel.py in <listcomp>(.0=<list_iterator object>)\n    126     def __init__(self, iterator_slice):\n    127         self.items = list(iterator_slice)\n    128         self._size = len(self.items)\n    129 \n    130     def __call__(self):\n--> 131         return [func(*args, **kwargs) for func, args, kwargs in self.items]\n        func = <function _fit_and_score>\n        args = (Pipeline(memory=None,\n     steps=[('bow', Text2B...B(alpha=1.0, class_prior=None, fit_prior=True))]), id\nid26305    This process, however, afforded me...d it ...\nName: text, Length: 19579, dtype: object, id\nid26305    EAP\nid17569    HPL\nid11008    EAP\n...   HPL\nName: author, Length: 19579, dtype: object, {'score': make_scorer(log_loss, greater_is_better=False, needs_proba=True)}, array([ 6475,  6476,  6478, ..., 19576, 19577, 19578]), array([   0,    1,    2, ..., 6604, 6605, 6606]), 0, None, None)\n        kwargs = {'return_times': True, 'return_train_score': False}\n    132 \n    133     def __len__(self):\n    134         return self._size\n    135 \n\n...........................................................................\n/home/bob/.local/lib/python3.6/site-packages/sklearn/model_selection/_validation.py in _fit_and_score(estimator=Pipeline(memory=None,\n     steps=[('bow', Text2B...B(alpha=1.0, class_prior=None, fit_prior=True))]), X=id\nid26305    This process, however, afforded me...d it ...\nName: text, Length: 19579, dtype: object, y=id\nid26305    EAP\nid17569    HPL\nid11008    EAP\n...   HPL\nName: author, Length: 19579, dtype: object, scorer={'score': make_scorer(log_loss, greater_is_better=False, needs_proba=True)}, train=array([ 6475,  6476,  6478, ..., 19576, 19577, 19578]), test=array([   0,    1,    2, ..., 6604, 6605, 6606]), verbose=0, parameters=None, fit_params={}, return_train_score=False, return_parameters=False, return_n_test_samples=False, return_times=True, error_score='raise')\n    453 \n    454     try:\n    455         if y_train is None:\n    456             estimator.fit(X_train, **fit_params)\n    457         else:\n--> 458             estimator.fit(X_train, y_train, **fit_params)\n        estimator.fit = <bound method Pipeline.fit of Pipeline(memory=No...(alpha=1.0, class_prior=None, fit_prior=True))])>\n        X_train = id\nid15739    Its close resemblance to the medic...d it ...\nName: text, Length: 13051, dtype: object\n        y_train = id\nid15739    EAP\nid19588    EAP\nid11059    EAP\n...   HPL\nName: author, Length: 13051, dtype: object\n        fit_params = {}\n    459 \n    460     except Exception as e:\n    461         # Note fit time as time until error\n    462         fit_time = time.time() - start_time\n\n...........................................................................\n/home/bob/.local/lib/python3.6/site-packages/sklearn/pipeline.py in fit(self=Pipeline(memory=None,\n     steps=[('bow', Text2B...B(alpha=1.0, class_prior=None, fit_prior=True))]), X=id\nid15739    Its close resemblance to the medic...d it ...\nName: text, Length: 13051, dtype: object, y=id\nid15739    EAP\nid19588    EAP\nid11059    EAP\n...   HPL\nName: author, Length: 13051, dtype: object, **fit_params={})\n    245         self : Pipeline\n    246             This estimator\n    247         \"\"\"\n    248         Xt, fit_params = self._fit(X, y, **fit_params)\n    249         if self._final_estimator is not None:\n--> 250             self._final_estimator.fit(Xt, y, **fit_params)\n        self._final_estimator.fit = <bound method BaseDiscreteNB.fit of MultinomialNB(alpha=1.0, class_prior=None, fit_prior=True)>\n        Xt = [[(0, 0.2664714100608566), (1, 0.10480362539462479), (2, 0.2604873336049293), (3, 0.2319432706761858), (4, 0.24213524135011738), (5, 0.41116785474457307), (6, 0.39218741029198784), (7, 0.32007681200061067), (8, 0.35974012618542445), (9, 0.3057814279583449), (10, 0.033103432446463785), (11, 0.07685359149299217), (12, 0.19308643986019788), (13, 0.2126248353265933)], [(10, 0.024133907128526488), (11, 0.056029761946444906), (14, 0.2713402113709543), (15, 0.3420085240826053), (16, 0.5718449017195636), (17, 0.2614985439879363), (18, 0.1808821162765368), (19, 0.036987739317106506), (20, 0.42712530611518384), (21, 0.3189304655793621), (22, 0.09341436285112015), (23, 0.27476798475726655), (24, 0.088498637497393)], [(1, 0.07932158066320133), (10, 0.06263658764531839), (14, 0.14084602912179758), (18, 0.09389145710463107), (19, 0.01919942563133236), (22, 0.048489097889497096), (25, 0.2722725986774012), (26, 0.2620800981425273), (27, 0.24487868329638712), (28, 0.2722725986774012), (29, 0.03505679663903942), (30, 0.08624781176709262), (31, 0.07149215764800944), (32, 0.31119614453633054), (33, 0.2729933988114348), (34, 0.1733099699406774), (35, 0.17712329620393766), (36, 0.06842298368233549), (37, 0.1420511395070622), (38, 0.14386314798381059), ...], [(10, 0.015973364734577944), (19, 0.0489617074991789), (23, 0.18185904232327854), (30, 0.1099730849576353), (47, 0.046070957177769906), (48, 0.2975393193706599), (49, 0.11089059498724518), (50, 0.3968007922798119), (51, 0.19827784646150795), (52, 0.07722160044388235), (53, 0.04857698480295758), (54, 0.42811430060066746), (55, 0.3236593651896635), (56, 0.07556909941755309), (57, 0.24915443219781466), (58, 0.42811430060066746), (59, 0.3240930775601281)], [(10, 0.03745602951273969), (36, 0.10229058576225049), (47, 0.10803203710707177), (60, 0.23619581984220353), (61, 0.03133470722492), (62, 0.385564388719468), (63, 0.3015083410363086), (64, 0.11103716027435812), (65, 0.1905968735808948), (66, 0.24536394387695537), (67, 0.5308001436909793), (68, 0.3703268648059433), (69, 0.23994513095105036), (70, 0.3078975881412962)], [(47, 0.07100101906724518), (53, 0.07486311627769447), (61, 0.04118771069619043), (71, 0.15202575486829917), (72, 0.14256352538466183), (73, 0.4667449719251434), (74, 0.2503651118140704), (75, 0.37022902619505615), (76, 0.5477253203876611), (77, 0.4760416328690717)], [(10, 0.06462580383426865), (11, 0.06430138284840814), (18, 0.06919519082403108), (22, 0.03573501237295617), (31, 0.10537515645034605), (37, 0.15703115077885102), (46, 0.07518496273136628), (64, 0.0547374449573064), (65, 0.04697880354149405), (78, 0.1734637042645781), (79, 0.21124370752304877), (80, 0.1237755155749664), (81, 0.15694812556791132), (82, 0.14377383733539228), (83, 0.21875527504189865), (84, 0.24744076215980707), (85, 0.10989353196818279), (86, 0.20541728310317606), (87, 0.1788334923026323), (88, 0.3009539216891794), ...], [(10, 0.01715833256303342), (19, 0.026296941004117013), (22, 0.06641422358292039), (24, 0.06291932116373902), (29, 0.0480163589636599), (30, 0.11813132649510569), (47, 0.049488684312218235), (51, 0.21298688698342833), (53, 0.052180619049802826), (56, 0.08117511625389999), (61, 0.028708399385876993), (102, 0.23403001292583833), (113, 0.20423929132245422), (115, 0.4262370557703321), (116, 0.2690731650842324), (117, 0.3589641175494357), (118, 0.17450791755009787), (119, 0.2001630105211242), (120, 0.303670599600059), (121, 0.4262370557703321), ...], [(10, 0.021322122227474257), (11, 0.04950186582869004), (30, 0.14679809784366432), (31, 0.12168323506929181), (47, 0.12299607457840946), (52, 0.20615924454556003), (61, 0.035675028352090576), (91, 0.14487860845275446), (98, 0.27840822828588596), (103, 0.23291869434274284), (124, 0.13839751535552838), (125, 0.3007913272538198), (126, 0.39081820673094264), (127, 0.2462174723129556), (128, 0.4123268436706392), (129, 0.22158417220596172), (130, 0.3435567610008015), (131, 0.18912652719692835), (132, 0.2306072899995085)], [(10, 0.060204206982548865), (19, 0.055361550083157234), (22, 0.09321221974181244), (49, 0.08359015703908927), (53, 0.036617693219445066), (61, 0.04029217669993592), (104, 0.0754428098308278), (133, 0.26790813350704007), (134, 0.18687533762152778), (135, 0.24430377753540683), (136, 0.23809501978731895), (137, 0.2755070388560312), (138, 0.21903792681162104), (139, 0.12747319308243932), (140, 0.12362178362577428), (141, 0.14439454632496657), (142, 0.22244615763028036), (143, 0.21903792681162104), (144, 0.23809501978731895), (145, 0.07431384829899074), ...], [(10, 0.017868951261395715), (11, 0.08296982996385277), (61, 0.02989736837972952), (72, 0.10348412582038423), (155, 0.31426513521849647), (156, 0.1699525813091037), (157, 0.1701766922652076), (158, 0.27640100939491724), (159, 0.2978192836150871), (160, 0.24276889717607655), (161, 0.33880121349699616), (162, 0.23450847942150704), (163, 0.3625537576651779), (164, 0.3183102485560416), (165, 0.24137147345766863), (166, 0.3738307494342447)], [(10, 0.04520429241093692), (11, 0.02623679756093562), (19, 0.017320077669206606), (22, 0.08748542354155527), (29, 0.06325047970506475), (53, 0.034367966016593844), (57, 0.08813773738110729), (61, 0.018908347820537255), (167, 0.10458059386108247), (168, 0.19113441661345087), (169, 0.3028886579507455), (170, 0.25858036692787534), (171, 0.13969408373222703), (172, 0.16532352454213142), (173, 0.16532352454213142), (174, 0.3028886579507455), (175, 0.19313267199821985), (176, 0.17097852648678477), (177, 0.2807345124393104), (178, 0.09429094471794976), ...], [(10, 0.009856156567640691), (15, 0.13967442332789326), (19, 0.04531677542111343), (24, 0.10842708839707535), (29, 0.11032697962119518), (41, 0.07260064341795866), (49, 0.06842359667072355), (56, 0.04662892808818644), (57, 0.1537374957667718), (61, 0.016490791171816524), (165, 0.13313568315005253), (190, 0.16755438923335436), (191, 0.13904086957076212), (192, 0.2448407583411407), (193, 0.12430484550933028), (194, 0.18687598151030094), (195, 0.15050032010750405), (196, 0.09143544591163232), (197, 0.12269104128755341), (198, 0.2641623506180873), ...], [(10, 0.05128666371555671), (11, 0.02381362904652451), (19, 0.047161308888427914), (22, 0.07940547692065152), (24, 0.037613469186254155), (30, 0.07061946834251158), (47, 0.05916914130722203), (61, 0.03432403515216796), (65, 0.05219494905222182), (66, 0.13438581975978053), (71, 0.06334580468218413), (72, 0.05940310075515709), (103, 0.05602454869351825), (111, 0.08056360687311669), (124, 0.0665782397585325), (131, 0.09098220614776903), (217, 0.13014327126494443), (218, 0.14707666165679775), (219, 0.1425038820600952), (220, 0.27491457850702283), ...], [(10, 0.03373914624704608), (11, 0.03916473868965497), (19, 0.05170877386415411), (22, 0.03264826570583768), (24, 0.06186044508432571), (29, 0.047208286451325736), (36, 0.046069979621768835), (45, 0.08087235171979418), (47, 0.024327916938460356), (53, 0.07695369862930257), (56, 0.07980901141908836), (61, 0.028225262619209712), (69, 0.1080672987732272), (112, 0.04557089762967087), (127, 0.09740080300544345), (241, 0.1796469603779444), (242, 0.08992259466649655), (243, 0.11166235358548782), (244, 0.15848012162533082), (245, 0.26548969682262125), ...], [(10, 0.014878436612043862), (11, 0.0690841526047578), (19, 0.022802761770881638), (24, 0.05455898049349969), (30, 0.10243474689030971), (45, 0.071326888352145), (47, 0.08582585164937677), (53, 0.045247172477722745), (56, 0.07038905541794807), (69, 0.09531198228070385), (104, 0.09322197900786375), (112, 0.08038421681121939), (131, 0.13197124641419022), (182, 0.17819993890438107), (185, 0.13080027223004068), (270, 0.18048741343046848), (271, 0.12834700317270165), (277, 0.21653463756000216), (278, 0.15765046010508932), (279, 0.3696012414193431), ...], [(10, 0.03791716652108541), (11, 0.05868616859386632), (22, 0.04892159860155609), (29, 0.1061084619891196), (36, 0.13806657118911214), (53, 0.03843693658103161), (64, 0.07493612378605678), (65, 0.06431446407942601), (91, 0.08587929261825251), (105, 0.3574063109864729), (141, 0.15156836850641137), (145, 0.07800591525639525), (213, 0.12076867033953673), (219, 0.17559286809079885), (222, 0.09905080713055688), (290, 0.17634543810717943), (291, 0.2354304202988956), (292, 0.23747359098140175), (293, 0.21838240905413028), (294, 0.2068871594723075), ...], [(10, 0.01568731468793941), (29, 0.08779964258937602), (37, 0.0889416637703053), (53, 0.04770707110604152), (61, 0.02624717137862027), (64, 0.09300905076906602), (237, 0.1379113333775812), (305, 0.30664896585612444), (306, 0.2833078792717857), (307, 0.20730843748050645), (308, 0.2233412719391391), (309, 0.38969490776368737), (310, 0.2695472861513626), (311, 0.21271630313917306), (312, 0.4204476556771751), (313, 0.20658700960294096), (314, 0.4204476556771751), (315, 0.14264507531499204)], [(10, 0.027389551203659726), (316, 0.7340881994597976), (317, 0.37735752159971553), (318, 0.5638844108421996)], [(18, 0.35789169848754704), (36, 0.13040599539512807), (52, 0.11542397475108049), (92, 0.1830990480525225), (130, 0.19234978763494665), (319, 0.37310009228736857), (320, 0.5931025045589059), (321, 0.2808020052524273), (322, 0.44859490237601146)], ...]\n        y = id\nid15739    EAP\nid19588    EAP\nid11059    EAP\n...   HPL\nName: author, Length: 13051, dtype: object\n        fit_params = {}\n    251         return self\n    252 \n    253     def fit_transform(self, X, y=None, **fit_params):\n    254         \"\"\"Fit the model and transform with the final estimator\n\n...........................................................................\n/home/bob/.local/lib/python3.6/site-packages/sklearn/naive_bayes.py in fit(self=MultinomialNB(alpha=1.0, class_prior=None, fit_prior=True), X=[[(0, 0.2664714100608566), (1, 0.10480362539462479), (2, 0.2604873336049293), (3, 0.2319432706761858), (4, 0.24213524135011738), (5, 0.41116785474457307), (6, 0.39218741029198784), (7, 0.32007681200061067), (8, 0.35974012618542445), (9, 0.3057814279583449), (10, 0.033103432446463785), (11, 0.07685359149299217), (12, 0.19308643986019788), (13, 0.2126248353265933)], [(10, 0.024133907128526488), (11, 0.056029761946444906), (14, 0.2713402113709543), (15, 0.3420085240826053), (16, 0.5718449017195636), (17, 0.2614985439879363), (18, 0.1808821162765368), (19, 0.036987739317106506), (20, 0.42712530611518384), (21, 0.3189304655793621), (22, 0.09341436285112015), (23, 0.27476798475726655), (24, 0.088498637497393)], [(1, 0.07932158066320133), (10, 0.06263658764531839), (14, 0.14084602912179758), (18, 0.09389145710463107), (19, 0.01919942563133236), (22, 0.048489097889497096), (25, 0.2722725986774012), (26, 0.2620800981425273), (27, 0.24487868329638712), (28, 0.2722725986774012), (29, 0.03505679663903942), (30, 0.08624781176709262), (31, 0.07149215764800944), (32, 0.31119614453633054), (33, 0.2729933988114348), (34, 0.1733099699406774), (35, 0.17712329620393766), (36, 0.06842298368233549), (37, 0.1420511395070622), (38, 0.14386314798381059), ...], [(10, 0.015973364734577944), (19, 0.0489617074991789), (23, 0.18185904232327854), (30, 0.1099730849576353), (47, 0.046070957177769906), (48, 0.2975393193706599), (49, 0.11089059498724518), (50, 0.3968007922798119), (51, 0.19827784646150795), (52, 0.07722160044388235), (53, 0.04857698480295758), (54, 0.42811430060066746), (55, 0.3236593651896635), (56, 0.07556909941755309), (57, 0.24915443219781466), (58, 0.42811430060066746), (59, 0.3240930775601281)], [(10, 0.03745602951273969), (36, 0.10229058576225049), (47, 0.10803203710707177), (60, 0.23619581984220353), (61, 0.03133470722492), (62, 0.385564388719468), (63, 0.3015083410363086), (64, 0.11103716027435812), (65, 0.1905968735808948), (66, 0.24536394387695537), (67, 0.5308001436909793), (68, 0.3703268648059433), (69, 0.23994513095105036), (70, 0.3078975881412962)], [(47, 0.07100101906724518), (53, 0.07486311627769447), (61, 0.04118771069619043), (71, 0.15202575486829917), (72, 0.14256352538466183), (73, 0.4667449719251434), (74, 0.2503651118140704), (75, 0.37022902619505615), (76, 0.5477253203876611), (77, 0.4760416328690717)], [(10, 0.06462580383426865), (11, 0.06430138284840814), (18, 0.06919519082403108), (22, 0.03573501237295617), (31, 0.10537515645034605), (37, 0.15703115077885102), (46, 0.07518496273136628), (64, 0.0547374449573064), (65, 0.04697880354149405), (78, 0.1734637042645781), (79, 0.21124370752304877), (80, 0.1237755155749664), (81, 0.15694812556791132), (82, 0.14377383733539228), (83, 0.21875527504189865), (84, 0.24744076215980707), (85, 0.10989353196818279), (86, 0.20541728310317606), (87, 0.1788334923026323), (88, 0.3009539216891794), ...], [(10, 0.01715833256303342), (19, 0.026296941004117013), (22, 0.06641422358292039), (24, 0.06291932116373902), (29, 0.0480163589636599), (30, 0.11813132649510569), (47, 0.049488684312218235), (51, 0.21298688698342833), (53, 0.052180619049802826), (56, 0.08117511625389999), (61, 0.028708399385876993), (102, 0.23403001292583833), (113, 0.20423929132245422), (115, 0.4262370557703321), (116, 0.2690731650842324), (117, 0.3589641175494357), (118, 0.17450791755009787), (119, 0.2001630105211242), (120, 0.303670599600059), (121, 0.4262370557703321), ...], [(10, 0.021322122227474257), (11, 0.04950186582869004), (30, 0.14679809784366432), (31, 0.12168323506929181), (47, 0.12299607457840946), (52, 0.20615924454556003), (61, 0.035675028352090576), (91, 0.14487860845275446), (98, 0.27840822828588596), (103, 0.23291869434274284), (124, 0.13839751535552838), (125, 0.3007913272538198), (126, 0.39081820673094264), (127, 0.2462174723129556), (128, 0.4123268436706392), (129, 0.22158417220596172), (130, 0.3435567610008015), (131, 0.18912652719692835), (132, 0.2306072899995085)], [(10, 0.060204206982548865), (19, 0.055361550083157234), (22, 0.09321221974181244), (49, 0.08359015703908927), (53, 0.036617693219445066), (61, 0.04029217669993592), (104, 0.0754428098308278), (133, 0.26790813350704007), (134, 0.18687533762152778), (135, 0.24430377753540683), (136, 0.23809501978731895), (137, 0.2755070388560312), (138, 0.21903792681162104), (139, 0.12747319308243932), (140, 0.12362178362577428), (141, 0.14439454632496657), (142, 0.22244615763028036), (143, 0.21903792681162104), (144, 0.23809501978731895), (145, 0.07431384829899074), ...], [(10, 0.017868951261395715), (11, 0.08296982996385277), (61, 0.02989736837972952), (72, 0.10348412582038423), (155, 0.31426513521849647), (156, 0.1699525813091037), (157, 0.1701766922652076), (158, 0.27640100939491724), (159, 0.2978192836150871), (160, 0.24276889717607655), (161, 0.33880121349699616), (162, 0.23450847942150704), (163, 0.3625537576651779), (164, 0.3183102485560416), (165, 0.24137147345766863), (166, 0.3738307494342447)], [(10, 0.04520429241093692), (11, 0.02623679756093562), (19, 0.017320077669206606), (22, 0.08748542354155527), (29, 0.06325047970506475), (53, 0.034367966016593844), (57, 0.08813773738110729), (61, 0.018908347820537255), (167, 0.10458059386108247), (168, 0.19113441661345087), (169, 0.3028886579507455), (170, 0.25858036692787534), (171, 0.13969408373222703), (172, 0.16532352454213142), (173, 0.16532352454213142), (174, 0.3028886579507455), (175, 0.19313267199821985), (176, 0.17097852648678477), (177, 0.2807345124393104), (178, 0.09429094471794976), ...], [(10, 0.009856156567640691), (15, 0.13967442332789326), (19, 0.04531677542111343), (24, 0.10842708839707535), (29, 0.11032697962119518), (41, 0.07260064341795866), (49, 0.06842359667072355), (56, 0.04662892808818644), (57, 0.1537374957667718), (61, 0.016490791171816524), (165, 0.13313568315005253), (190, 0.16755438923335436), (191, 0.13904086957076212), (192, 0.2448407583411407), (193, 0.12430484550933028), (194, 0.18687598151030094), (195, 0.15050032010750405), (196, 0.09143544591163232), (197, 0.12269104128755341), (198, 0.2641623506180873), ...], [(10, 0.05128666371555671), (11, 0.02381362904652451), (19, 0.047161308888427914), (22, 0.07940547692065152), (24, 0.037613469186254155), (30, 0.07061946834251158), (47, 0.05916914130722203), (61, 0.03432403515216796), (65, 0.05219494905222182), (66, 0.13438581975978053), (71, 0.06334580468218413), (72, 0.05940310075515709), (103, 0.05602454869351825), (111, 0.08056360687311669), (124, 0.0665782397585325), (131, 0.09098220614776903), (217, 0.13014327126494443), (218, 0.14707666165679775), (219, 0.1425038820600952), (220, 0.27491457850702283), ...], [(10, 0.03373914624704608), (11, 0.03916473868965497), (19, 0.05170877386415411), (22, 0.03264826570583768), (24, 0.06186044508432571), (29, 0.047208286451325736), (36, 0.046069979621768835), (45, 0.08087235171979418), (47, 0.024327916938460356), (53, 0.07695369862930257), (56, 0.07980901141908836), (61, 0.028225262619209712), (69, 0.1080672987732272), (112, 0.04557089762967087), (127, 0.09740080300544345), (241, 0.1796469603779444), (242, 0.08992259466649655), (243, 0.11166235358548782), (244, 0.15848012162533082), (245, 0.26548969682262125), ...], [(10, 0.014878436612043862), (11, 0.0690841526047578), (19, 0.022802761770881638), (24, 0.05455898049349969), (30, 0.10243474689030971), (45, 0.071326888352145), (47, 0.08582585164937677), (53, 0.045247172477722745), (56, 0.07038905541794807), (69, 0.09531198228070385), (104, 0.09322197900786375), (112, 0.08038421681121939), (131, 0.13197124641419022), (182, 0.17819993890438107), (185, 0.13080027223004068), (270, 0.18048741343046848), (271, 0.12834700317270165), (277, 0.21653463756000216), (278, 0.15765046010508932), (279, 0.3696012414193431), ...], [(10, 0.03791716652108541), (11, 0.05868616859386632), (22, 0.04892159860155609), (29, 0.1061084619891196), (36, 0.13806657118911214), (53, 0.03843693658103161), (64, 0.07493612378605678), (65, 0.06431446407942601), (91, 0.08587929261825251), (105, 0.3574063109864729), (141, 0.15156836850641137), (145, 0.07800591525639525), (213, 0.12076867033953673), (219, 0.17559286809079885), (222, 0.09905080713055688), (290, 0.17634543810717943), (291, 0.2354304202988956), (292, 0.23747359098140175), (293, 0.21838240905413028), (294, 0.2068871594723075), ...], [(10, 0.01568731468793941), (29, 0.08779964258937602), (37, 0.0889416637703053), (53, 0.04770707110604152), (61, 0.02624717137862027), (64, 0.09300905076906602), (237, 0.1379113333775812), (305, 0.30664896585612444), (306, 0.2833078792717857), (307, 0.20730843748050645), (308, 0.2233412719391391), (309, 0.38969490776368737), (310, 0.2695472861513626), (311, 0.21271630313917306), (312, 0.4204476556771751), (313, 0.20658700960294096), (314, 0.4204476556771751), (315, 0.14264507531499204)], [(10, 0.027389551203659726), (316, 0.7340881994597976), (317, 0.37735752159971553), (318, 0.5638844108421996)], [(18, 0.35789169848754704), (36, 0.13040599539512807), (52, 0.11542397475108049), (92, 0.1830990480525225), (130, 0.19234978763494665), (319, 0.37310009228736857), (320, 0.5931025045589059), (321, 0.2808020052524273), (322, 0.44859490237601146)], ...], y=id\nid15739    EAP\nid19588    EAP\nid11059    EAP\n...   HPL\nName: author, Length: 13051, dtype: object, sample_weight=None)\n    574         Returns\n    575         -------\n    576         self : object\n    577             Returns self.\n    578         \"\"\"\n--> 579         X, y = check_X_y(X, y, 'csr')\n        X = [[(0, 0.2664714100608566), (1, 0.10480362539462479), (2, 0.2604873336049293), (3, 0.2319432706761858), (4, 0.24213524135011738), (5, 0.41116785474457307), (6, 0.39218741029198784), (7, 0.32007681200061067), (8, 0.35974012618542445), (9, 0.3057814279583449), (10, 0.033103432446463785), (11, 0.07685359149299217), (12, 0.19308643986019788), (13, 0.2126248353265933)], [(10, 0.024133907128526488), (11, 0.056029761946444906), (14, 0.2713402113709543), (15, 0.3420085240826053), (16, 0.5718449017195636), (17, 0.2614985439879363), (18, 0.1808821162765368), (19, 0.036987739317106506), (20, 0.42712530611518384), (21, 0.3189304655793621), (22, 0.09341436285112015), (23, 0.27476798475726655), (24, 0.088498637497393)], [(1, 0.07932158066320133), (10, 0.06263658764531839), (14, 0.14084602912179758), (18, 0.09389145710463107), (19, 0.01919942563133236), (22, 0.048489097889497096), (25, 0.2722725986774012), (26, 0.2620800981425273), (27, 0.24487868329638712), (28, 0.2722725986774012), (29, 0.03505679663903942), (30, 0.08624781176709262), (31, 0.07149215764800944), (32, 0.31119614453633054), (33, 0.2729933988114348), (34, 0.1733099699406774), (35, 0.17712329620393766), (36, 0.06842298368233549), (37, 0.1420511395070622), (38, 0.14386314798381059), ...], [(10, 0.015973364734577944), (19, 0.0489617074991789), (23, 0.18185904232327854), (30, 0.1099730849576353), (47, 0.046070957177769906), (48, 0.2975393193706599), (49, 0.11089059498724518), (50, 0.3968007922798119), (51, 0.19827784646150795), (52, 0.07722160044388235), (53, 0.04857698480295758), (54, 0.42811430060066746), (55, 0.3236593651896635), (56, 0.07556909941755309), (57, 0.24915443219781466), (58, 0.42811430060066746), (59, 0.3240930775601281)], [(10, 0.03745602951273969), (36, 0.10229058576225049), (47, 0.10803203710707177), (60, 0.23619581984220353), (61, 0.03133470722492), (62, 0.385564388719468), (63, 0.3015083410363086), (64, 0.11103716027435812), (65, 0.1905968735808948), (66, 0.24536394387695537), (67, 0.5308001436909793), (68, 0.3703268648059433), (69, 0.23994513095105036), (70, 0.3078975881412962)], [(47, 0.07100101906724518), (53, 0.07486311627769447), (61, 0.04118771069619043), (71, 0.15202575486829917), (72, 0.14256352538466183), (73, 0.4667449719251434), (74, 0.2503651118140704), (75, 0.37022902619505615), (76, 0.5477253203876611), (77, 0.4760416328690717)], [(10, 0.06462580383426865), (11, 0.06430138284840814), (18, 0.06919519082403108), (22, 0.03573501237295617), (31, 0.10537515645034605), (37, 0.15703115077885102), (46, 0.07518496273136628), (64, 0.0547374449573064), (65, 0.04697880354149405), (78, 0.1734637042645781), (79, 0.21124370752304877), (80, 0.1237755155749664), (81, 0.15694812556791132), (82, 0.14377383733539228), (83, 0.21875527504189865), (84, 0.24744076215980707), (85, 0.10989353196818279), (86, 0.20541728310317606), (87, 0.1788334923026323), (88, 0.3009539216891794), ...], [(10, 0.01715833256303342), (19, 0.026296941004117013), (22, 0.06641422358292039), (24, 0.06291932116373902), (29, 0.0480163589636599), (30, 0.11813132649510569), (47, 0.049488684312218235), (51, 0.21298688698342833), (53, 0.052180619049802826), (56, 0.08117511625389999), (61, 0.028708399385876993), (102, 0.23403001292583833), (113, 0.20423929132245422), (115, 0.4262370557703321), (116, 0.2690731650842324), (117, 0.3589641175494357), (118, 0.17450791755009787), (119, 0.2001630105211242), (120, 0.303670599600059), (121, 0.4262370557703321), ...], [(10, 0.021322122227474257), (11, 0.04950186582869004), (30, 0.14679809784366432), (31, 0.12168323506929181), (47, 0.12299607457840946), (52, 0.20615924454556003), (61, 0.035675028352090576), (91, 0.14487860845275446), (98, 0.27840822828588596), (103, 0.23291869434274284), (124, 0.13839751535552838), (125, 0.3007913272538198), (126, 0.39081820673094264), (127, 0.2462174723129556), (128, 0.4123268436706392), (129, 0.22158417220596172), (130, 0.3435567610008015), (131, 0.18912652719692835), (132, 0.2306072899995085)], [(10, 0.060204206982548865), (19, 0.055361550083157234), (22, 0.09321221974181244), (49, 0.08359015703908927), (53, 0.036617693219445066), (61, 0.04029217669993592), (104, 0.0754428098308278), (133, 0.26790813350704007), (134, 0.18687533762152778), (135, 0.24430377753540683), (136, 0.23809501978731895), (137, 0.2755070388560312), (138, 0.21903792681162104), (139, 0.12747319308243932), (140, 0.12362178362577428), (141, 0.14439454632496657), (142, 0.22244615763028036), (143, 0.21903792681162104), (144, 0.23809501978731895), (145, 0.07431384829899074), ...], [(10, 0.017868951261395715), (11, 0.08296982996385277), (61, 0.02989736837972952), (72, 0.10348412582038423), (155, 0.31426513521849647), (156, 0.1699525813091037), (157, 0.1701766922652076), (158, 0.27640100939491724), (159, 0.2978192836150871), (160, 0.24276889717607655), (161, 0.33880121349699616), (162, 0.23450847942150704), (163, 0.3625537576651779), (164, 0.3183102485560416), (165, 0.24137147345766863), (166, 0.3738307494342447)], [(10, 0.04520429241093692), (11, 0.02623679756093562), (19, 0.017320077669206606), (22, 0.08748542354155527), (29, 0.06325047970506475), (53, 0.034367966016593844), (57, 0.08813773738110729), (61, 0.018908347820537255), (167, 0.10458059386108247), (168, 0.19113441661345087), (169, 0.3028886579507455), (170, 0.25858036692787534), (171, 0.13969408373222703), (172, 0.16532352454213142), (173, 0.16532352454213142), (174, 0.3028886579507455), (175, 0.19313267199821985), (176, 0.17097852648678477), (177, 0.2807345124393104), (178, 0.09429094471794976), ...], [(10, 0.009856156567640691), (15, 0.13967442332789326), (19, 0.04531677542111343), (24, 0.10842708839707535), (29, 0.11032697962119518), (41, 0.07260064341795866), (49, 0.06842359667072355), (56, 0.04662892808818644), (57, 0.1537374957667718), (61, 0.016490791171816524), (165, 0.13313568315005253), (190, 0.16755438923335436), (191, 0.13904086957076212), (192, 0.2448407583411407), (193, 0.12430484550933028), (194, 0.18687598151030094), (195, 0.15050032010750405), (196, 0.09143544591163232), (197, 0.12269104128755341), (198, 0.2641623506180873), ...], [(10, 0.05128666371555671), (11, 0.02381362904652451), (19, 0.047161308888427914), (22, 0.07940547692065152), (24, 0.037613469186254155), (30, 0.07061946834251158), (47, 0.05916914130722203), (61, 0.03432403515216796), (65, 0.05219494905222182), (66, 0.13438581975978053), (71, 0.06334580468218413), (72, 0.05940310075515709), (103, 0.05602454869351825), (111, 0.08056360687311669), (124, 0.0665782397585325), (131, 0.09098220614776903), (217, 0.13014327126494443), (218, 0.14707666165679775), (219, 0.1425038820600952), (220, 0.27491457850702283), ...], [(10, 0.03373914624704608), (11, 0.03916473868965497), (19, 0.05170877386415411), (22, 0.03264826570583768), (24, 0.06186044508432571), (29, 0.047208286451325736), (36, 0.046069979621768835), (45, 0.08087235171979418), (47, 0.024327916938460356), (53, 0.07695369862930257), (56, 0.07980901141908836), (61, 0.028225262619209712), (69, 0.1080672987732272), (112, 0.04557089762967087), (127, 0.09740080300544345), (241, 0.1796469603779444), (242, 0.08992259466649655), (243, 0.11166235358548782), (244, 0.15848012162533082), (245, 0.26548969682262125), ...], [(10, 0.014878436612043862), (11, 0.0690841526047578), (19, 0.022802761770881638), (24, 0.05455898049349969), (30, 0.10243474689030971), (45, 0.071326888352145), (47, 0.08582585164937677), (53, 0.045247172477722745), (56, 0.07038905541794807), (69, 0.09531198228070385), (104, 0.09322197900786375), (112, 0.08038421681121939), (131, 0.13197124641419022), (182, 0.17819993890438107), (185, 0.13080027223004068), (270, 0.18048741343046848), (271, 0.12834700317270165), (277, 0.21653463756000216), (278, 0.15765046010508932), (279, 0.3696012414193431), ...], [(10, 0.03791716652108541), (11, 0.05868616859386632), (22, 0.04892159860155609), (29, 0.1061084619891196), (36, 0.13806657118911214), (53, 0.03843693658103161), (64, 0.07493612378605678), (65, 0.06431446407942601), (91, 0.08587929261825251), (105, 0.3574063109864729), (141, 0.15156836850641137), (145, 0.07800591525639525), (213, 0.12076867033953673), (219, 0.17559286809079885), (222, 0.09905080713055688), (290, 0.17634543810717943), (291, 0.2354304202988956), (292, 0.23747359098140175), (293, 0.21838240905413028), (294, 0.2068871594723075), ...], [(10, 0.01568731468793941), (29, 0.08779964258937602), (37, 0.0889416637703053), (53, 0.04770707110604152), (61, 0.02624717137862027), (64, 0.09300905076906602), (237, 0.1379113333775812), (305, 0.30664896585612444), (306, 0.2833078792717857), (307, 0.20730843748050645), (308, 0.2233412719391391), (309, 0.38969490776368737), (310, 0.2695472861513626), (311, 0.21271630313917306), (312, 0.4204476556771751), (313, 0.20658700960294096), (314, 0.4204476556771751), (315, 0.14264507531499204)], [(10, 0.027389551203659726), (316, 0.7340881994597976), (317, 0.37735752159971553), (318, 0.5638844108421996)], [(18, 0.35789169848754704), (36, 0.13040599539512807), (52, 0.11542397475108049), (92, 0.1830990480525225), (130, 0.19234978763494665), (319, 0.37310009228736857), (320, 0.5931025045589059), (321, 0.2808020052524273), (322, 0.44859490237601146)], ...]\n        y = id\nid15739    EAP\nid19588    EAP\nid11059    EAP\n...   HPL\nName: author, Length: 13051, dtype: object\n    580         _, n_features = X.shape\n    581 \n    582         labelbin = LabelBinarizer()\n    583         Y = labelbin.fit_transform(y)\n\n...........................................................................\n/home/bob/.local/lib/python3.6/site-packages/sklearn/utils/validation.py in check_X_y(X=[[(0, 0.2664714100608566), (1, 0.10480362539462479), (2, 0.2604873336049293), (3, 0.2319432706761858), (4, 0.24213524135011738), (5, 0.41116785474457307), (6, 0.39218741029198784), (7, 0.32007681200061067), (8, 0.35974012618542445), (9, 0.3057814279583449), (10, 0.033103432446463785), (11, 0.07685359149299217), (12, 0.19308643986019788), (13, 0.2126248353265933)], [(10, 0.024133907128526488), (11, 0.056029761946444906), (14, 0.2713402113709543), (15, 0.3420085240826053), (16, 0.5718449017195636), (17, 0.2614985439879363), (18, 0.1808821162765368), (19, 0.036987739317106506), (20, 0.42712530611518384), (21, 0.3189304655793621), (22, 0.09341436285112015), (23, 0.27476798475726655), (24, 0.088498637497393)], [(1, 0.07932158066320133), (10, 0.06263658764531839), (14, 0.14084602912179758), (18, 0.09389145710463107), (19, 0.01919942563133236), (22, 0.048489097889497096), (25, 0.2722725986774012), (26, 0.2620800981425273), (27, 0.24487868329638712), (28, 0.2722725986774012), (29, 0.03505679663903942), (30, 0.08624781176709262), (31, 0.07149215764800944), (32, 0.31119614453633054), (33, 0.2729933988114348), (34, 0.1733099699406774), (35, 0.17712329620393766), (36, 0.06842298368233549), (37, 0.1420511395070622), (38, 0.14386314798381059), ...], [(10, 0.015973364734577944), (19, 0.0489617074991789), (23, 0.18185904232327854), (30, 0.1099730849576353), (47, 0.046070957177769906), (48, 0.2975393193706599), (49, 0.11089059498724518), (50, 0.3968007922798119), (51, 0.19827784646150795), (52, 0.07722160044388235), (53, 0.04857698480295758), (54, 0.42811430060066746), (55, 0.3236593651896635), (56, 0.07556909941755309), (57, 0.24915443219781466), (58, 0.42811430060066746), (59, 0.3240930775601281)], [(10, 0.03745602951273969), (36, 0.10229058576225049), (47, 0.10803203710707177), (60, 0.23619581984220353), (61, 0.03133470722492), (62, 0.385564388719468), (63, 0.3015083410363086), (64, 0.11103716027435812), (65, 0.1905968735808948), (66, 0.24536394387695537), (67, 0.5308001436909793), (68, 0.3703268648059433), (69, 0.23994513095105036), (70, 0.3078975881412962)], [(47, 0.07100101906724518), (53, 0.07486311627769447), (61, 0.04118771069619043), (71, 0.15202575486829917), (72, 0.14256352538466183), (73, 0.4667449719251434), (74, 0.2503651118140704), (75, 0.37022902619505615), (76, 0.5477253203876611), (77, 0.4760416328690717)], [(10, 0.06462580383426865), (11, 0.06430138284840814), (18, 0.06919519082403108), (22, 0.03573501237295617), (31, 0.10537515645034605), (37, 0.15703115077885102), (46, 0.07518496273136628), (64, 0.0547374449573064), (65, 0.04697880354149405), (78, 0.1734637042645781), (79, 0.21124370752304877), (80, 0.1237755155749664), (81, 0.15694812556791132), (82, 0.14377383733539228), (83, 0.21875527504189865), (84, 0.24744076215980707), (85, 0.10989353196818279), (86, 0.20541728310317606), (87, 0.1788334923026323), (88, 0.3009539216891794), ...], [(10, 0.01715833256303342), (19, 0.026296941004117013), (22, 0.06641422358292039), (24, 0.06291932116373902), (29, 0.0480163589636599), (30, 0.11813132649510569), (47, 0.049488684312218235), (51, 0.21298688698342833), (53, 0.052180619049802826), (56, 0.08117511625389999), (61, 0.028708399385876993), (102, 0.23403001292583833), (113, 0.20423929132245422), (115, 0.4262370557703321), (116, 0.2690731650842324), (117, 0.3589641175494357), (118, 0.17450791755009787), (119, 0.2001630105211242), (120, 0.303670599600059), (121, 0.4262370557703321), ...], [(10, 0.021322122227474257), (11, 0.04950186582869004), (30, 0.14679809784366432), (31, 0.12168323506929181), (47, 0.12299607457840946), (52, 0.20615924454556003), (61, 0.035675028352090576), (91, 0.14487860845275446), (98, 0.27840822828588596), (103, 0.23291869434274284), (124, 0.13839751535552838), (125, 0.3007913272538198), (126, 0.39081820673094264), (127, 0.2462174723129556), (128, 0.4123268436706392), (129, 0.22158417220596172), (130, 0.3435567610008015), (131, 0.18912652719692835), (132, 0.2306072899995085)], [(10, 0.060204206982548865), (19, 0.055361550083157234), (22, 0.09321221974181244), (49, 0.08359015703908927), (53, 0.036617693219445066), (61, 0.04029217669993592), (104, 0.0754428098308278), (133, 0.26790813350704007), (134, 0.18687533762152778), (135, 0.24430377753540683), (136, 0.23809501978731895), (137, 0.2755070388560312), (138, 0.21903792681162104), (139, 0.12747319308243932), (140, 0.12362178362577428), (141, 0.14439454632496657), (142, 0.22244615763028036), (143, 0.21903792681162104), (144, 0.23809501978731895), (145, 0.07431384829899074), ...], [(10, 0.017868951261395715), (11, 0.08296982996385277), (61, 0.02989736837972952), (72, 0.10348412582038423), (155, 0.31426513521849647), (156, 0.1699525813091037), (157, 0.1701766922652076), (158, 0.27640100939491724), (159, 0.2978192836150871), (160, 0.24276889717607655), (161, 0.33880121349699616), (162, 0.23450847942150704), (163, 0.3625537576651779), (164, 0.3183102485560416), (165, 0.24137147345766863), (166, 0.3738307494342447)], [(10, 0.04520429241093692), (11, 0.02623679756093562), (19, 0.017320077669206606), (22, 0.08748542354155527), (29, 0.06325047970506475), (53, 0.034367966016593844), (57, 0.08813773738110729), (61, 0.018908347820537255), (167, 0.10458059386108247), (168, 0.19113441661345087), (169, 0.3028886579507455), (170, 0.25858036692787534), (171, 0.13969408373222703), (172, 0.16532352454213142), (173, 0.16532352454213142), (174, 0.3028886579507455), (175, 0.19313267199821985), (176, 0.17097852648678477), (177, 0.2807345124393104), (178, 0.09429094471794976), ...], [(10, 0.009856156567640691), (15, 0.13967442332789326), (19, 0.04531677542111343), (24, 0.10842708839707535), (29, 0.11032697962119518), (41, 0.07260064341795866), (49, 0.06842359667072355), (56, 0.04662892808818644), (57, 0.1537374957667718), (61, 0.016490791171816524), (165, 0.13313568315005253), (190, 0.16755438923335436), (191, 0.13904086957076212), (192, 0.2448407583411407), (193, 0.12430484550933028), (194, 0.18687598151030094), (195, 0.15050032010750405), (196, 0.09143544591163232), (197, 0.12269104128755341), (198, 0.2641623506180873), ...], [(10, 0.05128666371555671), (11, 0.02381362904652451), (19, 0.047161308888427914), (22, 0.07940547692065152), (24, 0.037613469186254155), (30, 0.07061946834251158), (47, 0.05916914130722203), (61, 0.03432403515216796), (65, 0.05219494905222182), (66, 0.13438581975978053), (71, 0.06334580468218413), (72, 0.05940310075515709), (103, 0.05602454869351825), (111, 0.08056360687311669), (124, 0.0665782397585325), (131, 0.09098220614776903), (217, 0.13014327126494443), (218, 0.14707666165679775), (219, 0.1425038820600952), (220, 0.27491457850702283), ...], [(10, 0.03373914624704608), (11, 0.03916473868965497), (19, 0.05170877386415411), (22, 0.03264826570583768), (24, 0.06186044508432571), (29, 0.047208286451325736), (36, 0.046069979621768835), (45, 0.08087235171979418), (47, 0.024327916938460356), (53, 0.07695369862930257), (56, 0.07980901141908836), (61, 0.028225262619209712), (69, 0.1080672987732272), (112, 0.04557089762967087), (127, 0.09740080300544345), (241, 0.1796469603779444), (242, 0.08992259466649655), (243, 0.11166235358548782), (244, 0.15848012162533082), (245, 0.26548969682262125), ...], [(10, 0.014878436612043862), (11, 0.0690841526047578), (19, 0.022802761770881638), (24, 0.05455898049349969), (30, 0.10243474689030971), (45, 0.071326888352145), (47, 0.08582585164937677), (53, 0.045247172477722745), (56, 0.07038905541794807), (69, 0.09531198228070385), (104, 0.09322197900786375), (112, 0.08038421681121939), (131, 0.13197124641419022), (182, 0.17819993890438107), (185, 0.13080027223004068), (270, 0.18048741343046848), (271, 0.12834700317270165), (277, 0.21653463756000216), (278, 0.15765046010508932), (279, 0.3696012414193431), ...], [(10, 0.03791716652108541), (11, 0.05868616859386632), (22, 0.04892159860155609), (29, 0.1061084619891196), (36, 0.13806657118911214), (53, 0.03843693658103161), (64, 0.07493612378605678), (65, 0.06431446407942601), (91, 0.08587929261825251), (105, 0.3574063109864729), (141, 0.15156836850641137), (145, 0.07800591525639525), (213, 0.12076867033953673), (219, 0.17559286809079885), (222, 0.09905080713055688), (290, 0.17634543810717943), (291, 0.2354304202988956), (292, 0.23747359098140175), (293, 0.21838240905413028), (294, 0.2068871594723075), ...], [(10, 0.01568731468793941), (29, 0.08779964258937602), (37, 0.0889416637703053), (53, 0.04770707110604152), (61, 0.02624717137862027), (64, 0.09300905076906602), (237, 0.1379113333775812), (305, 0.30664896585612444), (306, 0.2833078792717857), (307, 0.20730843748050645), (308, 0.2233412719391391), (309, 0.38969490776368737), (310, 0.2695472861513626), (311, 0.21271630313917306), (312, 0.4204476556771751), (313, 0.20658700960294096), (314, 0.4204476556771751), (315, 0.14264507531499204)], [(10, 0.027389551203659726), (316, 0.7340881994597976), (317, 0.37735752159971553), (318, 0.5638844108421996)], [(18, 0.35789169848754704), (36, 0.13040599539512807), (52, 0.11542397475108049), (92, 0.1830990480525225), (130, 0.19234978763494665), (319, 0.37310009228736857), (320, 0.5931025045589059), (321, 0.2808020052524273), (322, 0.44859490237601146)], ...], y=id\nid15739    EAP\nid19588    EAP\nid11059    EAP\n...   HPL\nName: author, Length: 13051, dtype: object, accept_sparse='csr', dtype='numeric', order=None, copy=False, force_all_finite=True, ensure_2d=True, allow_nd=False, multi_output=False, ensure_min_samples=1, ensure_min_features=1, y_numeric=False, warn_on_dtype=False, estimator=None)\n    568     y_converted : object\n    569         The converted and validated y.\n    570     \"\"\"\n    571     X = check_array(X, accept_sparse, dtype, order, copy, force_all_finite,\n    572                     ensure_2d, allow_nd, ensure_min_samples,\n--> 573                     ensure_min_features, warn_on_dtype, estimator)\n        ensure_min_features = 1\n        warn_on_dtype = False\n        estimator = None\n    574     if multi_output:\n    575         y = check_array(y, 'csr', force_all_finite=True, ensure_2d=False,\n    576                         dtype=None)\n    577     else:\n\n...........................................................................\n/home/bob/.local/lib/python3.6/site-packages/sklearn/utils/validation.py in check_array(array=array([ list([(0, 0.2664714100608566), (1, 0.104...), (11075, 0.41154013028457553)])], dtype=object), accept_sparse='csr', dtype=None, order=None, copy=False, force_all_finite=True, ensure_2d=True, allow_nd=False, ensure_min_samples=1, ensure_min_features=1, warn_on_dtype=False, estimator=None)\n    436             if array.ndim == 1:\n    437                 raise ValueError(\n    438                     \"Expected 2D array, got 1D array instead:\\narray={}.\\n\"\n    439                     \"Reshape your data either using array.reshape(-1, 1) if \"\n    440                     \"your data has a single feature or array.reshape(1, -1) \"\n--> 441                     \"if it contains a single sample.\".format(array))\n        array = array([ list([(0, 0.2664714100608566), (1, 0.104...), (11075, 0.41154013028457553)])], dtype=object)\n    442             array = np.atleast_2d(array)\n    443             # To ensure that array flags are maintained\n    444             array = np.array(array, dtype=dtype, order=order, copy=copy)\n    445 \n\nValueError: Expected 2D array, got 1D array instead:\narray=[ list([(0, 0.2664714100608566), (1, 0.10480362539462479), (2, 0.2604873336049293), (3, 0.2319432706761858), (4, 0.24213524135011738), (5, 0.41116785474457307), (6, 0.39218741029198784), (7, 0.32007681200061067), (8, 0.35974012618542445), (9, 0.3057814279583449), (10, 0.033103432446463785), (11, 0.07685359149299217), (12, 0.19308643986019788), (13, 0.2126248353265933)])\n list([(10, 0.024133907128526488), (11, 0.056029761946444906), (14, 0.2713402113709543), (15, 0.3420085240826053), (16, 0.5718449017195636), (17, 0.2614985439879363), (18, 0.1808821162765368), (19, 0.036987739317106506), (20, 0.42712530611518384), (21, 0.3189304655793621), (22, 0.09341436285112015), (23, 0.27476798475726655), (24, 0.088498637497393)])\n list([(1, 0.07932158066320133), (10, 0.06263658764531839), (14, 0.14084602912179758), (18, 0.09389145710463107), (19, 0.01919942563133236), (22, 0.048489097889497096), (25, 0.2722725986774012), (26, 0.2620800981425273), (27, 0.24487868329638712), (28, 0.2722725986774012), (29, 0.03505679663903942), (30, 0.08624781176709262), (31, 0.07149215764800944), (32, 0.31119614453633054), (33, 0.2729933988114348), (34, 0.1733099699406774), (35, 0.17712329620393766), (36, 0.06842298368233549), (37, 0.1420511395070622), (38, 0.14386314798381059), (39, 0.2050581341267459), (40, 0.23334905281847185), (41, 0.09227646767474229), (42, 0.21187381993571314), (43, 0.3357541677332322), (44, 0.3357541677332322), (45, 0.06005567668474601), (46, 0.10201902211900157)])\n ...,\n list([(11, 0.03483379824389391), (22, 0.05807586817427632), (29, 0.041987869208477496), (145, 0.09260247785729721), (208, 0.1530751157324031), (1037, 0.16584589431194527), (6507, 0.28722118181246425), (8178, 0.3338402944907435), (16710, 0.37272267484996136), (20408, 0.37272267484996136), (20543, 0.37272267484996136), (23339, 0.4021360601237881), (23340, 0.4021360601237881)])\n list([(19, 0.028810064274408482), (24, 0.06893234032603549), (49, 0.13050056185493572), (60, 0.2370797936612917), (65, 0.19131019122706705), (69, 0.12042156837049621), (154, 0.19044775173097933), (237, 0.16525911588786907), (1154, 0.18801448431613588), (3699, 0.28355351691441877), (8329, 0.4085638403294151), (8330, 0.35641827923263075), (11702, 0.44541485037215933), (15323, 0.44541485037215933)])\n list([(11, 0.04032298873683362), (19, 0.02661899933307242), (22, 0.13445519560495678), (24, 0.06368989335423944), (29, 0.048604414750374345), (56, 0.08216926695338246), (61, 0.029059990817433712), (65, 0.08838032786353116), (103, 0.09486488773052526), (104, 0.10882347594433836), (178, 0.14491451149923437), (230, 0.10170684012562291), (360, 0.15235494384947212), (395, 0.363360346899261), (988, 0.17705848089319678), (1512, 0.2984337453903016), (3656, 0.39740876145355286), (3947, 0.3699196063748875), (8512, 0.25681322148061364), (10438, 0.3159541460973265), (11075, 0.41154013028457553)])].\nReshape your data either using array.reshape(-1, 1) if your data has a single feature or array.reshape(1, -1) if it contains a single sample.\n___________________________________________________________________________",
      "\nDuring handling of the above exception, another exception occurred:\n",
      "\u001b[0;31mJoblibValueError\u001b[0m                          Traceback (most recent call last)",
      "\u001b[0;32m<timed eval>\u001b[0m in \u001b[0;36m<module>\u001b[0;34m()\u001b[0m\n",
      "\u001b[0;32m~/.local/lib/python3.6/site-packages/sklearn/model_selection/_validation.py\u001b[0m in \u001b[0;36mcross_val_score\u001b[0;34m(estimator, X, y, groups, scoring, cv, n_jobs, verbose, fit_params, pre_dispatch)\u001b[0m\n\u001b[1;32m    340\u001b[0m                                 \u001b[0mn_jobs\u001b[0m\u001b[0;34m=\u001b[0m\u001b[0mn_jobs\u001b[0m\u001b[0;34m,\u001b[0m \u001b[0mverbose\u001b[0m\u001b[0;34m=\u001b[0m\u001b[0mverbose\u001b[0m\u001b[0;34m,\u001b[0m\u001b[0;34m\u001b[0m\u001b[0m\n\u001b[1;32m    341\u001b[0m                                 \u001b[0mfit_params\u001b[0m\u001b[0;34m=\u001b[0m\u001b[0mfit_params\u001b[0m\u001b[0;34m,\u001b[0m\u001b[0;34m\u001b[0m\u001b[0m\n\u001b[0;32m--> 342\u001b[0;31m                                 pre_dispatch=pre_dispatch)\n\u001b[0m\u001b[1;32m    343\u001b[0m     \u001b[0;32mreturn\u001b[0m \u001b[0mcv_results\u001b[0m\u001b[0;34m[\u001b[0m\u001b[0;34m'test_score'\u001b[0m\u001b[0;34m]\u001b[0m\u001b[0;34m\u001b[0m\u001b[0m\n\u001b[1;32m    344\u001b[0m \u001b[0;34m\u001b[0m\u001b[0m\n",
      "\u001b[0;32m~/.local/lib/python3.6/site-packages/sklearn/model_selection/_validation.py\u001b[0m in \u001b[0;36mcross_validate\u001b[0;34m(estimator, X, y, groups, scoring, cv, n_jobs, verbose, fit_params, pre_dispatch, return_train_score)\u001b[0m\n\u001b[1;32m    204\u001b[0m             \u001b[0mfit_params\u001b[0m\u001b[0;34m,\u001b[0m \u001b[0mreturn_train_score\u001b[0m\u001b[0;34m=\u001b[0m\u001b[0mreturn_train_score\u001b[0m\u001b[0;34m,\u001b[0m\u001b[0;34m\u001b[0m\u001b[0m\n\u001b[1;32m    205\u001b[0m             return_times=True)\n\u001b[0;32m--> 206\u001b[0;31m         for train, test in cv.split(X, y, groups))\n\u001b[0m\u001b[1;32m    207\u001b[0m \u001b[0;34m\u001b[0m\u001b[0m\n\u001b[1;32m    208\u001b[0m     \u001b[0;32mif\u001b[0m \u001b[0mreturn_train_score\u001b[0m\u001b[0;34m:\u001b[0m\u001b[0;34m\u001b[0m\u001b[0m\n",
      "\u001b[0;32m~/.local/lib/python3.6/site-packages/sklearn/externals/joblib/parallel.py\u001b[0m in \u001b[0;36m__call__\u001b[0;34m(self, iterable)\u001b[0m\n\u001b[1;32m    787\u001b[0m                 \u001b[0;31m# consumption.\u001b[0m\u001b[0;34m\u001b[0m\u001b[0;34m\u001b[0m\u001b[0m\n\u001b[1;32m    788\u001b[0m                 \u001b[0mself\u001b[0m\u001b[0;34m.\u001b[0m\u001b[0m_iterating\u001b[0m \u001b[0;34m=\u001b[0m \u001b[0;32mFalse\u001b[0m\u001b[0;34m\u001b[0m\u001b[0m\n\u001b[0;32m--> 789\u001b[0;31m             \u001b[0mself\u001b[0m\u001b[0;34m.\u001b[0m\u001b[0mretrieve\u001b[0m\u001b[0;34m(\u001b[0m\u001b[0;34m)\u001b[0m\u001b[0;34m\u001b[0m\u001b[0m\n\u001b[0m\u001b[1;32m    790\u001b[0m             \u001b[0;31m# Make sure that we get a last message telling us we are done\u001b[0m\u001b[0;34m\u001b[0m\u001b[0;34m\u001b[0m\u001b[0m\n\u001b[1;32m    791\u001b[0m             \u001b[0melapsed_time\u001b[0m \u001b[0;34m=\u001b[0m \u001b[0mtime\u001b[0m\u001b[0;34m.\u001b[0m\u001b[0mtime\u001b[0m\u001b[0;34m(\u001b[0m\u001b[0;34m)\u001b[0m \u001b[0;34m-\u001b[0m \u001b[0mself\u001b[0m\u001b[0;34m.\u001b[0m\u001b[0m_start_time\u001b[0m\u001b[0;34m\u001b[0m\u001b[0m\n",
      "\u001b[0;32m~/.local/lib/python3.6/site-packages/sklearn/externals/joblib/parallel.py\u001b[0m in \u001b[0;36mretrieve\u001b[0;34m(self)\u001b[0m\n\u001b[1;32m    738\u001b[0m                     \u001b[0mexception\u001b[0m \u001b[0;34m=\u001b[0m \u001b[0mexception_type\u001b[0m\u001b[0;34m(\u001b[0m\u001b[0mreport\u001b[0m\u001b[0;34m)\u001b[0m\u001b[0;34m\u001b[0m\u001b[0m\n\u001b[1;32m    739\u001b[0m \u001b[0;34m\u001b[0m\u001b[0m\n\u001b[0;32m--> 740\u001b[0;31m                     \u001b[0;32mraise\u001b[0m \u001b[0mexception\u001b[0m\u001b[0;34m\u001b[0m\u001b[0m\n\u001b[0m\u001b[1;32m    741\u001b[0m \u001b[0;34m\u001b[0m\u001b[0m\n\u001b[1;32m    742\u001b[0m     \u001b[0;32mdef\u001b[0m \u001b[0m__call__\u001b[0m\u001b[0;34m(\u001b[0m\u001b[0mself\u001b[0m\u001b[0;34m,\u001b[0m \u001b[0miterable\u001b[0m\u001b[0;34m)\u001b[0m\u001b[0;34m:\u001b[0m\u001b[0;34m\u001b[0m\u001b[0m\n",
      "\u001b[0;31mJoblibValueError\u001b[0m: JoblibValueError\n___________________________________________________________________________\nMultiprocessing exception:\n...........................................................................\n/usr/lib/python3.6/runpy.py in _run_module_as_main(mod_name='ipykernel_launcher', alter_argv=1)\n    188         sys.exit(msg)\n    189     main_globals = sys.modules[\"__main__\"].__dict__\n    190     if alter_argv:\n    191         sys.argv[0] = mod_spec.origin\n    192     return _run_code(code, main_globals, None,\n--> 193                      \"__main__\", mod_spec)\n        mod_spec = ModuleSpec(name='ipykernel_launcher', loader=<_f...b/python3.6/site-packages/ipykernel_launcher.py')\n    194 \n    195 def run_module(mod_name, init_globals=None,\n    196                run_name=None, alter_sys=False):\n    197     \"\"\"Execute a module's code without importing it\n\n...........................................................................\n/usr/lib/python3.6/runpy.py in _run_code(code=<code object <module> at 0x7f608565f1e0, file \"/...3.6/site-packages/ipykernel_launcher.py\", line 5>, run_globals={'__annotations__': {}, '__builtins__': <module 'builtins' (built-in)>, '__cached__': '/home/bob/.local/lib/python3.6/site-packages/__pycache__/ipykernel_launcher.cpython-36.pyc', '__doc__': 'Entry point for launching an IPython kernel.\\n\\nTh...orts until\\nafter removing the cwd from sys.path.\\n', '__file__': '/home/bob/.local/lib/python3.6/site-packages/ipykernel_launcher.py', '__loader__': <_frozen_importlib_external.SourceFileLoader object>, '__name__': '__main__', '__package__': '', '__spec__': ModuleSpec(name='ipykernel_launcher', loader=<_f...b/python3.6/site-packages/ipykernel_launcher.py'), 'app': <module 'ipykernel.kernelapp' from '/home/bob/.l.../python3.6/site-packages/ipykernel/kernelapp.py'>, ...}, init_globals=None, mod_name='__main__', mod_spec=ModuleSpec(name='ipykernel_launcher', loader=<_f...b/python3.6/site-packages/ipykernel_launcher.py'), pkg_name='', script_name=None)\n     80                        __cached__ = cached,\n     81                        __doc__ = None,\n     82                        __loader__ = loader,\n     83                        __package__ = pkg_name,\n     84                        __spec__ = mod_spec)\n---> 85     exec(code, run_globals)\n        code = <code object <module> at 0x7f608565f1e0, file \"/...3.6/site-packages/ipykernel_launcher.py\", line 5>\n        run_globals = {'__annotations__': {}, '__builtins__': <module 'builtins' (built-in)>, '__cached__': '/home/bob/.local/lib/python3.6/site-packages/__pycache__/ipykernel_launcher.cpython-36.pyc', '__doc__': 'Entry point for launching an IPython kernel.\\n\\nTh...orts until\\nafter removing the cwd from sys.path.\\n', '__file__': '/home/bob/.local/lib/python3.6/site-packages/ipykernel_launcher.py', '__loader__': <_frozen_importlib_external.SourceFileLoader object>, '__name__': '__main__', '__package__': '', '__spec__': ModuleSpec(name='ipykernel_launcher', loader=<_f...b/python3.6/site-packages/ipykernel_launcher.py'), 'app': <module 'ipykernel.kernelapp' from '/home/bob/.l.../python3.6/site-packages/ipykernel/kernelapp.py'>, ...}\n     86     return run_globals\n     87 \n     88 def _run_module_code(code, init_globals=None,\n     89                     mod_name=None, mod_spec=None,\n\n...........................................................................\n/home/bob/.local/lib/python3.6/site-packages/ipykernel_launcher.py in <module>()\n     11     # This is added back by InteractiveShellApp.init_path()\n     12     if sys.path[0] == '':\n     13         del sys.path[0]\n     14 \n     15     from ipykernel import kernelapp as app\n---> 16     app.launch_new_instance()\n\n...........................................................................\n/home/bob/.local/lib/python3.6/site-packages/traitlets/config/application.py in launch_instance(cls=<class 'ipykernel.kernelapp.IPKernelApp'>, argv=None, **kwargs={})\n    653 \n    654         If a global instance already exists, this reinitializes and starts it\n    655         \"\"\"\n    656         app = cls.instance(**kwargs)\n    657         app.initialize(argv)\n--> 658         app.start()\n        app.start = <bound method IPKernelApp.start of <ipykernel.kernelapp.IPKernelApp object>>\n    659 \n    660 #-----------------------------------------------------------------------------\n    661 # utility functions, for convenience\n    662 #-----------------------------------------------------------------------------\n\n...........................................................................\n/home/bob/.local/lib/python3.6/site-packages/ipykernel/kernelapp.py in start(self=<ipykernel.kernelapp.IPKernelApp object>)\n    473         if self.poller is not None:\n    474             self.poller.start()\n    475         self.kernel.start()\n    476         self.io_loop = ioloop.IOLoop.current()\n    477         try:\n--> 478             self.io_loop.start()\n        self.io_loop.start = <bound method ZMQIOLoop.start of <zmq.eventloop.ioloop.ZMQIOLoop object>>\n    479         except KeyboardInterrupt:\n    480             pass\n    481 \n    482 launch_new_instance = IPKernelApp.launch_instance\n\n...........................................................................\n/home/bob/.local/lib/python3.6/site-packages/zmq/eventloop/ioloop.py in start(self=<zmq.eventloop.ioloop.ZMQIOLoop object>)\n    172             )\n    173         return loop\n    174     \n    175     def start(self):\n    176         try:\n--> 177             super(ZMQIOLoop, self).start()\n        self.start = <bound method ZMQIOLoop.start of <zmq.eventloop.ioloop.ZMQIOLoop object>>\n    178         except ZMQError as e:\n    179             if e.errno == ETERM:\n    180                 # quietly return on ETERM\n    181                 pass\n\n...........................................................................\n/home/bob/.local/lib/python3.6/site-packages/tornado/ioloop.py in start(self=<zmq.eventloop.ioloop.ZMQIOLoop object>)\n    883                 self._events.update(event_pairs)\n    884                 while self._events:\n    885                     fd, events = self._events.popitem()\n    886                     try:\n    887                         fd_obj, handler_func = self._handlers[fd]\n--> 888                         handler_func(fd_obj, events)\n        handler_func = <function wrap.<locals>.null_wrapper>\n        fd_obj = <zmq.sugar.socket.Socket object>\n        events = 1\n    889                     except (OSError, IOError) as e:\n    890                         if errno_from_exception(e) == errno.EPIPE:\n    891                             # Happens when the client closes the connection\n    892                             pass\n\n...........................................................................\n/home/bob/.local/lib/python3.6/site-packages/tornado/stack_context.py in null_wrapper(*args=(<zmq.sugar.socket.Socket object>, 1), **kwargs={})\n    272         # Fast path when there are no active contexts.\n    273         def null_wrapper(*args, **kwargs):\n    274             try:\n    275                 current_state = _state.contexts\n    276                 _state.contexts = cap_contexts[0]\n--> 277                 return fn(*args, **kwargs)\n        args = (<zmq.sugar.socket.Socket object>, 1)\n        kwargs = {}\n    278             finally:\n    279                 _state.contexts = current_state\n    280         null_wrapper._wrapped = True\n    281         return null_wrapper\n\n...........................................................................\n/home/bob/.local/lib/python3.6/site-packages/zmq/eventloop/zmqstream.py in _handle_events(self=<zmq.eventloop.zmqstream.ZMQStream object>, fd=<zmq.sugar.socket.Socket object>, events=1)\n    435             # dispatch events:\n    436             if events & IOLoop.ERROR:\n    437                 gen_log.error(\"got POLLERR event on ZMQStream, which doesn't make sense\")\n    438                 return\n    439             if events & IOLoop.READ:\n--> 440                 self._handle_recv()\n        self._handle_recv = <bound method ZMQStream._handle_recv of <zmq.eventloop.zmqstream.ZMQStream object>>\n    441                 if not self.socket:\n    442                     return\n    443             if events & IOLoop.WRITE:\n    444                 self._handle_send()\n\n...........................................................................\n/home/bob/.local/lib/python3.6/site-packages/zmq/eventloop/zmqstream.py in _handle_recv(self=<zmq.eventloop.zmqstream.ZMQStream object>)\n    467                 gen_log.error(\"RECV Error: %s\"%zmq.strerror(e.errno))\n    468         else:\n    469             if self._recv_callback:\n    470                 callback = self._recv_callback\n    471                 # self._recv_callback = None\n--> 472                 self._run_callback(callback, msg)\n        self._run_callback = <bound method ZMQStream._run_callback of <zmq.eventloop.zmqstream.ZMQStream object>>\n        callback = <function wrap.<locals>.null_wrapper>\n        msg = [<zmq.sugar.frame.Frame object>, <zmq.sugar.frame.Frame object>, <zmq.sugar.frame.Frame object>, <zmq.sugar.frame.Frame object>, <zmq.sugar.frame.Frame object>, <zmq.sugar.frame.Frame object>, <zmq.sugar.frame.Frame object>]\n    473                 \n    474         # self.update_state()\n    475         \n    476 \n\n...........................................................................\n/home/bob/.local/lib/python3.6/site-packages/zmq/eventloop/zmqstream.py in _run_callback(self=<zmq.eventloop.zmqstream.ZMQStream object>, callback=<function wrap.<locals>.null_wrapper>, *args=([<zmq.sugar.frame.Frame object>, <zmq.sugar.frame.Frame object>, <zmq.sugar.frame.Frame object>, <zmq.sugar.frame.Frame object>, <zmq.sugar.frame.Frame object>, <zmq.sugar.frame.Frame object>, <zmq.sugar.frame.Frame object>],), **kwargs={})\n    409         close our socket.\"\"\"\n    410         try:\n    411             # Use a NullContext to ensure that all StackContexts are run\n    412             # inside our blanket exception handler rather than outside.\n    413             with stack_context.NullContext():\n--> 414                 callback(*args, **kwargs)\n        callback = <function wrap.<locals>.null_wrapper>\n        args = ([<zmq.sugar.frame.Frame object>, <zmq.sugar.frame.Frame object>, <zmq.sugar.frame.Frame object>, <zmq.sugar.frame.Frame object>, <zmq.sugar.frame.Frame object>, <zmq.sugar.frame.Frame object>, <zmq.sugar.frame.Frame object>],)\n        kwargs = {}\n    415         except:\n    416             gen_log.error(\"Uncaught exception, closing connection.\",\n    417                           exc_info=True)\n    418             # Close the socket on an uncaught exception from a user callback\n\n...........................................................................\n/home/bob/.local/lib/python3.6/site-packages/tornado/stack_context.py in null_wrapper(*args=([<zmq.sugar.frame.Frame object>, <zmq.sugar.frame.Frame object>, <zmq.sugar.frame.Frame object>, <zmq.sugar.frame.Frame object>, <zmq.sugar.frame.Frame object>, <zmq.sugar.frame.Frame object>, <zmq.sugar.frame.Frame object>],), **kwargs={})\n    272         # Fast path when there are no active contexts.\n    273         def null_wrapper(*args, **kwargs):\n    274             try:\n    275                 current_state = _state.contexts\n    276                 _state.contexts = cap_contexts[0]\n--> 277                 return fn(*args, **kwargs)\n        args = ([<zmq.sugar.frame.Frame object>, <zmq.sugar.frame.Frame object>, <zmq.sugar.frame.Frame object>, <zmq.sugar.frame.Frame object>, <zmq.sugar.frame.Frame object>, <zmq.sugar.frame.Frame object>, <zmq.sugar.frame.Frame object>],)\n        kwargs = {}\n    278             finally:\n    279                 _state.contexts = current_state\n    280         null_wrapper._wrapped = True\n    281         return null_wrapper\n\n...........................................................................\n/home/bob/.local/lib/python3.6/site-packages/ipykernel/kernelbase.py in dispatcher(msg=[<zmq.sugar.frame.Frame object>, <zmq.sugar.frame.Frame object>, <zmq.sugar.frame.Frame object>, <zmq.sugar.frame.Frame object>, <zmq.sugar.frame.Frame object>, <zmq.sugar.frame.Frame object>, <zmq.sugar.frame.Frame object>])\n    276         if self.control_stream:\n    277             self.control_stream.on_recv(self.dispatch_control, copy=False)\n    278 \n    279         def make_dispatcher(stream):\n    280             def dispatcher(msg):\n--> 281                 return self.dispatch_shell(stream, msg)\n        msg = [<zmq.sugar.frame.Frame object>, <zmq.sugar.frame.Frame object>, <zmq.sugar.frame.Frame object>, <zmq.sugar.frame.Frame object>, <zmq.sugar.frame.Frame object>, <zmq.sugar.frame.Frame object>, <zmq.sugar.frame.Frame object>]\n    282             return dispatcher\n    283 \n    284         for s in self.shell_streams:\n    285             s.on_recv(make_dispatcher(s), copy=False)\n\n...........................................................................\n/home/bob/.local/lib/python3.6/site-packages/ipykernel/kernelbase.py in dispatch_shell(self=<ipykernel.ipkernel.IPythonKernel object>, stream=<zmq.eventloop.zmqstream.ZMQStream object>, msg={'buffers': [], 'content': {'allow_stdin': True, 'code': \"%%time\\nprint(cross_val_score(pipeline, train.tex...         cv=3, n_jobs=3, scoring='neg_log_loss'))\", 'silent': False, 'stop_on_error': True, 'store_history': True, 'user_expressions': {}}, 'header': {'date': datetime.datetime(2018, 1, 3, 14, 40, 37, 109981, tzinfo=tzutc()), 'msg_id': '8D23B63CFDE24DCC8A42E9FBCF10A1A6', 'msg_type': 'execute_request', 'session': '512E4502520F4C58B500E845BCAB949B', 'username': 'username', 'version': '5.0'}, 'metadata': {}, 'msg_id': '8D23B63CFDE24DCC8A42E9FBCF10A1A6', 'msg_type': 'execute_request', 'parent_header': {}})\n    227             self.log.warn(\"Unknown message type: %r\", msg_type)\n    228         else:\n    229             self.log.debug(\"%s: %s\", msg_type, msg)\n    230             self.pre_handler_hook()\n    231             try:\n--> 232                 handler(stream, idents, msg)\n        handler = <bound method Kernel.execute_request of <ipykernel.ipkernel.IPythonKernel object>>\n        stream = <zmq.eventloop.zmqstream.ZMQStream object>\n        idents = [b'512E4502520F4C58B500E845BCAB949B']\n        msg = {'buffers': [], 'content': {'allow_stdin': True, 'code': \"%%time\\nprint(cross_val_score(pipeline, train.tex...         cv=3, n_jobs=3, scoring='neg_log_loss'))\", 'silent': False, 'stop_on_error': True, 'store_history': True, 'user_expressions': {}}, 'header': {'date': datetime.datetime(2018, 1, 3, 14, 40, 37, 109981, tzinfo=tzutc()), 'msg_id': '8D23B63CFDE24DCC8A42E9FBCF10A1A6', 'msg_type': 'execute_request', 'session': '512E4502520F4C58B500E845BCAB949B', 'username': 'username', 'version': '5.0'}, 'metadata': {}, 'msg_id': '8D23B63CFDE24DCC8A42E9FBCF10A1A6', 'msg_type': 'execute_request', 'parent_header': {}}\n    233             except Exception:\n    234                 self.log.error(\"Exception in message handler:\", exc_info=True)\n    235             finally:\n    236                 self.post_handler_hook()\n\n...........................................................................\n/home/bob/.local/lib/python3.6/site-packages/ipykernel/kernelbase.py in execute_request(self=<ipykernel.ipkernel.IPythonKernel object>, stream=<zmq.eventloop.zmqstream.ZMQStream object>, ident=[b'512E4502520F4C58B500E845BCAB949B'], parent={'buffers': [], 'content': {'allow_stdin': True, 'code': \"%%time\\nprint(cross_val_score(pipeline, train.tex...         cv=3, n_jobs=3, scoring='neg_log_loss'))\", 'silent': False, 'stop_on_error': True, 'store_history': True, 'user_expressions': {}}, 'header': {'date': datetime.datetime(2018, 1, 3, 14, 40, 37, 109981, tzinfo=tzutc()), 'msg_id': '8D23B63CFDE24DCC8A42E9FBCF10A1A6', 'msg_type': 'execute_request', 'session': '512E4502520F4C58B500E845BCAB949B', 'username': 'username', 'version': '5.0'}, 'metadata': {}, 'msg_id': '8D23B63CFDE24DCC8A42E9FBCF10A1A6', 'msg_type': 'execute_request', 'parent_header': {}})\n    392         if not silent:\n    393             self.execution_count += 1\n    394             self._publish_execute_input(code, parent, self.execution_count)\n    395 \n    396         reply_content = self.do_execute(code, silent, store_history,\n--> 397                                         user_expressions, allow_stdin)\n        user_expressions = {}\n        allow_stdin = True\n    398 \n    399         # Flush output before sending the reply.\n    400         sys.stdout.flush()\n    401         sys.stderr.flush()\n\n...........................................................................\n/home/bob/.local/lib/python3.6/site-packages/ipykernel/ipkernel.py in do_execute(self=<ipykernel.ipkernel.IPythonKernel object>, code=\"%%time\\nprint(cross_val_score(pipeline, train.tex...         cv=3, n_jobs=3, scoring='neg_log_loss'))\", silent=False, store_history=True, user_expressions={}, allow_stdin=True)\n    203 \n    204         self._forward_input(allow_stdin)\n    205 \n    206         reply_content = {}\n    207         try:\n--> 208             res = shell.run_cell(code, store_history=store_history, silent=silent)\n        res = undefined\n        shell.run_cell = <bound method ZMQInteractiveShell.run_cell of <ipykernel.zmqshell.ZMQInteractiveShell object>>\n        code = \"%%time\\nprint(cross_val_score(pipeline, train.tex...         cv=3, n_jobs=3, scoring='neg_log_loss'))\"\n        store_history = True\n        silent = False\n    209         finally:\n    210             self._restore_input()\n    211 \n    212         if res.error_before_exec is not None:\n\n...........................................................................\n/home/bob/.local/lib/python3.6/site-packages/ipykernel/zmqshell.py in run_cell(self=<ipykernel.zmqshell.ZMQInteractiveShell object>, *args=(\"%%time\\nprint(cross_val_score(pipeline, train.tex...         cv=3, n_jobs=3, scoring='neg_log_loss'))\",), **kwargs={'silent': False, 'store_history': True})\n    528             )\n    529         self.payload_manager.write_payload(payload)\n    530 \n    531     def run_cell(self, *args, **kwargs):\n    532         self._last_traceback = None\n--> 533         return super(ZMQInteractiveShell, self).run_cell(*args, **kwargs)\n        self.run_cell = <bound method ZMQInteractiveShell.run_cell of <ipykernel.zmqshell.ZMQInteractiveShell object>>\n        args = (\"%%time\\nprint(cross_val_score(pipeline, train.tex...         cv=3, n_jobs=3, scoring='neg_log_loss'))\",)\n        kwargs = {'silent': False, 'store_history': True}\n    534 \n    535     def _showtraceback(self, etype, evalue, stb):\n    536         # try to preserve ordering of tracebacks and print statements\n    537         sys.stdout.flush()\n\n...........................................................................\n/home/bob/.local/lib/python3.6/site-packages/IPython/core/interactiveshell.py in run_cell(self=<ipykernel.zmqshell.ZMQInteractiveShell object>, raw_cell=\"%%time\\nprint(cross_val_score(pipeline, train.tex...         cv=3, n_jobs=3, scoring='neg_log_loss'))\", store_history=True, silent=False, shell_futures=True)\n   2723                 self.displayhook.exec_result = result\n   2724 \n   2725                 # Execute the user code\n   2726                 interactivity = \"none\" if silent else self.ast_node_interactivity\n   2727                 has_raised = self.run_ast_nodes(code_ast.body, cell_name,\n-> 2728                    interactivity=interactivity, compiler=compiler, result=result)\n        interactivity = 'last_expr'\n        compiler = <IPython.core.compilerop.CachingCompiler object>\n   2729                 \n   2730                 self.last_execution_succeeded = not has_raised\n   2731                 self.last_execution_result = result\n   2732 \n\n...........................................................................\n/home/bob/.local/lib/python3.6/site-packages/IPython/core/interactiveshell.py in run_ast_nodes(self=<ipykernel.zmqshell.ZMQInteractiveShell object>, nodelist=[<_ast.Expr object>], cell_name='<ipython-input-118-3fa43c63eb93>', interactivity='last', compiler=<IPython.core.compilerop.CachingCompiler object>, result=<ExecutionResult object at 7f602820e198, executi..._before_exec=None error_in_exec=None result=None>)\n   2851                     return True\n   2852 \n   2853             for i, node in enumerate(to_run_interactive):\n   2854                 mod = ast.Interactive([node])\n   2855                 code = compiler(mod, cell_name, \"single\")\n-> 2856                 if self.run_code(code, result):\n        self.run_code = <bound method InteractiveShell.run_code of <ipykernel.zmqshell.ZMQInteractiveShell object>>\n        code = <code object <module> at 0x7f6026d6aed0, file \"<ipython-input-118-3fa43c63eb93>\", line 1>\n        result = <ExecutionResult object at 7f602820e198, executi..._before_exec=None error_in_exec=None result=None>\n   2857                     return True\n   2858 \n   2859             # Flush softspace\n   2860             if softspace(sys.stdout, 0):\n\n...........................................................................\n/home/bob/.local/lib/python3.6/site-packages/IPython/core/interactiveshell.py in run_code(self=<ipykernel.zmqshell.ZMQInteractiveShell object>, code_obj=<code object <module> at 0x7f6026d6aed0, file \"<ipython-input-118-3fa43c63eb93>\", line 1>, result=<ExecutionResult object at 7f602820e198, executi..._before_exec=None error_in_exec=None result=None>)\n   2905         outflag = True  # happens in more places, so it's easier as default\n   2906         try:\n   2907             try:\n   2908                 self.hooks.pre_run_code_hook()\n   2909                 #rprint('Running code', repr(code_obj)) # dbg\n-> 2910                 exec(code_obj, self.user_global_ns, self.user_ns)\n        code_obj = <code object <module> at 0x7f6026d6aed0, file \"<ipython-input-118-3fa43c63eb93>\", line 1>\n        self.user_global_ns = {'Adam': <class 'keras.optimizers.Adam'>, 'CUSTOM_FILTERS': [<function strip_punctuation>, <function remove_stopwords>], 'Concatenate': <class 'keras.layers.merge.Concatenate'>, 'Conv2D': <class 'keras.layers.convolutional.Conv2D'>, 'CountVectorizer': <class 'sklearn.feature_extraction.text.CountVectorizer'>, 'Dense': <class 'keras.layers.core.Dense'>, 'Dropout': <class 'keras.layers.core.Dropout'>, 'FILENAME': 'processed_texts.pickle', 'HashingVectorizer': <class 'sklearn.feature_extraction.text.HashingVectorizer'>, 'In': ['', \"# corpus = [dictionary.doc2bow(text) for text in...k\\ncorpus = corpora.mmcorpus.MmCorpus('spooky.mm')\", \"import numpy as np\\nimport matplotlib.pyplot as p...lib', 'inline')\\n\\npd.options.display.max_rows = 10\", '# Dataset\\n\\n# use this if in fmi-hw... repo\\n# tra...pe)\\nprint(set(train.columns) - set(test.columns))', 'train.head(5)', 'from sklearn.pipeline import Pipeline\\nfrom sklea...om sklearn.model_selection import cross_val_score', \"pipeline = Pipeline([\\n    ('features', CountVect...peline, train.text, train.author, cv=3, n_jobs=3)\", 'from sklearn.model_selection import cross_val_pr...peline, train.text, train.author, cv=3, n_jobs=3)', \"import itertools\\nfrom sklearn.metrics import con...l('True label')\\n    plt.xlabel('Predicted label')\", 'pipeline.fit(train.text, train.author)\\nauthors =...matrix(train.author, prediction, classes=authors)', 'plot_confusion_matrix(train.author, prediction, classes=authors, normalize=True)', \"from sklearn.ensemble import RandomForestClassif...         cv=3, n_jobs=3, scoring='neg_log_loss'))\", \"from sklearn.linear_model import LogisticRegress...log_loss'))\\n\\n# Получихме малко по-добри резултати\", 'explore = train.copy()', \"# # бр. думи в текста\\n# explore['words'] = explo... sum([c in string.punctuation for c in str(s)]) )\", \"import nltk\\n# nltk.download('stopwords')\\nstopwords = nltk.corpus.stopwords.words('english')\", \"import nltk\\nnltk.download('stopwords')\\nstopwords = nltk.corpus.stopwords.words('english')\", \"import nltk\\n# nltk.download('stopwords')\\nstopwords = nltk.corpus.stopwords.words('english')\", \"# features_names = list(set(explore.columns) - {...or'})\\n# print('numeric features', features_names)\", \"from nltk.stem import WordNetLemmatizer\\nfrom nlt....split()])) \\n\\nexplore[['stemmed', 'text']].head()\", ...], ...}\n        self.user_ns = {'Adam': <class 'keras.optimizers.Adam'>, 'CUSTOM_FILTERS': [<function strip_punctuation>, <function remove_stopwords>], 'Concatenate': <class 'keras.layers.merge.Concatenate'>, 'Conv2D': <class 'keras.layers.convolutional.Conv2D'>, 'CountVectorizer': <class 'sklearn.feature_extraction.text.CountVectorizer'>, 'Dense': <class 'keras.layers.core.Dense'>, 'Dropout': <class 'keras.layers.core.Dropout'>, 'FILENAME': 'processed_texts.pickle', 'HashingVectorizer': <class 'sklearn.feature_extraction.text.HashingVectorizer'>, 'In': ['', \"# corpus = [dictionary.doc2bow(text) for text in...k\\ncorpus = corpora.mmcorpus.MmCorpus('spooky.mm')\", \"import numpy as np\\nimport matplotlib.pyplot as p...lib', 'inline')\\n\\npd.options.display.max_rows = 10\", '# Dataset\\n\\n# use this if in fmi-hw... repo\\n# tra...pe)\\nprint(set(train.columns) - set(test.columns))', 'train.head(5)', 'from sklearn.pipeline import Pipeline\\nfrom sklea...om sklearn.model_selection import cross_val_score', \"pipeline = Pipeline([\\n    ('features', CountVect...peline, train.text, train.author, cv=3, n_jobs=3)\", 'from sklearn.model_selection import cross_val_pr...peline, train.text, train.author, cv=3, n_jobs=3)', \"import itertools\\nfrom sklearn.metrics import con...l('True label')\\n    plt.xlabel('Predicted label')\", 'pipeline.fit(train.text, train.author)\\nauthors =...matrix(train.author, prediction, classes=authors)', 'plot_confusion_matrix(train.author, prediction, classes=authors, normalize=True)', \"from sklearn.ensemble import RandomForestClassif...         cv=3, n_jobs=3, scoring='neg_log_loss'))\", \"from sklearn.linear_model import LogisticRegress...log_loss'))\\n\\n# Получихме малко по-добри резултати\", 'explore = train.copy()', \"# # бр. думи в текста\\n# explore['words'] = explo... sum([c in string.punctuation for c in str(s)]) )\", \"import nltk\\n# nltk.download('stopwords')\\nstopwords = nltk.corpus.stopwords.words('english')\", \"import nltk\\nnltk.download('stopwords')\\nstopwords = nltk.corpus.stopwords.words('english')\", \"import nltk\\n# nltk.download('stopwords')\\nstopwords = nltk.corpus.stopwords.words('english')\", \"# features_names = list(set(explore.columns) - {...or'})\\n# print('numeric features', features_names)\", \"from nltk.stem import WordNetLemmatizer\\nfrom nlt....split()])) \\n\\nexplore[['stemmed', 'text']].head()\", ...], ...}\n   2911             finally:\n   2912                 # Reset our crash handler in place\n   2913                 sys.excepthook = old_excepthook\n   2914         except SystemExit as e:\n\n...........................................................................\n/home/bob/gits/spooky/<ipython-input-118-3fa43c63eb93> in <module>()\n----> 1 get_ipython().run_cell_magic('time', '', \"print(cross_val_score(pipeline, train.text, train.author, \\n                cv=3, n_jobs=3, scoring='neg_log_loss'))\")\n\n...........................................................................\n/home/bob/.local/lib/python3.6/site-packages/IPython/core/interactiveshell.py in run_cell_magic(self=<ipykernel.zmqshell.ZMQInteractiveShell object>, magic_name='time', line='', cell=\"print(cross_val_score(pipeline, train.text, trai...         cv=3, n_jobs=3, scoring='neg_log_loss'))\")\n   2126             # This will need to be updated if the internal calling logic gets\n   2127             # refactored, or else we'll be expanding the wrong variables.\n   2128             stack_depth = 2\n   2129             magic_arg_s = self.var_expand(line, stack_depth)\n   2130             with self.builtin_trap:\n-> 2131                 result = fn(magic_arg_s, cell)\n        result = undefined\n        fn = <bound method ExecutionMagics.time of <IPython.core.magics.execution.ExecutionMagics object>>\n        magic_arg_s = ''\n        cell = \"print(cross_val_score(pipeline, train.text, trai...         cv=3, n_jobs=3, scoring='neg_log_loss'))\"\n   2132             return result\n   2133 \n   2134     def find_line_magic(self, magic_name):\n   2135         \"\"\"Find and return a line magic by name.\n\n...........................................................................\n/home/bob/gits/spooky/<decorator-gen-62> in time(self=<IPython.core.magics.execution.ExecutionMagics object>, line='', cell=\"print(cross_val_score(pipeline, train.text, trai...         cv=3, n_jobs=3, scoring='neg_log_loss'))\", local_ns=None)\n\n...........................................................................\n/home/bob/.local/lib/python3.6/site-packages/IPython/core/magic.py in <lambda>(f=<function ExecutionMagics.time>, *a=(<IPython.core.magics.execution.ExecutionMagics object>, '', \"print(cross_val_score(pipeline, train.text, trai...         cv=3, n_jobs=3, scoring='neg_log_loss'))\", None), **k={})\n    182     validate_type(magic_kind)\n    183 \n    184     # This is a closure to capture the magic_kind.  We could also use a class,\n    185     # but it's overkill for just that one bit of state.\n    186     def magic_deco(arg):\n--> 187         call = lambda f, *a, **k: f(*a, **k)\n        f = <function ExecutionMagics.time>\n        a = (<IPython.core.magics.execution.ExecutionMagics object>, '', \"print(cross_val_score(pipeline, train.text, trai...         cv=3, n_jobs=3, scoring='neg_log_loss'))\", None)\n        k = {}\n    188 \n    189         if callable(arg):\n    190             # \"Naked\" decorator call (just @foo, no args)\n    191             func = arg\n\n...........................................................................\n/home/bob/.local/lib/python3.6/site-packages/IPython/core/magics/execution.py in time(self=<IPython.core.magics.execution.ExecutionMagics object>, line='', cell=\"print(cross_val_score(pipeline, train.text, trai...         cv=3, n_jobs=3, scoring='neg_log_loss'))\", local_ns=None)\n   1225         # time execution\n   1226         wall_st = wtime()\n   1227         if mode=='eval':\n   1228             st = clock2()\n   1229             try:\n-> 1230                 out = eval(code, glob, local_ns)\n        out = undefined\n        code = <code object <module> at 0x7f6025716ed0, file \"<timed eval>\", line 1>\n        glob = {'Adam': <class 'keras.optimizers.Adam'>, 'CUSTOM_FILTERS': [<function strip_punctuation>, <function remove_stopwords>], 'Concatenate': <class 'keras.layers.merge.Concatenate'>, 'Conv2D': <class 'keras.layers.convolutional.Conv2D'>, 'CountVectorizer': <class 'sklearn.feature_extraction.text.CountVectorizer'>, 'Dense': <class 'keras.layers.core.Dense'>, 'Dropout': <class 'keras.layers.core.Dropout'>, 'FILENAME': 'processed_texts.pickle', 'HashingVectorizer': <class 'sklearn.feature_extraction.text.HashingVectorizer'>, 'In': ['', \"# corpus = [dictionary.doc2bow(text) for text in...k\\ncorpus = corpora.mmcorpus.MmCorpus('spooky.mm')\", \"import numpy as np\\nimport matplotlib.pyplot as p...lib', 'inline')\\n\\npd.options.display.max_rows = 10\", '# Dataset\\n\\n# use this if in fmi-hw... repo\\n# tra...pe)\\nprint(set(train.columns) - set(test.columns))', 'train.head(5)', 'from sklearn.pipeline import Pipeline\\nfrom sklea...om sklearn.model_selection import cross_val_score', \"pipeline = Pipeline([\\n    ('features', CountVect...peline, train.text, train.author, cv=3, n_jobs=3)\", 'from sklearn.model_selection import cross_val_pr...peline, train.text, train.author, cv=3, n_jobs=3)', \"import itertools\\nfrom sklearn.metrics import con...l('True label')\\n    plt.xlabel('Predicted label')\", 'pipeline.fit(train.text, train.author)\\nauthors =...matrix(train.author, prediction, classes=authors)', 'plot_confusion_matrix(train.author, prediction, classes=authors, normalize=True)', \"from sklearn.ensemble import RandomForestClassif...         cv=3, n_jobs=3, scoring='neg_log_loss'))\", \"from sklearn.linear_model import LogisticRegress...log_loss'))\\n\\n# Получихме малко по-добри резултати\", 'explore = train.copy()', \"# # бр. думи в текста\\n# explore['words'] = explo... sum([c in string.punctuation for c in str(s)]) )\", \"import nltk\\n# nltk.download('stopwords')\\nstopwords = nltk.corpus.stopwords.words('english')\", \"import nltk\\nnltk.download('stopwords')\\nstopwords = nltk.corpus.stopwords.words('english')\", \"import nltk\\n# nltk.download('stopwords')\\nstopwords = nltk.corpus.stopwords.words('english')\", \"# features_names = list(set(explore.columns) - {...or'})\\n# print('numeric features', features_names)\", \"from nltk.stem import WordNetLemmatizer\\nfrom nlt....split()])) \\n\\nexplore[['stemmed', 'text']].head()\", ...], ...}\n        local_ns = None\n   1231             except:\n   1232                 self.shell.showtraceback()\n   1233                 return\n   1234             end = clock2()\n\n...........................................................................\n/home/bob/gits/spooky/<timed eval> in <module>()\n\n...........................................................................\n/home/bob/.local/lib/python3.6/site-packages/sklearn/model_selection/_validation.py in cross_val_score(estimator=Pipeline(memory=None,\n     steps=[('bow', Text2B...B(alpha=1.0, class_prior=None, fit_prior=True))]), X=id\nid26305    This process, however, afforded me...d it ...\nName: text, Length: 19579, dtype: object, y=id\nid26305    EAP\nid17569    HPL\nid11008    EAP\n...   HPL\nName: author, Length: 19579, dtype: object, groups=None, scoring='neg_log_loss', cv=3, n_jobs=3, verbose=0, fit_params=None, pre_dispatch='2*n_jobs')\n    337     cv_results = cross_validate(estimator=estimator, X=X, y=y, groups=groups,\n    338                                 scoring={'score': scorer}, cv=cv,\n    339                                 return_train_score=False,\n    340                                 n_jobs=n_jobs, verbose=verbose,\n    341                                 fit_params=fit_params,\n--> 342                                 pre_dispatch=pre_dispatch)\n        pre_dispatch = '2*n_jobs'\n    343     return cv_results['test_score']\n    344 \n    345 \n    346 def _fit_and_score(estimator, X, y, scorer, train, test, verbose,\n\n...........................................................................\n/home/bob/.local/lib/python3.6/site-packages/sklearn/model_selection/_validation.py in cross_validate(estimator=Pipeline(memory=None,\n     steps=[('bow', Text2B...B(alpha=1.0, class_prior=None, fit_prior=True))]), X=id\nid26305    This process, however, afforded me...d it ...\nName: text, Length: 19579, dtype: object, y=id\nid26305    EAP\nid17569    HPL\nid11008    EAP\n...   HPL\nName: author, Length: 19579, dtype: object, groups=None, scoring={'score': make_scorer(log_loss, greater_is_better=False, needs_proba=True)}, cv=StratifiedKFold(n_splits=3, random_state=None, shuffle=False), n_jobs=3, verbose=0, fit_params=None, pre_dispatch='2*n_jobs', return_train_score=False)\n    201     scores = parallel(\n    202         delayed(_fit_and_score)(\n    203             clone(estimator), X, y, scorers, train, test, verbose, None,\n    204             fit_params, return_train_score=return_train_score,\n    205             return_times=True)\n--> 206         for train, test in cv.split(X, y, groups))\n        cv.split = <bound method StratifiedKFold.split of Stratifie...ld(n_splits=3, random_state=None, shuffle=False)>\n        X = id\nid26305    This process, however, afforded me...d it ...\nName: text, Length: 19579, dtype: object\n        y = id\nid26305    EAP\nid17569    HPL\nid11008    EAP\n...   HPL\nName: author, Length: 19579, dtype: object\n        groups = None\n    207 \n    208     if return_train_score:\n    209         train_scores, test_scores, fit_times, score_times = zip(*scores)\n    210         train_scores = _aggregate_score_dicts(train_scores)\n\n...........................................................................\n/home/bob/.local/lib/python3.6/site-packages/sklearn/externals/joblib/parallel.py in __call__(self=Parallel(n_jobs=3), iterable=<generator object cross_validate.<locals>.<genexpr>>)\n    784             if pre_dispatch == \"all\" or n_jobs == 1:\n    785                 # The iterable was consumed all at once by the above for loop.\n    786                 # No need to wait for async callbacks to trigger to\n    787                 # consumption.\n    788                 self._iterating = False\n--> 789             self.retrieve()\n        self.retrieve = <bound method Parallel.retrieve of Parallel(n_jobs=3)>\n    790             # Make sure that we get a last message telling us we are done\n    791             elapsed_time = time.time() - self._start_time\n    792             self._print('Done %3i out of %3i | elapsed: %s finished',\n    793                         (len(self._output), len(self._output),\n\n---------------------------------------------------------------------------\nSub-process traceback:\n---------------------------------------------------------------------------\nValueError                                         Wed Jan  3 06:40:41 2018\nPID: 18886                                   Python 3.6.3: /usr/bin/python3\n...........................................................................\n/home/bob/.local/lib/python3.6/site-packages/sklearn/externals/joblib/parallel.py in __call__(self=<sklearn.externals.joblib.parallel.BatchedCalls object>)\n    126     def __init__(self, iterator_slice):\n    127         self.items = list(iterator_slice)\n    128         self._size = len(self.items)\n    129 \n    130     def __call__(self):\n--> 131         return [func(*args, **kwargs) for func, args, kwargs in self.items]\n        self.items = [(<function _fit_and_score>, (Pipeline(memory=None,\n     steps=[('bow', Text2B...B(alpha=1.0, class_prior=None, fit_prior=True))]), id\nid26305    This process, however, afforded me...d it ...\nName: text, Length: 19579, dtype: object, id\nid26305    EAP\nid17569    HPL\nid11008    EAP\n...   HPL\nName: author, Length: 19579, dtype: object, {'score': make_scorer(log_loss, greater_is_better=False, needs_proba=True)}, array([ 6475,  6476,  6478, ..., 19576, 19577, 19578]), array([   0,    1,    2, ..., 6604, 6605, 6606]), 0, None, None), {'return_times': True, 'return_train_score': False})]\n    132 \n    133     def __len__(self):\n    134         return self._size\n    135 \n\n...........................................................................\n/home/bob/.local/lib/python3.6/site-packages/sklearn/externals/joblib/parallel.py in <listcomp>(.0=<list_iterator object>)\n    126     def __init__(self, iterator_slice):\n    127         self.items = list(iterator_slice)\n    128         self._size = len(self.items)\n    129 \n    130     def __call__(self):\n--> 131         return [func(*args, **kwargs) for func, args, kwargs in self.items]\n        func = <function _fit_and_score>\n        args = (Pipeline(memory=None,\n     steps=[('bow', Text2B...B(alpha=1.0, class_prior=None, fit_prior=True))]), id\nid26305    This process, however, afforded me...d it ...\nName: text, Length: 19579, dtype: object, id\nid26305    EAP\nid17569    HPL\nid11008    EAP\n...   HPL\nName: author, Length: 19579, dtype: object, {'score': make_scorer(log_loss, greater_is_better=False, needs_proba=True)}, array([ 6475,  6476,  6478, ..., 19576, 19577, 19578]), array([   0,    1,    2, ..., 6604, 6605, 6606]), 0, None, None)\n        kwargs = {'return_times': True, 'return_train_score': False}\n    132 \n    133     def __len__(self):\n    134         return self._size\n    135 \n\n...........................................................................\n/home/bob/.local/lib/python3.6/site-packages/sklearn/model_selection/_validation.py in _fit_and_score(estimator=Pipeline(memory=None,\n     steps=[('bow', Text2B...B(alpha=1.0, class_prior=None, fit_prior=True))]), X=id\nid26305    This process, however, afforded me...d it ...\nName: text, Length: 19579, dtype: object, y=id\nid26305    EAP\nid17569    HPL\nid11008    EAP\n...   HPL\nName: author, Length: 19579, dtype: object, scorer={'score': make_scorer(log_loss, greater_is_better=False, needs_proba=True)}, train=array([ 6475,  6476,  6478, ..., 19576, 19577, 19578]), test=array([   0,    1,    2, ..., 6604, 6605, 6606]), verbose=0, parameters=None, fit_params={}, return_train_score=False, return_parameters=False, return_n_test_samples=False, return_times=True, error_score='raise')\n    453 \n    454     try:\n    455         if y_train is None:\n    456             estimator.fit(X_train, **fit_params)\n    457         else:\n--> 458             estimator.fit(X_train, y_train, **fit_params)\n        estimator.fit = <bound method Pipeline.fit of Pipeline(memory=No...(alpha=1.0, class_prior=None, fit_prior=True))])>\n        X_train = id\nid15739    Its close resemblance to the medic...d it ...\nName: text, Length: 13051, dtype: object\n        y_train = id\nid15739    EAP\nid19588    EAP\nid11059    EAP\n...   HPL\nName: author, Length: 13051, dtype: object\n        fit_params = {}\n    459 \n    460     except Exception as e:\n    461         # Note fit time as time until error\n    462         fit_time = time.time() - start_time\n\n...........................................................................\n/home/bob/.local/lib/python3.6/site-packages/sklearn/pipeline.py in fit(self=Pipeline(memory=None,\n     steps=[('bow', Text2B...B(alpha=1.0, class_prior=None, fit_prior=True))]), X=id\nid15739    Its close resemblance to the medic...d it ...\nName: text, Length: 13051, dtype: object, y=id\nid15739    EAP\nid19588    EAP\nid11059    EAP\n...   HPL\nName: author, Length: 13051, dtype: object, **fit_params={})\n    245         self : Pipeline\n    246             This estimator\n    247         \"\"\"\n    248         Xt, fit_params = self._fit(X, y, **fit_params)\n    249         if self._final_estimator is not None:\n--> 250             self._final_estimator.fit(Xt, y, **fit_params)\n        self._final_estimator.fit = <bound method BaseDiscreteNB.fit of MultinomialNB(alpha=1.0, class_prior=None, fit_prior=True)>\n        Xt = [[(0, 0.2664714100608566), (1, 0.10480362539462479), (2, 0.2604873336049293), (3, 0.2319432706761858), (4, 0.24213524135011738), (5, 0.41116785474457307), (6, 0.39218741029198784), (7, 0.32007681200061067), (8, 0.35974012618542445), (9, 0.3057814279583449), (10, 0.033103432446463785), (11, 0.07685359149299217), (12, 0.19308643986019788), (13, 0.2126248353265933)], [(10, 0.024133907128526488), (11, 0.056029761946444906), (14, 0.2713402113709543), (15, 0.3420085240826053), (16, 0.5718449017195636), (17, 0.2614985439879363), (18, 0.1808821162765368), (19, 0.036987739317106506), (20, 0.42712530611518384), (21, 0.3189304655793621), (22, 0.09341436285112015), (23, 0.27476798475726655), (24, 0.088498637497393)], [(1, 0.07932158066320133), (10, 0.06263658764531839), (14, 0.14084602912179758), (18, 0.09389145710463107), (19, 0.01919942563133236), (22, 0.048489097889497096), (25, 0.2722725986774012), (26, 0.2620800981425273), (27, 0.24487868329638712), (28, 0.2722725986774012), (29, 0.03505679663903942), (30, 0.08624781176709262), (31, 0.07149215764800944), (32, 0.31119614453633054), (33, 0.2729933988114348), (34, 0.1733099699406774), (35, 0.17712329620393766), (36, 0.06842298368233549), (37, 0.1420511395070622), (38, 0.14386314798381059), ...], [(10, 0.015973364734577944), (19, 0.0489617074991789), (23, 0.18185904232327854), (30, 0.1099730849576353), (47, 0.046070957177769906), (48, 0.2975393193706599), (49, 0.11089059498724518), (50, 0.3968007922798119), (51, 0.19827784646150795), (52, 0.07722160044388235), (53, 0.04857698480295758), (54, 0.42811430060066746), (55, 0.3236593651896635), (56, 0.07556909941755309), (57, 0.24915443219781466), (58, 0.42811430060066746), (59, 0.3240930775601281)], [(10, 0.03745602951273969), (36, 0.10229058576225049), (47, 0.10803203710707177), (60, 0.23619581984220353), (61, 0.03133470722492), (62, 0.385564388719468), (63, 0.3015083410363086), (64, 0.11103716027435812), (65, 0.1905968735808948), (66, 0.24536394387695537), (67, 0.5308001436909793), (68, 0.3703268648059433), (69, 0.23994513095105036), (70, 0.3078975881412962)], [(47, 0.07100101906724518), (53, 0.07486311627769447), (61, 0.04118771069619043), (71, 0.15202575486829917), (72, 0.14256352538466183), (73, 0.4667449719251434), (74, 0.2503651118140704), (75, 0.37022902619505615), (76, 0.5477253203876611), (77, 0.4760416328690717)], [(10, 0.06462580383426865), (11, 0.06430138284840814), (18, 0.06919519082403108), (22, 0.03573501237295617), (31, 0.10537515645034605), (37, 0.15703115077885102), (46, 0.07518496273136628), (64, 0.0547374449573064), (65, 0.04697880354149405), (78, 0.1734637042645781), (79, 0.21124370752304877), (80, 0.1237755155749664), (81, 0.15694812556791132), (82, 0.14377383733539228), (83, 0.21875527504189865), (84, 0.24744076215980707), (85, 0.10989353196818279), (86, 0.20541728310317606), (87, 0.1788334923026323), (88, 0.3009539216891794), ...], [(10, 0.01715833256303342), (19, 0.026296941004117013), (22, 0.06641422358292039), (24, 0.06291932116373902), (29, 0.0480163589636599), (30, 0.11813132649510569), (47, 0.049488684312218235), (51, 0.21298688698342833), (53, 0.052180619049802826), (56, 0.08117511625389999), (61, 0.028708399385876993), (102, 0.23403001292583833), (113, 0.20423929132245422), (115, 0.4262370557703321), (116, 0.2690731650842324), (117, 0.3589641175494357), (118, 0.17450791755009787), (119, 0.2001630105211242), (120, 0.303670599600059), (121, 0.4262370557703321), ...], [(10, 0.021322122227474257), (11, 0.04950186582869004), (30, 0.14679809784366432), (31, 0.12168323506929181), (47, 0.12299607457840946), (52, 0.20615924454556003), (61, 0.035675028352090576), (91, 0.14487860845275446), (98, 0.27840822828588596), (103, 0.23291869434274284), (124, 0.13839751535552838), (125, 0.3007913272538198), (126, 0.39081820673094264), (127, 0.2462174723129556), (128, 0.4123268436706392), (129, 0.22158417220596172), (130, 0.3435567610008015), (131, 0.18912652719692835), (132, 0.2306072899995085)], [(10, 0.060204206982548865), (19, 0.055361550083157234), (22, 0.09321221974181244), (49, 0.08359015703908927), (53, 0.036617693219445066), (61, 0.04029217669993592), (104, 0.0754428098308278), (133, 0.26790813350704007), (134, 0.18687533762152778), (135, 0.24430377753540683), (136, 0.23809501978731895), (137, 0.2755070388560312), (138, 0.21903792681162104), (139, 0.12747319308243932), (140, 0.12362178362577428), (141, 0.14439454632496657), (142, 0.22244615763028036), (143, 0.21903792681162104), (144, 0.23809501978731895), (145, 0.07431384829899074), ...], [(10, 0.017868951261395715), (11, 0.08296982996385277), (61, 0.02989736837972952), (72, 0.10348412582038423), (155, 0.31426513521849647), (156, 0.1699525813091037), (157, 0.1701766922652076), (158, 0.27640100939491724), (159, 0.2978192836150871), (160, 0.24276889717607655), (161, 0.33880121349699616), (162, 0.23450847942150704), (163, 0.3625537576651779), (164, 0.3183102485560416), (165, 0.24137147345766863), (166, 0.3738307494342447)], [(10, 0.04520429241093692), (11, 0.02623679756093562), (19, 0.017320077669206606), (22, 0.08748542354155527), (29, 0.06325047970506475), (53, 0.034367966016593844), (57, 0.08813773738110729), (61, 0.018908347820537255), (167, 0.10458059386108247), (168, 0.19113441661345087), (169, 0.3028886579507455), (170, 0.25858036692787534), (171, 0.13969408373222703), (172, 0.16532352454213142), (173, 0.16532352454213142), (174, 0.3028886579507455), (175, 0.19313267199821985), (176, 0.17097852648678477), (177, 0.2807345124393104), (178, 0.09429094471794976), ...], [(10, 0.009856156567640691), (15, 0.13967442332789326), (19, 0.04531677542111343), (24, 0.10842708839707535), (29, 0.11032697962119518), (41, 0.07260064341795866), (49, 0.06842359667072355), (56, 0.04662892808818644), (57, 0.1537374957667718), (61, 0.016490791171816524), (165, 0.13313568315005253), (190, 0.16755438923335436), (191, 0.13904086957076212), (192, 0.2448407583411407), (193, 0.12430484550933028), (194, 0.18687598151030094), (195, 0.15050032010750405), (196, 0.09143544591163232), (197, 0.12269104128755341), (198, 0.2641623506180873), ...], [(10, 0.05128666371555671), (11, 0.02381362904652451), (19, 0.047161308888427914), (22, 0.07940547692065152), (24, 0.037613469186254155), (30, 0.07061946834251158), (47, 0.05916914130722203), (61, 0.03432403515216796), (65, 0.05219494905222182), (66, 0.13438581975978053), (71, 0.06334580468218413), (72, 0.05940310075515709), (103, 0.05602454869351825), (111, 0.08056360687311669), (124, 0.0665782397585325), (131, 0.09098220614776903), (217, 0.13014327126494443), (218, 0.14707666165679775), (219, 0.1425038820600952), (220, 0.27491457850702283), ...], [(10, 0.03373914624704608), (11, 0.03916473868965497), (19, 0.05170877386415411), (22, 0.03264826570583768), (24, 0.06186044508432571), (29, 0.047208286451325736), (36, 0.046069979621768835), (45, 0.08087235171979418), (47, 0.024327916938460356), (53, 0.07695369862930257), (56, 0.07980901141908836), (61, 0.028225262619209712), (69, 0.1080672987732272), (112, 0.04557089762967087), (127, 0.09740080300544345), (241, 0.1796469603779444), (242, 0.08992259466649655), (243, 0.11166235358548782), (244, 0.15848012162533082), (245, 0.26548969682262125), ...], [(10, 0.014878436612043862), (11, 0.0690841526047578), (19, 0.022802761770881638), (24, 0.05455898049349969), (30, 0.10243474689030971), (45, 0.071326888352145), (47, 0.08582585164937677), (53, 0.045247172477722745), (56, 0.07038905541794807), (69, 0.09531198228070385), (104, 0.09322197900786375), (112, 0.08038421681121939), (131, 0.13197124641419022), (182, 0.17819993890438107), (185, 0.13080027223004068), (270, 0.18048741343046848), (271, 0.12834700317270165), (277, 0.21653463756000216), (278, 0.15765046010508932), (279, 0.3696012414193431), ...], [(10, 0.03791716652108541), (11, 0.05868616859386632), (22, 0.04892159860155609), (29, 0.1061084619891196), (36, 0.13806657118911214), (53, 0.03843693658103161), (64, 0.07493612378605678), (65, 0.06431446407942601), (91, 0.08587929261825251), (105, 0.3574063109864729), (141, 0.15156836850641137), (145, 0.07800591525639525), (213, 0.12076867033953673), (219, 0.17559286809079885), (222, 0.09905080713055688), (290, 0.17634543810717943), (291, 0.2354304202988956), (292, 0.23747359098140175), (293, 0.21838240905413028), (294, 0.2068871594723075), ...], [(10, 0.01568731468793941), (29, 0.08779964258937602), (37, 0.0889416637703053), (53, 0.04770707110604152), (61, 0.02624717137862027), (64, 0.09300905076906602), (237, 0.1379113333775812), (305, 0.30664896585612444), (306, 0.2833078792717857), (307, 0.20730843748050645), (308, 0.2233412719391391), (309, 0.38969490776368737), (310, 0.2695472861513626), (311, 0.21271630313917306), (312, 0.4204476556771751), (313, 0.20658700960294096), (314, 0.4204476556771751), (315, 0.14264507531499204)], [(10, 0.027389551203659726), (316, 0.7340881994597976), (317, 0.37735752159971553), (318, 0.5638844108421996)], [(18, 0.35789169848754704), (36, 0.13040599539512807), (52, 0.11542397475108049), (92, 0.1830990480525225), (130, 0.19234978763494665), (319, 0.37310009228736857), (320, 0.5931025045589059), (321, 0.2808020052524273), (322, 0.44859490237601146)], ...]\n        y = id\nid15739    EAP\nid19588    EAP\nid11059    EAP\n...   HPL\nName: author, Length: 13051, dtype: object\n        fit_params = {}\n    251         return self\n    252 \n    253     def fit_transform(self, X, y=None, **fit_params):\n    254         \"\"\"Fit the model and transform with the final estimator\n\n...........................................................................\n/home/bob/.local/lib/python3.6/site-packages/sklearn/naive_bayes.py in fit(self=MultinomialNB(alpha=1.0, class_prior=None, fit_prior=True), X=[[(0, 0.2664714100608566), (1, 0.10480362539462479), (2, 0.2604873336049293), (3, 0.2319432706761858), (4, 0.24213524135011738), (5, 0.41116785474457307), (6, 0.39218741029198784), (7, 0.32007681200061067), (8, 0.35974012618542445), (9, 0.3057814279583449), (10, 0.033103432446463785), (11, 0.07685359149299217), (12, 0.19308643986019788), (13, 0.2126248353265933)], [(10, 0.024133907128526488), (11, 0.056029761946444906), (14, 0.2713402113709543), (15, 0.3420085240826053), (16, 0.5718449017195636), (17, 0.2614985439879363), (18, 0.1808821162765368), (19, 0.036987739317106506), (20, 0.42712530611518384), (21, 0.3189304655793621), (22, 0.09341436285112015), (23, 0.27476798475726655), (24, 0.088498637497393)], [(1, 0.07932158066320133), (10, 0.06263658764531839), (14, 0.14084602912179758), (18, 0.09389145710463107), (19, 0.01919942563133236), (22, 0.048489097889497096), (25, 0.2722725986774012), (26, 0.2620800981425273), (27, 0.24487868329638712), (28, 0.2722725986774012), (29, 0.03505679663903942), (30, 0.08624781176709262), (31, 0.07149215764800944), (32, 0.31119614453633054), (33, 0.2729933988114348), (34, 0.1733099699406774), (35, 0.17712329620393766), (36, 0.06842298368233549), (37, 0.1420511395070622), (38, 0.14386314798381059), ...], [(10, 0.015973364734577944), (19, 0.0489617074991789), (23, 0.18185904232327854), (30, 0.1099730849576353), (47, 0.046070957177769906), (48, 0.2975393193706599), (49, 0.11089059498724518), (50, 0.3968007922798119), (51, 0.19827784646150795), (52, 0.07722160044388235), (53, 0.04857698480295758), (54, 0.42811430060066746), (55, 0.3236593651896635), (56, 0.07556909941755309), (57, 0.24915443219781466), (58, 0.42811430060066746), (59, 0.3240930775601281)], [(10, 0.03745602951273969), (36, 0.10229058576225049), (47, 0.10803203710707177), (60, 0.23619581984220353), (61, 0.03133470722492), (62, 0.385564388719468), (63, 0.3015083410363086), (64, 0.11103716027435812), (65, 0.1905968735808948), (66, 0.24536394387695537), (67, 0.5308001436909793), (68, 0.3703268648059433), (69, 0.23994513095105036), (70, 0.3078975881412962)], [(47, 0.07100101906724518), (53, 0.07486311627769447), (61, 0.04118771069619043), (71, 0.15202575486829917), (72, 0.14256352538466183), (73, 0.4667449719251434), (74, 0.2503651118140704), (75, 0.37022902619505615), (76, 0.5477253203876611), (77, 0.4760416328690717)], [(10, 0.06462580383426865), (11, 0.06430138284840814), (18, 0.06919519082403108), (22, 0.03573501237295617), (31, 0.10537515645034605), (37, 0.15703115077885102), (46, 0.07518496273136628), (64, 0.0547374449573064), (65, 0.04697880354149405), (78, 0.1734637042645781), (79, 0.21124370752304877), (80, 0.1237755155749664), (81, 0.15694812556791132), (82, 0.14377383733539228), (83, 0.21875527504189865), (84, 0.24744076215980707), (85, 0.10989353196818279), (86, 0.20541728310317606), (87, 0.1788334923026323), (88, 0.3009539216891794), ...], [(10, 0.01715833256303342), (19, 0.026296941004117013), (22, 0.06641422358292039), (24, 0.06291932116373902), (29, 0.0480163589636599), (30, 0.11813132649510569), (47, 0.049488684312218235), (51, 0.21298688698342833), (53, 0.052180619049802826), (56, 0.08117511625389999), (61, 0.028708399385876993), (102, 0.23403001292583833), (113, 0.20423929132245422), (115, 0.4262370557703321), (116, 0.2690731650842324), (117, 0.3589641175494357), (118, 0.17450791755009787), (119, 0.2001630105211242), (120, 0.303670599600059), (121, 0.4262370557703321), ...], [(10, 0.021322122227474257), (11, 0.04950186582869004), (30, 0.14679809784366432), (31, 0.12168323506929181), (47, 0.12299607457840946), (52, 0.20615924454556003), (61, 0.035675028352090576), (91, 0.14487860845275446), (98, 0.27840822828588596), (103, 0.23291869434274284), (124, 0.13839751535552838), (125, 0.3007913272538198), (126, 0.39081820673094264), (127, 0.2462174723129556), (128, 0.4123268436706392), (129, 0.22158417220596172), (130, 0.3435567610008015), (131, 0.18912652719692835), (132, 0.2306072899995085)], [(10, 0.060204206982548865), (19, 0.055361550083157234), (22, 0.09321221974181244), (49, 0.08359015703908927), (53, 0.036617693219445066), (61, 0.04029217669993592), (104, 0.0754428098308278), (133, 0.26790813350704007), (134, 0.18687533762152778), (135, 0.24430377753540683), (136, 0.23809501978731895), (137, 0.2755070388560312), (138, 0.21903792681162104), (139, 0.12747319308243932), (140, 0.12362178362577428), (141, 0.14439454632496657), (142, 0.22244615763028036), (143, 0.21903792681162104), (144, 0.23809501978731895), (145, 0.07431384829899074), ...], [(10, 0.017868951261395715), (11, 0.08296982996385277), (61, 0.02989736837972952), (72, 0.10348412582038423), (155, 0.31426513521849647), (156, 0.1699525813091037), (157, 0.1701766922652076), (158, 0.27640100939491724), (159, 0.2978192836150871), (160, 0.24276889717607655), (161, 0.33880121349699616), (162, 0.23450847942150704), (163, 0.3625537576651779), (164, 0.3183102485560416), (165, 0.24137147345766863), (166, 0.3738307494342447)], [(10, 0.04520429241093692), (11, 0.02623679756093562), (19, 0.017320077669206606), (22, 0.08748542354155527), (29, 0.06325047970506475), (53, 0.034367966016593844), (57, 0.08813773738110729), (61, 0.018908347820537255), (167, 0.10458059386108247), (168, 0.19113441661345087), (169, 0.3028886579507455), (170, 0.25858036692787534), (171, 0.13969408373222703), (172, 0.16532352454213142), (173, 0.16532352454213142), (174, 0.3028886579507455), (175, 0.19313267199821985), (176, 0.17097852648678477), (177, 0.2807345124393104), (178, 0.09429094471794976), ...], [(10, 0.009856156567640691), (15, 0.13967442332789326), (19, 0.04531677542111343), (24, 0.10842708839707535), (29, 0.11032697962119518), (41, 0.07260064341795866), (49, 0.06842359667072355), (56, 0.04662892808818644), (57, 0.1537374957667718), (61, 0.016490791171816524), (165, 0.13313568315005253), (190, 0.16755438923335436), (191, 0.13904086957076212), (192, 0.2448407583411407), (193, 0.12430484550933028), (194, 0.18687598151030094), (195, 0.15050032010750405), (196, 0.09143544591163232), (197, 0.12269104128755341), (198, 0.2641623506180873), ...], [(10, 0.05128666371555671), (11, 0.02381362904652451), (19, 0.047161308888427914), (22, 0.07940547692065152), (24, 0.037613469186254155), (30, 0.07061946834251158), (47, 0.05916914130722203), (61, 0.03432403515216796), (65, 0.05219494905222182), (66, 0.13438581975978053), (71, 0.06334580468218413), (72, 0.05940310075515709), (103, 0.05602454869351825), (111, 0.08056360687311669), (124, 0.0665782397585325), (131, 0.09098220614776903), (217, 0.13014327126494443), (218, 0.14707666165679775), (219, 0.1425038820600952), (220, 0.27491457850702283), ...], [(10, 0.03373914624704608), (11, 0.03916473868965497), (19, 0.05170877386415411), (22, 0.03264826570583768), (24, 0.06186044508432571), (29, 0.047208286451325736), (36, 0.046069979621768835), (45, 0.08087235171979418), (47, 0.024327916938460356), (53, 0.07695369862930257), (56, 0.07980901141908836), (61, 0.028225262619209712), (69, 0.1080672987732272), (112, 0.04557089762967087), (127, 0.09740080300544345), (241, 0.1796469603779444), (242, 0.08992259466649655), (243, 0.11166235358548782), (244, 0.15848012162533082), (245, 0.26548969682262125), ...], [(10, 0.014878436612043862), (11, 0.0690841526047578), (19, 0.022802761770881638), (24, 0.05455898049349969), (30, 0.10243474689030971), (45, 0.071326888352145), (47, 0.08582585164937677), (53, 0.045247172477722745), (56, 0.07038905541794807), (69, 0.09531198228070385), (104, 0.09322197900786375), (112, 0.08038421681121939), (131, 0.13197124641419022), (182, 0.17819993890438107), (185, 0.13080027223004068), (270, 0.18048741343046848), (271, 0.12834700317270165), (277, 0.21653463756000216), (278, 0.15765046010508932), (279, 0.3696012414193431), ...], [(10, 0.03791716652108541), (11, 0.05868616859386632), (22, 0.04892159860155609), (29, 0.1061084619891196), (36, 0.13806657118911214), (53, 0.03843693658103161), (64, 0.07493612378605678), (65, 0.06431446407942601), (91, 0.08587929261825251), (105, 0.3574063109864729), (141, 0.15156836850641137), (145, 0.07800591525639525), (213, 0.12076867033953673), (219, 0.17559286809079885), (222, 0.09905080713055688), (290, 0.17634543810717943), (291, 0.2354304202988956), (292, 0.23747359098140175), (293, 0.21838240905413028), (294, 0.2068871594723075), ...], [(10, 0.01568731468793941), (29, 0.08779964258937602), (37, 0.0889416637703053), (53, 0.04770707110604152), (61, 0.02624717137862027), (64, 0.09300905076906602), (237, 0.1379113333775812), (305, 0.30664896585612444), (306, 0.2833078792717857), (307, 0.20730843748050645), (308, 0.2233412719391391), (309, 0.38969490776368737), (310, 0.2695472861513626), (311, 0.21271630313917306), (312, 0.4204476556771751), (313, 0.20658700960294096), (314, 0.4204476556771751), (315, 0.14264507531499204)], [(10, 0.027389551203659726), (316, 0.7340881994597976), (317, 0.37735752159971553), (318, 0.5638844108421996)], [(18, 0.35789169848754704), (36, 0.13040599539512807), (52, 0.11542397475108049), (92, 0.1830990480525225), (130, 0.19234978763494665), (319, 0.37310009228736857), (320, 0.5931025045589059), (321, 0.2808020052524273), (322, 0.44859490237601146)], ...], y=id\nid15739    EAP\nid19588    EAP\nid11059    EAP\n...   HPL\nName: author, Length: 13051, dtype: object, sample_weight=None)\n    574         Returns\n    575         -------\n    576         self : object\n    577             Returns self.\n    578         \"\"\"\n--> 579         X, y = check_X_y(X, y, 'csr')\n        X = [[(0, 0.2664714100608566), (1, 0.10480362539462479), (2, 0.2604873336049293), (3, 0.2319432706761858), (4, 0.24213524135011738), (5, 0.41116785474457307), (6, 0.39218741029198784), (7, 0.32007681200061067), (8, 0.35974012618542445), (9, 0.3057814279583449), (10, 0.033103432446463785), (11, 0.07685359149299217), (12, 0.19308643986019788), (13, 0.2126248353265933)], [(10, 0.024133907128526488), (11, 0.056029761946444906), (14, 0.2713402113709543), (15, 0.3420085240826053), (16, 0.5718449017195636), (17, 0.2614985439879363), (18, 0.1808821162765368), (19, 0.036987739317106506), (20, 0.42712530611518384), (21, 0.3189304655793621), (22, 0.09341436285112015), (23, 0.27476798475726655), (24, 0.088498637497393)], [(1, 0.07932158066320133), (10, 0.06263658764531839), (14, 0.14084602912179758), (18, 0.09389145710463107), (19, 0.01919942563133236), (22, 0.048489097889497096), (25, 0.2722725986774012), (26, 0.2620800981425273), (27, 0.24487868329638712), (28, 0.2722725986774012), (29, 0.03505679663903942), (30, 0.08624781176709262), (31, 0.07149215764800944), (32, 0.31119614453633054), (33, 0.2729933988114348), (34, 0.1733099699406774), (35, 0.17712329620393766), (36, 0.06842298368233549), (37, 0.1420511395070622), (38, 0.14386314798381059), ...], [(10, 0.015973364734577944), (19, 0.0489617074991789), (23, 0.18185904232327854), (30, 0.1099730849576353), (47, 0.046070957177769906), (48, 0.2975393193706599), (49, 0.11089059498724518), (50, 0.3968007922798119), (51, 0.19827784646150795), (52, 0.07722160044388235), (53, 0.04857698480295758), (54, 0.42811430060066746), (55, 0.3236593651896635), (56, 0.07556909941755309), (57, 0.24915443219781466), (58, 0.42811430060066746), (59, 0.3240930775601281)], [(10, 0.03745602951273969), (36, 0.10229058576225049), (47, 0.10803203710707177), (60, 0.23619581984220353), (61, 0.03133470722492), (62, 0.385564388719468), (63, 0.3015083410363086), (64, 0.11103716027435812), (65, 0.1905968735808948), (66, 0.24536394387695537), (67, 0.5308001436909793), (68, 0.3703268648059433), (69, 0.23994513095105036), (70, 0.3078975881412962)], [(47, 0.07100101906724518), (53, 0.07486311627769447), (61, 0.04118771069619043), (71, 0.15202575486829917), (72, 0.14256352538466183), (73, 0.4667449719251434), (74, 0.2503651118140704), (75, 0.37022902619505615), (76, 0.5477253203876611), (77, 0.4760416328690717)], [(10, 0.06462580383426865), (11, 0.06430138284840814), (18, 0.06919519082403108), (22, 0.03573501237295617), (31, 0.10537515645034605), (37, 0.15703115077885102), (46, 0.07518496273136628), (64, 0.0547374449573064), (65, 0.04697880354149405), (78, 0.1734637042645781), (79, 0.21124370752304877), (80, 0.1237755155749664), (81, 0.15694812556791132), (82, 0.14377383733539228), (83, 0.21875527504189865), (84, 0.24744076215980707), (85, 0.10989353196818279), (86, 0.20541728310317606), (87, 0.1788334923026323), (88, 0.3009539216891794), ...], [(10, 0.01715833256303342), (19, 0.026296941004117013), (22, 0.06641422358292039), (24, 0.06291932116373902), (29, 0.0480163589636599), (30, 0.11813132649510569), (47, 0.049488684312218235), (51, 0.21298688698342833), (53, 0.052180619049802826), (56, 0.08117511625389999), (61, 0.028708399385876993), (102, 0.23403001292583833), (113, 0.20423929132245422), (115, 0.4262370557703321), (116, 0.2690731650842324), (117, 0.3589641175494357), (118, 0.17450791755009787), (119, 0.2001630105211242), (120, 0.303670599600059), (121, 0.4262370557703321), ...], [(10, 0.021322122227474257), (11, 0.04950186582869004), (30, 0.14679809784366432), (31, 0.12168323506929181), (47, 0.12299607457840946), (52, 0.20615924454556003), (61, 0.035675028352090576), (91, 0.14487860845275446), (98, 0.27840822828588596), (103, 0.23291869434274284), (124, 0.13839751535552838), (125, 0.3007913272538198), (126, 0.39081820673094264), (127, 0.2462174723129556), (128, 0.4123268436706392), (129, 0.22158417220596172), (130, 0.3435567610008015), (131, 0.18912652719692835), (132, 0.2306072899995085)], [(10, 0.060204206982548865), (19, 0.055361550083157234), (22, 0.09321221974181244), (49, 0.08359015703908927), (53, 0.036617693219445066), (61, 0.04029217669993592), (104, 0.0754428098308278), (133, 0.26790813350704007), (134, 0.18687533762152778), (135, 0.24430377753540683), (136, 0.23809501978731895), (137, 0.2755070388560312), (138, 0.21903792681162104), (139, 0.12747319308243932), (140, 0.12362178362577428), (141, 0.14439454632496657), (142, 0.22244615763028036), (143, 0.21903792681162104), (144, 0.23809501978731895), (145, 0.07431384829899074), ...], [(10, 0.017868951261395715), (11, 0.08296982996385277), (61, 0.02989736837972952), (72, 0.10348412582038423), (155, 0.31426513521849647), (156, 0.1699525813091037), (157, 0.1701766922652076), (158, 0.27640100939491724), (159, 0.2978192836150871), (160, 0.24276889717607655), (161, 0.33880121349699616), (162, 0.23450847942150704), (163, 0.3625537576651779), (164, 0.3183102485560416), (165, 0.24137147345766863), (166, 0.3738307494342447)], [(10, 0.04520429241093692), (11, 0.02623679756093562), (19, 0.017320077669206606), (22, 0.08748542354155527), (29, 0.06325047970506475), (53, 0.034367966016593844), (57, 0.08813773738110729), (61, 0.018908347820537255), (167, 0.10458059386108247), (168, 0.19113441661345087), (169, 0.3028886579507455), (170, 0.25858036692787534), (171, 0.13969408373222703), (172, 0.16532352454213142), (173, 0.16532352454213142), (174, 0.3028886579507455), (175, 0.19313267199821985), (176, 0.17097852648678477), (177, 0.2807345124393104), (178, 0.09429094471794976), ...], [(10, 0.009856156567640691), (15, 0.13967442332789326), (19, 0.04531677542111343), (24, 0.10842708839707535), (29, 0.11032697962119518), (41, 0.07260064341795866), (49, 0.06842359667072355), (56, 0.04662892808818644), (57, 0.1537374957667718), (61, 0.016490791171816524), (165, 0.13313568315005253), (190, 0.16755438923335436), (191, 0.13904086957076212), (192, 0.2448407583411407), (193, 0.12430484550933028), (194, 0.18687598151030094), (195, 0.15050032010750405), (196, 0.09143544591163232), (197, 0.12269104128755341), (198, 0.2641623506180873), ...], [(10, 0.05128666371555671), (11, 0.02381362904652451), (19, 0.047161308888427914), (22, 0.07940547692065152), (24, 0.037613469186254155), (30, 0.07061946834251158), (47, 0.05916914130722203), (61, 0.03432403515216796), (65, 0.05219494905222182), (66, 0.13438581975978053), (71, 0.06334580468218413), (72, 0.05940310075515709), (103, 0.05602454869351825), (111, 0.08056360687311669), (124, 0.0665782397585325), (131, 0.09098220614776903), (217, 0.13014327126494443), (218, 0.14707666165679775), (219, 0.1425038820600952), (220, 0.27491457850702283), ...], [(10, 0.03373914624704608), (11, 0.03916473868965497), (19, 0.05170877386415411), (22, 0.03264826570583768), (24, 0.06186044508432571), (29, 0.047208286451325736), (36, 0.046069979621768835), (45, 0.08087235171979418), (47, 0.024327916938460356), (53, 0.07695369862930257), (56, 0.07980901141908836), (61, 0.028225262619209712), (69, 0.1080672987732272), (112, 0.04557089762967087), (127, 0.09740080300544345), (241, 0.1796469603779444), (242, 0.08992259466649655), (243, 0.11166235358548782), (244, 0.15848012162533082), (245, 0.26548969682262125), ...], [(10, 0.014878436612043862), (11, 0.0690841526047578), (19, 0.022802761770881638), (24, 0.05455898049349969), (30, 0.10243474689030971), (45, 0.071326888352145), (47, 0.08582585164937677), (53, 0.045247172477722745), (56, 0.07038905541794807), (69, 0.09531198228070385), (104, 0.09322197900786375), (112, 0.08038421681121939), (131, 0.13197124641419022), (182, 0.17819993890438107), (185, 0.13080027223004068), (270, 0.18048741343046848), (271, 0.12834700317270165), (277, 0.21653463756000216), (278, 0.15765046010508932), (279, 0.3696012414193431), ...], [(10, 0.03791716652108541), (11, 0.05868616859386632), (22, 0.04892159860155609), (29, 0.1061084619891196), (36, 0.13806657118911214), (53, 0.03843693658103161), (64, 0.07493612378605678), (65, 0.06431446407942601), (91, 0.08587929261825251), (105, 0.3574063109864729), (141, 0.15156836850641137), (145, 0.07800591525639525), (213, 0.12076867033953673), (219, 0.17559286809079885), (222, 0.09905080713055688), (290, 0.17634543810717943), (291, 0.2354304202988956), (292, 0.23747359098140175), (293, 0.21838240905413028), (294, 0.2068871594723075), ...], [(10, 0.01568731468793941), (29, 0.08779964258937602), (37, 0.0889416637703053), (53, 0.04770707110604152), (61, 0.02624717137862027), (64, 0.09300905076906602), (237, 0.1379113333775812), (305, 0.30664896585612444), (306, 0.2833078792717857), (307, 0.20730843748050645), (308, 0.2233412719391391), (309, 0.38969490776368737), (310, 0.2695472861513626), (311, 0.21271630313917306), (312, 0.4204476556771751), (313, 0.20658700960294096), (314, 0.4204476556771751), (315, 0.14264507531499204)], [(10, 0.027389551203659726), (316, 0.7340881994597976), (317, 0.37735752159971553), (318, 0.5638844108421996)], [(18, 0.35789169848754704), (36, 0.13040599539512807), (52, 0.11542397475108049), (92, 0.1830990480525225), (130, 0.19234978763494665), (319, 0.37310009228736857), (320, 0.5931025045589059), (321, 0.2808020052524273), (322, 0.44859490237601146)], ...]\n        y = id\nid15739    EAP\nid19588    EAP\nid11059    EAP\n...   HPL\nName: author, Length: 13051, dtype: object\n    580         _, n_features = X.shape\n    581 \n    582         labelbin = LabelBinarizer()\n    583         Y = labelbin.fit_transform(y)\n\n...........................................................................\n/home/bob/.local/lib/python3.6/site-packages/sklearn/utils/validation.py in check_X_y(X=[[(0, 0.2664714100608566), (1, 0.10480362539462479), (2, 0.2604873336049293), (3, 0.2319432706761858), (4, 0.24213524135011738), (5, 0.41116785474457307), (6, 0.39218741029198784), (7, 0.32007681200061067), (8, 0.35974012618542445), (9, 0.3057814279583449), (10, 0.033103432446463785), (11, 0.07685359149299217), (12, 0.19308643986019788), (13, 0.2126248353265933)], [(10, 0.024133907128526488), (11, 0.056029761946444906), (14, 0.2713402113709543), (15, 0.3420085240826053), (16, 0.5718449017195636), (17, 0.2614985439879363), (18, 0.1808821162765368), (19, 0.036987739317106506), (20, 0.42712530611518384), (21, 0.3189304655793621), (22, 0.09341436285112015), (23, 0.27476798475726655), (24, 0.088498637497393)], [(1, 0.07932158066320133), (10, 0.06263658764531839), (14, 0.14084602912179758), (18, 0.09389145710463107), (19, 0.01919942563133236), (22, 0.048489097889497096), (25, 0.2722725986774012), (26, 0.2620800981425273), (27, 0.24487868329638712), (28, 0.2722725986774012), (29, 0.03505679663903942), (30, 0.08624781176709262), (31, 0.07149215764800944), (32, 0.31119614453633054), (33, 0.2729933988114348), (34, 0.1733099699406774), (35, 0.17712329620393766), (36, 0.06842298368233549), (37, 0.1420511395070622), (38, 0.14386314798381059), ...], [(10, 0.015973364734577944), (19, 0.0489617074991789), (23, 0.18185904232327854), (30, 0.1099730849576353), (47, 0.046070957177769906), (48, 0.2975393193706599), (49, 0.11089059498724518), (50, 0.3968007922798119), (51, 0.19827784646150795), (52, 0.07722160044388235), (53, 0.04857698480295758), (54, 0.42811430060066746), (55, 0.3236593651896635), (56, 0.07556909941755309), (57, 0.24915443219781466), (58, 0.42811430060066746), (59, 0.3240930775601281)], [(10, 0.03745602951273969), (36, 0.10229058576225049), (47, 0.10803203710707177), (60, 0.23619581984220353), (61, 0.03133470722492), (62, 0.385564388719468), (63, 0.3015083410363086), (64, 0.11103716027435812), (65, 0.1905968735808948), (66, 0.24536394387695537), (67, 0.5308001436909793), (68, 0.3703268648059433), (69, 0.23994513095105036), (70, 0.3078975881412962)], [(47, 0.07100101906724518), (53, 0.07486311627769447), (61, 0.04118771069619043), (71, 0.15202575486829917), (72, 0.14256352538466183), (73, 0.4667449719251434), (74, 0.2503651118140704), (75, 0.37022902619505615), (76, 0.5477253203876611), (77, 0.4760416328690717)], [(10, 0.06462580383426865), (11, 0.06430138284840814), (18, 0.06919519082403108), (22, 0.03573501237295617), (31, 0.10537515645034605), (37, 0.15703115077885102), (46, 0.07518496273136628), (64, 0.0547374449573064), (65, 0.04697880354149405), (78, 0.1734637042645781), (79, 0.21124370752304877), (80, 0.1237755155749664), (81, 0.15694812556791132), (82, 0.14377383733539228), (83, 0.21875527504189865), (84, 0.24744076215980707), (85, 0.10989353196818279), (86, 0.20541728310317606), (87, 0.1788334923026323), (88, 0.3009539216891794), ...], [(10, 0.01715833256303342), (19, 0.026296941004117013), (22, 0.06641422358292039), (24, 0.06291932116373902), (29, 0.0480163589636599), (30, 0.11813132649510569), (47, 0.049488684312218235), (51, 0.21298688698342833), (53, 0.052180619049802826), (56, 0.08117511625389999), (61, 0.028708399385876993), (102, 0.23403001292583833), (113, 0.20423929132245422), (115, 0.4262370557703321), (116, 0.2690731650842324), (117, 0.3589641175494357), (118, 0.17450791755009787), (119, 0.2001630105211242), (120, 0.303670599600059), (121, 0.4262370557703321), ...], [(10, 0.021322122227474257), (11, 0.04950186582869004), (30, 0.14679809784366432), (31, 0.12168323506929181), (47, 0.12299607457840946), (52, 0.20615924454556003), (61, 0.035675028352090576), (91, 0.14487860845275446), (98, 0.27840822828588596), (103, 0.23291869434274284), (124, 0.13839751535552838), (125, 0.3007913272538198), (126, 0.39081820673094264), (127, 0.2462174723129556), (128, 0.4123268436706392), (129, 0.22158417220596172), (130, 0.3435567610008015), (131, 0.18912652719692835), (132, 0.2306072899995085)], [(10, 0.060204206982548865), (19, 0.055361550083157234), (22, 0.09321221974181244), (49, 0.08359015703908927), (53, 0.036617693219445066), (61, 0.04029217669993592), (104, 0.0754428098308278), (133, 0.26790813350704007), (134, 0.18687533762152778), (135, 0.24430377753540683), (136, 0.23809501978731895), (137, 0.2755070388560312), (138, 0.21903792681162104), (139, 0.12747319308243932), (140, 0.12362178362577428), (141, 0.14439454632496657), (142, 0.22244615763028036), (143, 0.21903792681162104), (144, 0.23809501978731895), (145, 0.07431384829899074), ...], [(10, 0.017868951261395715), (11, 0.08296982996385277), (61, 0.02989736837972952), (72, 0.10348412582038423), (155, 0.31426513521849647), (156, 0.1699525813091037), (157, 0.1701766922652076), (158, 0.27640100939491724), (159, 0.2978192836150871), (160, 0.24276889717607655), (161, 0.33880121349699616), (162, 0.23450847942150704), (163, 0.3625537576651779), (164, 0.3183102485560416), (165, 0.24137147345766863), (166, 0.3738307494342447)], [(10, 0.04520429241093692), (11, 0.02623679756093562), (19, 0.017320077669206606), (22, 0.08748542354155527), (29, 0.06325047970506475), (53, 0.034367966016593844), (57, 0.08813773738110729), (61, 0.018908347820537255), (167, 0.10458059386108247), (168, 0.19113441661345087), (169, 0.3028886579507455), (170, 0.25858036692787534), (171, 0.13969408373222703), (172, 0.16532352454213142), (173, 0.16532352454213142), (174, 0.3028886579507455), (175, 0.19313267199821985), (176, 0.17097852648678477), (177, 0.2807345124393104), (178, 0.09429094471794976), ...], [(10, 0.009856156567640691), (15, 0.13967442332789326), (19, 0.04531677542111343), (24, 0.10842708839707535), (29, 0.11032697962119518), (41, 0.07260064341795866), (49, 0.06842359667072355), (56, 0.04662892808818644), (57, 0.1537374957667718), (61, 0.016490791171816524), (165, 0.13313568315005253), (190, 0.16755438923335436), (191, 0.13904086957076212), (192, 0.2448407583411407), (193, 0.12430484550933028), (194, 0.18687598151030094), (195, 0.15050032010750405), (196, 0.09143544591163232), (197, 0.12269104128755341), (198, 0.2641623506180873), ...], [(10, 0.05128666371555671), (11, 0.02381362904652451), (19, 0.047161308888427914), (22, 0.07940547692065152), (24, 0.037613469186254155), (30, 0.07061946834251158), (47, 0.05916914130722203), (61, 0.03432403515216796), (65, 0.05219494905222182), (66, 0.13438581975978053), (71, 0.06334580468218413), (72, 0.05940310075515709), (103, 0.05602454869351825), (111, 0.08056360687311669), (124, 0.0665782397585325), (131, 0.09098220614776903), (217, 0.13014327126494443), (218, 0.14707666165679775), (219, 0.1425038820600952), (220, 0.27491457850702283), ...], [(10, 0.03373914624704608), (11, 0.03916473868965497), (19, 0.05170877386415411), (22, 0.03264826570583768), (24, 0.06186044508432571), (29, 0.047208286451325736), (36, 0.046069979621768835), (45, 0.08087235171979418), (47, 0.024327916938460356), (53, 0.07695369862930257), (56, 0.07980901141908836), (61, 0.028225262619209712), (69, 0.1080672987732272), (112, 0.04557089762967087), (127, 0.09740080300544345), (241, 0.1796469603779444), (242, 0.08992259466649655), (243, 0.11166235358548782), (244, 0.15848012162533082), (245, 0.26548969682262125), ...], [(10, 0.014878436612043862), (11, 0.0690841526047578), (19, 0.022802761770881638), (24, 0.05455898049349969), (30, 0.10243474689030971), (45, 0.071326888352145), (47, 0.08582585164937677), (53, 0.045247172477722745), (56, 0.07038905541794807), (69, 0.09531198228070385), (104, 0.09322197900786375), (112, 0.08038421681121939), (131, 0.13197124641419022), (182, 0.17819993890438107), (185, 0.13080027223004068), (270, 0.18048741343046848), (271, 0.12834700317270165), (277, 0.21653463756000216), (278, 0.15765046010508932), (279, 0.3696012414193431), ...], [(10, 0.03791716652108541), (11, 0.05868616859386632), (22, 0.04892159860155609), (29, 0.1061084619891196), (36, 0.13806657118911214), (53, 0.03843693658103161), (64, 0.07493612378605678), (65, 0.06431446407942601), (91, 0.08587929261825251), (105, 0.3574063109864729), (141, 0.15156836850641137), (145, 0.07800591525639525), (213, 0.12076867033953673), (219, 0.17559286809079885), (222, 0.09905080713055688), (290, 0.17634543810717943), (291, 0.2354304202988956), (292, 0.23747359098140175), (293, 0.21838240905413028), (294, 0.2068871594723075), ...], [(10, 0.01568731468793941), (29, 0.08779964258937602), (37, 0.0889416637703053), (53, 0.04770707110604152), (61, 0.02624717137862027), (64, 0.09300905076906602), (237, 0.1379113333775812), (305, 0.30664896585612444), (306, 0.2833078792717857), (307, 0.20730843748050645), (308, 0.2233412719391391), (309, 0.38969490776368737), (310, 0.2695472861513626), (311, 0.21271630313917306), (312, 0.4204476556771751), (313, 0.20658700960294096), (314, 0.4204476556771751), (315, 0.14264507531499204)], [(10, 0.027389551203659726), (316, 0.7340881994597976), (317, 0.37735752159971553), (318, 0.5638844108421996)], [(18, 0.35789169848754704), (36, 0.13040599539512807), (52, 0.11542397475108049), (92, 0.1830990480525225), (130, 0.19234978763494665), (319, 0.37310009228736857), (320, 0.5931025045589059), (321, 0.2808020052524273), (322, 0.44859490237601146)], ...], y=id\nid15739    EAP\nid19588    EAP\nid11059    EAP\n...   HPL\nName: author, Length: 13051, dtype: object, accept_sparse='csr', dtype='numeric', order=None, copy=False, force_all_finite=True, ensure_2d=True, allow_nd=False, multi_output=False, ensure_min_samples=1, ensure_min_features=1, y_numeric=False, warn_on_dtype=False, estimator=None)\n    568     y_converted : object\n    569         The converted and validated y.\n    570     \"\"\"\n    571     X = check_array(X, accept_sparse, dtype, order, copy, force_all_finite,\n    572                     ensure_2d, allow_nd, ensure_min_samples,\n--> 573                     ensure_min_features, warn_on_dtype, estimator)\n        ensure_min_features = 1\n        warn_on_dtype = False\n        estimator = None\n    574     if multi_output:\n    575         y = check_array(y, 'csr', force_all_finite=True, ensure_2d=False,\n    576                         dtype=None)\n    577     else:\n\n...........................................................................\n/home/bob/.local/lib/python3.6/site-packages/sklearn/utils/validation.py in check_array(array=array([ list([(0, 0.2664714100608566), (1, 0.104...), (11075, 0.41154013028457553)])], dtype=object), accept_sparse='csr', dtype=None, order=None, copy=False, force_all_finite=True, ensure_2d=True, allow_nd=False, ensure_min_samples=1, ensure_min_features=1, warn_on_dtype=False, estimator=None)\n    436             if array.ndim == 1:\n    437                 raise ValueError(\n    438                     \"Expected 2D array, got 1D array instead:\\narray={}.\\n\"\n    439                     \"Reshape your data either using array.reshape(-1, 1) if \"\n    440                     \"your data has a single feature or array.reshape(1, -1) \"\n--> 441                     \"if it contains a single sample.\".format(array))\n        array = array([ list([(0, 0.2664714100608566), (1, 0.104...), (11075, 0.41154013028457553)])], dtype=object)\n    442             array = np.atleast_2d(array)\n    443             # To ensure that array flags are maintained\n    444             array = np.array(array, dtype=dtype, order=order, copy=copy)\n    445 \n\nValueError: Expected 2D array, got 1D array instead:\narray=[ list([(0, 0.2664714100608566), (1, 0.10480362539462479), (2, 0.2604873336049293), (3, 0.2319432706761858), (4, 0.24213524135011738), (5, 0.41116785474457307), (6, 0.39218741029198784), (7, 0.32007681200061067), (8, 0.35974012618542445), (9, 0.3057814279583449), (10, 0.033103432446463785), (11, 0.07685359149299217), (12, 0.19308643986019788), (13, 0.2126248353265933)])\n list([(10, 0.024133907128526488), (11, 0.056029761946444906), (14, 0.2713402113709543), (15, 0.3420085240826053), (16, 0.5718449017195636), (17, 0.2614985439879363), (18, 0.1808821162765368), (19, 0.036987739317106506), (20, 0.42712530611518384), (21, 0.3189304655793621), (22, 0.09341436285112015), (23, 0.27476798475726655), (24, 0.088498637497393)])\n list([(1, 0.07932158066320133), (10, 0.06263658764531839), (14, 0.14084602912179758), (18, 0.09389145710463107), (19, 0.01919942563133236), (22, 0.048489097889497096), (25, 0.2722725986774012), (26, 0.2620800981425273), (27, 0.24487868329638712), (28, 0.2722725986774012), (29, 0.03505679663903942), (30, 0.08624781176709262), (31, 0.07149215764800944), (32, 0.31119614453633054), (33, 0.2729933988114348), (34, 0.1733099699406774), (35, 0.17712329620393766), (36, 0.06842298368233549), (37, 0.1420511395070622), (38, 0.14386314798381059), (39, 0.2050581341267459), (40, 0.23334905281847185), (41, 0.09227646767474229), (42, 0.21187381993571314), (43, 0.3357541677332322), (44, 0.3357541677332322), (45, 0.06005567668474601), (46, 0.10201902211900157)])\n ...,\n list([(11, 0.03483379824389391), (22, 0.05807586817427632), (29, 0.041987869208477496), (145, 0.09260247785729721), (208, 0.1530751157324031), (1037, 0.16584589431194527), (6507, 0.28722118181246425), (8178, 0.3338402944907435), (16710, 0.37272267484996136), (20408, 0.37272267484996136), (20543, 0.37272267484996136), (23339, 0.4021360601237881), (23340, 0.4021360601237881)])\n list([(19, 0.028810064274408482), (24, 0.06893234032603549), (49, 0.13050056185493572), (60, 0.2370797936612917), (65, 0.19131019122706705), (69, 0.12042156837049621), (154, 0.19044775173097933), (237, 0.16525911588786907), (1154, 0.18801448431613588), (3699, 0.28355351691441877), (8329, 0.4085638403294151), (8330, 0.35641827923263075), (11702, 0.44541485037215933), (15323, 0.44541485037215933)])\n list([(11, 0.04032298873683362), (19, 0.02661899933307242), (22, 0.13445519560495678), (24, 0.06368989335423944), (29, 0.048604414750374345), (56, 0.08216926695338246), (61, 0.029059990817433712), (65, 0.08838032786353116), (103, 0.09486488773052526), (104, 0.10882347594433836), (178, 0.14491451149923437), (230, 0.10170684012562291), (360, 0.15235494384947212), (395, 0.363360346899261), (988, 0.17705848089319678), (1512, 0.2984337453903016), (3656, 0.39740876145355286), (3947, 0.3699196063748875), (8512, 0.25681322148061364), (10438, 0.3159541460973265), (11075, 0.41154013028457553)])].\nReshape your data either using array.reshape(-1, 1) if your data has a single feature or array.reshape(1, -1) if it contains a single sample.\n___________________________________________________________________________"
     ]
    }
   ],
   "source": [
    "%%time\n",
    "print(cross_val_score(pipeline, train.text, train.author, \n",
    "                cv=3, n_jobs=3, scoring='neg_log_loss'))"
   ]
  },
  {
   "cell_type": "code",
   "execution_count": null,
   "metadata": {
    "collapsed": true
   },
   "outputs": [],
   "source": []
  },
  {
   "cell_type": "markdown",
   "metadata": {},
   "source": [
    "-----------------------------------------------"
   ]
  },
  {
   "cell_type": "markdown",
   "metadata": {},
   "source": [
    "-----------------------------------------------"
   ]
  },
  {
   "cell_type": "markdown",
   "metadata": {},
   "source": [
    "-----------------------------------------------"
   ]
  },
  {
   "cell_type": "markdown",
   "metadata": {},
   "source": [
    "-----------------------------------------------"
   ]
  },
  {
   "cell_type": "markdown",
   "metadata": {},
   "source": [
    "-----------------------------------------------"
   ]
  },
  {
   "cell_type": "markdown",
   "metadata": {},
   "source": [
    "-----------------------------------------------"
   ]
  },
  {
   "cell_type": "code",
   "execution_count": 42,
   "metadata": {
    "collapsed": false
   },
   "outputs": [
    {
     "ename": "SyntaxError",
     "evalue": "invalid syntax (<ipython-input-42-a2f04ec58aab>, line 1)",
     "output_type": "error",
     "traceback": [
      "\u001b[0;36m  File \u001b[0;32m\"<ipython-input-42-a2f04ec58aab>\"\u001b[0;36m, line \u001b[0;32m1\u001b[0m\n\u001b[0;31m    fail here\u001b[0m\n\u001b[0m            ^\u001b[0m\n\u001b[0;31mSyntaxError\u001b[0m\u001b[0;31m:\u001b[0m invalid syntax\n"
     ]
    }
   ],
   "source": [
    "fail here"
   ]
  },
  {
   "cell_type": "code",
   "execution_count": null,
   "metadata": {
    "collapsed": true
   },
   "outputs": [],
   "source": []
  },
  {
   "cell_type": "code",
   "execution_count": null,
   "metadata": {
    "collapsed": true
   },
   "outputs": [],
   "source": []
  },
  {
   "cell_type": "code",
   "execution_count": null,
   "metadata": {
    "collapsed": true
   },
   "outputs": [],
   "source": []
  },
  {
   "cell_type": "code",
   "execution_count": null,
   "metadata": {
    "collapsed": true
   },
   "outputs": [],
   "source": []
  },
  {
   "cell_type": "code",
   "execution_count": null,
   "metadata": {
    "collapsed": true
   },
   "outputs": [],
   "source": []
  },
  {
   "cell_type": "code",
   "execution_count": null,
   "metadata": {
    "collapsed": true
   },
   "outputs": [],
   "source": []
  },
  {
   "cell_type": "markdown",
   "metadata": {
    "slideshow": {
     "slide_type": "slide"
    }
   },
   "source": [
    "# Откри приблизително същите параметри, но не успя да стигне напълно до същия резултат.\n",
    "\n",
    "Ще използвам следния модел:\n",
    "\n",
    "TfIdf + MultinomialNB, без стеминг на текста.\n",
    "\n",
    "Mean validation score: -0.423 (std: 0.003)\n",
    "\n",
    "Ще ползвам и следните параметри:\n",
    "\n",
    "Parameters: {'features__stop_words': None, 'features__ngram_range': (1, 2), 'features__min_df': 2, 'features__max_df': 0.8, 'features__lowercase': False, 'features__analyzer': 'word', 'clf__alpha': 0.01}\n"
   ]
  },
  {
   "cell_type": "markdown",
   "metadata": {
    "slideshow": {
     "slide_type": "slide"
    }
   },
   "source": [
    "Последна проверка на този модел за `LogLoss` и `Accuracy`"
   ]
  },
  {
   "cell_type": "code",
   "execution_count": null,
   "metadata": {
    "collapsed": false,
    "slideshow": {
     "slide_type": "slide"
    }
   },
   "outputs": [],
   "source": [
    "from sklearn.naive_bayes import MultinomialNB\n",
    "\n",
    "pipeline = Pipeline([\n",
    "    ('features', TfidfVectorizer(ngram_range=(1, 2), min_df=2,\n",
    "                                 max_df=0.8, lowercase=False)),\n",
    "    ('clf', MultinomialNB(alpha=0.01))\n",
    "])\n",
    "\n",
    "print(cross_val_score(pipeline, train.text, train.author, cv=3, n_jobs=3))\n",
    "print(cross_val_score(pipeline, train.text, train.author, cv=3, n_jobs=3, \n",
    "                      scoring='neg_log_loss'))"
   ]
  },
  {
   "cell_type": "markdown",
   "metadata": {
    "slideshow": {
     "slide_type": "slide"
    }
   },
   "source": [
    "# Трениране на модел и събмит\n",
    "\n",
    "Първо да видим в какъв формат трябва да се подадат резултатите за тест"
   ]
  },
  {
   "cell_type": "code",
   "execution_count": null,
   "metadata": {
    "collapsed": false,
    "slideshow": {
     "slide_type": "slide"
    }
   },
   "outputs": [],
   "source": [
    "sample_submission = pd.read_csv(\"data/spooky-authors/sample_submission.zip\")\n",
    "sample_submission.head()"
   ]
  },
  {
   "cell_type": "code",
   "execution_count": null,
   "metadata": {
    "collapsed": true,
    "slideshow": {
     "slide_type": "slide"
    }
   },
   "outputs": [],
   "source": [
    "pipeline = pipeline.fit(train.text, train.author)"
   ]
  },
  {
   "cell_type": "code",
   "execution_count": null,
   "metadata": {
    "collapsed": false,
    "slideshow": {
     "slide_type": "slide"
    }
   },
   "outputs": [],
   "source": [
    "print(pipeline.predict_proba(test[:10].text))"
   ]
  },
  {
   "cell_type": "code",
   "execution_count": null,
   "metadata": {
    "collapsed": true,
    "slideshow": {
     "slide_type": "slide"
    }
   },
   "outputs": [],
   "source": [
    "test_predictions = pipeline.predict_proba(test.text)"
   ]
  },
  {
   "cell_type": "code",
   "execution_count": null,
   "metadata": {
    "collapsed": false,
    "slideshow": {
     "slide_type": "slide"
    }
   },
   "outputs": [],
   "source": [
    "print(pipeline.classes_)"
   ]
  },
  {
   "cell_type": "code",
   "execution_count": null,
   "metadata": {
    "collapsed": false,
    "slideshow": {
     "slide_type": "slide"
    }
   },
   "outputs": [],
   "source": [
    "submit_file = pd.DataFrame(test_predictions, columns=['EAP', 'MWS', 'HPL'], index=test.index)\n",
    "submit_file.head(10)"
   ]
  },
  {
   "cell_type": "code",
   "execution_count": null,
   "metadata": {
    "collapsed": true,
    "slideshow": {
     "slide_type": "slide"
    }
   },
   "outputs": [],
   "source": [
    "submit_file.to_csv(\"data/spooky-authors/submit_Tfidf_MNB_text.csv\")"
   ]
  },
  {
   "cell_type": "markdown",
   "metadata": {
    "slideshow": {
     "slide_type": "slide"
    }
   },
   "source": [
    "Очакванията за събмита са да имаме скор някъде около 0.41 - 0.42.\n",
    "\n",
    "Може да е малко по-добър защото при крос-валидацията тренирахме на 13к и тествахме 6к.\n",
    "\n",
    "Сега трейн сета е целия: 19.5к"
   ]
  },
  {
   "cell_type": "markdown",
   "metadata": {
    "slideshow": {
     "slide_type": "slide"
    }
   },
   "source": [
    "![submit-result.png](attachment:submit-result.png)"
   ]
  },
  {
   "cell_type": "code",
   "execution_count": null,
   "metadata": {
    "collapsed": false,
    "scrolled": true,
    "slideshow": {
     "slide_type": "slide"
    }
   },
   "outputs": [],
   "source": [
    "# Да хакнем ранкинга в кагъл?\n",
    "\n",
    "print(test.text[:5].values)"
   ]
  }
 ],
 "metadata": {
  "celltoolbar": "none",
  "kernelspec": {
   "display_name": "Python 3",
   "language": "python",
   "name": "python3"
  },
  "language_info": {
   "codemirror_mode": {
    "name": "ipython",
    "version": 3
   },
   "file_extension": ".py",
   "mimetype": "text/x-python",
   "name": "python",
   "nbconvert_exporter": "python",
   "pygments_lexer": "ipython3",
   "version": "3.6.3"
  }
 },
 "nbformat": 4,
 "nbformat_minor": 2
}
